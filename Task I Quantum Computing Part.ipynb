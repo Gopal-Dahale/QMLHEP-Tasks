{
 "cells": [
  {
   "cell_type": "markdown",
   "id": "6362e732",
   "metadata": {},
   "source": [
    "# Task I: Quantum Computing Part\n",
    "\n",
    "1) implement a simple quantum operation with Cirq\n",
    "\n",
    "a) With 5 qubits\n",
    "\n",
    "b) Apply Hadamard operation on every qubit\n",
    "\n",
    "c) Apply CNOT operation on (0, 1), (1,2), (2,3), (3,4)\n",
    "\n",
    "d) SWAP (0, 4)\n",
    "\n",
    "e) Rotate X with pi/2 on any qubit\n",
    "\n",
    "f) Plot the circuit\n",
    "\n",
    "2) Create a circuit that is a series of small cirq.Rx rotations and plot the probability of measuring the state in the |0⟩ state. "
   ]
  },
  {
   "cell_type": "code",
   "execution_count": 2,
   "id": "fb195579",
   "metadata": {
    "ExecuteTime": {
     "end_time": "2022-05-14T05:28:15.532023Z",
     "start_time": "2022-05-14T05:28:15.398918Z"
    }
   },
   "outputs": [],
   "source": [
    "import cirq\n",
    "import numpy as np\n",
    "from cirq import Simulator\n",
    "from cirq.contrib.svg import SVGCircuit"
   ]
  },
  {
   "cell_type": "markdown",
   "id": "f856338d",
   "metadata": {},
   "source": [
    "## Implement a simple quantum operation with Cirq"
   ]
  },
  {
   "cell_type": "code",
   "execution_count": 3,
   "id": "da7f662d",
   "metadata": {
    "ExecuteTime": {
     "end_time": "2022-05-14T05:28:17.892217Z",
     "start_time": "2022-05-14T05:28:17.833801Z"
    }
   },
   "outputs": [],
   "source": [
    "n = 5  # Number of qubits\n",
    "\n",
    "# create a circuit with n qubits\n",
    "qr = cirq.LineQubit.range(n)\n",
    "circuit = cirq.Circuit()\n",
    "\n",
    "# Appl hadamard gate on each qubit\n",
    "circuit.append(cirq.H.on_each(*qr))\n",
    "\n",
    "# Apply cnot gates on (0, 1), (1,2), (2,3), (3,4)\n",
    "for i in range(4):\n",
    "    circuit.append(cirq.CNOT(qr[i], qr[i+1]))\n",
    "\n",
    "# Apply swap on (0,4)\n",
    "circuit.append(cirq.SWAP(qr[0], qr[4]))\n",
    "\n",
    "# Randomly chose a qubit for applying Rotation X gate\n",
    "index = np.random.randint(n)\n",
    "\n",
    "# Apply Rx gate on that qubit\n",
    "circuit.append(cirq.rx(rads=np.pi/2).on(qr[index]))"
   ]
  },
  {
   "cell_type": "code",
   "execution_count": 4,
   "id": "9a1cc13f",
   "metadata": {
    "ExecuteTime": {
     "end_time": "2022-05-14T05:28:27.745072Z",
     "start_time": "2022-05-14T05:28:27.331922Z"
    }
   },
   "outputs": [
    {
     "name": "stderr",
     "output_type": "stream",
     "text": [
      "findfont: Font family ['Arial'] not found. Falling back to DejaVu Sans.\n"
     ]
    },
    {
     "data": {
      "image/svg+xml": [
       "<svg xmlns=\"http://www.w3.org/2000/svg\" width=\"547.05328125\" height=\"250.0\"><line x1=\"30.0\" x2=\"517.05328125\" y1=\"25.0\" y2=\"25.0\" stroke=\"#1967d2\" stroke-width=\"1\" /><line x1=\"30.0\" x2=\"517.05328125\" y1=\"75.0\" y2=\"75.0\" stroke=\"#1967d2\" stroke-width=\"1\" /><line x1=\"30.0\" x2=\"517.05328125\" y1=\"125.0\" y2=\"125.0\" stroke=\"#1967d2\" stroke-width=\"1\" /><line x1=\"30.0\" x2=\"517.05328125\" y1=\"175.0\" y2=\"175.0\" stroke=\"#1967d2\" stroke-width=\"1\" /><line x1=\"30.0\" x2=\"517.05328125\" y1=\"225.0\" y2=\"225.0\" stroke=\"#1967d2\" stroke-width=\"1\" /><line x1=\"150.0\" x2=\"150.0\" y1=\"25.0\" y2=\"75.0\" stroke=\"black\" stroke-width=\"3\" /><line x1=\"210.0\" x2=\"210.0\" y1=\"75.0\" y2=\"125.0\" stroke=\"black\" stroke-width=\"3\" /><line x1=\"270.0\" x2=\"270.0\" y1=\"125.0\" y2=\"175.0\" stroke=\"black\" stroke-width=\"3\" /><line x1=\"330.0\" x2=\"330.0\" y1=\"175.0\" y2=\"225.0\" stroke=\"black\" stroke-width=\"3\" /><line x1=\"390.0\" x2=\"390.0\" y1=\"25.0\" y2=\"225.0\" stroke=\"black\" stroke-width=\"3\" /><rect x=\"10.0\" y=\"5.0\" width=\"40\" height=\"40\" stroke=\"black\" fill=\"white\" stroke-width=\"0\" /><text x=\"30.0\" y=\"25.0\" dominant-baseline=\"middle\" text-anchor=\"middle\" font-size=\"14px\" font-family=\"Arial\">0: </text><rect x=\"10.0\" y=\"55.0\" width=\"40\" height=\"40\" stroke=\"black\" fill=\"white\" stroke-width=\"0\" /><text x=\"30.0\" y=\"75.0\" dominant-baseline=\"middle\" text-anchor=\"middle\" font-size=\"14px\" font-family=\"Arial\">1: </text><rect x=\"10.0\" y=\"105.0\" width=\"40\" height=\"40\" stroke=\"black\" fill=\"white\" stroke-width=\"0\" /><text x=\"30.0\" y=\"125.0\" dominant-baseline=\"middle\" text-anchor=\"middle\" font-size=\"14px\" font-family=\"Arial\">2: </text><rect x=\"10.0\" y=\"155.0\" width=\"40\" height=\"40\" stroke=\"black\" fill=\"white\" stroke-width=\"0\" /><text x=\"30.0\" y=\"175.0\" dominant-baseline=\"middle\" text-anchor=\"middle\" font-size=\"14px\" font-family=\"Arial\">3: </text><rect x=\"10.0\" y=\"205.0\" width=\"40\" height=\"40\" stroke=\"black\" fill=\"white\" stroke-width=\"0\" /><text x=\"30.0\" y=\"225.0\" dominant-baseline=\"middle\" text-anchor=\"middle\" font-size=\"14px\" font-family=\"Arial\">4: </text><rect x=\"70.0\" y=\"5.0\" width=\"40\" height=\"40\" stroke=\"black\" fill=\"white\" stroke-width=\"1\" /><text x=\"90.0\" y=\"25.0\" dominant-baseline=\"middle\" text-anchor=\"middle\" font-size=\"18px\" font-family=\"Arial\">H</text><rect x=\"70.0\" y=\"55.0\" width=\"40\" height=\"40\" stroke=\"black\" fill=\"white\" stroke-width=\"1\" /><text x=\"90.0\" y=\"75.0\" dominant-baseline=\"middle\" text-anchor=\"middle\" font-size=\"18px\" font-family=\"Arial\">H</text><rect x=\"70.0\" y=\"105.0\" width=\"40\" height=\"40\" stroke=\"black\" fill=\"white\" stroke-width=\"1\" /><text x=\"90.0\" y=\"125.0\" dominant-baseline=\"middle\" text-anchor=\"middle\" font-size=\"18px\" font-family=\"Arial\">H</text><rect x=\"70.0\" y=\"155.0\" width=\"40\" height=\"40\" stroke=\"black\" fill=\"white\" stroke-width=\"1\" /><text x=\"90.0\" y=\"175.0\" dominant-baseline=\"middle\" text-anchor=\"middle\" font-size=\"18px\" font-family=\"Arial\">H</text><rect x=\"70.0\" y=\"205.0\" width=\"40\" height=\"40\" stroke=\"black\" fill=\"white\" stroke-width=\"1\" /><text x=\"90.0\" y=\"225.0\" dominant-baseline=\"middle\" text-anchor=\"middle\" font-size=\"18px\" font-family=\"Arial\">H</text><circle cx=\"150.0\" cy=\"25.0\" r=\"10.0\" /><rect x=\"130.0\" y=\"55.0\" width=\"40\" height=\"40\" stroke=\"black\" fill=\"white\" stroke-width=\"1\" /><text x=\"150.0\" y=\"75.0\" dominant-baseline=\"middle\" text-anchor=\"middle\" font-size=\"18px\" font-family=\"Arial\">X</text><circle cx=\"210.0\" cy=\"75.0\" r=\"10.0\" /><rect x=\"190.0\" y=\"105.0\" width=\"40\" height=\"40\" stroke=\"black\" fill=\"white\" stroke-width=\"1\" /><text x=\"210.0\" y=\"125.0\" dominant-baseline=\"middle\" text-anchor=\"middle\" font-size=\"18px\" font-family=\"Arial\">X</text><circle cx=\"270.0\" cy=\"125.0\" r=\"10.0\" /><rect x=\"250.0\" y=\"155.0\" width=\"40\" height=\"40\" stroke=\"black\" fill=\"white\" stroke-width=\"1\" /><text x=\"270.0\" y=\"175.0\" dominant-baseline=\"middle\" text-anchor=\"middle\" font-size=\"18px\" font-family=\"Arial\">X</text><circle cx=\"330.0\" cy=\"175.0\" r=\"10.0\" /><rect x=\"310.0\" y=\"205.0\" width=\"40\" height=\"40\" stroke=\"black\" fill=\"white\" stroke-width=\"1\" /><text x=\"330.0\" y=\"225.0\" dominant-baseline=\"middle\" text-anchor=\"middle\" font-size=\"18px\" font-family=\"Arial\">X</text><text x=\"390.0\" y=\"28.0\" dominant-baseline=\"middle\" text-anchor=\"middle\" font-size=\"40px\" font-family=\"Arial\">×</text><text x=\"390.0\" y=\"228.0\" dominant-baseline=\"middle\" text-anchor=\"middle\" font-size=\"40px\" font-family=\"Arial\">×</text><rect x=\"430.0\" y=\"205.0\" width=\"67.05328125\" height=\"40\" stroke=\"black\" fill=\"white\" stroke-width=\"1\" /><text x=\"463.526640625\" y=\"225.0\" dominant-baseline=\"middle\" text-anchor=\"middle\" font-size=\"14px\" font-family=\"Arial\">Rx(0.5π)</text></svg>"
      ],
      "text/plain": [
       "<cirq.contrib.svg.svg.SVGCircuit at 0x7f87ef597e10>"
      ]
     },
     "execution_count": 4,
     "metadata": {},
     "output_type": "execute_result"
    }
   ],
   "source": [
    "SVGCircuit(circuit)"
   ]
  },
  {
   "cell_type": "markdown",
   "id": "10f653b6",
   "metadata": {},
   "source": [
    "## Create a circuit that is a series of small cirq.Rx rotations and plot the probability of measuring the state in the |0⟩ state."
   ]
  },
  {
   "cell_type": "code",
   "execution_count": 5,
   "id": "1bf38297",
   "metadata": {
    "ExecuteTime": {
     "end_time": "2022-05-14T05:28:32.503568Z",
     "start_time": "2022-05-14T05:28:32.490614Z"
    }
   },
   "outputs": [],
   "source": [
    "# Initialize quantum circuit\n",
    "qr = cirq.LineQubit.range(1)\n",
    "circuit = cirq.Circuit()\n",
    "\n",
    "total_angle = 0  # Stores total angle of rotation\n",
    "\n",
    "# Appling Rx gates\n",
    "for i in range(n):\n",
    "    # Uniformly randoml generate small angles\n",
    "    angle = (np.pi/2)*np.random.uniform(0, 1)\n",
    "    total_angle += angle                             # Update total angle\n",
    "    circuit.append(cirq.rx(rads=angle).on(qr[0]))  # Apply Rx gate"
   ]
  },
  {
   "cell_type": "code",
   "execution_count": 6,
   "id": "a8653a37",
   "metadata": {
    "ExecuteTime": {
     "end_time": "2022-05-14T05:28:39.928330Z",
     "start_time": "2022-05-14T05:28:39.645969Z"
    }
   },
   "outputs": [
    {
     "data": {
      "image/svg+xml": [
       "<svg xmlns=\"http://www.w3.org/2000/svg\" width=\"624.338671875\" height=\"50.0\"><line x1=\"30.0\" x2=\"594.338671875\" y1=\"25.0\" y2=\"25.0\" stroke=\"#1967d2\" stroke-width=\"1\" /><rect x=\"10.0\" y=\"5.0\" width=\"40\" height=\"40\" stroke=\"black\" fill=\"white\" stroke-width=\"0\" /><text x=\"30.0\" y=\"25.0\" dominant-baseline=\"middle\" text-anchor=\"middle\" font-size=\"14px\" font-family=\"Arial\">0: </text><rect x=\"70.0\" y=\"5.0\" width=\"84.86773437500001\" height=\"40\" stroke=\"black\" fill=\"white\" stroke-width=\"1\" /><text x=\"112.4338671875\" y=\"25.0\" dominant-baseline=\"middle\" text-anchor=\"middle\" font-size=\"14px\" font-family=\"Arial\">Rx(0.324π)</text><rect x=\"174.867734375\" y=\"5.0\" width=\"84.86773437500001\" height=\"40\" stroke=\"black\" fill=\"white\" stroke-width=\"1\" /><text x=\"217.3016015625\" y=\"25.0\" dominant-baseline=\"middle\" text-anchor=\"middle\" font-size=\"14px\" font-family=\"Arial\">Rx(0.207π)</text><rect x=\"279.73546875\" y=\"5.0\" width=\"84.86773437500001\" height=\"40\" stroke=\"black\" fill=\"white\" stroke-width=\"1\" /><text x=\"322.1693359375\" y=\"25.0\" dominant-baseline=\"middle\" text-anchor=\"middle\" font-size=\"14px\" font-family=\"Arial\">Rx(0.385π)</text><rect x=\"384.603203125\" y=\"5.0\" width=\"84.86773437500001\" height=\"40\" stroke=\"black\" fill=\"white\" stroke-width=\"1\" /><text x=\"427.0370703125\" y=\"25.0\" dominant-baseline=\"middle\" text-anchor=\"middle\" font-size=\"14px\" font-family=\"Arial\">Rx(0.446π)</text><rect x=\"489.4709375\" y=\"5.0\" width=\"84.86773437500001\" height=\"40\" stroke=\"black\" fill=\"white\" stroke-width=\"1\" /><text x=\"531.9048046875\" y=\"25.0\" dominant-baseline=\"middle\" text-anchor=\"middle\" font-size=\"14px\" font-family=\"Arial\">Rx(0.242π)</text></svg>"
      ],
      "text/plain": [
       "<cirq.contrib.svg.svg.SVGCircuit at 0x7f87efcd4050>"
      ]
     },
     "execution_count": 6,
     "metadata": {},
     "output_type": "execute_result"
    }
   ],
   "source": [
    "SVGCircuit(circuit)"
   ]
  },
  {
   "cell_type": "code",
   "execution_count": 7,
   "id": "fea96f51",
   "metadata": {
    "ExecuteTime": {
     "end_time": "2022-05-14T05:28:57.114795Z",
     "start_time": "2022-05-14T05:28:57.099748Z"
    }
   },
   "outputs": [
    {
     "name": "stdout",
     "output_type": "stream",
     "text": [
      "Total angle of rotation in radians: 1.6027927935525073\n"
     ]
    }
   ],
   "source": [
    "print(\"Total angle of rotation in radians:\", total_angle/np.pi)"
   ]
  },
  {
   "cell_type": "code",
   "execution_count": 8,
   "id": "1dcf6482",
   "metadata": {
    "ExecuteTime": {
     "end_time": "2022-05-14T05:28:58.091836Z",
     "start_time": "2022-05-14T05:28:58.081789Z"
    }
   },
   "outputs": [],
   "source": [
    "sim = Simulator()\n",
    "repetitions = 10\n",
    "circuit.append(cirq.measure(qr[0]))\n",
    "results = sim.run(program=circuit, repetitions=repetitions)"
   ]
  },
  {
   "cell_type": "code",
   "execution_count": 9,
   "id": "e471f380",
   "metadata": {
    "ExecuteTime": {
     "end_time": "2022-05-14T05:29:00.377776Z",
     "start_time": "2022-05-14T05:28:59.686681Z"
    }
   },
   "outputs": [
    {
     "data": {
      "text/plain": [
       "Text(0, 0.5, 'Probabilities')"
      ]
     },
     "execution_count": 9,
     "metadata": {},
     "output_type": "execute_result"
    },
    {
     "data": {
      "image/png": "[encoded data removed]",
      "text/plain": [
       "<Figure size 432x288 with 1 Axes>"
      ]
     },
     "metadata": {
      "needs_background": "light"
     },
     "output_type": "display_data"
    }
   ],
   "source": [
    "ax = (results.data.value_counts()/repetitions).plot(kind='bar')\n",
    "ax.set_xlabel(\"States\")\n",
    "ax.set_ylabel(\"Probabilities\")"
   ]
  },
  {
   "cell_type": "code",
   "execution_count": 10,
   "id": "742ea6d8",
   "metadata": {
    "ExecuteTime": {
     "end_time": "2022-05-14T05:29:01.249874Z",
     "start_time": "2022-05-14T05:29:01.242180Z"
    }
   },
   "outputs": [
    {
     "name": "stdout",
     "output_type": "stream",
     "text": [
      "probability of measuring the state in the |0⟩ state: 0.8\n"
     ]
    }
   ],
   "source": [
    "print(\"probability of measuring the state in the |0⟩ state:\",\n",
    "      (results.data.value_counts()/repetitions)[0])"
   ]
  }
 ],
 "metadata": {
  "kernelspec": {
   "display_name": "Python 3 (ipykernel)",
   "language": "python",
   "name": "python3"
  },
  "language_info": {
   "codemirror_mode": {
    "name": "ipython",
    "version": 3
   },
   "file_extension": ".py",
   "mimetype": "text/x-python",
   "name": "python",
   "nbconvert_exporter": "python",
   "pygments_lexer": "ipython3",
   "version": "3.7.13"
  },
  "latex_envs": {
   "LaTeX_envs_menu_present": true,
   "autoclose": false,
   "autocomplete": true,
   "bibliofile": "biblio.bib",
   "cite_by": "apalike",
   "current_citInitial": 1,
   "eqLabelWithNumbers": true,
   "eqNumInitial": 1,
   "hotkeys": {
    "equation": "Ctrl-E",
    "itemize": "Ctrl-I"
   },
   "labels_anchors": false,
   "latex_user_defs": false,
   "report_style_numbering": false,
   "user_envs_cfg": false
  },
  "toc": {
   "base_numbering": 1,
   "nav_menu": {},
   "number_sections": true,
   "sideBar": true,
   "skip_h1_title": false,
   "title_cell": "Table of Contents",
   "title_sidebar": "Contents",
   "toc_cell": false,
   "toc_position": {},
   "toc_section_display": true,
   "toc_window_display": false
  }
 },
 "nbformat": 4,
 "nbformat_minor": 5
}
