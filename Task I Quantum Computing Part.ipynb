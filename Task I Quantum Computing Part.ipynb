{
 "cells": [
  {
   "cell_type": "markdown",
   "id": "6362e732",
   "metadata": {},
   "source": [
    "Task I: Quantum Computing Part\n",
    "\n",
    "1) implement a simple quantum operation with Cirq\n",
    "\n",
    "a) With 5 qubits\n",
    "\n",
    "b) Apply Hadamard operation on every qubit\n",
    "\n",
    "c) Apply CNOT operation on (0, 1), (1,2), (2,3), (3,4)\n",
    "\n",
    "d) SWAP (0, 4)\n",
    "\n",
    "e) Rotate X with pi/2 on any qubit\n",
    "\n",
    "f) Plot the circuit\n",
    "\n",
    "2) Create a circuit that is a series of small cirq.Rx rotations and plot the probability of measuring the state in the |0⟩ state. "
   ]
  },
  {
   "cell_type": "code",
   "execution_count": 1,
   "id": "fb195579",
   "metadata": {
    "ExecuteTime": {
     "end_time": "2022-05-12T05:27:52.054292Z",
     "start_time": "2022-05-12T05:27:34.750313Z"
    }
   },
   "outputs": [],
   "source": [
    "import cirq\n",
    "import numpy as np\n",
    "from cirq import Simulator"
   ]
  },
  {
   "cell_type": "code",
   "execution_count": 2,
   "id": "da7f662d",
   "metadata": {
    "ExecuteTime": {
     "end_time": "2022-05-12T05:27:55.580452Z",
     "start_time": "2022-05-12T05:27:55.516894Z"
    }
   },
   "outputs": [],
   "source": [
    "n = 5 # Number of qubits\n",
    "\n",
    "# create a circuit with n qubits\n",
    "qr = cirq.LineQubit.range(n) \n",
    "circuit = cirq.Circuit()\n",
    "\n",
    "# Appl hadamard gate on each qubit\n",
    "circuit.append(cirq.H.on_each(*qr))\n",
    "\n",
    "# Apply cnot gates on (0, 1), (1,2), (2,3), (3,4)\n",
    "for i in range(4):\n",
    "    circuit.append(cirq.CNOT(qr[i], qr[i+1]))\n",
    "\n",
    "# Apply swap on (0,4)\n",
    "circuit.append(cirq.SWAP(qr[0], qr[4]))\n",
    "\n",
    "# Randomly chose a qubit for applying Rotation X gate\n",
    "index = np.random.randint(n)\n",
    "\n",
    "# Apply Rx gate on that qubit\n",
    "circuit.append(cirq.rx(rads= np.pi/2).on(qr[index]))"
   ]
  },
  {
   "cell_type": "code",
   "execution_count": 3,
   "id": "9a1cc13f",
   "metadata": {
    "ExecuteTime": {
     "end_time": "2022-05-12T05:28:01.803841Z",
     "start_time": "2022-05-12T05:28:01.752368Z"
    }
   },
   "outputs": [
    {
     "data": {
      "text/html": [
       "<pre style=\"overflow: auto; white-space: pre;\">0: ───H───@───────────────×───Rx(0.5π)───\n",
       "          │               │\n",
       "1: ───H───X───@───────────┼──────────────\n",
       "              │           │\n",
       "2: ───H───────X───@───────┼──────────────\n",
       "                  │       │\n",
       "3: ───H───────────X───@───┼──────────────\n",
       "                      │   │\n",
       "4: ───H───────────────X───×──────────────</pre>"
      ],
      "text/plain": [
       "0: ───H───@───────────────×───Rx(0.5π)───\n",
       "          │               │\n",
       "1: ───H───X───@───────────┼──────────────\n",
       "              │           │\n",
       "2: ───H───────X───@───────┼──────────────\n",
       "                  │       │\n",
       "3: ───H───────────X───@───┼──────────────\n",
       "                      │   │\n",
       "4: ───H───────────────X───×──────────────"
      ]
     },
     "execution_count": 3,
     "metadata": {},
     "output_type": "execute_result"
    }
   ],
   "source": [
    "circuit"
   ]
  },
  {
   "cell_type": "code",
   "execution_count": 4,
   "id": "1bf38297",
   "metadata": {
    "ExecuteTime": {
     "end_time": "2022-05-12T05:28:04.216425Z",
     "start_time": "2022-05-12T05:28:04.185876Z"
    }
   },
   "outputs": [],
   "source": [
    "# Initialize quantum circuit\n",
    "qr = cirq.LineQubit.range(1)\n",
    "circuit = cirq.Circuit()\n",
    "\n",
    "total_angle = 0 # Stores total angle of rotation\n",
    "\n",
    "# Appling Rx gates\n",
    "for i in range(n):\n",
    "    angle = (np.pi/2)*np.random.uniform(0, 1)        # Uniformly randoml generate small angles \n",
    "    total_angle += angle                             # Update total angle\n",
    "    circuit.append(cirq.rx(rads = angle).on(qr[0]))  # Apply Rx gate"
   ]
  },
  {
   "cell_type": "code",
   "execution_count": 5,
   "id": "a8653a37",
   "metadata": {
    "ExecuteTime": {
     "end_time": "2022-05-12T05:28:07.634856Z",
     "start_time": "2022-05-12T05:28:07.611394Z"
    }
   },
   "outputs": [
    {
     "data": {
      "text/html": [
       "<pre style=\"overflow: auto; white-space: pre;\">0: ───Rx(0.044π)───Rx(0.265π)───Rx(0.381π)───Rx(0.442π)───Rx(0.297π)───</pre>"
      ],
      "text/plain": [
       "0: ───Rx(0.044π)───Rx(0.265π)───Rx(0.381π)───Rx(0.442π)───Rx(0.297π)───"
      ]
     },
     "execution_count": 5,
     "metadata": {},
     "output_type": "execute_result"
    }
   ],
   "source": [
    "circuit"
   ]
  },
  {
   "cell_type": "code",
   "execution_count": 6,
   "id": "fea96f51",
   "metadata": {
    "ExecuteTime": {
     "end_time": "2022-05-12T05:28:09.118400Z",
     "start_time": "2022-05-12T05:28:09.109590Z"
    }
   },
   "outputs": [
    {
     "name": "stdout",
     "output_type": "stream",
     "text": [
      "Total angle of rotation in radians: 1.427736924823081\n"
     ]
    }
   ],
   "source": [
    "print(\"Total angle of rotation in radians:\",total_angle/np.pi)"
   ]
  },
  {
   "cell_type": "code",
   "execution_count": 7,
   "id": "1dcf6482",
   "metadata": {
    "ExecuteTime": {
     "end_time": "2022-05-12T05:28:10.631342Z",
     "start_time": "2022-05-12T05:28:09.962146Z"
    }
   },
   "outputs": [],
   "source": [
    "sim = Simulator()\n",
    "repetitions = 10\n",
    "circuit.append(cirq.measure(qr[0]))\n",
    "results = sim.run(program=circuit,repetitions=repetitions)"
   ]
  },
  {
   "cell_type": "code",
   "execution_count": 8,
   "id": "e471f380",
   "metadata": {
    "ExecuteTime": {
     "end_time": "2022-05-12T05:28:12.945266Z",
     "start_time": "2022-05-12T05:28:10.959227Z"
    }
   },
   "outputs": [
    {
     "data": {
      "text/plain": [
       "Text(0, 0.5, 'Probabilities')"
      ]
     },
     "execution_count": 8,
     "metadata": {},
     "output_type": "execute_result"
    },
    {
     "data": {
      "image/png": "[encoded data removed]",
      "text/plain": [
       "<Figure size 432x288 with 1 Axes>"
      ]
     },
     "metadata": {
      "needs_background": "light"
     },
     "output_type": "display_data"
    }
   ],
   "source": [
    "ax = (results.data.value_counts()/repetitions).plot(kind='bar');\n",
    "ax.set_xlabel(\"States\")\n",
    "ax.set_ylabel(\"Probabilities\")"
   ]
  },
  {
   "cell_type": "code",
   "execution_count": 9,
   "id": "742ea6d8",
   "metadata": {
    "ExecuteTime": {
     "end_time": "2022-05-12T05:28:12.976375Z",
     "start_time": "2022-05-12T05:28:12.955989Z"
    }
   },
   "outputs": [
    {
     "name": "stdout",
     "output_type": "stream",
     "text": [
      "probability of measuring the state in the |0⟩ state: 0.3\n"
     ]
    }
   ],
   "source": [
    "print(\"probability of measuring the state in the |0⟩ state:\", (results.data.value_counts()/repetitions)[0])"
   ]
  }
 ],
 "metadata": {
  "kernelspec": {
   "display_name": "Python 3 (ipykernel)",
   "language": "python",
   "name": "python3"
  },
  "language_info": {
   "codemirror_mode": {
    "name": "ipython",
    "version": 3
   },
   "file_extension": ".py",
   "mimetype": "text/x-python",
   "name": "python",
   "nbconvert_exporter": "python",
   "pygments_lexer": "ipython3",
   "version": "3.7.13"
  },
  "latex_envs": {
   "LaTeX_envs_menu_present": true,
   "autoclose": false,
   "autocomplete": true,
   "bibliofile": "biblio.bib",
   "cite_by": "apalike",
   "current_citInitial": 1,
   "eqLabelWithNumbers": true,
   "eqNumInitial": 1,
   "hotkeys": {
    "equation": "Ctrl-E",
    "itemize": "Ctrl-I"
   },
   "labels_anchors": false,
   "latex_user_defs": false,
   "report_style_numbering": false,
   "user_envs_cfg": false
  },
  "toc": {
   "base_numbering": 1,
   "nav_menu": {},
   "number_sections": true,
   "sideBar": true,
   "skip_h1_title": false,
   "title_cell": "Table of Contents",
   "title_sidebar": "Contents",
   "toc_cell": false,
   "toc_position": {},
   "toc_section_display": true,
   "toc_window_display": false
  }
 },
 "nbformat": 4,
 "nbformat_minor": 5
}
