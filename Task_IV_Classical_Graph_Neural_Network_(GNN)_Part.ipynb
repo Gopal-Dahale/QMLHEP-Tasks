{
 "cells": [
  {
   "cell_type": "markdown",
   "id": "42ebcc64",
   "metadata": {
    "id": "42ebcc64"
   },
   "source": [
    "For Task IV, you will use ParticleNet’s data for Quark/Gluon jet classification available here with its corresponding description.\n",
    "\n",
    "● Choose 2 Graph-based architectures of your choice to classify jets as being quarks or gluons. Provide a description on what considerations you have taken to project this point-cloud dataset to a set of interconnected nodes and edges.\n",
    "\n",
    "● Discuss the resulting performance of the 2 chosen architectures."
   ]
  },
  {
   "cell_type": "code",
   "execution_count": 3,
   "id": "eec8d0a0",
   "metadata": {
    "ExecuteTime": {
     "end_time": "2022-05-13T12:33:04.753318Z",
     "start_time": "2022-05-13T12:32:54.183796Z"
    },
    "id": "eec8d0a0"
   },
   "outputs": [],
   "source": [
    "from tf_keras_model import get_particle_net_lite,get_particle_net\n",
    "from tensorflow import keras\n",
    "import logging\n",
    "logging.basicConfig(level=logging.INFO, format='[%(asctime)s] %(levelname)s: %(message)s')\n",
    "from sklearn.model_selection import train_test_split\n",
    "from sklearn.utils import shuffle\n",
    "import os\n",
    "import numpy as np\n",
    "import matplotlib.pyplot as plt\n",
    "%matplotlib inline"
   ]
  },
  {
   "cell_type": "code",
   "execution_count": 4,
   "id": "49db31af",
   "metadata": {
    "ExecuteTime": {
     "end_time": "2022-05-13T12:33:10.829065Z",
     "start_time": "2022-05-13T12:33:10.791964Z"
    },
    "colab": {
     "base_uri": "https://localhost:8080/"
    },
    "id": "49db31af",
    "outputId": "67c24e2a-ae0e-4066-f01c-07a7b6191382"
   },
   "outputs": [
    {
     "name": "stdout",
     "output_type": "stream",
     "text": [
      "--2022-05-13 13:58:24--  https://zenodo.org/record/3164691/files/QG_jets.npz\n",
      "Resolving zenodo.org (zenodo.org)... 137.138.76.77\n",
      "Connecting to zenodo.org (zenodo.org)|137.138.76.77|:443... connected.\n",
      "HTTP request sent, awaiting response... 200 OK\n",
      "Length: 106689379 (102M) [application/octet-stream]\n",
      "Saving to: ‘/content/data/QG_jets.npz’\n",
      "\n",
      "QG_jets.npz         100%[===================>] 101.75M  21.9MB/s    in 5.3s    \n",
      "\n",
      "2022-05-13 13:58:31 (19.1 MB/s) - ‘/content/data/QG_jets.npz’ saved [106689379/106689379]\n",
      "\n"
     ]
    }
   ],
   "source": [
    "# Load the dataset\n",
    "!wget https://zenodo.org/record/3164691/files/QG_jets.npz -P /content/data/ # used on colab\n",
    "dataset = np.load('./data/QG_jets.npz',allow_pickle=True)"
   ]
  },
  {
   "cell_type": "code",
   "execution_count": 5,
   "id": "76487ad1",
   "metadata": {
    "ExecuteTime": {
     "end_time": "2022-05-13T12:33:12.121365Z",
     "start_time": "2022-05-13T12:33:12.113305Z"
    },
    "colab": {
     "base_uri": "https://localhost:8080/"
    },
    "id": "76487ad1",
    "outputId": "c523785a-1743-418b-eacd-e64ac6a172aa"
   },
   "outputs": [
    {
     "data": {
      "text/plain": [
       "['X', 'y']"
      ]
     },
     "execution_count": 5,
     "metadata": {},
     "output_type": "execute_result"
    }
   ],
   "source": [
    "# See what keys are present in the dataset\n",
    "list(dataset.keys())"
   ]
  },
  {
   "cell_type": "code",
   "execution_count": 6,
   "id": "3017de1f",
   "metadata": {
    "ExecuteTime": {
     "end_time": "2022-05-13T12:33:15.780515Z",
     "start_time": "2022-05-13T12:33:13.165549Z"
    },
    "id": "3017de1f"
   },
   "outputs": [],
   "source": [
    "# Extract data as per keys\n",
    "x = dataset['X']\n",
    "y = dataset['y']"
   ]
  },
  {
   "cell_type": "code",
   "execution_count": 7,
   "id": "f30ccdd7",
   "metadata": {
    "ExecuteTime": {
     "end_time": "2022-05-13T12:33:15.796935Z",
     "start_time": "2022-05-13T12:33:15.783947Z"
    },
    "colab": {
     "base_uri": "https://localhost:8080/"
    },
    "id": "f30ccdd7",
    "outputId": "045ecb68-98d9-4480-909f-e6a6be7acc5c"
   },
   "outputs": [
    {
     "name": "stdout",
     "output_type": "stream",
     "text": [
      "(100000, 139, 4)\n",
      "(100000,)\n"
     ]
    }
   ],
   "source": [
    "# Check the shape of the dataset\n",
    "print(x.shape)\n",
    "print(y.shape)"
   ]
  },
  {
   "cell_type": "markdown",
   "id": "35b0c7ef",
   "metadata": {
    "id": "35b0c7ef"
   },
   "source": [
    "As per the information of the dataset from [here](https://zenodo.org/record/3164691#.YigdGt9MHrB)\n",
    "\n",
    "X: (100000,M,4), exactly 50k quark and 50k gluon jets, randomly sorted, where M is the max multiplicity of the jets in that file (other jets have been padded with zero-particles), and the features of each particle are its pt, rapidity, azimuthal angle, and pdgid.\n",
    "\n",
    "y: (100000,), an array of labels for the jets where gluon is 0 and quark is 1."
   ]
  },
  {
   "cell_type": "code",
   "execution_count": 8,
   "id": "3b84f3fa",
   "metadata": {
    "ExecuteTime": {
     "end_time": "2022-05-13T12:33:17.400724Z",
     "start_time": "2022-05-13T12:33:17.391792Z"
    },
    "colab": {
     "base_uri": "https://localhost:8080/"
    },
    "id": "3b84f3fa",
    "outputId": "d03c01a7-43f3-46c6-b0d5-d0ffaa60f539"
   },
   "outputs": [
    {
     "name": "stdout",
     "output_type": "stream",
     "text": [
      "(100000, 2)\n"
     ]
    }
   ],
   "source": [
    "# one hot encoding labels is needed else the following error \n",
    "# ValueError: Shapes (None, 1) and (None, 2) are incompatible\n",
    "y = keras.utils.to_categorical(y)\n",
    "print(y.shape)"
   ]
  },
  {
   "cell_type": "markdown",
   "id": "c6b5f883",
   "metadata": {
    "id": "c6b5f883"
   },
   "source": [
    "I faced this error later during training and therefore one hot encoding is performed here."
   ]
  },
  {
   "cell_type": "markdown",
   "id": "9d9e065f",
   "metadata": {
    "ExecuteTime": {
     "end_time": "2022-04-17T09:04:39.643293Z",
     "start_time": "2022-04-17T09:04:39.638958Z"
    },
    "id": "9d9e065f"
   },
   "source": [
    "From the paper on [Jet tagging via particle clouds](https://journals.aps.org/prd/pdf/10.1103/PhysRevD.101.056019)\n",
    "\n",
    "The first EdgeConv block uses the spatial coordinates of the particles in the pseudorapidity-azimuth space to\n",
    "compute the distances, while the subsequent blocks use the learned feature vectors as coordinates.\n",
    "\n",
    "From the dataset we know that the features of each particle are its pt, rapidity, azimuthal angle, and pdgid\n"
   ]
  },
  {
   "cell_type": "code",
   "execution_count": 9,
   "id": "35bc21a3",
   "metadata": {
    "ExecuteTime": {
     "end_time": "2022-05-13T12:33:19.875811Z",
     "start_time": "2022-05-13T12:33:19.132567Z"
    },
    "colab": {
     "base_uri": "https://localhost:8080/"
    },
    "id": "35bc21a3",
    "outputId": "86a0ec7f-8cbf-44b8-e95c-0e2f2dec2fa1"
   },
   "outputs": [
    {
     "name": "stdout",
     "output_type": "stream",
     "text": [
      "(70000, 139, 4) (70000, 2)\n",
      "(15000, 139, 4) (15000, 2)\n",
      "(15000, 139, 4) (15000, 2)\n"
     ]
    }
   ],
   "source": [
    "x, y = shuffle(x, y, random_state=0)\n",
    "x_train, x_test, y_train, y_test = train_test_split(x, y, test_size=0.30, random_state=42)\n",
    "x_test, x_val, y_test, y_val = train_test_split(x_test, y_test , test_size=0.5, random_state=42)\n",
    "\n",
    "print(x_train.shape, y_train.shape)\n",
    "print(x_test.shape, y_test.shape)\n",
    "print(x_val.shape, y_val.shape)"
   ]
  },
  {
   "cell_type": "markdown",
   "id": "0ae40e8d",
   "metadata": {
    "id": "0ae40e8d"
   },
   "source": [
    "Shapes of each input (`points`, `features`, `mask`)\n",
    "\n",
    "Now we create masks for train, val and test"
   ]
  },
  {
   "cell_type": "code",
   "execution_count": 10,
   "id": "b7c810a6",
   "metadata": {
    "ExecuteTime": {
     "end_time": "2022-05-13T12:33:21.305710Z",
     "start_time": "2022-05-13T12:33:20.971036Z"
    },
    "colab": {
     "base_uri": "https://localhost:8080/"
    },
    "id": "b7c810a6",
    "outputId": "7f59a0d5-24ff-4482-e3d6-9320032d0f05"
   },
   "outputs": [
    {
     "name": "stdout",
     "output_type": "stream",
     "text": [
      "(70000, 139)\n",
      "[   29.20243269    27.50561143    30.26089051   220.41819997\n",
      "    27.95042087    28.15969933   329.0687446     27.57628735\n",
      "  -206.06003465   218.08468374    26.41602355    27.02195013\n",
      "    31.79622486    26.59246689    26.88924931  -202.09822736\n",
      "    26.71899363    31.23462352  -310.42681747    27.70451205\n",
      "    30.7169403   -198.56554041  2233.77838649    36.42720615\n",
      "    29.23621805  -187.38676832    33.46071738   268.17256202\n",
      "    32.3521241  -2054.01856237   118.7019814     56.63953271\n",
      "   151.53934524    57.07618763     0.             0.\n",
      "     0.             0.             0.             0.\n",
      "     0.             0.             0.             0.\n",
      "     0.             0.             0.             0.\n",
      "     0.             0.             0.             0.\n",
      "     0.             0.             0.             0.\n",
      "     0.             0.             0.             0.\n",
      "     0.             0.             0.             0.\n",
      "     0.             0.             0.             0.\n",
      "     0.             0.             0.             0.\n",
      "     0.             0.             0.             0.\n",
      "     0.             0.             0.             0.\n",
      "     0.             0.             0.             0.\n",
      "     0.             0.             0.             0.\n",
      "     0.             0.             0.             0.\n",
      "     0.             0.             0.             0.\n",
      "     0.             0.             0.             0.\n",
      "     0.             0.             0.             0.\n",
      "     0.             0.             0.             0.\n",
      "     0.             0.             0.             0.\n",
      "     0.             0.             0.             0.\n",
      "     0.             0.             0.             0.\n",
      "     0.             0.             0.             0.\n",
      "     0.             0.             0.             0.\n",
      "     0.             0.             0.             0.\n",
      "     0.             0.             0.             0.\n",
      "     0.             0.             0.        ]\n",
      "[1. 1. 1. 1. 1. 1. 1. 1. 1. 1. 1. 1. 1. 1. 1. 1. 1. 1. 1. 1. 1. 1. 1. 1.\n",
      " 1. 1. 1. 1. 1. 1. 1. 1. 1. 1. 0. 0. 0. 0. 0. 0. 0. 0. 0. 0. 0. 0. 0. 0.\n",
      " 0. 0. 0. 0. 0. 0. 0. 0. 0. 0. 0. 0. 0. 0. 0. 0. 0. 0. 0. 0. 0. 0. 0. 0.\n",
      " 0. 0. 0. 0. 0. 0. 0. 0. 0. 0. 0. 0. 0. 0. 0. 0. 0. 0. 0. 0. 0. 0. 0. 0.\n",
      " 0. 0. 0. 0. 0. 0. 0. 0. 0. 0. 0. 0. 0. 0. 0. 0. 0. 0. 0. 0. 0. 0. 0. 0.\n",
      " 0. 0. 0. 0. 0. 0. 0. 0. 0. 0. 0. 0. 0. 0. 0. 0. 0. 0. 0.]\n",
      "(70000, 139, 1)\n"
     ]
    }
   ],
   "source": [
    "# mask\n",
    "# find the maximum length vector in for each sample in 10000 samples with maximum number of non-zero values\n",
    "mask_train = np.sum(x_train, axis=2) \n",
    "print(mask_train.shape)\n",
    "print(mask_train[0])\n",
    "\n",
    "# make the array binary\n",
    "mask_train = np.array(mask_train !=0 , np.float32)\n",
    "print(mask_train[0])\n",
    "\n",
    "# reshape mask for a third axis\n",
    "mask_train = mask_train.reshape(x_train.shape[0], x_train.shape[1], 1)\n",
    "print(mask_train.shape)"
   ]
  },
  {
   "cell_type": "code",
   "execution_count": 11,
   "id": "dc6d1b8f",
   "metadata": {
    "ExecuteTime": {
     "end_time": "2022-05-13T12:33:22.673493Z",
     "start_time": "2022-05-13T12:33:22.588394Z"
    },
    "colab": {
     "base_uri": "https://localhost:8080/"
    },
    "id": "dc6d1b8f",
    "outputId": "578038dc-892b-455b-d543-35ad5272d3e5"
   },
   "outputs": [
    {
     "name": "stdout",
     "output_type": "stream",
     "text": [
      "(15000, 139, 1)\n"
     ]
    }
   ],
   "source": [
    "# mask\n",
    "# find the maximum length vector in for each sample in 10000 samples with maximum number of non-zero values\n",
    "mask_val = np.sum(x_val, axis=2) \n",
    "\n",
    "# make the array binary\n",
    "mask_val = np.array(mask_val !=0 , np.float32)\n",
    "\n",
    "# reshape mask for a third axis\n",
    "mask_val = mask_val.reshape(x_val.shape[0], x_val.shape[1], 1)\n",
    "print(mask_val.shape)"
   ]
  },
  {
   "cell_type": "code",
   "execution_count": 12,
   "id": "60d64a14",
   "metadata": {
    "ExecuteTime": {
     "end_time": "2022-05-13T12:33:22.885814Z",
     "start_time": "2022-05-13T12:33:22.772557Z"
    },
    "colab": {
     "base_uri": "https://localhost:8080/"
    },
    "id": "60d64a14",
    "outputId": "c19ffb52-98c8-4e1c-d513-87d6bc837dac"
   },
   "outputs": [
    {
     "name": "stdout",
     "output_type": "stream",
     "text": [
      "(15000, 139, 1)\n"
     ]
    }
   ],
   "source": [
    "# mask\n",
    "# find the maximum length vector in for each sample in 10000 samples with maximum number of non-zero values\n",
    "mask_test = np.sum(x_test, axis=2) \n",
    "\n",
    "# make the array binary\n",
    "mask_test = np.array(mask_test !=0 , np.float32)\n",
    "\n",
    "# reshape mask for a third axis\n",
    "mask_test = mask_val.reshape(x_test.shape[0], x_test.shape[1], 1)\n",
    "print(mask_test.shape)"
   ]
  },
  {
   "cell_type": "markdown",
   "id": "9011c254",
   "metadata": {
    "id": "9011c254"
   },
   "source": [
    "We use the implementations from this [github repo](https://github.com/hqucms/ParticleNet) The input is formatted accordingly below for train, val and test"
   ]
  },
  {
   "cell_type": "markdown",
   "id": "3378b523",
   "metadata": {
    "id": "3378b523"
   },
   "source": [
    "`points` contain rapidity, azimuthal angle used for computing the distance of KNN\n",
    "\n",
    "`features`: the features of the particles. All the 4 features.\n",
    "\n",
    "`mask` mask array taking a value of 0 for padded positions."
   ]
  },
  {
   "cell_type": "code",
   "execution_count": 13,
   "id": "525e3628",
   "metadata": {
    "ExecuteTime": {
     "end_time": "2022-05-13T12:33:24.323656Z",
     "start_time": "2022-05-13T12:33:24.308048Z"
    },
    "id": "525e3628"
   },
   "outputs": [],
   "source": [
    "train_dataset = {\n",
    "    'points': x_train[:,:,1:3],\n",
    "    'features': x_train,\n",
    "    'mask': mask_train\n",
    "}\n",
    "\n",
    "test_dataset = {\n",
    "    'points': x_test[:,:,1:3],\n",
    "    'features': x_test,\n",
    "    'mask': mask_test\n",
    "}\n",
    "\n",
    "val_dataset = {\n",
    "    'points': x_val[:,:,1:3],\n",
    "    'features': x_val,\n",
    "    'mask': mask_val\n",
    "}"
   ]
  },
  {
   "cell_type": "code",
   "execution_count": 14,
   "id": "943c84cc",
   "metadata": {
    "ExecuteTime": {
     "end_time": "2022-05-13T12:33:25.376046Z",
     "start_time": "2022-05-13T12:33:25.359002Z"
    },
    "colab": {
     "base_uri": "https://localhost:8080/"
    },
    "id": "943c84cc",
    "outputId": "26065145-a03d-4d4f-cbe2-0768a56395fa"
   },
   "outputs": [
    {
     "data": {
      "text/plain": [
       "{'features': (139, 4), 'mask': (139, 1), 'points': (139, 2)}"
      ]
     },
     "execution_count": 14,
     "metadata": {},
     "output_type": "execute_result"
    }
   ],
   "source": [
    "shapes = {\n",
    "    'points': x_train[:,:,1:3].shape[1:],\n",
    "    'features': x_train.shape[1:],\n",
    "    'mask': mask_train.shape[1:]\n",
    "}\n",
    "shapes"
   ]
  },
  {
   "cell_type": "code",
   "execution_count": 15,
   "id": "a834c2ff",
   "metadata": {
    "ExecuteTime": {
     "end_time": "2022-05-13T12:33:26.314884Z",
     "start_time": "2022-05-13T12:33:25.515121Z"
    },
    "id": "a834c2ff"
   },
   "outputs": [],
   "source": [
    "# particle net lite\n",
    "num_classes = 2\n",
    "model = get_particle_net_lite(num_classes, shapes)"
   ]
  },
  {
   "cell_type": "code",
   "execution_count": 35,
   "id": "9db79416",
   "metadata": {
    "ExecuteTime": {
     "end_time": "2022-05-13T12:34:36.015312Z",
     "start_time": "2022-05-13T12:34:36.000300Z"
    },
    "id": "9db79416"
   },
   "outputs": [],
   "source": [
    "# Training parameters\n",
    "batch_size = 1024\n",
    "epochs = 100"
   ]
  },
  {
   "cell_type": "code",
   "execution_count": 36,
   "id": "28976a79",
   "metadata": {
    "ExecuteTime": {
     "end_time": "2022-05-13T12:34:48.984202Z",
     "start_time": "2022-05-13T12:34:48.967696Z"
    },
    "id": "28976a79"
   },
   "outputs": [],
   "source": [
    "def lr_schedule(epoch):\n",
    "    lr = 1e-3\n",
    "    if epoch > 10:\n",
    "        lr *= 0.1\n",
    "    elif epoch > 20:\n",
    "        lr *= 0.01\n",
    "    logging.info('Learning rate: %f'%lr)\n",
    "    return lr"
   ]
  },
  {
   "cell_type": "code",
   "execution_count": 37,
   "id": "94606d38",
   "metadata": {
    "ExecuteTime": {
     "end_time": "2022-05-13T12:34:52.465617Z",
     "start_time": "2022-05-13T12:34:52.417216Z"
    },
    "colab": {
     "base_uri": "https://localhost:8080/"
    },
    "id": "94606d38",
    "outputId": "bf622031-ebfd-49f3-d85f-aec22271ffb0",
    "scrolled": true
   },
   "outputs": [
    {
     "name": "stderr",
     "output_type": "stream",
     "text": [
      "[2022-05-13 14:22:20,004] INFO: Learning rate: 0.001000\n"
     ]
    },
    {
     "name": "stdout",
     "output_type": "stream",
     "text": [
      "Model: \"ParticleNet\"\n",
      "__________________________________________________________________________________________________\n",
      " Layer (type)                   Output Shape         Param #     Connected to                     \n",
      "==================================================================================================\n",
      " mask (InputLayer)              [(None, 139, 1)]     0           []                               \n",
      "                                                                                                  \n",
      " tf.math.not_equal (TFOpLambda)  (None, 139, 1)      0           ['mask[0][0]']                   \n",
      "                                                                                                  \n",
      " tf.cast (TFOpLambda)           (None, 139, 1)       0           ['tf.math.not_equal[0][0]']      \n",
      "                                                                                                  \n",
      " tf.math.equal (TFOpLambda)     (None, 139, 1)       0           ['tf.cast[0][0]']                \n",
      "                                                                                                  \n",
      " tf.cast_1 (TFOpLambda)         (None, 139, 1)       0           ['tf.math.equal[0][0]']          \n",
      "                                                                                                  \n",
      " tf.math.multiply (TFOpLambda)  (None, 139, 1)       0           ['tf.cast_1[0][0]']              \n",
      "                                                                                                  \n",
      " points (InputLayer)            [(None, 139, 2)]     0           []                               \n",
      "                                                                                                  \n",
      " tf.math.add (TFOpLambda)       (None, 139, 2)       0           ['tf.math.multiply[0][0]',       \n",
      "                                                                  'points[0][0]']                 \n",
      "                                                                                                  \n",
      " features (InputLayer)          [(None, 139, 4)]     0           []                               \n",
      "                                                                                                  \n",
      " tf.compat.v1.transpose (TFOpLa  (None, 2, 139)      0           ['tf.math.add[0][0]']            \n",
      " mbda)                                                                                            \n",
      "                                                                                                  \n",
      " tf.expand_dims (TFOpLambda)    (None, 139, 1, 4)    0           ['features[0][0]']               \n",
      "                                                                                                  \n",
      " tf.math.multiply_1 (TFOpLambda  (None, 139, 2)      0           ['tf.math.add[0][0]',            \n",
      " )                                                                'tf.math.add[0][0]']            \n",
      "                                                                                                  \n",
      " tf.linalg.matmul (TFOpLambda)  (None, 139, 139)     0           ['tf.math.add[0][0]',            \n",
      "                                                                  'tf.compat.v1.transpose[0][0]'] \n",
      "                                                                                                  \n",
      " tf.math.multiply_2 (TFOpLambda  (None, 139, 2)      0           ['tf.math.add[0][0]',            \n",
      " )                                                                'tf.math.add[0][0]']            \n",
      "                                                                                                  \n",
      " ParticleNet_fts_bn (BatchNorma  (None, 139, 1, 4)   16          ['tf.expand_dims[0][0]']         \n",
      " lization)                                                                                        \n",
      "                                                                                                  \n",
      " tf.math.reduce_sum (TFOpLambda  (None, 139, 1)      0           ['tf.math.multiply_1[0][0]']     \n",
      " )                                                                                                \n",
      "                                                                                                  \n",
      " tf.math.multiply_3 (TFOpLambda  (None, 139, 139)    0           ['tf.linalg.matmul[0][0]']       \n",
      " )                                                                                                \n",
      "                                                                                                  \n",
      " tf.math.reduce_sum_1 (TFOpLamb  (None, 139, 1)      0           ['tf.math.multiply_2[0][0]']     \n",
      " da)                                                                                              \n",
      "                                                                                                  \n",
      " tf.compat.v1.squeeze (TFOpLamb  (None, 139, 4)      0           ['ParticleNet_fts_bn[0][0]']     \n",
      " da)                                                                                              \n",
      "                                                                                                  \n",
      " tf.math.subtract (TFOpLambda)  (None, 139, 139)     0           ['tf.math.reduce_sum[0][0]',     \n",
      "                                                                  'tf.math.multiply_3[0][0]']     \n",
      "                                                                                                  \n",
      " tf.compat.v1.transpose_1 (TFOp  (None, 1, 139)      0           ['tf.math.reduce_sum_1[0][0]']   \n",
      " Lambda)                                                                                          \n",
      "                                                                                                  \n",
      " tf.compat.v1.shape (TFOpLambda  (3,)                0           ['tf.compat.v1.squeeze[0][0]']   \n",
      " )                                                                                                \n",
      "                                                                                                  \n",
      " tf.__operators__.add (TFOpLamb  (None, 139, 139)    0           ['tf.math.subtract[0][0]',       \n",
      " da)                                                              'tf.compat.v1.transpose_1[0][0]'\n",
      "                                                                 ]                                \n",
      "                                                                                                  \n",
      " tf.__operators__.getitem_1 (Sl  ()                  0           ['tf.compat.v1.shape[0][0]']     \n",
      " icingOpLambda)                                                                                   \n",
      "                                                                                                  \n",
      " tf.math.negative (TFOpLambda)  (None, 139, 139)     0           ['tf.__operators__.add[0][0]']   \n",
      "                                                                                                  \n",
      " tf.range (TFOpLambda)          (None,)              0           ['tf.__operators__.getitem_1[0][0\n",
      "                                                                 ]']                              \n",
      "                                                                                                  \n",
      " tf.math.top_k (TFOpLambda)     TopKV2(values=(None  0           ['tf.math.negative[0][0]']       \n",
      "                                , 139, 8),                                                        \n",
      "                                 indices=(None, 139                                               \n",
      "                                , 8))                                                             \n",
      "                                                                                                  \n",
      " tf.reshape (TFOpLambda)        (None, 1, 1, 1)      0           ['tf.range[0][0]']               \n",
      "                                                                                                  \n",
      " tf.__operators__.getitem (Slic  (None, 139, 7)      0           ['tf.math.top_k[0][1]']          \n",
      " ingOpLambda)                                                                                     \n",
      "                                                                                                  \n",
      " tf.tile (TFOpLambda)           (None, 139, 7, 1)    0           ['tf.reshape[0][0]']             \n",
      "                                                                                                  \n",
      " tf.expand_dims_1 (TFOpLambda)  (None, 139, 7, 1)    0           ['tf.__operators__.getitem[0][0]'\n",
      "                                                                 ]                                \n",
      "                                                                                                  \n",
      " tf.expand_dims_2 (TFOpLambda)  (None, 139, 1, 4)    0           ['tf.compat.v1.squeeze[0][0]']   \n",
      "                                                                                                  \n",
      " tf.concat (TFOpLambda)         (None, 139, 7, 2)    0           ['tf.tile[0][0]',                \n",
      "                                                                  'tf.expand_dims_1[0][0]']       \n",
      "                                                                                                  \n",
      " tf.tile_1 (TFOpLambda)         (None, 139, 7, 4)    0           ['tf.expand_dims_2[0][0]']       \n",
      "                                                                                                  \n",
      " tf.compat.v1.gather_nd (TFOpLa  (None, 139, 7, 4)   0           ['tf.compat.v1.squeeze[0][0]',   \n",
      " mbda)                                                            'tf.concat[0][0]']              \n",
      "                                                                                                  \n",
      " tf.math.subtract_1 (TFOpLambda  (None, 139, 7, 4)   0           ['tf.compat.v1.gather_nd[0][0]', \n",
      " )                                                                'tf.tile_1[0][0]']              \n",
      "                                                                                                  \n",
      " tf.concat_1 (TFOpLambda)       (None, 139, 7, 8)    0           ['tf.tile_1[0][0]',              \n",
      "                                                                  'tf.math.subtract_1[0][0]']     \n",
      "                                                                                                  \n",
      " ParticleNet_EdgeConv0_conv0 (C  (None, 139, 7, 32)  256         ['tf.concat_1[0][0]']            \n",
      " onv2D)                                                                                           \n",
      "                                                                                                  \n",
      " ParticleNet_EdgeConv0_bn0 (Bat  (None, 139, 7, 32)  128         ['ParticleNet_EdgeConv0_conv0[0][\n",
      " chNormalization)                                                0]']                             \n",
      "                                                                                                  \n",
      " ParticleNet_EdgeConv0_act0 (Ac  (None, 139, 7, 32)  0           ['ParticleNet_EdgeConv0_bn0[0][0]\n",
      " tivation)                                                       ']                               \n",
      "                                                                                                  \n",
      " ParticleNet_EdgeConv0_conv1 (C  (None, 139, 7, 32)  1024        ['ParticleNet_EdgeConv0_act0[0][0\n",
      " onv2D)                                                          ]']                              \n",
      "                                                                                                  \n",
      " ParticleNet_EdgeConv0_bn1 (Bat  (None, 139, 7, 32)  128         ['ParticleNet_EdgeConv0_conv1[0][\n",
      " chNormalization)                                                0]']                             \n",
      "                                                                                                  \n",
      " ParticleNet_EdgeConv0_act1 (Ac  (None, 139, 7, 32)  0           ['ParticleNet_EdgeConv0_bn1[0][0]\n",
      " tivation)                                                       ']                               \n",
      "                                                                                                  \n",
      " tf.expand_dims_3 (TFOpLambda)  (None, 139, 1, 4)    0           ['tf.compat.v1.squeeze[0][0]']   \n",
      "                                                                                                  \n",
      " ParticleNet_EdgeConv0_conv2 (C  (None, 139, 7, 32)  1024        ['ParticleNet_EdgeConv0_act1[0][0\n",
      " onv2D)                                                          ]']                              \n",
      "                                                                                                  \n",
      " ParticleNet_EdgeConv0_sc_conv   (None, 139, 1, 32)  128         ['tf.expand_dims_3[0][0]']       \n",
      " (Conv2D)                                                                                         \n",
      "                                                                                                  \n",
      " ParticleNet_EdgeConv0_bn2 (Bat  (None, 139, 7, 32)  128         ['ParticleNet_EdgeConv0_conv2[0][\n",
      " chNormalization)                                                0]']                             \n",
      "                                                                                                  \n",
      " ParticleNet_EdgeConv0_sc_bn (B  (None, 139, 1, 32)  128         ['ParticleNet_EdgeConv0_sc_conv[0\n",
      " atchNormalization)                                              ][0]']                           \n",
      "                                                                                                  \n",
      " ParticleNet_EdgeConv0_act2 (Ac  (None, 139, 7, 32)  0           ['ParticleNet_EdgeConv0_bn2[0][0]\n",
      " tivation)                                                       ']                               \n",
      "                                                                                                  \n",
      " tf.compat.v1.squeeze_1 (TFOpLa  (None, 139, 32)     0           ['ParticleNet_EdgeConv0_sc_bn[0][\n",
      " mbda)                                                           0]']                             \n",
      "                                                                                                  \n",
      " tf.math.reduce_mean (TFOpLambd  (None, 139, 32)     0           ['ParticleNet_EdgeConv0_act2[0][0\n",
      " a)                                                              ]']                              \n",
      "                                                                                                  \n",
      " tf.__operators__.add_1 (TFOpLa  (None, 139, 32)     0           ['tf.compat.v1.squeeze_1[0][0]', \n",
      " mbda)                                                            'tf.math.reduce_mean[0][0]']    \n",
      "                                                                                                  \n",
      " ParticleNet_EdgeConv0_sc_act (  (None, 139, 32)     0           ['tf.__operators__.add_1[0][0]'] \n",
      " Activation)                                                                                      \n",
      "                                                                                                  \n",
      " tf.math.add_1 (TFOpLambda)     (None, 139, 32)      0           ['tf.math.multiply[0][0]',       \n",
      "                                                                  'ParticleNet_EdgeConv0_sc_act[0]\n",
      "                                                                 [0]']                            \n",
      "                                                                                                  \n",
      " tf.compat.v1.transpose_2 (TFOp  (None, 32, 139)     0           ['tf.math.add_1[0][0]']          \n",
      " Lambda)                                                                                          \n",
      "                                                                                                  \n",
      " tf.math.multiply_4 (TFOpLambda  (None, 139, 32)     0           ['tf.math.add_1[0][0]',          \n",
      " )                                                                'tf.math.add_1[0][0]']          \n",
      "                                                                                                  \n",
      " tf.linalg.matmul_1 (TFOpLambda  (None, 139, 139)    0           ['tf.math.add_1[0][0]',          \n",
      " )                                                                'tf.compat.v1.transpose_2[0][0]'\n",
      "                                                                 ]                                \n",
      "                                                                                                  \n",
      " tf.math.multiply_5 (TFOpLambda  (None, 139, 32)     0           ['tf.math.add_1[0][0]',          \n",
      " )                                                                'tf.math.add_1[0][0]']          \n",
      "                                                                                                  \n",
      " tf.math.reduce_sum_2 (TFOpLamb  (None, 139, 1)      0           ['tf.math.multiply_4[0][0]']     \n",
      " da)                                                                                              \n",
      "                                                                                                  \n",
      " tf.math.multiply_6 (TFOpLambda  (None, 139, 139)    0           ['tf.linalg.matmul_1[0][0]']     \n",
      " )                                                                                                \n",
      "                                                                                                  \n",
      " tf.math.reduce_sum_3 (TFOpLamb  (None, 139, 1)      0           ['tf.math.multiply_5[0][0]']     \n",
      " da)                                                                                              \n",
      "                                                                                                  \n",
      " tf.math.subtract_2 (TFOpLambda  (None, 139, 139)    0           ['tf.math.reduce_sum_2[0][0]',   \n",
      " )                                                                'tf.math.multiply_6[0][0]']     \n",
      "                                                                                                  \n",
      " tf.compat.v1.transpose_3 (TFOp  (None, 1, 139)      0           ['tf.math.reduce_sum_3[0][0]']   \n",
      " Lambda)                                                                                          \n",
      "                                                                                                  \n",
      " tf.compat.v1.shape_1 (TFOpLamb  (3,)                0           ['ParticleNet_EdgeConv0_sc_act[0]\n",
      " da)                                                             [0]']                            \n",
      "                                                                                                  \n",
      " tf.__operators__.add_2 (TFOpLa  (None, 139, 139)    0           ['tf.math.subtract_2[0][0]',     \n",
      " mbda)                                                            'tf.compat.v1.transpose_3[0][0]'\n",
      "                                                                 ]                                \n",
      "                                                                                                  \n",
      " tf.__operators__.getitem_3 (Sl  ()                  0           ['tf.compat.v1.shape_1[0][0]']   \n",
      " icingOpLambda)                                                                                   \n",
      "                                                                                                  \n",
      " tf.math.negative_1 (TFOpLambda  (None, 139, 139)    0           ['tf.__operators__.add_2[0][0]'] \n",
      " )                                                                                                \n",
      "                                                                                                  \n",
      " tf.range_1 (TFOpLambda)        (None,)              0           ['tf.__operators__.getitem_3[0][0\n",
      "                                                                 ]']                              \n",
      "                                                                                                  \n",
      " tf.math.top_k_1 (TFOpLambda)   TopKV2(values=(None  0           ['tf.math.negative_1[0][0]']     \n",
      "                                , 139, 8),                                                        \n",
      "                                 indices=(None, 139                                               \n",
      "                                , 8))                                                             \n",
      "                                                                                                  \n",
      " tf.reshape_1 (TFOpLambda)      (None, 1, 1, 1)      0           ['tf.range_1[0][0]']             \n",
      "                                                                                                  \n",
      " tf.__operators__.getitem_2 (Sl  (None, 139, 7)      0           ['tf.math.top_k_1[0][1]']        \n",
      " icingOpLambda)                                                                                   \n",
      "                                                                                                  \n",
      " tf.tile_2 (TFOpLambda)         (None, 139, 7, 1)    0           ['tf.reshape_1[0][0]']           \n",
      "                                                                                                  \n",
      " tf.expand_dims_4 (TFOpLambda)  (None, 139, 7, 1)    0           ['tf.__operators__.getitem_2[0][0\n",
      "                                                                 ]']                              \n",
      "                                                                                                  \n",
      " tf.expand_dims_5 (TFOpLambda)  (None, 139, 1, 32)   0           ['ParticleNet_EdgeConv0_sc_act[0]\n",
      "                                                                 [0]']                            \n",
      "                                                                                                  \n",
      " tf.concat_2 (TFOpLambda)       (None, 139, 7, 2)    0           ['tf.tile_2[0][0]',              \n",
      "                                                                  'tf.expand_dims_4[0][0]']       \n",
      "                                                                                                  \n",
      " tf.tile_3 (TFOpLambda)         (None, 139, 7, 32)   0           ['tf.expand_dims_5[0][0]']       \n",
      "                                                                                                  \n",
      " tf.compat.v1.gather_nd_1 (TFOp  (None, 139, 7, 32)  0           ['ParticleNet_EdgeConv0_sc_act[0]\n",
      " Lambda)                                                         [0]',                            \n",
      "                                                                  'tf.concat_2[0][0]']            \n",
      "                                                                                                  \n",
      " tf.math.subtract_3 (TFOpLambda  (None, 139, 7, 32)  0           ['tf.compat.v1.gather_nd_1[0][0]'\n",
      " )                                                               , 'tf.tile_3[0][0]']             \n",
      "                                                                                                  \n",
      " tf.concat_3 (TFOpLambda)       (None, 139, 7, 64)   0           ['tf.tile_3[0][0]',              \n",
      "                                                                  'tf.math.subtract_3[0][0]']     \n",
      "                                                                                                  \n",
      " ParticleNet_EdgeConv1_conv0 (C  (None, 139, 7, 64)  4096        ['tf.concat_3[0][0]']            \n",
      " onv2D)                                                                                           \n",
      "                                                                                                  \n",
      " ParticleNet_EdgeConv1_bn0 (Bat  (None, 139, 7, 64)  256         ['ParticleNet_EdgeConv1_conv0[0][\n",
      " chNormalization)                                                0]']                             \n",
      "                                                                                                  \n",
      " ParticleNet_EdgeConv1_act0 (Ac  (None, 139, 7, 64)  0           ['ParticleNet_EdgeConv1_bn0[0][0]\n",
      " tivation)                                                       ']                               \n",
      "                                                                                                  \n",
      " ParticleNet_EdgeConv1_conv1 (C  (None, 139, 7, 64)  4096        ['ParticleNet_EdgeConv1_act0[0][0\n",
      " onv2D)                                                          ]']                              \n",
      "                                                                                                  \n",
      " ParticleNet_EdgeConv1_bn1 (Bat  (None, 139, 7, 64)  256         ['ParticleNet_EdgeConv1_conv1[0][\n",
      " chNormalization)                                                0]']                             \n",
      "                                                                                                  \n",
      " ParticleNet_EdgeConv1_act1 (Ac  (None, 139, 7, 64)  0           ['ParticleNet_EdgeConv1_bn1[0][0]\n",
      " tivation)                                                       ']                               \n",
      "                                                                                                  \n",
      " tf.expand_dims_6 (TFOpLambda)  (None, 139, 1, 32)   0           ['ParticleNet_EdgeConv0_sc_act[0]\n",
      "                                                                 [0]']                            \n",
      "                                                                                                  \n",
      " ParticleNet_EdgeConv1_conv2 (C  (None, 139, 7, 64)  4096        ['ParticleNet_EdgeConv1_act1[0][0\n",
      " onv2D)                                                          ]']                              \n",
      "                                                                                                  \n",
      " ParticleNet_EdgeConv1_sc_conv   (None, 139, 1, 64)  2048        ['tf.expand_dims_6[0][0]']       \n",
      " (Conv2D)                                                                                         \n",
      "                                                                                                  \n",
      " ParticleNet_EdgeConv1_bn2 (Bat  (None, 139, 7, 64)  256         ['ParticleNet_EdgeConv1_conv2[0][\n",
      " chNormalization)                                                0]']                             \n",
      "                                                                                                  \n",
      " ParticleNet_EdgeConv1_sc_bn (B  (None, 139, 1, 64)  256         ['ParticleNet_EdgeConv1_sc_conv[0\n",
      " atchNormalization)                                              ][0]']                           \n",
      "                                                                                                  \n",
      " ParticleNet_EdgeConv1_act2 (Ac  (None, 139, 7, 64)  0           ['ParticleNet_EdgeConv1_bn2[0][0]\n",
      " tivation)                                                       ']                               \n",
      "                                                                                                  \n",
      " tf.compat.v1.squeeze_2 (TFOpLa  (None, 139, 64)     0           ['ParticleNet_EdgeConv1_sc_bn[0][\n",
      " mbda)                                                           0]']                             \n",
      "                                                                                                  \n",
      " tf.math.reduce_mean_1 (TFOpLam  (None, 139, 64)     0           ['ParticleNet_EdgeConv1_act2[0][0\n",
      " bda)                                                            ]']                              \n",
      "                                                                                                  \n",
      " tf.__operators__.add_3 (TFOpLa  (None, 139, 64)     0           ['tf.compat.v1.squeeze_2[0][0]', \n",
      " mbda)                                                            'tf.math.reduce_mean_1[0][0]']  \n",
      "                                                                                                  \n",
      " ParticleNet_EdgeConv1_sc_act (  (None, 139, 64)     0           ['tf.__operators__.add_3[0][0]'] \n",
      " Activation)                                                                                      \n",
      "                                                                                                  \n",
      " tf.math.multiply_7 (TFOpLambda  (None, 139, 64)     0           ['ParticleNet_EdgeConv1_sc_act[0]\n",
      " )                                                               [0]',                            \n",
      "                                                                  'tf.cast[0][0]']                \n",
      "                                                                                                  \n",
      " tf.math.reduce_mean_2 (TFOpLam  (None, 64)          0           ['tf.math.multiply_7[0][0]']     \n",
      " bda)                                                                                             \n",
      "                                                                                                  \n",
      " dense (Dense)                  (None, 128)          8320        ['tf.math.reduce_mean_2[0][0]']  \n",
      "                                                                                                  \n",
      " dropout (Dropout)              (None, 128)          0           ['dense[0][0]']                  \n",
      "                                                                                                  \n",
      " dense_1 (Dense)                (None, 2)            258         ['dropout[0][0]']                \n",
      "                                                                                                  \n",
      "==================================================================================================\n",
      "Total params: 26,898\n",
      "Trainable params: 26,122\n",
      "Non-trainable params: 776\n",
      "__________________________________________________________________________________________________\n"
     ]
    }
   ],
   "source": [
    "model.compile(loss='categorical_crossentropy',\n",
    "              optimizer=keras.optimizers.Adam(learning_rate=lr_schedule(0)),\n",
    "              metrics=['accuracy'])\n",
    "model.summary()"
   ]
  },
  {
   "cell_type": "code",
   "execution_count": 38,
   "id": "e6d66c00",
   "metadata": {
    "ExecuteTime": {
     "end_time": "2022-05-13T12:34:59.698118Z",
     "start_time": "2022-05-13T12:34:59.675062Z"
    },
    "id": "e6d66c00"
   },
   "outputs": [],
   "source": [
    "# Prepare model model saving directory.\n",
    "\n",
    "save_dir = 'model_checkpoints'\n",
    "model_name = '%s_model.{epoch:03d}.h5' % 'particle_net_lite'\n",
    "if not os.path.isdir(save_dir):\n",
    "    os.makedirs(save_dir)\n",
    "filepath = os.path.join(save_dir, model_name)\n",
    "\n",
    "# Prepare callbacks for model saving and for learning rate adjustment.\n",
    "checkpoint = keras.callbacks.ModelCheckpoint(filepath=filepath,\n",
    "                             monitor='val_accuracy',\n",
    "                             verbose=1,\n",
    "                             save_best_only=True)\n",
    "\n",
    "lr_scheduler = keras.callbacks.LearningRateScheduler(lr_schedule)\n",
    "progress_bar = keras.callbacks.ProgbarLogger()\n",
    "callbacks = [checkpoint, lr_scheduler, progress_bar]"
   ]
  },
  {
   "cell_type": "code",
   "execution_count": 39,
   "id": "f1f2b991",
   "metadata": {
    "ExecuteTime": {
     "start_time": "2022-05-13T12:35:01.567Z"
    },
    "colab": {
     "base_uri": "https://localhost:8080/"
    },
    "id": "f1f2b991",
    "outputId": "971f1d46-f6d1-40ad-ef3b-6e32e94eb6ba",
    "scrolled": true
   },
   "outputs": [
    {
     "name": "stderr",
     "output_type": "stream",
     "text": [
      "[2022-05-13 14:22:23,472] INFO: Learning rate: 0.001000\n"
     ]
    },
    {
     "name": "stdout",
     "output_type": "stream",
     "text": [
      "Epoch 1/100\n",
      "      0/Unknown - 51s 0s/sample - loss: 0.4399 - accuracy: 0.8035\n",
      "Epoch 1: val_accuracy improved from -inf to 0.79680, saving model to model_checkpoints/particle_net_lite_model.001.h5\n",
      "69/69 [==============================] - 59s 849ms/sample - loss: 0.4399 - accuracy: 0.8035 - val_loss: 0.4486 - val_accuracy: 0.7968 - lr: 0.0010\n"
     ]
    },
    {
     "name": "stderr",
     "output_type": "stream",
     "text": [
      "[2022-05-13 14:23:22,068] INFO: Learning rate: 0.001000\n"
     ]
    },
    {
     "name": "stdout",
     "output_type": "stream",
     "text": [
      "Epoch 2/100\n",
      " 0/69 [..............................] - ETA: 0s - loss: 0.4359 - accuracy: 0.8064\n",
      "Epoch 2: val_accuracy improved from 0.79680 to 0.79880, saving model to model_checkpoints/particle_net_lite_model.002.h5\n",
      "69/69 [==============================] - 56s 813ms/sample - loss: 0.4359 - accuracy: 0.8064 - val_loss: 0.4419 - val_accuracy: 0.7988 - lr: 0.0010\n"
     ]
    },
    {
     "name": "stderr",
     "output_type": "stream",
     "text": [
      "[2022-05-13 14:24:18,154] INFO: Learning rate: 0.001000\n"
     ]
    },
    {
     "name": "stdout",
     "output_type": "stream",
     "text": [
      "Epoch 3/100\n",
      " 0/69 [..............................] - ETA: 0s - loss: 0.4360 - accuracy: 0.8054\n",
      "Epoch 3: val_accuracy did not improve from 0.79880\n",
      "69/69 [==============================] - 56s 810ms/sample - loss: 0.4360 - accuracy: 0.8054 - val_loss: 0.4407 - val_accuracy: 0.7988 - lr: 0.0010\n"
     ]
    },
    {
     "name": "stderr",
     "output_type": "stream",
     "text": [
      "[2022-05-13 14:25:14,078] INFO: Learning rate: 0.001000\n"
     ]
    },
    {
     "name": "stdout",
     "output_type": "stream",
     "text": [
      "Epoch 4/100\n",
      " 0/69 [..............................] - ETA: 0s - loss: 0.4342 - accuracy: 0.8077\n",
      "Epoch 4: val_accuracy improved from 0.79880 to 0.81133, saving model to model_checkpoints/particle_net_lite_model.004.h5\n",
      "69/69 [==============================] - 56s 813ms/sample - loss: 0.4342 - accuracy: 0.8077 - val_loss: 0.4250 - val_accuracy: 0.8113 - lr: 0.0010\n"
     ]
    },
    {
     "name": "stderr",
     "output_type": "stream",
     "text": [
      "[2022-05-13 14:26:10,156] INFO: Learning rate: 0.001000\n"
     ]
    },
    {
     "name": "stdout",
     "output_type": "stream",
     "text": [
      "Epoch 5/100\n",
      " 0/69 [..............................] - ETA: 0s - loss: 0.4326 - accuracy: 0.8081\n",
      "Epoch 5: val_accuracy did not improve from 0.81133\n",
      "69/69 [==============================] - 56s 809ms/sample - loss: 0.4326 - accuracy: 0.8081 - val_loss: 0.4246 - val_accuracy: 0.8103 - lr: 0.0010\n"
     ]
    },
    {
     "name": "stderr",
     "output_type": "stream",
     "text": [
      "[2022-05-13 14:27:05,960] INFO: Learning rate: 0.001000\n"
     ]
    },
    {
     "name": "stdout",
     "output_type": "stream",
     "text": [
      "Epoch 6/100\n",
      " 0/69 [..............................] - ETA: 0s - loss: 0.4329 - accuracy: 0.8077\n",
      "Epoch 6: val_accuracy did not improve from 0.81133\n",
      "69/69 [==============================] - 56s 809ms/sample - loss: 0.4329 - accuracy: 0.8077 - val_loss: 0.4264 - val_accuracy: 0.8088 - lr: 0.0010\n"
     ]
    },
    {
     "name": "stderr",
     "output_type": "stream",
     "text": [
      "[2022-05-13 14:28:01,783] INFO: Learning rate: 0.001000\n"
     ]
    },
    {
     "name": "stdout",
     "output_type": "stream",
     "text": [
      "Epoch 7/100\n",
      " 0/69 [..............................] - ETA: 0s - loss: 0.4319 - accuracy: 0.8080\n",
      "Epoch 7: val_accuracy improved from 0.81133 to 0.81247, saving model to model_checkpoints/particle_net_lite_model.007.h5\n",
      "69/69 [==============================] - 56s 811ms/sample - loss: 0.4319 - accuracy: 0.8080 - val_loss: 0.4254 - val_accuracy: 0.8125 - lr: 0.0010\n"
     ]
    },
    {
     "name": "stderr",
     "output_type": "stream",
     "text": [
      "[2022-05-13 14:28:57,736] INFO: Learning rate: 0.001000\n"
     ]
    },
    {
     "name": "stdout",
     "output_type": "stream",
     "text": [
      "Epoch 8/100\n",
      " 0/69 [..............................] - ETA: 0s - loss: 0.4309 - accuracy: 0.8086\n",
      "Epoch 8: val_accuracy did not improve from 0.81247\n",
      "69/69 [==============================] - 56s 809ms/sample - loss: 0.4309 - accuracy: 0.8086 - val_loss: 0.4285 - val_accuracy: 0.8087 - lr: 0.0010\n"
     ]
    },
    {
     "name": "stderr",
     "output_type": "stream",
     "text": [
      "[2022-05-13 14:29:53,570] INFO: Learning rate: 0.001000\n"
     ]
    },
    {
     "name": "stdout",
     "output_type": "stream",
     "text": [
      "Epoch 9/100\n",
      " 0/69 [..............................] - ETA: 0s - loss: 0.4290 - accuracy: 0.8100\n",
      "Epoch 9: val_accuracy did not improve from 0.81247\n",
      "69/69 [==============================] - 56s 809ms/sample - loss: 0.4290 - accuracy: 0.8100 - val_loss: 0.4217 - val_accuracy: 0.8111 - lr: 0.0010\n"
     ]
    },
    {
     "name": "stderr",
     "output_type": "stream",
     "text": [
      "[2022-05-13 14:30:49,436] INFO: Learning rate: 0.001000\n"
     ]
    },
    {
     "name": "stdout",
     "output_type": "stream",
     "text": [
      "Epoch 10/100\n",
      " 0/69 [..............................] - ETA: 0s - loss: 0.4272 - accuracy: 0.8106\n",
      "Epoch 10: val_accuracy did not improve from 0.81247\n",
      "69/69 [==============================] - 56s 809ms/sample - loss: 0.4272 - accuracy: 0.8106 - val_loss: 0.4220 - val_accuracy: 0.8115 - lr: 0.0010\n"
     ]
    },
    {
     "name": "stderr",
     "output_type": "stream",
     "text": [
      "[2022-05-13 14:31:45,277] INFO: Learning rate: 0.001000\n"
     ]
    },
    {
     "name": "stdout",
     "output_type": "stream",
     "text": [
      "Epoch 11/100\n",
      " 0/69 [..............................] - ETA: 0s - loss: 0.4288 - accuracy: 0.8097\n",
      "Epoch 11: val_accuracy did not improve from 0.81247\n",
      "69/69 [==============================] - 56s 809ms/sample - loss: 0.4288 - accuracy: 0.8097 - val_loss: 0.4224 - val_accuracy: 0.8095 - lr: 0.0010\n"
     ]
    },
    {
     "name": "stderr",
     "output_type": "stream",
     "text": [
      "[2022-05-13 14:32:41,094] INFO: Learning rate: 0.000100\n"
     ]
    },
    {
     "name": "stdout",
     "output_type": "stream",
     "text": [
      "Epoch 12/100\n",
      " 0/69 [..............................] - ETA: 0s - loss: 0.4223 - accuracy: 0.8136\n",
      "Epoch 12: val_accuracy improved from 0.81247 to 0.81353, saving model to model_checkpoints/particle_net_lite_model.012.h5\n",
      "69/69 [==============================] - 56s 812ms/sample - loss: 0.4223 - accuracy: 0.8136 - val_loss: 0.4191 - val_accuracy: 0.8135 - lr: 1.0000e-04\n"
     ]
    },
    {
     "name": "stderr",
     "output_type": "stream",
     "text": [
      "[2022-05-13 14:33:37,115] INFO: Learning rate: 0.000100\n"
     ]
    },
    {
     "name": "stdout",
     "output_type": "stream",
     "text": [
      "Epoch 13/100\n",
      " 0/69 [..............................] - ETA: 0s - loss: 0.4204 - accuracy: 0.8141\n",
      "Epoch 13: val_accuracy improved from 0.81353 to 0.81367, saving model to model_checkpoints/particle_net_lite_model.013.h5\n",
      "69/69 [==============================] - 56s 813ms/sample - loss: 0.4204 - accuracy: 0.8141 - val_loss: 0.4186 - val_accuracy: 0.8137 - lr: 1.0000e-04\n"
     ]
    },
    {
     "name": "stderr",
     "output_type": "stream",
     "text": [
      "[2022-05-13 14:34:33,192] INFO: Learning rate: 0.000100\n"
     ]
    },
    {
     "name": "stdout",
     "output_type": "stream",
     "text": [
      "Epoch 14/100\n",
      " 0/69 [..............................] - ETA: 0s - loss: 0.4208 - accuracy: 0.8141\n",
      "Epoch 14: val_accuracy improved from 0.81367 to 0.81393, saving model to model_checkpoints/particle_net_lite_model.014.h5\n",
      "69/69 [==============================] - 56s 811ms/sample - loss: 0.4208 - accuracy: 0.8141 - val_loss: 0.4178 - val_accuracy: 0.8139 - lr: 1.0000e-04\n"
     ]
    },
    {
     "name": "stderr",
     "output_type": "stream",
     "text": [
      "[2022-05-13 14:35:29,160] INFO: Learning rate: 0.000100\n"
     ]
    },
    {
     "name": "stdout",
     "output_type": "stream",
     "text": [
      "Epoch 15/100\n",
      " 0/69 [..............................] - ETA: 0s - loss: 0.4202 - accuracy: 0.8143\n",
      "Epoch 15: val_accuracy improved from 0.81393 to 0.81507, saving model to model_checkpoints/particle_net_lite_model.015.h5\n",
      "69/69 [==============================] - 56s 812ms/sample - loss: 0.4202 - accuracy: 0.8143 - val_loss: 0.4186 - val_accuracy: 0.8151 - lr: 1.0000e-04\n"
     ]
    },
    {
     "name": "stderr",
     "output_type": "stream",
     "text": [
      "[2022-05-13 14:36:25,207] INFO: Learning rate: 0.000100\n"
     ]
    },
    {
     "name": "stdout",
     "output_type": "stream",
     "text": [
      "Epoch 16/100\n",
      " 0/69 [..............................] - ETA: 0s - loss: 0.4198 - accuracy: 0.8148\n",
      "Epoch 16: val_accuracy improved from 0.81507 to 0.81540, saving model to model_checkpoints/particle_net_lite_model.016.h5\n",
      "69/69 [==============================] - 56s 811ms/sample - loss: 0.4198 - accuracy: 0.8148 - val_loss: 0.4183 - val_accuracy: 0.8154 - lr: 1.0000e-04\n"
     ]
    },
    {
     "name": "stderr",
     "output_type": "stream",
     "text": [
      "[2022-05-13 14:37:21,177] INFO: Learning rate: 0.000100\n"
     ]
    },
    {
     "name": "stdout",
     "output_type": "stream",
     "text": [
      "Epoch 17/100\n",
      " 0/69 [..............................] - ETA: 0s - loss: 0.4197 - accuracy: 0.8151\n",
      "Epoch 17: val_accuracy did not improve from 0.81540\n",
      "69/69 [==============================] - 56s 809ms/sample - loss: 0.4197 - accuracy: 0.8151 - val_loss: 0.4179 - val_accuracy: 0.8148 - lr: 1.0000e-04\n"
     ]
    },
    {
     "name": "stderr",
     "output_type": "stream",
     "text": [
      "[2022-05-13 14:38:17,022] INFO: Learning rate: 0.000100\n"
     ]
    },
    {
     "name": "stdout",
     "output_type": "stream",
     "text": [
      "Epoch 18/100\n",
      " 0/69 [..............................] - ETA: 0s - loss: 0.4199 - accuracy: 0.8150\n",
      "Epoch 18: val_accuracy did not improve from 0.81540\n",
      "69/69 [==============================] - 56s 810ms/sample - loss: 0.4199 - accuracy: 0.8150 - val_loss: 0.4175 - val_accuracy: 0.8148 - lr: 1.0000e-04\n"
     ]
    },
    {
     "name": "stderr",
     "output_type": "stream",
     "text": [
      "[2022-05-13 14:39:12,903] INFO: Learning rate: 0.000100\n"
     ]
    },
    {
     "name": "stdout",
     "output_type": "stream",
     "text": [
      "Epoch 19/100\n",
      " 0/69 [..............................] - ETA: 0s - loss: 0.4193 - accuracy: 0.8149\n",
      "Epoch 19: val_accuracy did not improve from 0.81540\n",
      "69/69 [==============================] - 56s 809ms/sample - loss: 0.4193 - accuracy: 0.8149 - val_loss: 0.4178 - val_accuracy: 0.8153 - lr: 1.0000e-04\n"
     ]
    },
    {
     "name": "stderr",
     "output_type": "stream",
     "text": [
      "[2022-05-13 14:40:08,737] INFO: Learning rate: 0.000100\n"
     ]
    },
    {
     "name": "stdout",
     "output_type": "stream",
     "text": [
      "Epoch 20/100\n",
      " 0/69 [..............................] - ETA: 0s - loss: 0.4189 - accuracy: 0.8151\n",
      "Epoch 20: val_accuracy did not improve from 0.81540\n",
      "69/69 [==============================] - 56s 810ms/sample - loss: 0.4189 - accuracy: 0.8151 - val_loss: 0.4179 - val_accuracy: 0.8137 - lr: 1.0000e-04\n"
     ]
    },
    {
     "name": "stderr",
     "output_type": "stream",
     "text": [
      "[2022-05-13 14:41:04,634] INFO: Learning rate: 0.000100\n"
     ]
    },
    {
     "name": "stdout",
     "output_type": "stream",
     "text": [
      "Epoch 21/100\n",
      " 0/69 [..............................] - ETA: 0s - loss: 0.4188 - accuracy: 0.8157\n",
      "Epoch 21: val_accuracy did not improve from 0.81540\n",
      "69/69 [==============================] - 56s 809ms/sample - loss: 0.4188 - accuracy: 0.8157 - val_loss: 0.4173 - val_accuracy: 0.8146 - lr: 1.0000e-04\n"
     ]
    },
    {
     "name": "stderr",
     "output_type": "stream",
     "text": [
      "[2022-05-13 14:42:00,454] INFO: Learning rate: 0.000100\n"
     ]
    },
    {
     "name": "stdout",
     "output_type": "stream",
     "text": [
      "Epoch 22/100\n",
      " 0/69 [..............................] - ETA: 0s - loss: 0.4186 - accuracy: 0.8150\n",
      "Epoch 22: val_accuracy did not improve from 0.81540\n",
      "69/69 [==============================] - 56s 809ms/sample - loss: 0.4186 - accuracy: 0.8150 - val_loss: 0.4179 - val_accuracy: 0.8140 - lr: 1.0000e-04\n"
     ]
    },
    {
     "name": "stderr",
     "output_type": "stream",
     "text": [
      "[2022-05-13 14:42:56,285] INFO: Learning rate: 0.000100\n"
     ]
    },
    {
     "name": "stdout",
     "output_type": "stream",
     "text": [
      "Epoch 23/100\n",
      " 0/69 [..............................] - ETA: 0s - loss: 0.4183 - accuracy: 0.8152\n",
      "Epoch 23: val_accuracy did not improve from 0.81540\n",
      "69/69 [==============================] - 56s 809ms/sample - loss: 0.4183 - accuracy: 0.8152 - val_loss: 0.4172 - val_accuracy: 0.8154 - lr: 1.0000e-04\n"
     ]
    },
    {
     "name": "stderr",
     "output_type": "stream",
     "text": [
      "[2022-05-13 14:43:52,103] INFO: Learning rate: 0.000100\n"
     ]
    },
    {
     "name": "stdout",
     "output_type": "stream",
     "text": [
      "Epoch 24/100\n",
      " 0/69 [..............................] - ETA: 0s - loss: 0.4186 - accuracy: 0.8148\n",
      "Epoch 24: val_accuracy did not improve from 0.81540\n",
      "69/69 [==============================] - 56s 810ms/sample - loss: 0.4186 - accuracy: 0.8148 - val_loss: 0.4172 - val_accuracy: 0.8151 - lr: 1.0000e-04\n"
     ]
    },
    {
     "name": "stderr",
     "output_type": "stream",
     "text": [
      "[2022-05-13 14:44:47,978] INFO: Learning rate: 0.000100\n"
     ]
    },
    {
     "name": "stdout",
     "output_type": "stream",
     "text": [
      "Epoch 25/100\n",
      " 0/69 [..............................] - ETA: 0s - loss: 0.4187 - accuracy: 0.8158\n",
      "Epoch 25: val_accuracy did not improve from 0.81540\n",
      "69/69 [==============================] - 56s 809ms/sample - loss: 0.4187 - accuracy: 0.8158 - val_loss: 0.4175 - val_accuracy: 0.8145 - lr: 1.0000e-04\n"
     ]
    },
    {
     "name": "stderr",
     "output_type": "stream",
     "text": [
      "[2022-05-13 14:45:43,783] INFO: Learning rate: 0.000100\n"
     ]
    },
    {
     "name": "stdout",
     "output_type": "stream",
     "text": [
      "Epoch 26/100\n",
      " 0/69 [..............................] - ETA: 0s - loss: 0.4183 - accuracy: 0.8160\n",
      "Epoch 26: val_accuracy improved from 0.81540 to 0.81587, saving model to model_checkpoints/particle_net_lite_model.026.h5\n",
      "69/69 [==============================] - 56s 812ms/sample - loss: 0.4183 - accuracy: 0.8160 - val_loss: 0.4172 - val_accuracy: 0.8159 - lr: 1.0000e-04\n"
     ]
    },
    {
     "name": "stderr",
     "output_type": "stream",
     "text": [
      "[2022-05-13 14:46:39,817] INFO: Learning rate: 0.000100\n"
     ]
    },
    {
     "name": "stdout",
     "output_type": "stream",
     "text": [
      "Epoch 27/100\n",
      " 0/69 [..............................] - ETA: 0s - loss: 0.4179 - accuracy: 0.8158\n",
      "Epoch 27: val_accuracy improved from 0.81587 to 0.81640, saving model to model_checkpoints/particle_net_lite_model.027.h5\n",
      "69/69 [==============================] - 56s 812ms/sample - loss: 0.4179 - accuracy: 0.8158 - val_loss: 0.4162 - val_accuracy: 0.8164 - lr: 1.0000e-04\n"
     ]
    },
    {
     "name": "stderr",
     "output_type": "stream",
     "text": [
      "[2022-05-13 14:47:35,863] INFO: Learning rate: 0.000100\n"
     ]
    },
    {
     "name": "stdout",
     "output_type": "stream",
     "text": [
      "Epoch 28/100\n",
      " 0/69 [..............................] - ETA: 0s - loss: 0.4177 - accuracy: 0.8152\n",
      "Epoch 28: val_accuracy did not improve from 0.81640\n",
      "69/69 [==============================] - 56s 809ms/sample - loss: 0.4177 - accuracy: 0.8152 - val_loss: 0.4172 - val_accuracy: 0.8151 - lr: 1.0000e-04\n"
     ]
    },
    {
     "name": "stderr",
     "output_type": "stream",
     "text": [
      "[2022-05-13 14:48:31,701] INFO: Learning rate: 0.000100\n"
     ]
    },
    {
     "name": "stdout",
     "output_type": "stream",
     "text": [
      "Epoch 29/100\n",
      " 0/69 [..............................] - ETA: 0s - loss: 0.4173 - accuracy: 0.8159\n",
      "Epoch 29: val_accuracy did not improve from 0.81640\n",
      "69/69 [==============================] - 56s 808ms/sample - loss: 0.4173 - accuracy: 0.8159 - val_loss: 0.4168 - val_accuracy: 0.8162 - lr: 1.0000e-04\n"
     ]
    },
    {
     "name": "stderr",
     "output_type": "stream",
     "text": [
      "[2022-05-13 14:49:27,495] INFO: Learning rate: 0.000100\n"
     ]
    },
    {
     "name": "stdout",
     "output_type": "stream",
     "text": [
      "Epoch 30/100\n",
      " 0/69 [..............................] - ETA: 0s - loss: 0.4172 - accuracy: 0.8156\n",
      "Epoch 30: val_accuracy did not improve from 0.81640\n",
      "69/69 [==============================] - 56s 810ms/sample - loss: 0.4172 - accuracy: 0.8156 - val_loss: 0.4165 - val_accuracy: 0.8151 - lr: 1.0000e-04\n"
     ]
    },
    {
     "name": "stderr",
     "output_type": "stream",
     "text": [
      "[2022-05-13 14:50:23,367] INFO: Learning rate: 0.000100\n"
     ]
    },
    {
     "name": "stdout",
     "output_type": "stream",
     "text": [
      "Epoch 31/100\n",
      " 0/69 [..............................] - ETA: 0s - loss: 0.4173 - accuracy: 0.8163\n",
      "Epoch 31: val_accuracy did not improve from 0.81640\n",
      "69/69 [==============================] - 56s 809ms/sample - loss: 0.4173 - accuracy: 0.8163 - val_loss: 0.4166 - val_accuracy: 0.8147 - lr: 1.0000e-04\n"
     ]
    },
    {
     "name": "stderr",
     "output_type": "stream",
     "text": [
      "[2022-05-13 14:51:19,224] INFO: Learning rate: 0.000100\n"
     ]
    },
    {
     "name": "stdout",
     "output_type": "stream",
     "text": [
      "Epoch 32/100\n",
      " 0/69 [..............................] - ETA: 0s - loss: 0.4174 - accuracy: 0.8166\n",
      "Epoch 32: val_accuracy did not improve from 0.81640\n",
      "69/69 [==============================] - 56s 810ms/sample - loss: 0.4174 - accuracy: 0.8166 - val_loss: 0.4166 - val_accuracy: 0.8159 - lr: 1.0000e-04\n"
     ]
    },
    {
     "name": "stderr",
     "output_type": "stream",
     "text": [
      "[2022-05-13 14:52:15,101] INFO: Learning rate: 0.000100\n"
     ]
    },
    {
     "name": "stdout",
     "output_type": "stream",
     "text": [
      "Epoch 33/100\n",
      " 0/69 [..............................] - ETA: 0s - loss: 0.4171 - accuracy: 0.8158\n",
      "Epoch 33: val_accuracy did not improve from 0.81640\n",
      "69/69 [==============================] - 56s 810ms/sample - loss: 0.4171 - accuracy: 0.8158 - val_loss: 0.4162 - val_accuracy: 0.8151 - lr: 1.0000e-04\n"
     ]
    },
    {
     "name": "stderr",
     "output_type": "stream",
     "text": [
      "[2022-05-13 14:53:11,012] INFO: Learning rate: 0.000100\n"
     ]
    },
    {
     "name": "stdout",
     "output_type": "stream",
     "text": [
      "Epoch 34/100\n",
      " 0/69 [..............................] - ETA: 0s - loss: 0.4167 - accuracy: 0.8164\n",
      "Epoch 34: val_accuracy did not improve from 0.81640\n",
      "69/69 [==============================] - 56s 810ms/sample - loss: 0.4167 - accuracy: 0.8164 - val_loss: 0.4173 - val_accuracy: 0.8158 - lr: 1.0000e-04\n"
     ]
    },
    {
     "name": "stderr",
     "output_type": "stream",
     "text": [
      "[2022-05-13 14:54:06,887] INFO: Learning rate: 0.000100\n"
     ]
    },
    {
     "name": "stdout",
     "output_type": "stream",
     "text": [
      "Epoch 35/100\n",
      " 0/69 [..............................] - ETA: 0s - loss: 0.4165 - accuracy: 0.8158\n",
      "Epoch 35: val_accuracy did not improve from 0.81640\n",
      "69/69 [==============================] - 56s 808ms/sample - loss: 0.4165 - accuracy: 0.8158 - val_loss: 0.4165 - val_accuracy: 0.8157 - lr: 1.0000e-04\n"
     ]
    },
    {
     "name": "stderr",
     "output_type": "stream",
     "text": [
      "[2022-05-13 14:55:02,633] INFO: Learning rate: 0.000100\n"
     ]
    },
    {
     "name": "stdout",
     "output_type": "stream",
     "text": [
      "Epoch 36/100\n",
      " 0/69 [..............................] - ETA: 0s - loss: 0.4165 - accuracy: 0.8168\n",
      "Epoch 36: val_accuracy did not improve from 0.81640\n",
      "69/69 [==============================] - 56s 806ms/sample - loss: 0.4165 - accuracy: 0.8168 - val_loss: 0.4167 - val_accuracy: 0.8151 - lr: 1.0000e-04\n"
     ]
    },
    {
     "name": "stderr",
     "output_type": "stream",
     "text": [
      "[2022-05-13 14:55:58,241] INFO: Learning rate: 0.000100\n"
     ]
    },
    {
     "name": "stdout",
     "output_type": "stream",
     "text": [
      "Epoch 37/100\n",
      " 0/69 [..............................] - ETA: 0s - loss: 0.4163 - accuracy: 0.8170\n",
      "Epoch 37: val_accuracy did not improve from 0.81640\n",
      "69/69 [==============================] - 56s 807ms/sample - loss: 0.4163 - accuracy: 0.8170 - val_loss: 0.4166 - val_accuracy: 0.8158 - lr: 1.0000e-04\n"
     ]
    },
    {
     "name": "stderr",
     "output_type": "stream",
     "text": [
      "[2022-05-13 14:56:53,906] INFO: Learning rate: 0.000100\n"
     ]
    },
    {
     "name": "stdout",
     "output_type": "stream",
     "text": [
      "Epoch 38/100\n",
      " 0/69 [..............................] - ETA: 0s - loss: 0.4161 - accuracy: 0.8170\n",
      "Epoch 38: val_accuracy did not improve from 0.81640\n",
      "69/69 [==============================] - 56s 807ms/sample - loss: 0.4161 - accuracy: 0.8170 - val_loss: 0.4183 - val_accuracy: 0.8149 - lr: 1.0000e-04\n"
     ]
    },
    {
     "name": "stderr",
     "output_type": "stream",
     "text": [
      "[2022-05-13 14:57:49,608] INFO: Learning rate: 0.000100\n"
     ]
    },
    {
     "name": "stdout",
     "output_type": "stream",
     "text": [
      "Epoch 39/100\n",
      " 0/69 [..............................] - ETA: 0s - loss: 0.4161 - accuracy: 0.8168\n",
      "Epoch 39: val_accuracy did not improve from 0.81640\n",
      "69/69 [==============================] - 56s 805ms/sample - loss: 0.4161 - accuracy: 0.8168 - val_loss: 0.4161 - val_accuracy: 0.8158 - lr: 1.0000e-04\n"
     ]
    },
    {
     "name": "stderr",
     "output_type": "stream",
     "text": [
      "[2022-05-13 14:58:45,203] INFO: Learning rate: 0.000100\n"
     ]
    },
    {
     "name": "stdout",
     "output_type": "stream",
     "text": [
      "Epoch 40/100\n",
      " 0/69 [..............................] - ETA: 0s - loss: 0.4156 - accuracy: 0.8167\n",
      "Epoch 40: val_accuracy did not improve from 0.81640\n",
      "69/69 [==============================] - 56s 805ms/sample - loss: 0.4156 - accuracy: 0.8167 - val_loss: 0.4163 - val_accuracy: 0.8158 - lr: 1.0000e-04\n"
     ]
    },
    {
     "name": "stderr",
     "output_type": "stream",
     "text": [
      "[2022-05-13 14:59:40,789] INFO: Learning rate: 0.000100\n"
     ]
    },
    {
     "name": "stdout",
     "output_type": "stream",
     "text": [
      "Epoch 41/100\n",
      " 0/69 [..............................] - ETA: 0s - loss: 0.4155 - accuracy: 0.8165\n",
      "Epoch 41: val_accuracy improved from 0.81640 to 0.81660, saving model to model_checkpoints/particle_net_lite_model.041.h5\n",
      "69/69 [==============================] - 56s 808ms/sample - loss: 0.4155 - accuracy: 0.8165 - val_loss: 0.4160 - val_accuracy: 0.8166 - lr: 1.0000e-04\n"
     ]
    },
    {
     "name": "stderr",
     "output_type": "stream",
     "text": [
      "[2022-05-13 15:00:36,543] INFO: Learning rate: 0.000100\n"
     ]
    },
    {
     "name": "stdout",
     "output_type": "stream",
     "text": [
      "Epoch 42/100\n",
      " 0/69 [..............................] - ETA: 0s - loss: 0.4157 - accuracy: 0.8167\n",
      "Epoch 42: val_accuracy improved from 0.81660 to 0.81667, saving model to model_checkpoints/particle_net_lite_model.042.h5\n",
      "69/69 [==============================] - 56s 808ms/sample - loss: 0.4157 - accuracy: 0.8167 - val_loss: 0.4169 - val_accuracy: 0.8167 - lr: 1.0000e-04\n"
     ]
    },
    {
     "name": "stderr",
     "output_type": "stream",
     "text": [
      "[2022-05-13 15:01:32,327] INFO: Learning rate: 0.000100\n"
     ]
    },
    {
     "name": "stdout",
     "output_type": "stream",
     "text": [
      "Epoch 43/100\n",
      " 0/69 [..............................] - ETA: 0s - loss: 0.4150 - accuracy: 0.8170\n",
      "Epoch 43: val_accuracy did not improve from 0.81667\n",
      "69/69 [==============================] - 56s 805ms/sample - loss: 0.4150 - accuracy: 0.8170 - val_loss: 0.4173 - val_accuracy: 0.8163 - lr: 1.0000e-04\n"
     ]
    },
    {
     "name": "stderr",
     "output_type": "stream",
     "text": [
      "[2022-05-13 15:02:27,908] INFO: Learning rate: 0.000100\n"
     ]
    },
    {
     "name": "stdout",
     "output_type": "stream",
     "text": [
      "Epoch 44/100\n",
      " 0/69 [..............................] - ETA: 0s - loss: 0.4148 - accuracy: 0.8174\n",
      "Epoch 44: val_accuracy did not improve from 0.81667\n",
      "69/69 [==============================] - 56s 806ms/sample - loss: 0.4148 - accuracy: 0.8174 - val_loss: 0.4159 - val_accuracy: 0.8157 - lr: 1.0000e-04\n"
     ]
    },
    {
     "name": "stderr",
     "output_type": "stream",
     "text": [
      "[2022-05-13 15:03:23,553] INFO: Learning rate: 0.000100\n"
     ]
    },
    {
     "name": "stdout",
     "output_type": "stream",
     "text": [
      "Epoch 45/100\n",
      " 0/69 [..............................] - ETA: 0s - loss: 0.4151 - accuracy: 0.8175\n",
      "Epoch 45: val_accuracy did not improve from 0.81667\n",
      "69/69 [==============================] - 56s 805ms/sample - loss: 0.4151 - accuracy: 0.8175 - val_loss: 0.4155 - val_accuracy: 0.8165 - lr: 1.0000e-04\n"
     ]
    },
    {
     "name": "stderr",
     "output_type": "stream",
     "text": [
      "[2022-05-13 15:04:19,137] INFO: Learning rate: 0.000100\n"
     ]
    },
    {
     "name": "stdout",
     "output_type": "stream",
     "text": [
      "Epoch 46/100\n",
      " 0/69 [..............................] - ETA: 0s - loss: 0.4146 - accuracy: 0.8168\n",
      "Epoch 46: val_accuracy did not improve from 0.81667\n",
      "69/69 [==============================] - 56s 807ms/sample - loss: 0.4146 - accuracy: 0.8168 - val_loss: 0.4181 - val_accuracy: 0.8135 - lr: 1.0000e-04\n"
     ]
    },
    {
     "name": "stderr",
     "output_type": "stream",
     "text": [
      "[2022-05-13 15:05:14,833] INFO: Learning rate: 0.000100\n"
     ]
    },
    {
     "name": "stdout",
     "output_type": "stream",
     "text": [
      "Epoch 47/100\n",
      " 0/69 [..............................] - ETA: 0s - loss: 0.4148 - accuracy: 0.8179\n",
      "Epoch 47: val_accuracy did not improve from 0.81667\n",
      "69/69 [==============================] - 56s 807ms/sample - loss: 0.4148 - accuracy: 0.8179 - val_loss: 0.4167 - val_accuracy: 0.8159 - lr: 1.0000e-04\n"
     ]
    },
    {
     "name": "stderr",
     "output_type": "stream",
     "text": [
      "[2022-05-13 15:06:10,534] INFO: Learning rate: 0.000100\n"
     ]
    },
    {
     "name": "stdout",
     "output_type": "stream",
     "text": [
      "Epoch 48/100\n",
      " 0/69 [..............................] - ETA: 0s - loss: 0.4146 - accuracy: 0.8174\n",
      "Epoch 48: val_accuracy did not improve from 0.81667\n",
      "69/69 [==============================] - 56s 805ms/sample - loss: 0.4146 - accuracy: 0.8174 - val_loss: 0.4179 - val_accuracy: 0.8159 - lr: 1.0000e-04\n"
     ]
    },
    {
     "name": "stderr",
     "output_type": "stream",
     "text": [
      "[2022-05-13 15:07:06,123] INFO: Learning rate: 0.000100\n"
     ]
    },
    {
     "name": "stdout",
     "output_type": "stream",
     "text": [
      "Epoch 49/100\n",
      " 0/69 [..............................] - ETA: 0s - loss: 0.4151 - accuracy: 0.8168\n",
      "Epoch 49: val_accuracy did not improve from 0.81667\n",
      "69/69 [==============================] - 56s 805ms/sample - loss: 0.4151 - accuracy: 0.8168 - val_loss: 0.4173 - val_accuracy: 0.8155 - lr: 1.0000e-04\n"
     ]
    },
    {
     "name": "stderr",
     "output_type": "stream",
     "text": [
      "[2022-05-13 15:08:01,708] INFO: Learning rate: 0.000100\n"
     ]
    },
    {
     "name": "stdout",
     "output_type": "stream",
     "text": [
      "Epoch 50/100\n",
      " 0/69 [..............................] - ETA: 0s - loss: 0.4145 - accuracy: 0.8177\n",
      "Epoch 50: val_accuracy did not improve from 0.81667\n",
      "69/69 [==============================] - 56s 806ms/sample - loss: 0.4145 - accuracy: 0.8177 - val_loss: 0.4158 - val_accuracy: 0.8161 - lr: 1.0000e-04\n"
     ]
    },
    {
     "name": "stderr",
     "output_type": "stream",
     "text": [
      "[2022-05-13 15:08:57,348] INFO: Learning rate: 0.000100\n"
     ]
    },
    {
     "name": "stdout",
     "output_type": "stream",
     "text": [
      "Epoch 51/100\n",
      " 0/69 [..............................] - ETA: 0s - loss: 0.4148 - accuracy: 0.8171\n",
      "Epoch 51: val_accuracy did not improve from 0.81667\n",
      "69/69 [==============================] - 56s 807ms/sample - loss: 0.4148 - accuracy: 0.8171 - val_loss: 0.4151 - val_accuracy: 0.8161 - lr: 1.0000e-04\n"
     ]
    },
    {
     "name": "stderr",
     "output_type": "stream",
     "text": [
      "[2022-05-13 15:09:53,031] INFO: Learning rate: 0.000100\n"
     ]
    },
    {
     "name": "stdout",
     "output_type": "stream",
     "text": [
      "Epoch 52/100\n",
      " 0/69 [..............................] - ETA: 0s - loss: 0.4144 - accuracy: 0.8180\n",
      "Epoch 52: val_accuracy did not improve from 0.81667\n",
      "69/69 [==============================] - 56s 808ms/sample - loss: 0.4144 - accuracy: 0.8180 - val_loss: 0.4155 - val_accuracy: 0.8153 - lr: 1.0000e-04\n"
     ]
    },
    {
     "name": "stderr",
     "output_type": "stream",
     "text": [
      "[2022-05-13 15:10:48,787] INFO: Learning rate: 0.000100\n"
     ]
    },
    {
     "name": "stdout",
     "output_type": "stream",
     "text": [
      "Epoch 53/100\n",
      " 0/69 [..............................] - ETA: 0s - loss: 0.4145 - accuracy: 0.8172\n",
      "Epoch 53: val_accuracy improved from 0.81667 to 0.81673, saving model to model_checkpoints/particle_net_lite_model.053.h5\n",
      "69/69 [==============================] - 56s 810ms/sample - loss: 0.4145 - accuracy: 0.8172 - val_loss: 0.4157 - val_accuracy: 0.8167 - lr: 1.0000e-04\n"
     ]
    },
    {
     "name": "stderr",
     "output_type": "stream",
     "text": [
      "[2022-05-13 15:11:44,665] INFO: Learning rate: 0.000100\n"
     ]
    },
    {
     "name": "stdout",
     "output_type": "stream",
     "text": [
      "Epoch 54/100\n",
      " 0/69 [..............................] - ETA: 0s - loss: 0.4140 - accuracy: 0.8172\n",
      "Epoch 54: val_accuracy improved from 0.81673 to 0.81773, saving model to model_checkpoints/particle_net_lite_model.054.h5\n",
      "69/69 [==============================] - 56s 807ms/sample - loss: 0.4140 - accuracy: 0.8172 - val_loss: 0.4165 - val_accuracy: 0.8177 - lr: 1.0000e-04\n"
     ]
    },
    {
     "name": "stderr",
     "output_type": "stream",
     "text": [
      "[2022-05-13 15:12:40,386] INFO: Learning rate: 0.000100\n"
     ]
    },
    {
     "name": "stdout",
     "output_type": "stream",
     "text": [
      "Epoch 55/100\n",
      " 0/69 [..............................] - ETA: 0s - loss: 0.4143 - accuracy: 0.8177\n",
      "Epoch 55: val_accuracy did not improve from 0.81773\n",
      "69/69 [==============================] - 56s 806ms/sample - loss: 0.4143 - accuracy: 0.8177 - val_loss: 0.4154 - val_accuracy: 0.8166 - lr: 1.0000e-04\n"
     ]
    },
    {
     "name": "stderr",
     "output_type": "stream",
     "text": [
      "[2022-05-13 15:13:36,012] INFO: Learning rate: 0.000100\n"
     ]
    },
    {
     "name": "stdout",
     "output_type": "stream",
     "text": [
      "Epoch 56/100\n",
      " 0/69 [..............................] - ETA: 0s - loss: 0.4137 - accuracy: 0.8178\n",
      "Epoch 56: val_accuracy did not improve from 0.81773\n",
      "69/69 [==============================] - 56s 808ms/sample - loss: 0.4137 - accuracy: 0.8178 - val_loss: 0.4158 - val_accuracy: 0.8166 - lr: 1.0000e-04\n"
     ]
    },
    {
     "name": "stderr",
     "output_type": "stream",
     "text": [
      "[2022-05-13 15:14:31,778] INFO: Learning rate: 0.000100\n"
     ]
    },
    {
     "name": "stdout",
     "output_type": "stream",
     "text": [
      "Epoch 57/100\n",
      " 0/69 [..............................] - ETA: 0s - loss: 0.4143 - accuracy: 0.8175\n",
      "Epoch 57: val_accuracy did not improve from 0.81773\n",
      "69/69 [==============================] - 56s 808ms/sample - loss: 0.4143 - accuracy: 0.8175 - val_loss: 0.4161 - val_accuracy: 0.8169 - lr: 1.0000e-04\n"
     ]
    },
    {
     "name": "stderr",
     "output_type": "stream",
     "text": [
      "[2022-05-13 15:15:27,551] INFO: Learning rate: 0.000100\n"
     ]
    },
    {
     "name": "stdout",
     "output_type": "stream",
     "text": [
      "Epoch 58/100\n",
      " 0/69 [..............................] - ETA: 0s - loss: 0.4137 - accuracy: 0.8173\n",
      "Epoch 58: val_accuracy did not improve from 0.81773\n",
      "69/69 [==============================] - 56s 807ms/sample - loss: 0.4137 - accuracy: 0.8173 - val_loss: 0.4151 - val_accuracy: 0.8164 - lr: 1.0000e-04\n"
     ]
    },
    {
     "name": "stderr",
     "output_type": "stream",
     "text": [
      "[2022-05-13 15:16:23,273] INFO: Learning rate: 0.000100\n"
     ]
    },
    {
     "name": "stdout",
     "output_type": "stream",
     "text": [
      "Epoch 59/100\n",
      " 0/69 [..............................] - ETA: 0s - loss: 0.4132 - accuracy: 0.8177\n",
      "Epoch 59: val_accuracy did not improve from 0.81773\n",
      "69/69 [==============================] - 56s 807ms/sample - loss: 0.4132 - accuracy: 0.8177 - val_loss: 0.4156 - val_accuracy: 0.8157 - lr: 1.0000e-04\n"
     ]
    },
    {
     "name": "stderr",
     "output_type": "stream",
     "text": [
      "[2022-05-13 15:17:18,938] INFO: Learning rate: 0.000100\n"
     ]
    },
    {
     "name": "stdout",
     "output_type": "stream",
     "text": [
      "Epoch 60/100\n",
      " 0/69 [..............................] - ETA: 0s - loss: 0.4130 - accuracy: 0.8176\n",
      "Epoch 60: val_accuracy did not improve from 0.81773\n",
      "69/69 [==============================] - 56s 807ms/sample - loss: 0.4130 - accuracy: 0.8176 - val_loss: 0.4152 - val_accuracy: 0.8160 - lr: 1.0000e-04\n"
     ]
    },
    {
     "name": "stderr",
     "output_type": "stream",
     "text": [
      "[2022-05-13 15:18:14,669] INFO: Learning rate: 0.000100\n"
     ]
    },
    {
     "name": "stdout",
     "output_type": "stream",
     "text": [
      "Epoch 61/100\n",
      " 0/69 [..............................] - ETA: 0s - loss: 0.4133 - accuracy: 0.8169\n",
      "Epoch 61: val_accuracy did not improve from 0.81773\n",
      "69/69 [==============================] - 56s 806ms/sample - loss: 0.4133 - accuracy: 0.8169 - val_loss: 0.4153 - val_accuracy: 0.8163 - lr: 1.0000e-04\n"
     ]
    },
    {
     "name": "stderr",
     "output_type": "stream",
     "text": [
      "[2022-05-13 15:19:10,326] INFO: Learning rate: 0.000100\n"
     ]
    },
    {
     "name": "stdout",
     "output_type": "stream",
     "text": [
      "Epoch 62/100\n",
      " 0/69 [..............................] - ETA: 0s - loss: 0.4127 - accuracy: 0.8176\n",
      "Epoch 62: val_accuracy did not improve from 0.81773\n",
      "69/69 [==============================] - 56s 807ms/sample - loss: 0.4127 - accuracy: 0.8176 - val_loss: 0.4154 - val_accuracy: 0.8161 - lr: 1.0000e-04\n"
     ]
    },
    {
     "name": "stderr",
     "output_type": "stream",
     "text": [
      "[2022-05-13 15:20:06,042] INFO: Learning rate: 0.000100\n"
     ]
    },
    {
     "name": "stdout",
     "output_type": "stream",
     "text": [
      "Epoch 63/100\n",
      " 0/69 [..............................] - ETA: 0s - loss: 0.4127 - accuracy: 0.8180\n",
      "Epoch 63: val_accuracy did not improve from 0.81773\n",
      "69/69 [==============================] - 56s 808ms/sample - loss: 0.4127 - accuracy: 0.8180 - val_loss: 0.4185 - val_accuracy: 0.8145 - lr: 1.0000e-04\n"
     ]
    },
    {
     "name": "stderr",
     "output_type": "stream",
     "text": [
      "[2022-05-13 15:21:01,807] INFO: Learning rate: 0.000100\n"
     ]
    },
    {
     "name": "stdout",
     "output_type": "stream",
     "text": [
      "Epoch 64/100\n",
      " 0/69 [..............................] - ETA: 0s - loss: 0.4125 - accuracy: 0.8181\n",
      "Epoch 64: val_accuracy did not improve from 0.81773\n",
      "69/69 [==============================] - 56s 808ms/sample - loss: 0.4125 - accuracy: 0.8181 - val_loss: 0.4153 - val_accuracy: 0.8161 - lr: 1.0000e-04\n"
     ]
    },
    {
     "name": "stderr",
     "output_type": "stream",
     "text": [
      "[2022-05-13 15:21:57,603] INFO: Learning rate: 0.000100\n"
     ]
    },
    {
     "name": "stdout",
     "output_type": "stream",
     "text": [
      "Epoch 65/100\n",
      " 0/69 [..............................] - ETA: 0s - loss: 0.4126 - accuracy: 0.8181\n",
      "Epoch 65: val_accuracy did not improve from 0.81773\n",
      "69/69 [==============================] - 56s 813ms/sample - loss: 0.4126 - accuracy: 0.8181 - val_loss: 0.4170 - val_accuracy: 0.8165 - lr: 1.0000e-04\n"
     ]
    },
    {
     "name": "stderr",
     "output_type": "stream",
     "text": [
      "[2022-05-13 15:22:53,679] INFO: Learning rate: 0.000100\n"
     ]
    },
    {
     "name": "stdout",
     "output_type": "stream",
     "text": [
      "Epoch 66/100\n",
      " 0/69 [..............................] - ETA: 0s - loss: 0.4126 - accuracy: 0.8182\n",
      "Epoch 66: val_accuracy did not improve from 0.81773\n",
      "69/69 [==============================] - 56s 811ms/sample - loss: 0.4126 - accuracy: 0.8182 - val_loss: 0.4165 - val_accuracy: 0.8162 - lr: 1.0000e-04\n"
     ]
    },
    {
     "name": "stderr",
     "output_type": "stream",
     "text": [
      "[2022-05-13 15:23:49,665] INFO: Learning rate: 0.000100\n"
     ]
    },
    {
     "name": "stdout",
     "output_type": "stream",
     "text": [
      "Epoch 67/100\n",
      " 0/69 [..............................] - ETA: 0s - loss: 0.4126 - accuracy: 0.8179\n",
      "Epoch 67: val_accuracy did not improve from 0.81773\n",
      "69/69 [==============================] - 56s 809ms/sample - loss: 0.4126 - accuracy: 0.8179 - val_loss: 0.4185 - val_accuracy: 0.8123 - lr: 1.0000e-04\n"
     ]
    },
    {
     "name": "stderr",
     "output_type": "stream",
     "text": [
      "[2022-05-13 15:24:45,483] INFO: Learning rate: 0.000100\n"
     ]
    },
    {
     "name": "stdout",
     "output_type": "stream",
     "text": [
      "Epoch 68/100\n",
      " 0/69 [..............................] - ETA: 0s - loss: 0.4121 - accuracy: 0.8180\n",
      "Epoch 68: val_accuracy did not improve from 0.81773\n",
      "69/69 [==============================] - 56s 809ms/sample - loss: 0.4121 - accuracy: 0.8180 - val_loss: 0.4147 - val_accuracy: 0.8161 - lr: 1.0000e-04\n"
     ]
    },
    {
     "name": "stderr",
     "output_type": "stream",
     "text": [
      "[2022-05-13 15:25:41,294] INFO: Learning rate: 0.000100\n"
     ]
    },
    {
     "name": "stdout",
     "output_type": "stream",
     "text": [
      "Epoch 69/100\n",
      " 0/69 [..............................] - ETA: 0s - loss: 0.4122 - accuracy: 0.8183\n",
      "Epoch 69: val_accuracy did not improve from 0.81773\n",
      "69/69 [==============================] - 56s 809ms/sample - loss: 0.4122 - accuracy: 0.8183 - val_loss: 0.4173 - val_accuracy: 0.8176 - lr: 1.0000e-04\n"
     ]
    },
    {
     "name": "stderr",
     "output_type": "stream",
     "text": [
      "[2022-05-13 15:26:37,153] INFO: Learning rate: 0.000100\n"
     ]
    },
    {
     "name": "stdout",
     "output_type": "stream",
     "text": [
      "Epoch 70/100\n",
      " 0/69 [..............................] - ETA: 0s - loss: 0.4122 - accuracy: 0.8178\n",
      "Epoch 70: val_accuracy did not improve from 0.81773\n",
      "69/69 [==============================] - 56s 809ms/sample - loss: 0.4122 - accuracy: 0.8178 - val_loss: 0.4154 - val_accuracy: 0.8158 - lr: 1.0000e-04\n"
     ]
    },
    {
     "name": "stderr",
     "output_type": "stream",
     "text": [
      "[2022-05-13 15:27:32,981] INFO: Learning rate: 0.000100\n"
     ]
    },
    {
     "name": "stdout",
     "output_type": "stream",
     "text": [
      "Epoch 71/100\n",
      " 0/69 [..............................] - ETA: 0s - loss: 0.4118 - accuracy: 0.8187\n",
      "Epoch 71: val_accuracy did not improve from 0.81773\n",
      "69/69 [==============================] - 56s 809ms/sample - loss: 0.4118 - accuracy: 0.8187 - val_loss: 0.4154 - val_accuracy: 0.8171 - lr: 1.0000e-04\n"
     ]
    },
    {
     "name": "stderr",
     "output_type": "stream",
     "text": [
      "[2022-05-13 15:28:28,801] INFO: Learning rate: 0.000100\n"
     ]
    },
    {
     "name": "stdout",
     "output_type": "stream",
     "text": [
      "Epoch 72/100\n",
      " 0/69 [..............................] - ETA: 0s - loss: 0.4115 - accuracy: 0.8185\n",
      "Epoch 72: val_accuracy did not improve from 0.81773\n",
      "69/69 [==============================] - 56s 810ms/sample - loss: 0.4115 - accuracy: 0.8185 - val_loss: 0.4151 - val_accuracy: 0.8167 - lr: 1.0000e-04\n"
     ]
    },
    {
     "name": "stderr",
     "output_type": "stream",
     "text": [
      "[2022-05-13 15:29:24,691] INFO: Learning rate: 0.000100\n"
     ]
    },
    {
     "name": "stdout",
     "output_type": "stream",
     "text": [
      "Epoch 73/100\n",
      " 0/69 [..............................] - ETA: 0s - loss: 0.4116 - accuracy: 0.8180\n",
      "Epoch 73: val_accuracy did not improve from 0.81773\n",
      "69/69 [==============================] - 56s 809ms/sample - loss: 0.4116 - accuracy: 0.8180 - val_loss: 0.4149 - val_accuracy: 0.8155 - lr: 1.0000e-04\n"
     ]
    },
    {
     "name": "stderr",
     "output_type": "stream",
     "text": [
      "[2022-05-13 15:30:20,538] INFO: Learning rate: 0.000100\n"
     ]
    },
    {
     "name": "stdout",
     "output_type": "stream",
     "text": [
      "Epoch 74/100\n",
      " 0/69 [..............................] - ETA: 0s - loss: 0.4119 - accuracy: 0.8191\n",
      "Epoch 74: val_accuracy did not improve from 0.81773\n",
      "69/69 [==============================] - 56s 809ms/sample - loss: 0.4119 - accuracy: 0.8191 - val_loss: 0.4148 - val_accuracy: 0.8163 - lr: 1.0000e-04\n"
     ]
    },
    {
     "name": "stderr",
     "output_type": "stream",
     "text": [
      "[2022-05-13 15:31:16,370] INFO: Learning rate: 0.000100\n"
     ]
    },
    {
     "name": "stdout",
     "output_type": "stream",
     "text": [
      "Epoch 75/100\n",
      " 0/69 [..............................] - ETA: 0s - loss: 0.4120 - accuracy: 0.8187\n",
      "Epoch 75: val_accuracy did not improve from 0.81773\n",
      "69/69 [==============================] - 56s 809ms/sample - loss: 0.4120 - accuracy: 0.8187 - val_loss: 0.4208 - val_accuracy: 0.8139 - lr: 1.0000e-04\n"
     ]
    },
    {
     "name": "stderr",
     "output_type": "stream",
     "text": [
      "[2022-05-13 15:32:12,214] INFO: Learning rate: 0.000100\n"
     ]
    },
    {
     "name": "stdout",
     "output_type": "stream",
     "text": [
      "Epoch 76/100\n",
      " 0/69 [..............................] - ETA: 0s - loss: 0.4118 - accuracy: 0.8182\n",
      "Epoch 76: val_accuracy did not improve from 0.81773\n",
      "69/69 [==============================] - 56s 810ms/sample - loss: 0.4118 - accuracy: 0.8182 - val_loss: 0.4145 - val_accuracy: 0.8164 - lr: 1.0000e-04\n"
     ]
    },
    {
     "name": "stderr",
     "output_type": "stream",
     "text": [
      "[2022-05-13 15:33:08,083] INFO: Learning rate: 0.000100\n"
     ]
    },
    {
     "name": "stdout",
     "output_type": "stream",
     "text": [
      "Epoch 77/100\n",
      " 0/69 [..............................] - ETA: 0s - loss: 0.4107 - accuracy: 0.8187\n",
      "Epoch 77: val_accuracy did not improve from 0.81773\n",
      "69/69 [==============================] - 56s 810ms/sample - loss: 0.4107 - accuracy: 0.8187 - val_loss: 0.4149 - val_accuracy: 0.8167 - lr: 1.0000e-04\n"
     ]
    },
    {
     "name": "stderr",
     "output_type": "stream",
     "text": [
      "[2022-05-13 15:34:03,974] INFO: Learning rate: 0.000100\n"
     ]
    },
    {
     "name": "stdout",
     "output_type": "stream",
     "text": [
      "Epoch 78/100\n",
      " 0/69 [..............................] - ETA: 0s - loss: 0.4108 - accuracy: 0.8187\n",
      "Epoch 78: val_accuracy did not improve from 0.81773\n",
      "69/69 [==============================] - 56s 809ms/sample - loss: 0.4108 - accuracy: 0.8187 - val_loss: 0.4154 - val_accuracy: 0.8173 - lr: 1.0000e-04\n"
     ]
    },
    {
     "name": "stderr",
     "output_type": "stream",
     "text": [
      "[2022-05-13 15:34:59,827] INFO: Learning rate: 0.000100\n"
     ]
    },
    {
     "name": "stdout",
     "output_type": "stream",
     "text": [
      "Epoch 79/100\n",
      " 0/69 [..............................] - ETA: 0s - loss: 0.4111 - accuracy: 0.8184\n",
      "Epoch 79: val_accuracy did not improve from 0.81773\n",
      "69/69 [==============================] - 56s 811ms/sample - loss: 0.4111 - accuracy: 0.8184 - val_loss: 0.4156 - val_accuracy: 0.8158 - lr: 1.0000e-04\n"
     ]
    },
    {
     "name": "stderr",
     "output_type": "stream",
     "text": [
      "[2022-05-13 15:35:55,764] INFO: Learning rate: 0.000100\n"
     ]
    },
    {
     "name": "stdout",
     "output_type": "stream",
     "text": [
      "Epoch 80/100\n",
      " 0/69 [..............................] - ETA: 0s - loss: 0.4113 - accuracy: 0.8186\n",
      "Epoch 80: val_accuracy did not improve from 0.81773\n",
      "69/69 [==============================] - 56s 811ms/sample - loss: 0.4113 - accuracy: 0.8186 - val_loss: 0.4227 - val_accuracy: 0.8115 - lr: 1.0000e-04\n"
     ]
    },
    {
     "name": "stderr",
     "output_type": "stream",
     "text": [
      "[2022-05-13 15:36:51,707] INFO: Learning rate: 0.000100\n"
     ]
    },
    {
     "name": "stdout",
     "output_type": "stream",
     "text": [
      "Epoch 81/100\n",
      " 0/69 [..............................] - ETA: 0s - loss: 0.4113 - accuracy: 0.8180\n",
      "Epoch 81: val_accuracy did not improve from 0.81773\n",
      "69/69 [==============================] - 56s 809ms/sample - loss: 0.4113 - accuracy: 0.8180 - val_loss: 0.4155 - val_accuracy: 0.8169 - lr: 1.0000e-04\n"
     ]
    },
    {
     "name": "stderr",
     "output_type": "stream",
     "text": [
      "[2022-05-13 15:37:47,567] INFO: Learning rate: 0.000100\n"
     ]
    },
    {
     "name": "stdout",
     "output_type": "stream",
     "text": [
      "Epoch 82/100\n",
      " 0/69 [..............................] - ETA: 0s - loss: 0.4109 - accuracy: 0.8190\n",
      "Epoch 82: val_accuracy did not improve from 0.81773\n",
      "69/69 [==============================] - 56s 810ms/sample - loss: 0.4109 - accuracy: 0.8190 - val_loss: 0.4149 - val_accuracy: 0.8152 - lr: 1.0000e-04\n"
     ]
    },
    {
     "name": "stderr",
     "output_type": "stream",
     "text": [
      "[2022-05-13 15:38:43,443] INFO: Learning rate: 0.000100\n"
     ]
    },
    {
     "name": "stdout",
     "output_type": "stream",
     "text": [
      "Epoch 83/100\n",
      " 0/69 [..............................] - ETA: 0s - loss: 0.4108 - accuracy: 0.8193\n",
      "Epoch 83: val_accuracy did not improve from 0.81773\n",
      "69/69 [==============================] - 56s 810ms/sample - loss: 0.4108 - accuracy: 0.8193 - val_loss: 0.4147 - val_accuracy: 0.8166 - lr: 1.0000e-04\n"
     ]
    },
    {
     "name": "stderr",
     "output_type": "stream",
     "text": [
      "[2022-05-13 15:39:39,320] INFO: Learning rate: 0.000100\n"
     ]
    },
    {
     "name": "stdout",
     "output_type": "stream",
     "text": [
      "Epoch 84/100\n",
      " 0/69 [..............................] - ETA: 0s - loss: 0.4103 - accuracy: 0.8190\n",
      "Epoch 84: val_accuracy did not improve from 0.81773\n",
      "69/69 [==============================] - 56s 810ms/sample - loss: 0.4103 - accuracy: 0.8190 - val_loss: 0.4153 - val_accuracy: 0.8160 - lr: 1.0000e-04\n"
     ]
    },
    {
     "name": "stderr",
     "output_type": "stream",
     "text": [
      "[2022-05-13 15:40:35,212] INFO: Learning rate: 0.000100\n"
     ]
    },
    {
     "name": "stdout",
     "output_type": "stream",
     "text": [
      "Epoch 85/100\n",
      " 0/69 [..............................] - ETA: 0s - loss: 0.4104 - accuracy: 0.8189\n",
      "Epoch 85: val_accuracy did not improve from 0.81773\n",
      "69/69 [==============================] - 56s 809ms/sample - loss: 0.4104 - accuracy: 0.8189 - val_loss: 0.4158 - val_accuracy: 0.8152 - lr: 1.0000e-04\n"
     ]
    },
    {
     "name": "stderr",
     "output_type": "stream",
     "text": [
      "[2022-05-13 15:41:31,051] INFO: Learning rate: 0.000100\n"
     ]
    },
    {
     "name": "stdout",
     "output_type": "stream",
     "text": [
      "Epoch 86/100\n",
      " 0/69 [..............................] - ETA: 0s - loss: 0.4105 - accuracy: 0.8190\n",
      "Epoch 86: val_accuracy did not improve from 0.81773\n",
      "69/69 [==============================] - 56s 810ms/sample - loss: 0.4105 - accuracy: 0.8190 - val_loss: 0.4159 - val_accuracy: 0.8157 - lr: 1.0000e-04\n"
     ]
    },
    {
     "name": "stderr",
     "output_type": "stream",
     "text": [
      "[2022-05-13 15:42:26,945] INFO: Learning rate: 0.000100\n"
     ]
    },
    {
     "name": "stdout",
     "output_type": "stream",
     "text": [
      "Epoch 87/100\n",
      " 0/69 [..............................] - ETA: 0s - loss: 0.4106 - accuracy: 0.8197\n",
      "Epoch 87: val_accuracy did not improve from 0.81773\n",
      "69/69 [==============================] - 56s 808ms/sample - loss: 0.4106 - accuracy: 0.8197 - val_loss: 0.4146 - val_accuracy: 0.8159 - lr: 1.0000e-04\n"
     ]
    },
    {
     "name": "stderr",
     "output_type": "stream",
     "text": [
      "[2022-05-13 15:43:22,731] INFO: Learning rate: 0.000100\n"
     ]
    },
    {
     "name": "stdout",
     "output_type": "stream",
     "text": [
      "Epoch 88/100\n",
      " 0/69 [..............................] - ETA: 0s - loss: 0.4102 - accuracy: 0.8191\n",
      "Epoch 88: val_accuracy did not improve from 0.81773\n",
      "69/69 [==============================] - 56s 809ms/sample - loss: 0.4102 - accuracy: 0.8191 - val_loss: 0.4150 - val_accuracy: 0.8151 - lr: 1.0000e-04\n"
     ]
    },
    {
     "name": "stderr",
     "output_type": "stream",
     "text": [
      "[2022-05-13 15:44:18,589] INFO: Learning rate: 0.000100\n"
     ]
    },
    {
     "name": "stdout",
     "output_type": "stream",
     "text": [
      "Epoch 89/100\n",
      " 0/69 [..............................] - ETA: 0s - loss: 0.4102 - accuracy: 0.8191\n",
      "Epoch 89: val_accuracy did not improve from 0.81773\n",
      "69/69 [==============================] - 56s 809ms/sample - loss: 0.4102 - accuracy: 0.8191 - val_loss: 0.4145 - val_accuracy: 0.8173 - lr: 1.0000e-04\n"
     ]
    },
    {
     "name": "stderr",
     "output_type": "stream",
     "text": [
      "[2022-05-13 15:45:14,398] INFO: Learning rate: 0.000100\n"
     ]
    },
    {
     "name": "stdout",
     "output_type": "stream",
     "text": [
      "Epoch 90/100\n",
      " 0/69 [..............................] - ETA: 0s - loss: 0.4095 - accuracy: 0.8199\n",
      "Epoch 90: val_accuracy did not improve from 0.81773\n",
      "69/69 [==============================] - 56s 808ms/sample - loss: 0.4095 - accuracy: 0.8199 - val_loss: 0.4148 - val_accuracy: 0.8160 - lr: 1.0000e-04\n"
     ]
    },
    {
     "name": "stderr",
     "output_type": "stream",
     "text": [
      "[2022-05-13 15:46:10,160] INFO: Learning rate: 0.000100\n"
     ]
    },
    {
     "name": "stdout",
     "output_type": "stream",
     "text": [
      "Epoch 91/100\n",
      " 0/69 [..............................] - ETA: 0s - loss: 0.4096 - accuracy: 0.8200\n",
      "Epoch 91: val_accuracy did not improve from 0.81773\n",
      "69/69 [==============================] - 56s 810ms/sample - loss: 0.4096 - accuracy: 0.8200 - val_loss: 0.4145 - val_accuracy: 0.8159 - lr: 1.0000e-04\n"
     ]
    },
    {
     "name": "stderr",
     "output_type": "stream",
     "text": [
      "[2022-05-13 15:47:06,060] INFO: Learning rate: 0.000100\n"
     ]
    },
    {
     "name": "stdout",
     "output_type": "stream",
     "text": [
      "Epoch 92/100\n",
      " 0/69 [..............................] - ETA: 0s - loss: 0.4096 - accuracy: 0.8199\n",
      "Epoch 92: val_accuracy did not improve from 0.81773\n",
      "69/69 [==============================] - 56s 809ms/sample - loss: 0.4096 - accuracy: 0.8199 - val_loss: 0.4148 - val_accuracy: 0.8149 - lr: 1.0000e-04\n"
     ]
    },
    {
     "name": "stderr",
     "output_type": "stream",
     "text": [
      "[2022-05-13 15:48:01,936] INFO: Learning rate: 0.000100\n"
     ]
    },
    {
     "name": "stdout",
     "output_type": "stream",
     "text": [
      "Epoch 93/100\n",
      " 0/69 [..............................] - ETA: 0s - loss: 0.4096 - accuracy: 0.8194\n",
      "Epoch 93: val_accuracy did not improve from 0.81773\n",
      "69/69 [==============================] - 56s 811ms/sample - loss: 0.4096 - accuracy: 0.8194 - val_loss: 0.4144 - val_accuracy: 0.8160 - lr: 1.0000e-04\n"
     ]
    },
    {
     "name": "stderr",
     "output_type": "stream",
     "text": [
      "[2022-05-13 15:48:57,885] INFO: Learning rate: 0.000100\n"
     ]
    },
    {
     "name": "stdout",
     "output_type": "stream",
     "text": [
      "Epoch 94/100\n",
      " 0/69 [..............................] - ETA: 0s - loss: 0.4088 - accuracy: 0.8201\n",
      "Epoch 94: val_accuracy did not improve from 0.81773\n",
      "69/69 [==============================] - 56s 810ms/sample - loss: 0.4088 - accuracy: 0.8201 - val_loss: 0.4191 - val_accuracy: 0.8141 - lr: 1.0000e-04\n"
     ]
    },
    {
     "name": "stderr",
     "output_type": "stream",
     "text": [
      "[2022-05-13 15:49:53,790] INFO: Learning rate: 0.000100\n"
     ]
    },
    {
     "name": "stdout",
     "output_type": "stream",
     "text": [
      "Epoch 95/100\n",
      " 0/69 [..............................] - ETA: 0s - loss: 0.4098 - accuracy: 0.8191\n",
      "Epoch 95: val_accuracy did not improve from 0.81773\n",
      "69/69 [==============================] - 56s 809ms/sample - loss: 0.4098 - accuracy: 0.8191 - val_loss: 0.4155 - val_accuracy: 0.8160 - lr: 1.0000e-04\n"
     ]
    },
    {
     "name": "stderr",
     "output_type": "stream",
     "text": [
      "[2022-05-13 15:50:49,620] INFO: Learning rate: 0.000100\n"
     ]
    },
    {
     "name": "stdout",
     "output_type": "stream",
     "text": [
      "Epoch 96/100\n",
      " 0/69 [..............................] - ETA: 0s - loss: 0.4094 - accuracy: 0.8191\n",
      "Epoch 96: val_accuracy did not improve from 0.81773\n",
      "69/69 [==============================] - 56s 809ms/sample - loss: 0.4094 - accuracy: 0.8191 - val_loss: 0.4146 - val_accuracy: 0.8171 - lr: 1.0000e-04\n"
     ]
    },
    {
     "name": "stderr",
     "output_type": "stream",
     "text": [
      "[2022-05-13 15:51:45,425] INFO: Learning rate: 0.000100\n"
     ]
    },
    {
     "name": "stdout",
     "output_type": "stream",
     "text": [
      "Epoch 97/100\n",
      " 0/69 [..............................] - ETA: 0s - loss: 0.4093 - accuracy: 0.8196\n",
      "Epoch 97: val_accuracy did not improve from 0.81773\n",
      "69/69 [==============================] - 56s 808ms/sample - loss: 0.4093 - accuracy: 0.8196 - val_loss: 0.4151 - val_accuracy: 0.8154 - lr: 1.0000e-04\n"
     ]
    },
    {
     "name": "stderr",
     "output_type": "stream",
     "text": [
      "[2022-05-13 15:52:41,225] INFO: Learning rate: 0.000100\n"
     ]
    },
    {
     "name": "stdout",
     "output_type": "stream",
     "text": [
      "Epoch 98/100\n",
      " 0/69 [..............................] - ETA: 0s - loss: 0.4096 - accuracy: 0.8203\n",
      "Epoch 98: val_accuracy did not improve from 0.81773\n",
      "69/69 [==============================] - 56s 809ms/sample - loss: 0.4096 - accuracy: 0.8203 - val_loss: 0.4145 - val_accuracy: 0.8163 - lr: 1.0000e-04\n"
     ]
    },
    {
     "name": "stderr",
     "output_type": "stream",
     "text": [
      "[2022-05-13 15:53:37,044] INFO: Learning rate: 0.000100\n"
     ]
    },
    {
     "name": "stdout",
     "output_type": "stream",
     "text": [
      "Epoch 99/100\n",
      " 0/69 [..............................] - ETA: 0s - loss: 0.4090 - accuracy: 0.8202\n",
      "Epoch 99: val_accuracy did not improve from 0.81773\n",
      "69/69 [==============================] - 56s 809ms/sample - loss: 0.4090 - accuracy: 0.8202 - val_loss: 0.4144 - val_accuracy: 0.8175 - lr: 1.0000e-04\n"
     ]
    },
    {
     "name": "stderr",
     "output_type": "stream",
     "text": [
      "[2022-05-13 15:54:32,871] INFO: Learning rate: 0.000100\n"
     ]
    },
    {
     "name": "stdout",
     "output_type": "stream",
     "text": [
      "Epoch 100/100\n",
      " 0/69 [..............................] - ETA: 0s - loss: 0.4087 - accuracy: 0.8197\n",
      "Epoch 100: val_accuracy did not improve from 0.81773\n",
      "69/69 [==============================] - 56s 809ms/sample - loss: 0.4087 - accuracy: 0.8197 - val_loss: 0.4162 - val_accuracy: 0.8157 - lr: 1.0000e-04\n"
     ]
    }
   ],
   "source": [
    "history = model.fit(train_dataset, y_train,\n",
    "          batch_size=batch_size,\n",
    "          epochs=epochs,\n",
    "          validation_data=(val_dataset, y_val),\n",
    "          shuffle=True,\n",
    "          callbacks=callbacks)"
   ]
  },
  {
   "cell_type": "code",
   "execution_count": 40,
   "id": "5xmdXRQe7hzg",
   "metadata": {
    "ExecuteTime": {
     "start_time": "2022-05-13T12:35:04.093Z"
    },
    "id": "5xmdXRQe7hzg"
   },
   "outputs": [],
   "source": [
    "import json\n",
    "with open(\"particle_net_lite_history.json\", \"w\") as outfile:\n",
    "    outfile.write(str(history.history))"
   ]
  },
  {
   "cell_type": "code",
   "execution_count": 41,
   "id": "7uhNQ7KJ78uS",
   "metadata": {
    "ExecuteTime": {
     "start_time": "2022-05-13T12:35:04.883Z"
    },
    "colab": {
     "base_uri": "https://localhost:8080/",
     "height": 295
    },
    "id": "7uhNQ7KJ78uS",
    "outputId": "d4c53a71-1ef5-43a9-8446-1ab8b0ff1381"
   },
   "outputs": [
    {
     "data": {
      "image/png": "[encoded data removed]",
      "text/plain": [
       "<Figure size 432x288 with 1 Axes>"
      ]
     },
     "metadata": {
      "needs_background": "light"
     },
     "output_type": "display_data"
    }
   ],
   "source": [
    "plt.plot(history.history['accuracy'], label='Training')\n",
    "plt.plot(history.history['val_accuracy'], label='Validation')\n",
    "plt.title('Particle net lite accuracy')\n",
    "plt.xlabel('Epoch')\n",
    "plt.ylabel('accuracy')\n",
    "plt.legend()\n",
    "plt.show()"
   ]
  },
  {
   "cell_type": "code",
   "execution_count": 42,
   "id": "wpvBDg228jRC",
   "metadata": {
    "ExecuteTime": {
     "start_time": "2022-05-13T12:35:05.626Z"
    },
    "colab": {
     "base_uri": "https://localhost:8080/",
     "height": 295
    },
    "id": "wpvBDg228jRC",
    "outputId": "226c23e2-198c-4151-ad6c-9d32d96d34a1"
   },
   "outputs": [
    {
     "data": {
      "image/png": "[encoded data removed]",
      "text/plain": [
       "<Figure size 432x288 with 1 Axes>"
      ]
     },
     "metadata": {
      "needs_background": "light"
     },
     "output_type": "display_data"
    }
   ],
   "source": [
    "plt.plot(history.history['loss'], label='Training')\n",
    "plt.plot(history.history['val_loss'], label='Validation')\n",
    "plt.title('Particle net lite loss')\n",
    "plt.xlabel('Epoch')\n",
    "plt.ylabel('loss')\n",
    "plt.legend()\n",
    "plt.show()"
   ]
  },
  {
   "cell_type": "code",
   "execution_count": 43,
   "id": "xvBcjj238sUa",
   "metadata": {
    "colab": {
     "base_uri": "https://localhost:8080/"
    },
    "id": "xvBcjj238sUa",
    "outputId": "fef97fb4-7c10-40c0-afd2-300bd3f4baf6"
   },
   "outputs": [
    {
     "name": "stdout",
     "output_type": "stream",
     "text": [
      "469/469 [==============================] - 9s 20ms/step - loss: 0.5166 - accuracy: 0.7531\n"
     ]
    }
   ],
   "source": [
    "res = model.evaluate(test_dataset, y_test)"
   ]
  },
  {
   "cell_type": "code",
   "execution_count": 44,
   "id": "2B03Jq7985BR",
   "metadata": {
    "colab": {
     "base_uri": "https://localhost:8080/"
    },
    "id": "2B03Jq7985BR",
    "outputId": "024fb66e-cdaa-47ca-fc16-71ec01a854cb"
   },
   "outputs": [
    {
     "name": "stdout",
     "output_type": "stream",
     "text": [
      "test loss, test acc: [0.5165840983390808, 0.7530666589736938]\n"
     ]
    }
   ],
   "source": [
    "print(\"test loss, test acc:\", res)"
   ]
  },
  {
   "cell_type": "markdown",
   "id": "cbbc8fac",
   "metadata": {
    "id": "u8yNElPe9EIJ"
   },
   "source": [
    "Conclusion\n",
    "\n",
    "We built a classical GNN using Tensorflow. Considering the plots for particle net lite, the training loss decreases over epochs and also the training accuracy increases which means the model fits the data. However, the validation loss and accuracy beocmes constant after near 20th epoch which shows the overfitting. The training accuracy is near 82% which is comparable to the results of the paper [Jet tagging via particle clouds](https://journals.aps.org/prd/pdf/10.1103/PhysRevD.101.056019). Theirs is 82.6%. One thing to note that the model takes significant amount of time for training for 10000 samples of data."
   ]
  }
 ],
 "metadata": {
  "accelerator": "GPU",
  "colab": {
   "collapsed_sections": [],
   "name": "Task IV Classical Graph Neural Network (GNN) Part.ipynb",
   "provenance": []
  },
  "kernelspec": {
   "display_name": "Python 3 (ipykernel)",
   "language": "python",
   "name": "python3"
  },
  "language_info": {
   "codemirror_mode": {
    "name": "ipython",
    "version": 3
   },
   "file_extension": ".py",
   "mimetype": "text/x-python",
   "name": "python",
   "nbconvert_exporter": "python",
   "pygments_lexer": "ipython3",
   "version": "3.7.13"
  },
  "latex_envs": {
   "LaTeX_envs_menu_present": true,
   "autoclose": false,
   "autocomplete": true,
   "bibliofile": "biblio.bib",
   "cite_by": "apalike",
   "current_citInitial": 1,
   "eqLabelWithNumbers": true,
   "eqNumInitial": 1,
   "hotkeys": {
    "equation": "Ctrl-E",
    "itemize": "Ctrl-I"
   },
   "labels_anchors": false,
   "latex_user_defs": false,
   "report_style_numbering": false,
   "user_envs_cfg": false
  },
  "toc": {
   "base_numbering": 1,
   "nav_menu": {},
   "number_sections": true,
   "sideBar": true,
   "skip_h1_title": false,
   "title_cell": "Table of Contents",
   "title_sidebar": "Contents",
   "toc_cell": false,
   "toc_position": {},
   "toc_section_display": true,
   "toc_window_display": false
  }
 },
 "nbformat": 4,
 "nbformat_minor": 5
}
