{
 "cells": [
  {
   "cell_type": "markdown",
   "id": "829154b7",
   "metadata": {},
   "source": [
    "Task III:\n",
    "\n",
    "The electron-photon dataset (which can be found here) contains 100 samples for training and another 100 for testing, laid out as follows:\n",
    "\n",
    "● data[\"x_train\"]: Training dataset of 100 32x32 images containing the particles' energy (100, 32, 32)\n",
    "\n",
    "● data[\"y_train\"]:\" Training labels, 0 = \"photon\", 1 = \"electron\" (100,)\n",
    "\n",
    "● data[\"x_test\"]: Test dataset of 100 32x32 images containing the particles' energy (100, 32, 32)\n",
    "\n",
    "● data[\"y_test\"]:\" Test labels, 0 = \"photon\", 1 = \"electron\" (100,)\n",
    "\n",
    "The dataset labels are labelled 0 for photons and 1 for electrons.\n",
    "\n",
    "Your task is to\n",
    "\n",
    "Part c) implement a QCNN model in TF Quantum"
   ]
  },
  {
   "cell_type": "code",
   "execution_count": 1,
   "id": "99c52f83",
   "metadata": {
    "ExecuteTime": {
     "end_time": "2022-05-13T08:26:33.577527Z",
     "start_time": "2022-05-13T08:26:33.482014Z"
    },
    "scrolled": true
   },
   "outputs": [
    {
     "data": {
      "text/plain": [
       "<module 'pkg_resources' from '/home/gopald/.pyenv/versions/3.7.13/lib/python3.7/site-packages/pkg_resources/__init__.py'>"
      ]
     },
     "execution_count": 1,
     "metadata": {},
     "output_type": "execute_result"
    }
   ],
   "source": [
    "# Update package resources to account for version changes.\n",
    "import importlib, pkg_resources\n",
    "importlib.reload(pkg_resources)"
   ]
  },
  {
   "cell_type": "code",
   "execution_count": 2,
   "id": "470b5ab8",
   "metadata": {
    "ExecuteTime": {
     "end_time": "2022-05-13T08:26:38.600350Z",
     "start_time": "2022-05-13T08:26:33.580459Z"
    }
   },
   "outputs": [
    {
     "name": "stderr",
     "output_type": "stream",
     "text": [
      "2022-05-13 13:56:33.790201: W tensorflow/stream_executor/platform/default/dso_loader.cc:64] Could not load dynamic library 'libcudart.so.11.0'; dlerror: libcudart.so.11.0: cannot open shared object file: No such file or directory\n",
      "2022-05-13 13:56:33.790236: I tensorflow/stream_executor/cuda/cudart_stub.cc:29] Ignore above cudart dlerror if you do not have a GPU set up on your machine.\n",
      "2022-05-13 13:56:38.270425: E tensorflow/stream_executor/cuda/cuda_driver.cc:271] failed call to cuInit: CUDA_ERROR_NO_DEVICE: no CUDA-capable device is detected\n",
      "2022-05-13 13:56:38.270462: I tensorflow/stream_executor/cuda/cuda_diagnostics.cc:156] kernel driver does not appear to be running on this host (bhagvada): /proc/driver/nvidia/version does not exist\n",
      "2022-05-13 13:56:38.270829: I tensorflow/core/platform/cpu_feature_guard.cc:151] This TensorFlow binary is optimized with oneAPI Deep Neural Network Library (oneDNN) to use the following CPU instructions in performance-critical operations:  AVX2 FMA\n",
      "To enable them in other operations, rebuild TensorFlow with the appropriate compiler flags.\n"
     ]
    }
   ],
   "source": [
    "import tensorflow as tf\n",
    "import tensorflow_quantum as tfq\n",
    "\n",
    "import cirq\n",
    "from cirq.contrib.svg import SVGCircuit\n",
    "import sympy\n",
    "import numpy as np\n",
    "import seaborn as sns\n",
    "import collections\n",
    "from sklearn.decomposition import PCA\n",
    "from sklearn.preprocessing import normalize\n",
    "\n",
    "# visualization tools\n",
    "%matplotlib inline\n",
    "from mpl_toolkits.axes_grid1 import ImageGrid\n",
    "import matplotlib.pyplot as plt"
   ]
  },
  {
   "cell_type": "code",
   "execution_count": 3,
   "id": "0f3518c8",
   "metadata": {
    "ExecuteTime": {
     "end_time": "2022-05-13T08:26:38.609292Z",
     "start_time": "2022-05-13T08:26:38.603408Z"
    }
   },
   "outputs": [],
   "source": [
    "# Load the dataset\n",
    "dataset = np.load('./data/electron-photon.npz',allow_pickle=True)"
   ]
  },
  {
   "cell_type": "code",
   "execution_count": 4,
   "id": "10971787",
   "metadata": {
    "ExecuteTime": {
     "end_time": "2022-05-13T08:26:38.815299Z",
     "start_time": "2022-05-13T08:26:38.614645Z"
    }
   },
   "outputs": [
    {
     "name": "stdout",
     "output_type": "stream",
     "text": [
      "(100, 32, 32) (100,)\n",
      "(100, 32, 32) (100,)\n",
      "1.4274136 0.0\n",
      "1.392017 0.0\n"
     ]
    }
   ],
   "source": [
    "# Unpack the train and test values\n",
    "x_train, y_train, x_test, y_test = dataset['x_train'], dataset['y_train'], dataset['x_test'], dataset['y_test']\n",
    "\n",
    "# Check the shapes of training and test datasets\n",
    "print(x_train.shape, y_train.shape)\n",
    "print(x_test.shape, y_test.shape)\n",
    "print(x_train.max() , x_train.min())\n",
    "print(x_test.max(), x_test.min())"
   ]
  },
  {
   "cell_type": "markdown",
   "id": "185fde4e",
   "metadata": {},
   "source": [
    "We follow the same procedure as we did for Task IIIb. We normalize the training and test dataset and similar to Task IIIb we use PCA here."
   ]
  },
  {
   "cell_type": "code",
   "execution_count": 5,
   "id": "82d2ccb0",
   "metadata": {
    "ExecuteTime": {
     "end_time": "2022-05-13T08:26:38.975872Z",
     "start_time": "2022-05-13T08:26:38.823937Z"
    }
   },
   "outputs": [
    {
     "name": "stdout",
     "output_type": "stream",
     "text": [
      "(100, 16)\n",
      "(100, 16)\n"
     ]
    }
   ],
   "source": [
    "pca_16 = PCA(n_components=16) # Try PCA with 16 components\n",
    "pca_16.fit(x_train.reshape(100, 32*32))\n",
    "\n",
    "# Fit PCA\n",
    "x_train_reduced = pca_16.fit_transform(x_train.reshape(100, 32*32)) \n",
    "x_test_reduced = pca_16.fit_transform(x_train.reshape(100, 32*32))\n",
    "\n",
    "print(x_train_reduced.shape)\n",
    "print(x_test_reduced.shape)"
   ]
  },
  {
   "cell_type": "code",
   "execution_count": 6,
   "id": "3ae0d9a5",
   "metadata": {
    "ExecuteTime": {
     "end_time": "2022-05-13T08:26:39.060225Z",
     "start_time": "2022-05-13T08:26:38.982327Z"
    }
   },
   "outputs": [
    {
     "name": "stdout",
     "output_type": "stream",
     "text": [
      "0.9941799 -0.8875579\n",
      "0.99418 -0.887558\n",
      "True\n",
      "True\n",
      "True\n",
      "True\n"
     ]
    }
   ],
   "source": [
    "# Rescale the images to the [0.0,1.0] range.\n",
    "x_train = normalize(x_train_reduced)\n",
    "x_test = normalize(x_test_reduced)\n",
    "\n",
    "print(x_train.max() , x_train.min())\n",
    "print(x_test.max(), x_test.min())\n",
    "\n",
    "# check whether the values are between -pi to pi as we will\n",
    "# be using rotation gates to encode the data\n",
    "print(x_train.max() <= np.pi)\n",
    "print(x_train.min() >= -np.pi)\n",
    "print(x_test.max() <= np.pi)\n",
    "print(x_test.min() >= -np.pi)"
   ]
  },
  {
   "attachments": {},
   "cell_type": "markdown",
   "id": "ca36973e",
   "metadata": {},
   "source": [
    "The image below breify describes the QCNN architecture we are using and is referenced from [Tensorflow Quantum QCNN tutorial](https://www.tensorflow.org/quantum/tutorials/qcnn#14_data).\n",
    "\n",
    "<img src=\"images/qcnn.png\" width=600>"
   ]
  },
  {
   "cell_type": "markdown",
   "id": "ff0a4901",
   "metadata": {},
   "source": [
    "We use angle encoding here using Rx gates. Angle encoding in general is described in the paper [Robust data encodings for quantum classifiers](https://arxiv.org/pdf/2003.01695.pdf) and I myself studied from [Qiskit](https://learn.qiskit.org/course/machine-learning/data-encoding). For this task, I followed the [Tensorflow Quantum QCNN tutorial](https://www.tensorflow.org/quantum/tutorials/qcnn#14_data)."
   ]
  },
  {
   "cell_type": "code",
   "execution_count": 7,
   "id": "b989bdf5",
   "metadata": {
    "ExecuteTime": {
     "end_time": "2022-05-13T08:26:39.141587Z",
     "start_time": "2022-05-13T08:26:39.064962Z"
    }
   },
   "outputs": [],
   "source": [
    "def encode_data(qubits, data):\n",
    "    \"\"\"Encode training and testing data using Rx gates\"\"\"\n",
    "    encoding = []\n",
    "    for image in data:\n",
    "        qc = cirq.Circuit()\n",
    "        for index, bit in enumerate(qubits):\n",
    "            qc.append(cirq.rx(image[index])(bit))\n",
    "        encoding.append(qc)\n",
    "    return tfq.convert_to_tensor(encoding)"
   ]
  },
  {
   "cell_type": "code",
   "execution_count": 8,
   "id": "477f0935",
   "metadata": {
    "ExecuteTime": {
     "end_time": "2022-05-13T08:26:40.430970Z",
     "start_time": "2022-05-13T08:26:39.144836Z"
    }
   },
   "outputs": [],
   "source": [
    "x_train_encoded = encode_data(cirq.GridQubit.rect(1, 16), x_train)\n",
    "x_test_encoded = encode_data(cirq.GridQubit.rect(1,16), x_test)"
   ]
  },
  {
   "cell_type": "markdown",
   "id": "f6becb77",
   "metadata": {
    "ExecuteTime": {
     "end_time": "2022-05-13T04:47:31.700907Z",
     "start_time": "2022-05-13T04:47:31.677855Z"
    }
   },
   "source": [
    "We have to convert the label values from 0,1 to -1,1 as the $<Z>$ is between -1,1."
   ]
  },
  {
   "cell_type": "code",
   "execution_count": 9,
   "id": "1e1c531e",
   "metadata": {
    "ExecuteTime": {
     "end_time": "2022-05-13T08:26:40.437931Z",
     "start_time": "2022-05-13T08:26:40.433494Z"
    }
   },
   "outputs": [],
   "source": [
    "y_train = 2.0*y_train-1.0\n",
    "y_test = 2.0*y_test-1.0"
   ]
  },
  {
   "cell_type": "code",
   "execution_count": 10,
   "id": "e47b9e86",
   "metadata": {
    "ExecuteTime": {
     "end_time": "2022-05-13T08:26:41.647126Z",
     "start_time": "2022-05-13T08:26:40.444494Z"
    }
   },
   "outputs": [
    {
     "name": "stderr",
     "output_type": "stream",
     "text": [
      "findfont: Font family ['Arial'] not found. Falling back to DejaVu Sans.\n"
     ]
    },
    {
     "data": {
      "image/svg+xml": [
       "<svg xmlns=\"http://www.w3.org/2000/svg\" width=\"213.3373828125\" height=\"800.0\"><line x1=\"39.21248046875\" x2=\"183.3373828125\" y1=\"25.0\" y2=\"25.0\" stroke=\"#1967d2\" stroke-width=\"1\" /><line x1=\"39.21248046875\" x2=\"183.3373828125\" y1=\"75.0\" y2=\"75.0\" stroke=\"#1967d2\" stroke-width=\"1\" /><line x1=\"39.21248046875\" x2=\"183.3373828125\" y1=\"125.0\" y2=\"125.0\" stroke=\"#1967d2\" stroke-width=\"1\" /><line x1=\"39.21248046875\" x2=\"183.3373828125\" y1=\"175.0\" y2=\"175.0\" stroke=\"#1967d2\" stroke-width=\"1\" /><line x1=\"39.21248046875\" x2=\"183.3373828125\" y1=\"225.0\" y2=\"225.0\" stroke=\"#1967d2\" stroke-width=\"1\" /><line x1=\"39.21248046875\" x2=\"183.3373828125\" y1=\"275.0\" y2=\"275.0\" stroke=\"#1967d2\" stroke-width=\"1\" /><line x1=\"39.21248046875\" x2=\"183.3373828125\" y1=\"325.0\" y2=\"325.0\" stroke=\"#1967d2\" stroke-width=\"1\" /><line x1=\"39.21248046875\" x2=\"183.3373828125\" y1=\"375.0\" y2=\"375.0\" stroke=\"#1967d2\" stroke-width=\"1\" /><line x1=\"39.21248046875\" x2=\"183.3373828125\" y1=\"425.0\" y2=\"425.0\" stroke=\"#1967d2\" stroke-width=\"1\" /><line x1=\"39.21248046875\" x2=\"183.3373828125\" y1=\"475.0\" y2=\"475.0\" stroke=\"#1967d2\" stroke-width=\"1\" /><line x1=\"39.21248046875\" x2=\"183.3373828125\" y1=\"525.0\" y2=\"525.0\" stroke=\"#1967d2\" stroke-width=\"1\" /><line x1=\"39.21248046875\" x2=\"183.3373828125\" y1=\"575.0\" y2=\"575.0\" stroke=\"#1967d2\" stroke-width=\"1\" /><line x1=\"39.21248046875\" x2=\"183.3373828125\" y1=\"625.0\" y2=\"625.0\" stroke=\"#1967d2\" stroke-width=\"1\" /><line x1=\"39.21248046875\" x2=\"183.3373828125\" y1=\"675.0\" y2=\"675.0\" stroke=\"#1967d2\" stroke-width=\"1\" /><line x1=\"39.21248046875\" x2=\"183.3373828125\" y1=\"725.0\" y2=\"725.0\" stroke=\"#1967d2\" stroke-width=\"1\" /><line x1=\"39.21248046875\" x2=\"183.3373828125\" y1=\"775.0\" y2=\"775.0\" stroke=\"#1967d2\" stroke-width=\"1\" /><rect x=\"10.0\" y=\"5.0\" width=\"58.4249609375\" height=\"40\" stroke=\"black\" fill=\"white\" stroke-width=\"0\" /><text x=\"39.21248046875\" y=\"25.0\" dominant-baseline=\"middle\" text-anchor=\"middle\" font-size=\"14px\" font-family=\"Arial\">(0, 0): </text><rect x=\"10.0\" y=\"55.0\" width=\"58.4249609375\" height=\"40\" stroke=\"black\" fill=\"white\" stroke-width=\"0\" /><text x=\"39.21248046875\" y=\"75.0\" dominant-baseline=\"middle\" text-anchor=\"middle\" font-size=\"14px\" font-family=\"Arial\">(0, 1): </text><rect x=\"10.0\" y=\"105.0\" width=\"58.4249609375\" height=\"40\" stroke=\"black\" fill=\"white\" stroke-width=\"0\" /><text x=\"39.21248046875\" y=\"125.0\" dominant-baseline=\"middle\" text-anchor=\"middle\" font-size=\"14px\" font-family=\"Arial\">(0, 2): </text><rect x=\"10.0\" y=\"155.0\" width=\"58.4249609375\" height=\"40\" stroke=\"black\" fill=\"white\" stroke-width=\"0\" /><text x=\"39.21248046875\" y=\"175.0\" dominant-baseline=\"middle\" text-anchor=\"middle\" font-size=\"14px\" font-family=\"Arial\">(0, 3): </text><rect x=\"10.0\" y=\"205.0\" width=\"58.4249609375\" height=\"40\" stroke=\"black\" fill=\"white\" stroke-width=\"0\" /><text x=\"39.21248046875\" y=\"225.0\" dominant-baseline=\"middle\" text-anchor=\"middle\" font-size=\"14px\" font-family=\"Arial\">(0, 4): </text><rect x=\"10.0\" y=\"255.0\" width=\"58.4249609375\" height=\"40\" stroke=\"black\" fill=\"white\" stroke-width=\"0\" /><text x=\"39.21248046875\" y=\"275.0\" dominant-baseline=\"middle\" text-anchor=\"middle\" font-size=\"14px\" font-family=\"Arial\">(0, 5): </text><rect x=\"10.0\" y=\"305.0\" width=\"58.4249609375\" height=\"40\" stroke=\"black\" fill=\"white\" stroke-width=\"0\" /><text x=\"39.21248046875\" y=\"325.0\" dominant-baseline=\"middle\" text-anchor=\"middle\" font-size=\"14px\" font-family=\"Arial\">(0, 6): </text><rect x=\"10.0\" y=\"355.0\" width=\"58.4249609375\" height=\"40\" stroke=\"black\" fill=\"white\" stroke-width=\"0\" /><text x=\"39.21248046875\" y=\"375.0\" dominant-baseline=\"middle\" text-anchor=\"middle\" font-size=\"14px\" font-family=\"Arial\">(0, 7): </text><rect x=\"10.0\" y=\"405.0\" width=\"58.4249609375\" height=\"40\" stroke=\"black\" fill=\"white\" stroke-width=\"0\" /><text x=\"39.21248046875\" y=\"425.0\" dominant-baseline=\"middle\" text-anchor=\"middle\" font-size=\"14px\" font-family=\"Arial\">(0, 8): </text><rect x=\"10.0\" y=\"455.0\" width=\"58.4249609375\" height=\"40\" stroke=\"black\" fill=\"white\" stroke-width=\"0\" /><text x=\"39.21248046875\" y=\"475.0\" dominant-baseline=\"middle\" text-anchor=\"middle\" font-size=\"14px\" font-family=\"Arial\">(0, 9): </text><rect x=\"10.0\" y=\"505.0\" width=\"58.4249609375\" height=\"40\" stroke=\"black\" fill=\"white\" stroke-width=\"0\" /><text x=\"39.21248046875\" y=\"525.0\" dominant-baseline=\"middle\" text-anchor=\"middle\" font-size=\"14px\" font-family=\"Arial\">(0, 10): </text><rect x=\"10.0\" y=\"555.0\" width=\"58.4249609375\" height=\"40\" stroke=\"black\" fill=\"white\" stroke-width=\"0\" /><text x=\"39.21248046875\" y=\"575.0\" dominant-baseline=\"middle\" text-anchor=\"middle\" font-size=\"14px\" font-family=\"Arial\">(0, 11): </text><rect x=\"10.0\" y=\"605.0\" width=\"58.4249609375\" height=\"40\" stroke=\"black\" fill=\"white\" stroke-width=\"0\" /><text x=\"39.21248046875\" y=\"625.0\" dominant-baseline=\"middle\" text-anchor=\"middle\" font-size=\"14px\" font-family=\"Arial\">(0, 12): </text><rect x=\"10.0\" y=\"655.0\" width=\"58.4249609375\" height=\"40\" stroke=\"black\" fill=\"white\" stroke-width=\"0\" /><text x=\"39.21248046875\" y=\"675.0\" dominant-baseline=\"middle\" text-anchor=\"middle\" font-size=\"14px\" font-family=\"Arial\">(0, 13): </text><rect x=\"10.0\" y=\"705.0\" width=\"58.4249609375\" height=\"40\" stroke=\"black\" fill=\"white\" stroke-width=\"0\" /><text x=\"39.21248046875\" y=\"725.0\" dominant-baseline=\"middle\" text-anchor=\"middle\" font-size=\"14px\" font-family=\"Arial\">(0, 14): </text><rect x=\"10.0\" y=\"755.0\" width=\"58.4249609375\" height=\"40\" stroke=\"black\" fill=\"white\" stroke-width=\"0\" /><text x=\"39.21248046875\" y=\"775.0\" dominant-baseline=\"middle\" text-anchor=\"middle\" font-size=\"14px\" font-family=\"Arial\">(0, 15): </text><rect x=\"88.4249609375\" y=\"5.0\" width=\"74.912421875\" height=\"40\" stroke=\"black\" fill=\"white\" stroke-width=\"1\" /><text x=\"125.881171875\" y=\"25.0\" dominant-baseline=\"middle\" text-anchor=\"middle\" font-size=\"14px\" font-family=\"Arial\">X^-0.283</text><rect x=\"88.4249609375\" y=\"55.0\" width=\"74.912421875\" height=\"40\" stroke=\"black\" fill=\"white\" stroke-width=\"1\" /><text x=\"125.881171875\" y=\"75.0\" dominant-baseline=\"middle\" text-anchor=\"middle\" font-size=\"14px\" font-family=\"Arial\">X^0.03</text><rect x=\"88.4249609375\" y=\"105.0\" width=\"74.912421875\" height=\"40\" stroke=\"black\" fill=\"white\" stroke-width=\"1\" /><text x=\"125.881171875\" y=\"125.0\" dominant-baseline=\"middle\" text-anchor=\"middle\" font-size=\"14px\" font-family=\"Arial\">X^-0.11</text><rect x=\"88.4249609375\" y=\"155.0\" width=\"74.912421875\" height=\"40\" stroke=\"black\" fill=\"white\" stroke-width=\"1\" /><text x=\"125.881171875\" y=\"175.0\" dominant-baseline=\"middle\" text-anchor=\"middle\" font-size=\"14px\" font-family=\"Arial\">X^-0.032</text><rect x=\"88.4249609375\" y=\"205.0\" width=\"74.912421875\" height=\"40\" stroke=\"black\" fill=\"white\" stroke-width=\"1\" /><text x=\"125.881171875\" y=\"225.0\" dominant-baseline=\"middle\" text-anchor=\"middle\" font-size=\"14px\" font-family=\"Arial\">X^0.059</text><rect x=\"88.4249609375\" y=\"255.0\" width=\"74.912421875\" height=\"40\" stroke=\"black\" fill=\"white\" stroke-width=\"1\" /><text x=\"125.881171875\" y=\"275.0\" dominant-baseline=\"middle\" text-anchor=\"middle\" font-size=\"14px\" font-family=\"Arial\">X^0.014</text><rect x=\"88.4249609375\" y=\"305.0\" width=\"74.912421875\" height=\"40\" stroke=\"black\" fill=\"white\" stroke-width=\"1\" /><text x=\"125.881171875\" y=\"325.0\" dominant-baseline=\"middle\" text-anchor=\"middle\" font-size=\"14px\" font-family=\"Arial\">X^-0.025</text><rect x=\"88.4249609375\" y=\"355.0\" width=\"74.912421875\" height=\"40\" stroke=\"black\" fill=\"white\" stroke-width=\"1\" /><text x=\"125.881171875\" y=\"375.0\" dominant-baseline=\"middle\" text-anchor=\"middle\" font-size=\"14px\" font-family=\"Arial\">X^-0.01</text><rect x=\"88.4249609375\" y=\"405.0\" width=\"74.912421875\" height=\"40\" stroke=\"black\" fill=\"white\" stroke-width=\"1\" /><text x=\"125.881171875\" y=\"425.0\" dominant-baseline=\"middle\" text-anchor=\"middle\" font-size=\"14px\" font-family=\"Arial\">X^-0.013</text><rect x=\"88.4249609375\" y=\"455.0\" width=\"74.912421875\" height=\"40\" stroke=\"black\" fill=\"white\" stroke-width=\"1\" /><text x=\"125.881171875\" y=\"475.0\" dominant-baseline=\"middle\" text-anchor=\"middle\" font-size=\"14px\" font-family=\"Arial\">X^0.045</text><rect x=\"88.4249609375\" y=\"505.0\" width=\"74.912421875\" height=\"40\" stroke=\"black\" fill=\"white\" stroke-width=\"1\" /><text x=\"125.881171875\" y=\"525.0\" dominant-baseline=\"middle\" text-anchor=\"middle\" font-size=\"14px\" font-family=\"Arial\">X^-0.017</text><rect x=\"88.4249609375\" y=\"555.0\" width=\"74.912421875\" height=\"40\" stroke=\"black\" fill=\"white\" stroke-width=\"1\" /><text x=\"125.881171875\" y=\"575.0\" dominant-baseline=\"middle\" text-anchor=\"middle\" font-size=\"14px\" font-family=\"Arial\">X^0</text><rect x=\"88.4249609375\" y=\"605.0\" width=\"74.912421875\" height=\"40\" stroke=\"black\" fill=\"white\" stroke-width=\"1\" /><text x=\"125.881171875\" y=\"625.0\" dominant-baseline=\"middle\" text-anchor=\"middle\" font-size=\"14px\" font-family=\"Arial\">X^-0.005</text><rect x=\"88.4249609375\" y=\"655.0\" width=\"74.912421875\" height=\"40\" stroke=\"black\" fill=\"white\" stroke-width=\"1\" /><text x=\"125.881171875\" y=\"675.0\" dominant-baseline=\"middle\" text-anchor=\"middle\" font-size=\"14px\" font-family=\"Arial\">X^-0.012</text><rect x=\"88.4249609375\" y=\"705.0\" width=\"74.912421875\" height=\"40\" stroke=\"black\" fill=\"white\" stroke-width=\"1\" /><text x=\"125.881171875\" y=\"725.0\" dominant-baseline=\"middle\" text-anchor=\"middle\" font-size=\"14px\" font-family=\"Arial\">X^0.02</text><rect x=\"88.4249609375\" y=\"755.0\" width=\"74.912421875\" height=\"40\" stroke=\"black\" fill=\"white\" stroke-width=\"1\" /><text x=\"125.881171875\" y=\"775.0\" dominant-baseline=\"middle\" text-anchor=\"middle\" font-size=\"14px\" font-family=\"Arial\">X^-0.001</text></svg>"
      ],
      "text/plain": [
       "<cirq.contrib.svg.svg.SVGCircuit at 0x7f5032487950>"
      ]
     },
     "execution_count": 10,
     "metadata": {},
     "output_type": "execute_result"
    }
   ],
   "source": [
    "SVGCircuit(tfq.from_tensor(x_train_encoded)[0])"
   ]
  },
  {
   "cell_type": "markdown",
   "id": "9110d16f",
   "metadata": {},
   "source": [
    "Next part is to define the layers of the quantum model. First we define the [cluster state](https://arxiv.org/pdf/quant-ph/0504097.pdf)."
   ]
  },
  {
   "cell_type": "code",
   "execution_count": 11,
   "id": "05e7a3d6",
   "metadata": {
    "ExecuteTime": {
     "end_time": "2022-05-13T08:26:41.656178Z",
     "start_time": "2022-05-13T08:26:41.650578Z"
    }
   },
   "outputs": [],
   "source": [
    "def cluster_state_circuit(bits):\n",
    "    \"\"\"Return a cluster state on the qubits in `bits`.\"\"\"\n",
    "    circuit = cirq.Circuit()\n",
    "    circuit.append(cirq.H.on_each(bits))\n",
    "    for this_bit, next_bit in zip(bits, bits[1:] + [bits[0]]):\n",
    "        circuit.append(cirq.CZ(this_bit, next_bit))\n",
    "    return circuit"
   ]
  },
  {
   "cell_type": "code",
   "execution_count": 12,
   "id": "6643041a",
   "metadata": {
    "ExecuteTime": {
     "end_time": "2022-05-13T08:26:42.238425Z",
     "start_time": "2022-05-13T08:26:41.660322Z"
    }
   },
   "outputs": [
    {
     "data": {
      "image/svg+xml": [
       "<svg xmlns=\"http://www.w3.org/2000/svg\" width=\"529.517734375\" height=\"300.0\"><line x1=\"34.7588671875\" x2=\"499.51773437500003\" y1=\"25.0\" y2=\"25.0\" stroke=\"#1967d2\" stroke-width=\"1\" /><line x1=\"34.7588671875\" x2=\"499.51773437500003\" y1=\"75.0\" y2=\"75.0\" stroke=\"#1967d2\" stroke-width=\"1\" /><line x1=\"34.7588671875\" x2=\"499.51773437500003\" y1=\"125.0\" y2=\"125.0\" stroke=\"#1967d2\" stroke-width=\"1\" /><line x1=\"34.7588671875\" x2=\"499.51773437500003\" y1=\"175.0\" y2=\"175.0\" stroke=\"#1967d2\" stroke-width=\"1\" /><line x1=\"34.7588671875\" x2=\"499.51773437500003\" y1=\"225.0\" y2=\"225.0\" stroke=\"#1967d2\" stroke-width=\"1\" /><line x1=\"34.7588671875\" x2=\"499.51773437500003\" y1=\"275.0\" y2=\"275.0\" stroke=\"#1967d2\" stroke-width=\"1\" /><line x1=\"159.517734375\" x2=\"159.517734375\" y1=\"25.0\" y2=\"75.0\" stroke=\"black\" stroke-width=\"3\" /><line x1=\"219.517734375\" x2=\"219.517734375\" y1=\"75.0\" y2=\"125.0\" stroke=\"black\" stroke-width=\"3\" /><line x1=\"279.51773437500003\" x2=\"279.51773437500003\" y1=\"125.0\" y2=\"175.0\" stroke=\"black\" stroke-width=\"3\" /><line x1=\"339.51773437500003\" x2=\"339.51773437500003\" y1=\"175.0\" y2=\"225.0\" stroke=\"black\" stroke-width=\"3\" /><line x1=\"399.51773437500003\" x2=\"399.51773437500003\" y1=\"225.0\" y2=\"275.0\" stroke=\"black\" stroke-width=\"3\" /><line x1=\"459.51773437500003\" x2=\"459.51773437500003\" y1=\"25.0\" y2=\"275.0\" stroke=\"black\" stroke-width=\"3\" /><rect x=\"10.0\" y=\"5.0\" width=\"49.517734375\" height=\"40\" stroke=\"black\" fill=\"white\" stroke-width=\"0\" /><text x=\"34.7588671875\" y=\"25.0\" dominant-baseline=\"middle\" text-anchor=\"middle\" font-size=\"14px\" font-family=\"Arial\">(0, 0): </text><rect x=\"10.0\" y=\"55.0\" width=\"49.517734375\" height=\"40\" stroke=\"black\" fill=\"white\" stroke-width=\"0\" /><text x=\"34.7588671875\" y=\"75.0\" dominant-baseline=\"middle\" text-anchor=\"middle\" font-size=\"14px\" font-family=\"Arial\">(0, 1): </text><rect x=\"10.0\" y=\"105.0\" width=\"49.517734375\" height=\"40\" stroke=\"black\" fill=\"white\" stroke-width=\"0\" /><text x=\"34.7588671875\" y=\"125.0\" dominant-baseline=\"middle\" text-anchor=\"middle\" font-size=\"14px\" font-family=\"Arial\">(0, 2): </text><rect x=\"10.0\" y=\"155.0\" width=\"49.517734375\" height=\"40\" stroke=\"black\" fill=\"white\" stroke-width=\"0\" /><text x=\"34.7588671875\" y=\"175.0\" dominant-baseline=\"middle\" text-anchor=\"middle\" font-size=\"14px\" font-family=\"Arial\">(0, 3): </text><rect x=\"10.0\" y=\"205.0\" width=\"49.517734375\" height=\"40\" stroke=\"black\" fill=\"white\" stroke-width=\"0\" /><text x=\"34.7588671875\" y=\"225.0\" dominant-baseline=\"middle\" text-anchor=\"middle\" font-size=\"14px\" font-family=\"Arial\">(0, 4): </text><rect x=\"10.0\" y=\"255.0\" width=\"49.517734375\" height=\"40\" stroke=\"black\" fill=\"white\" stroke-width=\"0\" /><text x=\"34.7588671875\" y=\"275.0\" dominant-baseline=\"middle\" text-anchor=\"middle\" font-size=\"14px\" font-family=\"Arial\">(0, 5): </text><rect x=\"79.517734375\" y=\"5.0\" width=\"40\" height=\"40\" stroke=\"black\" fill=\"white\" stroke-width=\"1\" /><text x=\"99.517734375\" y=\"25.0\" dominant-baseline=\"middle\" text-anchor=\"middle\" font-size=\"18px\" font-family=\"Arial\">H</text><rect x=\"79.517734375\" y=\"55.0\" width=\"40\" height=\"40\" stroke=\"black\" fill=\"white\" stroke-width=\"1\" /><text x=\"99.517734375\" y=\"75.0\" dominant-baseline=\"middle\" text-anchor=\"middle\" font-size=\"18px\" font-family=\"Arial\">H</text><rect x=\"79.517734375\" y=\"105.0\" width=\"40\" height=\"40\" stroke=\"black\" fill=\"white\" stroke-width=\"1\" /><text x=\"99.517734375\" y=\"125.0\" dominant-baseline=\"middle\" text-anchor=\"middle\" font-size=\"18px\" font-family=\"Arial\">H</text><rect x=\"79.517734375\" y=\"155.0\" width=\"40\" height=\"40\" stroke=\"black\" fill=\"white\" stroke-width=\"1\" /><text x=\"99.517734375\" y=\"175.0\" dominant-baseline=\"middle\" text-anchor=\"middle\" font-size=\"18px\" font-family=\"Arial\">H</text><rect x=\"79.517734375\" y=\"205.0\" width=\"40\" height=\"40\" stroke=\"black\" fill=\"white\" stroke-width=\"1\" /><text x=\"99.517734375\" y=\"225.0\" dominant-baseline=\"middle\" text-anchor=\"middle\" font-size=\"18px\" font-family=\"Arial\">H</text><rect x=\"79.517734375\" y=\"255.0\" width=\"40\" height=\"40\" stroke=\"black\" fill=\"white\" stroke-width=\"1\" /><text x=\"99.517734375\" y=\"275.0\" dominant-baseline=\"middle\" text-anchor=\"middle\" font-size=\"18px\" font-family=\"Arial\">H</text><circle cx=\"159.517734375\" cy=\"25.0\" r=\"10.0\" /><circle cx=\"159.517734375\" cy=\"75.0\" r=\"10.0\" /><circle cx=\"219.517734375\" cy=\"75.0\" r=\"10.0\" /><circle cx=\"219.517734375\" cy=\"125.0\" r=\"10.0\" /><circle cx=\"279.51773437500003\" cy=\"125.0\" r=\"10.0\" /><circle cx=\"279.51773437500003\" cy=\"175.0\" r=\"10.0\" /><circle cx=\"339.51773437500003\" cy=\"175.0\" r=\"10.0\" /><circle cx=\"339.51773437500003\" cy=\"225.0\" r=\"10.0\" /><circle cx=\"399.51773437500003\" cy=\"225.0\" r=\"10.0\" /><circle cx=\"399.51773437500003\" cy=\"275.0\" r=\"10.0\" /><circle cx=\"459.51773437500003\" cy=\"275.0\" r=\"10.0\" /><circle cx=\"459.51773437500003\" cy=\"25.0\" r=\"10.0\" /></svg>"
      ],
      "text/plain": [
       "<cirq.contrib.svg.svg.SVGCircuit at 0x7f4f963c26d0>"
      ]
     },
     "execution_count": 12,
     "metadata": {},
     "output_type": "execute_result"
    }
   ],
   "source": [
    "SVGCircuit(cluster_state_circuit(cirq.GridQubit.rect(1, 6)))"
   ]
  },
  {
   "cell_type": "markdown",
   "id": "f3d4359f",
   "metadata": {},
   "source": [
    "Now we define QCNN layers. For that we need to define one and two qubit parameterized unitary matrices and a parameterized two qubit circui."
   ]
  },
  {
   "cell_type": "code",
   "execution_count": 13,
   "id": "f48dba94",
   "metadata": {
    "ExecuteTime": {
     "end_time": "2022-05-13T08:26:42.259833Z",
     "start_time": "2022-05-13T08:26:42.241965Z"
    }
   },
   "outputs": [],
   "source": [
    "def one_qubit_unitary(bit, symbols):\n",
    "    \"\"\"Make a Cirq circuit enacting a rotation of the bloch sphere about the X,\n",
    "    Y and Z axis, that depends on the values in `symbols`.\n",
    "    \"\"\"\n",
    "    return cirq.Circuit(\n",
    "        cirq.X(bit)**symbols[0],\n",
    "        cirq.Y(bit)**symbols[1],\n",
    "        cirq.Z(bit)**symbols[2])\n",
    "\n",
    "\n",
    "def two_qubit_unitary(bits, symbols):\n",
    "    \"\"\"Make a Cirq circuit that creates an arbitrary two qubit unitary.\"\"\"\n",
    "    circuit = cirq.Circuit()\n",
    "    circuit += one_qubit_unitary(bits[0], symbols[0:3])\n",
    "    circuit += one_qubit_unitary(bits[1], symbols[3:6])\n",
    "    circuit += [cirq.ZZ(*bits)**symbols[6]]\n",
    "    circuit += [cirq.YY(*bits)**symbols[7]]\n",
    "    circuit += [cirq.XX(*bits)**symbols[8]]\n",
    "    circuit += one_qubit_unitary(bits[0], symbols[9:12])\n",
    "    circuit += one_qubit_unitary(bits[1], symbols[12:])\n",
    "    return circuit\n",
    "\n",
    "\n",
    "def two_qubit_pool(source_qubit, sink_qubit, symbols):\n",
    "    \"\"\"Make a Cirq circuit to do a parameterized 'pooling' operation, which\n",
    "    attempts to reduce entanglement down from two qubits to just one.\"\"\"\n",
    "    pool_circuit = cirq.Circuit()\n",
    "    sink_basis_selector = one_qubit_unitary(sink_qubit, symbols[0:3])\n",
    "    source_basis_selector = one_qubit_unitary(source_qubit, symbols[3:6])\n",
    "    pool_circuit.append(sink_basis_selector)\n",
    "    pool_circuit.append(source_basis_selector)\n",
    "    pool_circuit.append(cirq.CNOT(control=source_qubit, target=sink_qubit))\n",
    "    pool_circuit.append(sink_basis_selector**-1)\n",
    "    return pool_circuit"
   ]
  },
  {
   "cell_type": "markdown",
   "id": "8f952fd9",
   "metadata": {},
   "source": [
    "We can see the unitaries for each of the above functions we defined above."
   ]
  },
  {
   "cell_type": "code",
   "execution_count": 14,
   "id": "7061b287",
   "metadata": {
    "ExecuteTime": {
     "end_time": "2022-05-13T08:26:42.490597Z",
     "start_time": "2022-05-13T08:26:42.263662Z"
    }
   },
   "outputs": [
    {
     "data": {
      "image/svg+xml": [
       "<svg xmlns=\"http://www.w3.org/2000/svg\" width=\"309.3764453125\" height=\"50.0\"><line x1=\"34.7588671875\" x2=\"279.3764453125\" y1=\"25.0\" y2=\"25.0\" stroke=\"#1967d2\" stroke-width=\"1\" /><rect x=\"10.0\" y=\"5.0\" width=\"49.517734375\" height=\"40\" stroke=\"black\" fill=\"white\" stroke-width=\"0\" /><text x=\"34.7588671875\" y=\"25.0\" dominant-baseline=\"middle\" text-anchor=\"middle\" font-size=\"14px\" font-family=\"Arial\">(0, 0): </text><rect x=\"79.517734375\" y=\"5.0\" width=\"47.1664453125\" height=\"40\" stroke=\"black\" fill=\"white\" stroke-width=\"1\" /><text x=\"103.10095703125\" y=\"25.0\" dominant-baseline=\"middle\" text-anchor=\"middle\" font-size=\"14px\" font-family=\"Arial\">X^x0</text><rect x=\"146.6841796875\" y=\"5.0\" width=\"46.2105078125\" height=\"40\" stroke=\"black\" fill=\"white\" stroke-width=\"1\" /><text x=\"169.78943359375\" y=\"25.0\" dominant-baseline=\"middle\" text-anchor=\"middle\" font-size=\"14px\" font-family=\"Arial\">Y^x1</text><rect x=\"212.8946875\" y=\"5.0\" width=\"46.48175781250001\" height=\"40\" stroke=\"black\" fill=\"white\" stroke-width=\"1\" /><text x=\"236.13556640625\" y=\"25.0\" dominant-baseline=\"middle\" text-anchor=\"middle\" font-size=\"14px\" font-family=\"Arial\">Z^x2</text></svg>"
      ],
      "text/plain": [
       "<cirq.contrib.svg.svg.SVGCircuit at 0x7f4f94f5d350>"
      ]
     },
     "execution_count": 14,
     "metadata": {},
     "output_type": "execute_result"
    }
   ],
   "source": [
    "SVGCircuit(one_qubit_unitary(cirq.GridQubit(0, 0), sympy.symbols('x0:3')))"
   ]
  },
  {
   "cell_type": "code",
   "execution_count": 15,
   "id": "17f9c378",
   "metadata": {
    "ExecuteTime": {
     "end_time": "2022-05-13T08:26:42.708461Z",
     "start_time": "2022-05-13T08:26:42.494431Z"
    }
   },
   "outputs": [
    {
     "data": {
      "image/svg+xml": [
       "<svg xmlns=\"http://www.w3.org/2000/svg\" width=\"1182.8964453124997\" height=\"100.0\"><line x1=\"34.7588671875\" x2=\"1152.8964453124997\" y1=\"25.0\" y2=\"25.0\" stroke=\"#1967d2\" stroke-width=\"1\" /><line x1=\"34.7588671875\" x2=\"1152.8964453124997\" y1=\"75.0\" y2=\"75.0\" stroke=\"#1967d2\" stroke-width=\"1\" /><line x1=\"508.0261328125\" x2=\"508.0261328125\" y1=\"25.0\" y2=\"75.0\" stroke=\"black\" stroke-width=\"3\" /><line x1=\"583.7519921875\" x2=\"583.7519921875\" y1=\"25.0\" y2=\"75.0\" stroke=\"black\" stroke-width=\"3\" /><line x1=\"659.5456640625\" x2=\"659.5456640625\" y1=\"25.0\" y2=\"75.0\" stroke=\"black\" stroke-width=\"3\" /><rect x=\"10.0\" y=\"5.0\" width=\"49.517734375\" height=\"40\" stroke=\"black\" fill=\"white\" stroke-width=\"0\" /><text x=\"34.7588671875\" y=\"25.0\" dominant-baseline=\"middle\" text-anchor=\"middle\" font-size=\"14px\" font-family=\"Arial\">(0, 0): </text><rect x=\"10.0\" y=\"55.0\" width=\"49.517734375\" height=\"40\" stroke=\"black\" fill=\"white\" stroke-width=\"0\" /><text x=\"34.7588671875\" y=\"75.0\" dominant-baseline=\"middle\" text-anchor=\"middle\" font-size=\"14px\" font-family=\"Arial\">(0, 1): </text><rect x=\"79.517734375\" y=\"5.0\" width=\"47.1664453125\" height=\"40\" stroke=\"black\" fill=\"white\" stroke-width=\"1\" /><text x=\"103.10095703125\" y=\"25.0\" dominant-baseline=\"middle\" text-anchor=\"middle\" font-size=\"14px\" font-family=\"Arial\">X^x0</text><rect x=\"146.6841796875\" y=\"5.0\" width=\"46.2105078125\" height=\"40\" stroke=\"black\" fill=\"white\" stroke-width=\"1\" /><text x=\"169.78943359375\" y=\"25.0\" dominant-baseline=\"middle\" text-anchor=\"middle\" font-size=\"14px\" font-family=\"Arial\">Y^x1</text><rect x=\"212.8946875\" y=\"5.0\" width=\"46.48175781250001\" height=\"40\" stroke=\"black\" fill=\"white\" stroke-width=\"1\" /><text x=\"236.13556640625\" y=\"25.0\" dominant-baseline=\"middle\" text-anchor=\"middle\" font-size=\"14px\" font-family=\"Arial\">Z^x2</text><rect x=\"279.3764453125\" y=\"55.0\" width=\"46.97394531250001\" height=\"40\" stroke=\"black\" fill=\"white\" stroke-width=\"1\" /><text x=\"302.86341796875\" y=\"75.0\" dominant-baseline=\"middle\" text-anchor=\"middle\" font-size=\"14px\" font-family=\"Arial\">X^x3</text><rect x=\"346.350390625\" y=\"55.0\" width=\"46.718007812500005\" height=\"40\" stroke=\"black\" fill=\"white\" stroke-width=\"1\" /><text x=\"369.70939453125\" y=\"75.0\" dominant-baseline=\"middle\" text-anchor=\"middle\" font-size=\"14px\" font-family=\"Arial\">Y^x4</text><rect x=\"413.0683984375\" y=\"55.0\" width=\"46.6611328125\" height=\"40\" stroke=\"black\" fill=\"white\" stroke-width=\"1\" /><text x=\"436.39896484375\" y=\"75.0\" dominant-baseline=\"middle\" text-anchor=\"middle\" font-size=\"14px\" font-family=\"Arial\">Z^x5</text><rect x=\"479.72953125000004\" y=\"5.0\" width=\"56.593203125\" height=\"40\" stroke=\"black\" fill=\"white\" stroke-width=\"1\" /><text x=\"508.0261328125\" y=\"25.0\" dominant-baseline=\"middle\" text-anchor=\"middle\" font-size=\"14px\" font-family=\"Arial\">ZZ</text><rect x=\"479.72953125000004\" y=\"55.0\" width=\"56.593203125\" height=\"40\" stroke=\"black\" fill=\"white\" stroke-width=\"1\" /><text x=\"508.0261328125\" y=\"75.0\" dominant-baseline=\"middle\" text-anchor=\"middle\" font-size=\"14px\" font-family=\"Arial\">ZZ^x6</text><rect x=\"556.322734375\" y=\"5.0\" width=\"54.85851562500001\" height=\"40\" stroke=\"black\" fill=\"white\" stroke-width=\"1\" /><text x=\"583.7519921875\" y=\"25.0\" dominant-baseline=\"middle\" text-anchor=\"middle\" font-size=\"14px\" font-family=\"Arial\">YY</text><rect x=\"556.322734375\" y=\"55.0\" width=\"54.85851562500001\" height=\"40\" stroke=\"black\" fill=\"white\" stroke-width=\"1\" /><text x=\"583.7519921875\" y=\"75.0\" dominant-baseline=\"middle\" text-anchor=\"middle\" font-size=\"14px\" font-family=\"Arial\">YY^x7</text><rect x=\"631.18125\" y=\"5.0\" width=\"56.72882812500001\" height=\"40\" stroke=\"black\" fill=\"white\" stroke-width=\"1\" /><text x=\"659.5456640625\" y=\"25.0\" dominant-baseline=\"middle\" text-anchor=\"middle\" font-size=\"14px\" font-family=\"Arial\">XX</text><rect x=\"631.18125\" y=\"55.0\" width=\"56.72882812500001\" height=\"40\" stroke=\"black\" fill=\"white\" stroke-width=\"1\" /><text x=\"659.5456640625\" y=\"75.0\" dominant-baseline=\"middle\" text-anchor=\"middle\" font-size=\"14px\" font-family=\"Arial\">XX^x8</text><rect x=\"707.9100781249999\" y=\"5.0\" width=\"47.1117578125\" height=\"40\" stroke=\"black\" fill=\"white\" stroke-width=\"1\" /><text x=\"731.4659570312499\" y=\"25.0\" dominant-baseline=\"middle\" text-anchor=\"middle\" font-size=\"14px\" font-family=\"Arial\">X^x9</text><rect x=\"775.0218359374999\" y=\"5.0\" width=\"55.48085937500001\" height=\"40\" stroke=\"black\" fill=\"white\" stroke-width=\"1\" /><text x=\"802.7622656249998\" y=\"25.0\" dominant-baseline=\"middle\" text-anchor=\"middle\" font-size=\"14px\" font-family=\"Arial\">Y^x10</text><rect x=\"850.5026953124999\" y=\"5.0\" width=\"55.49835937500001\" height=\"40\" stroke=\"black\" fill=\"white\" stroke-width=\"1\" /><text x=\"878.2518749999999\" y=\"25.0\" dominant-baseline=\"middle\" text-anchor=\"middle\" font-size=\"14px\" font-family=\"Arial\">Z^x11</text><rect x=\"926.0010546874998\" y=\"55.0\" width=\"55.601171875000006\" height=\"40\" stroke=\"black\" fill=\"white\" stroke-width=\"1\" /><text x=\"953.8016406249999\" y=\"75.0\" dominant-baseline=\"middle\" text-anchor=\"middle\" font-size=\"14px\" font-family=\"Arial\">X^x12</text><rect x=\"1001.6022265624998\" y=\"55.0\" width=\"55.288359375\" height=\"40\" stroke=\"black\" fill=\"white\" stroke-width=\"1\" /><text x=\"1029.2464062499998\" y=\"75.0\" dominant-baseline=\"middle\" text-anchor=\"middle\" font-size=\"14px\" font-family=\"Arial\">Y^x13</text><rect x=\"1076.8905859374997\" y=\"55.0\" width=\"56.005859375\" height=\"40\" stroke=\"black\" fill=\"white\" stroke-width=\"1\" /><text x=\"1104.8935156249997\" y=\"75.0\" dominant-baseline=\"middle\" text-anchor=\"middle\" font-size=\"14px\" font-family=\"Arial\">Z^x14</text></svg>"
      ],
      "text/plain": [
       "<cirq.contrib.svg.svg.SVGCircuit at 0x7f4f94f22110>"
      ]
     },
     "execution_count": 15,
     "metadata": {},
     "output_type": "execute_result"
    }
   ],
   "source": [
    "SVGCircuit(two_qubit_unitary(cirq.GridQubit.rect(1, 2), sympy.symbols('x0:15')))"
   ]
  },
  {
   "cell_type": "code",
   "execution_count": 16,
   "id": "a72ef7ad",
   "metadata": {
    "ExecuteTime": {
     "end_time": "2022-05-13T08:26:42.909273Z",
     "start_time": "2022-05-13T08:26:42.712046Z"
    }
   },
   "outputs": [
    {
     "data": {
      "image/svg+xml": [
       "<svg xmlns=\"http://www.w3.org/2000/svg\" width=\"817.5303125\" height=\"100.0\"><line x1=\"34.7588671875\" x2=\"787.5303125\" y1=\"25.0\" y2=\"25.0\" stroke=\"#1967d2\" stroke-width=\"1\" /><line x1=\"34.7588671875\" x2=\"787.5303125\" y1=\"75.0\" y2=\"75.0\" stroke=\"#1967d2\" stroke-width=\"1\" /><line x1=\"499.72953125\" x2=\"499.72953125\" y1=\"25.0\" y2=\"75.0\" stroke=\"black\" stroke-width=\"3\" /><rect x=\"10.0\" y=\"5.0\" width=\"49.517734375\" height=\"40\" stroke=\"black\" fill=\"white\" stroke-width=\"0\" /><text x=\"34.7588671875\" y=\"25.0\" dominant-baseline=\"middle\" text-anchor=\"middle\" font-size=\"14px\" font-family=\"Arial\">(0, 0): </text><rect x=\"10.0\" y=\"55.0\" width=\"49.517734375\" height=\"40\" stroke=\"black\" fill=\"white\" stroke-width=\"0\" /><text x=\"34.7588671875\" y=\"75.0\" dominant-baseline=\"middle\" text-anchor=\"middle\" font-size=\"14px\" font-family=\"Arial\">(0, 1): </text><rect x=\"79.517734375\" y=\"55.0\" width=\"47.1664453125\" height=\"40\" stroke=\"black\" fill=\"white\" stroke-width=\"1\" /><text x=\"103.10095703125\" y=\"75.0\" dominant-baseline=\"middle\" text-anchor=\"middle\" font-size=\"14px\" font-family=\"Arial\">X^x0</text><rect x=\"146.6841796875\" y=\"55.0\" width=\"46.2105078125\" height=\"40\" stroke=\"black\" fill=\"white\" stroke-width=\"1\" /><text x=\"169.78943359375\" y=\"75.0\" dominant-baseline=\"middle\" text-anchor=\"middle\" font-size=\"14px\" font-family=\"Arial\">Y^x1</text><rect x=\"212.8946875\" y=\"55.0\" width=\"46.48175781250001\" height=\"40\" stroke=\"black\" fill=\"white\" stroke-width=\"1\" /><text x=\"236.13556640625\" y=\"75.0\" dominant-baseline=\"middle\" text-anchor=\"middle\" font-size=\"14px\" font-family=\"Arial\">Z^x2</text><rect x=\"279.3764453125\" y=\"5.0\" width=\"46.97394531250001\" height=\"40\" stroke=\"black\" fill=\"white\" stroke-width=\"1\" /><text x=\"302.86341796875\" y=\"25.0\" dominant-baseline=\"middle\" text-anchor=\"middle\" font-size=\"14px\" font-family=\"Arial\">X^x3</text><rect x=\"346.350390625\" y=\"5.0\" width=\"46.718007812500005\" height=\"40\" stroke=\"black\" fill=\"white\" stroke-width=\"1\" /><text x=\"369.70939453125\" y=\"25.0\" dominant-baseline=\"middle\" text-anchor=\"middle\" font-size=\"14px\" font-family=\"Arial\">Y^x4</text><rect x=\"413.0683984375\" y=\"5.0\" width=\"46.6611328125\" height=\"40\" stroke=\"black\" fill=\"white\" stroke-width=\"1\" /><text x=\"436.39896484375\" y=\"25.0\" dominant-baseline=\"middle\" text-anchor=\"middle\" font-size=\"14px\" font-family=\"Arial\">Z^x5</text><circle cx=\"499.72953125\" cy=\"25.0\" r=\"10.0\" /><rect x=\"479.72953125\" y=\"55.0\" width=\"40\" height=\"40\" stroke=\"black\" fill=\"white\" stroke-width=\"1\" /><text x=\"499.72953125\" y=\"75.0\" dominant-baseline=\"middle\" text-anchor=\"middle\" font-size=\"18px\" font-family=\"Arial\">X</text><rect x=\"539.72953125\" y=\"55.0\" width=\"62.65640625\" height=\"40\" stroke=\"black\" fill=\"white\" stroke-width=\"1\" /><text x=\"571.057734375\" y=\"75.0\" dominant-baseline=\"middle\" text-anchor=\"middle\" font-size=\"14px\" font-family=\"Arial\">Z^(-x2)</text><rect x=\"622.3859375000001\" y=\"55.0\" width=\"62.27578125000001\" height=\"40\" stroke=\"black\" fill=\"white\" stroke-width=\"1\" /><text x=\"653.523828125\" y=\"75.0\" dominant-baseline=\"middle\" text-anchor=\"middle\" font-size=\"14px\" font-family=\"Arial\">Y^(-x1)</text><rect x=\"704.6617187500001\" y=\"55.0\" width=\"62.86859375\" height=\"40\" stroke=\"black\" fill=\"white\" stroke-width=\"1\" /><text x=\"736.0960156250001\" y=\"75.0\" dominant-baseline=\"middle\" text-anchor=\"middle\" font-size=\"14px\" font-family=\"Arial\">X^(-x0)</text></svg>"
      ],
      "text/plain": [
       "<cirq.contrib.svg.svg.SVGCircuit at 0x7f4f94f5d650>"
      ]
     },
     "execution_count": 16,
     "metadata": {},
     "output_type": "execute_result"
    }
   ],
   "source": [
    "SVGCircuit(two_qubit_pool(*cirq.GridQubit.rect(1, 2), sympy.symbols('x0:6')))"
   ]
  },
  {
   "cell_type": "markdown",
   "id": "b293cd48",
   "metadata": {},
   "source": [
    "Next we define the Quantum convolution circuit which performs 1D convolutional operation with a stride of one."
   ]
  },
  {
   "cell_type": "code",
   "execution_count": 17,
   "id": "1cb018c5",
   "metadata": {
    "ExecuteTime": {
     "end_time": "2022-05-13T08:26:42.998119Z",
     "start_time": "2022-05-13T08:26:42.912370Z"
    }
   },
   "outputs": [],
   "source": [
    "def quantum_conv_circuit(bits, symbols):\n",
    "    \"\"\"Quantum Convolution Layer following the above diagram.\n",
    "    Return a Cirq circuit with the cascade of `two_qubit_unitary` applied\n",
    "    to all pairs of qubits in `bits` as in the diagram above.\n",
    "    \"\"\"\n",
    "    circuit = cirq.Circuit()\n",
    "    for first, second in zip(bits[0::2], bits[1::2]):\n",
    "        circuit += two_qubit_unitary([first, second], symbols)\n",
    "    for first, second in zip(bits[1::2], bits[2::2] + [bits[0]]):\n",
    "        circuit += two_qubit_unitary([first, second], symbols)\n",
    "    return circuit"
   ]
  },
  {
   "cell_type": "code",
   "execution_count": 18,
   "id": "3c8c4053",
   "metadata": {
    "ExecuteTime": {
     "end_time": "2022-05-13T08:26:44.536149Z",
     "start_time": "2022-05-13T08:26:43.006081Z"
    }
   },
   "outputs": [
    {
     "data": {
      "image/svg+xml": [
       "<svg xmlns=\"http://www.w3.org/2000/svg\" width=\"8696.547421875006\" height=\"400.0\"><line x1=\"34.7588671875\" x2=\"8666.547421875006\" y1=\"25.0\" y2=\"25.0\" stroke=\"#1967d2\" stroke-width=\"1\" /><line x1=\"34.7588671875\" x2=\"8666.547421875006\" y1=\"75.0\" y2=\"75.0\" stroke=\"#1967d2\" stroke-width=\"1\" /><line x1=\"34.7588671875\" x2=\"8666.547421875006\" y1=\"125.0\" y2=\"125.0\" stroke=\"#1967d2\" stroke-width=\"1\" /><line x1=\"34.7588671875\" x2=\"8666.547421875006\" y1=\"175.0\" y2=\"175.0\" stroke=\"#1967d2\" stroke-width=\"1\" /><line x1=\"34.7588671875\" x2=\"8666.547421875006\" y1=\"225.0\" y2=\"225.0\" stroke=\"#1967d2\" stroke-width=\"1\" /><line x1=\"34.7588671875\" x2=\"8666.547421875006\" y1=\"275.0\" y2=\"275.0\" stroke=\"#1967d2\" stroke-width=\"1\" /><line x1=\"34.7588671875\" x2=\"8666.547421875006\" y1=\"325.0\" y2=\"325.0\" stroke=\"#1967d2\" stroke-width=\"1\" /><line x1=\"34.7588671875\" x2=\"8666.547421875006\" y1=\"375.0\" y2=\"375.0\" stroke=\"#1967d2\" stroke-width=\"1\" /><line x1=\"508.0261328125\" x2=\"508.0261328125\" y1=\"25.0\" y2=\"75.0\" stroke=\"black\" stroke-width=\"3\" /><line x1=\"583.7519921875\" x2=\"583.7519921875\" y1=\"25.0\" y2=\"75.0\" stroke=\"black\" stroke-width=\"3\" /><line x1=\"659.5456640625\" x2=\"659.5456640625\" y1=\"25.0\" y2=\"75.0\" stroke=\"black\" stroke-width=\"3\" /><line x1=\"1581.4048437499998\" x2=\"1581.4048437499998\" y1=\"125.0\" y2=\"175.0\" stroke=\"black\" stroke-width=\"3\" /><line x1=\"1657.1307031249999\" x2=\"1657.1307031249999\" y1=\"125.0\" y2=\"175.0\" stroke=\"black\" stroke-width=\"3\" /><line x1=\"1732.9243749999998\" x2=\"1732.9243749999998\" y1=\"125.0\" y2=\"175.0\" stroke=\"black\" stroke-width=\"3\" /><line x1=\"2654.7835546875\" x2=\"2654.7835546875\" y1=\"225.0\" y2=\"275.0\" stroke=\"black\" stroke-width=\"3\" /><line x1=\"2730.5094140624997\" x2=\"2730.5094140624997\" y1=\"225.0\" y2=\"275.0\" stroke=\"black\" stroke-width=\"3\" /><line x1=\"2806.3030859375\" x2=\"2806.3030859375\" y1=\"225.0\" y2=\"275.0\" stroke=\"black\" stroke-width=\"3\" /><line x1=\"3728.1622656249992\" x2=\"3728.1622656249992\" y1=\"325.0\" y2=\"375.0\" stroke=\"black\" stroke-width=\"3\" /><line x1=\"3803.888124999999\" x2=\"3803.888124999999\" y1=\"325.0\" y2=\"375.0\" stroke=\"black\" stroke-width=\"3\" /><line x1=\"3879.6817968749992\" x2=\"3879.6817968749992\" y1=\"325.0\" y2=\"375.0\" stroke=\"black\" stroke-width=\"3\" /><line x1=\"4801.540976562499\" x2=\"4801.540976562499\" y1=\"75.0\" y2=\"125.0\" stroke=\"black\" stroke-width=\"3\" /><line x1=\"4877.266835937499\" x2=\"4877.266835937499\" y1=\"75.0\" y2=\"125.0\" stroke=\"black\" stroke-width=\"3\" /><line x1=\"4953.0605078125\" x2=\"4953.0605078125\" y1=\"75.0\" y2=\"125.0\" stroke=\"black\" stroke-width=\"3\" /><line x1=\"5874.919687500002\" x2=\"5874.919687500002\" y1=\"175.0\" y2=\"225.0\" stroke=\"black\" stroke-width=\"3\" /><line x1=\"5950.645546875002\" x2=\"5950.645546875002\" y1=\"175.0\" y2=\"225.0\" stroke=\"black\" stroke-width=\"3\" /><line x1=\"6026.4392187500025\" x2=\"6026.4392187500025\" y1=\"175.0\" y2=\"225.0\" stroke=\"black\" stroke-width=\"3\" /><line x1=\"6948.298398437504\" x2=\"6948.298398437504\" y1=\"275.0\" y2=\"325.0\" stroke=\"black\" stroke-width=\"3\" /><line x1=\"7024.024257812504\" x2=\"7024.024257812504\" y1=\"275.0\" y2=\"325.0\" stroke=\"black\" stroke-width=\"3\" /><line x1=\"7099.817929687505\" x2=\"7099.817929687505\" y1=\"275.0\" y2=\"325.0\" stroke=\"black\" stroke-width=\"3\" /><line x1=\"8021.677109375007\" x2=\"8021.677109375007\" y1=\"25.0\" y2=\"375.0\" stroke=\"black\" stroke-width=\"3\" /><line x1=\"8097.402968750007\" x2=\"8097.402968750007\" y1=\"25.0\" y2=\"375.0\" stroke=\"black\" stroke-width=\"3\" /><line x1=\"8173.196640625008\" x2=\"8173.196640625008\" y1=\"25.0\" y2=\"375.0\" stroke=\"black\" stroke-width=\"3\" /><rect x=\"10.0\" y=\"5.0\" width=\"49.517734375\" height=\"40\" stroke=\"black\" fill=\"white\" stroke-width=\"0\" /><text x=\"34.7588671875\" y=\"25.0\" dominant-baseline=\"middle\" text-anchor=\"middle\" font-size=\"14px\" font-family=\"Arial\">(0, 0): </text><rect x=\"10.0\" y=\"55.0\" width=\"49.517734375\" height=\"40\" stroke=\"black\" fill=\"white\" stroke-width=\"0\" /><text x=\"34.7588671875\" y=\"75.0\" dominant-baseline=\"middle\" text-anchor=\"middle\" font-size=\"14px\" font-family=\"Arial\">(0, 1): </text><rect x=\"10.0\" y=\"105.0\" width=\"49.517734375\" height=\"40\" stroke=\"black\" fill=\"white\" stroke-width=\"0\" /><text x=\"34.7588671875\" y=\"125.0\" dominant-baseline=\"middle\" text-anchor=\"middle\" font-size=\"14px\" font-family=\"Arial\">(0, 2): </text><rect x=\"10.0\" y=\"155.0\" width=\"49.517734375\" height=\"40\" stroke=\"black\" fill=\"white\" stroke-width=\"0\" /><text x=\"34.7588671875\" y=\"175.0\" dominant-baseline=\"middle\" text-anchor=\"middle\" font-size=\"14px\" font-family=\"Arial\">(0, 3): </text><rect x=\"10.0\" y=\"205.0\" width=\"49.517734375\" height=\"40\" stroke=\"black\" fill=\"white\" stroke-width=\"0\" /><text x=\"34.7588671875\" y=\"225.0\" dominant-baseline=\"middle\" text-anchor=\"middle\" font-size=\"14px\" font-family=\"Arial\">(0, 4): </text><rect x=\"10.0\" y=\"255.0\" width=\"49.517734375\" height=\"40\" stroke=\"black\" fill=\"white\" stroke-width=\"0\" /><text x=\"34.7588671875\" y=\"275.0\" dominant-baseline=\"middle\" text-anchor=\"middle\" font-size=\"14px\" font-family=\"Arial\">(0, 5): </text><rect x=\"10.0\" y=\"305.0\" width=\"49.517734375\" height=\"40\" stroke=\"black\" fill=\"white\" stroke-width=\"0\" /><text x=\"34.7588671875\" y=\"325.0\" dominant-baseline=\"middle\" text-anchor=\"middle\" font-size=\"14px\" font-family=\"Arial\">(0, 6): </text><rect x=\"10.0\" y=\"355.0\" width=\"49.517734375\" height=\"40\" stroke=\"black\" fill=\"white\" stroke-width=\"0\" /><text x=\"34.7588671875\" y=\"375.0\" dominant-baseline=\"middle\" text-anchor=\"middle\" font-size=\"14px\" font-family=\"Arial\">(0, 7): </text><rect x=\"79.517734375\" y=\"5.0\" width=\"47.1664453125\" height=\"40\" stroke=\"black\" fill=\"white\" stroke-width=\"1\" /><text x=\"103.10095703125\" y=\"25.0\" dominant-baseline=\"middle\" text-anchor=\"middle\" font-size=\"14px\" font-family=\"Arial\">X^x0</text><rect x=\"146.6841796875\" y=\"5.0\" width=\"46.2105078125\" height=\"40\" stroke=\"black\" fill=\"white\" stroke-width=\"1\" /><text x=\"169.78943359375\" y=\"25.0\" dominant-baseline=\"middle\" text-anchor=\"middle\" font-size=\"14px\" font-family=\"Arial\">Y^x1</text><rect x=\"212.8946875\" y=\"5.0\" width=\"46.48175781250001\" height=\"40\" stroke=\"black\" fill=\"white\" stroke-width=\"1\" /><text x=\"236.13556640625\" y=\"25.0\" dominant-baseline=\"middle\" text-anchor=\"middle\" font-size=\"14px\" font-family=\"Arial\">Z^x2</text><rect x=\"279.3764453125\" y=\"55.0\" width=\"46.97394531250001\" height=\"40\" stroke=\"black\" fill=\"white\" stroke-width=\"1\" /><text x=\"302.86341796875\" y=\"75.0\" dominant-baseline=\"middle\" text-anchor=\"middle\" font-size=\"14px\" font-family=\"Arial\">X^x3</text><rect x=\"346.350390625\" y=\"55.0\" width=\"46.718007812500005\" height=\"40\" stroke=\"black\" fill=\"white\" stroke-width=\"1\" /><text x=\"369.70939453125\" y=\"75.0\" dominant-baseline=\"middle\" text-anchor=\"middle\" font-size=\"14px\" font-family=\"Arial\">Y^x4</text><rect x=\"413.0683984375\" y=\"55.0\" width=\"46.6611328125\" height=\"40\" stroke=\"black\" fill=\"white\" stroke-width=\"1\" /><text x=\"436.39896484375\" y=\"75.0\" dominant-baseline=\"middle\" text-anchor=\"middle\" font-size=\"14px\" font-family=\"Arial\">Z^x5</text><rect x=\"479.72953125000004\" y=\"5.0\" width=\"56.593203125\" height=\"40\" stroke=\"black\" fill=\"white\" stroke-width=\"1\" /><text x=\"508.0261328125\" y=\"25.0\" dominant-baseline=\"middle\" text-anchor=\"middle\" font-size=\"14px\" font-family=\"Arial\">ZZ</text><rect x=\"479.72953125000004\" y=\"55.0\" width=\"56.593203125\" height=\"40\" stroke=\"black\" fill=\"white\" stroke-width=\"1\" /><text x=\"508.0261328125\" y=\"75.0\" dominant-baseline=\"middle\" text-anchor=\"middle\" font-size=\"14px\" font-family=\"Arial\">ZZ^x6</text><rect x=\"556.322734375\" y=\"5.0\" width=\"54.85851562500001\" height=\"40\" stroke=\"black\" fill=\"white\" stroke-width=\"1\" /><text x=\"583.7519921875\" y=\"25.0\" dominant-baseline=\"middle\" text-anchor=\"middle\" font-size=\"14px\" font-family=\"Arial\">YY</text><rect x=\"556.322734375\" y=\"55.0\" width=\"54.85851562500001\" height=\"40\" stroke=\"black\" fill=\"white\" stroke-width=\"1\" /><text x=\"583.7519921875\" y=\"75.0\" dominant-baseline=\"middle\" text-anchor=\"middle\" font-size=\"14px\" font-family=\"Arial\">YY^x7</text><rect x=\"631.18125\" y=\"5.0\" width=\"56.72882812500001\" height=\"40\" stroke=\"black\" fill=\"white\" stroke-width=\"1\" /><text x=\"659.5456640625\" y=\"25.0\" dominant-baseline=\"middle\" text-anchor=\"middle\" font-size=\"14px\" font-family=\"Arial\">XX</text><rect x=\"631.18125\" y=\"55.0\" width=\"56.72882812500001\" height=\"40\" stroke=\"black\" fill=\"white\" stroke-width=\"1\" /><text x=\"659.5456640625\" y=\"75.0\" dominant-baseline=\"middle\" text-anchor=\"middle\" font-size=\"14px\" font-family=\"Arial\">XX^x8</text><rect x=\"707.9100781249999\" y=\"5.0\" width=\"47.1117578125\" height=\"40\" stroke=\"black\" fill=\"white\" stroke-width=\"1\" /><text x=\"731.4659570312499\" y=\"25.0\" dominant-baseline=\"middle\" text-anchor=\"middle\" font-size=\"14px\" font-family=\"Arial\">X^x9</text><rect x=\"775.0218359374999\" y=\"5.0\" width=\"55.48085937500001\" height=\"40\" stroke=\"black\" fill=\"white\" stroke-width=\"1\" /><text x=\"802.7622656249998\" y=\"25.0\" dominant-baseline=\"middle\" text-anchor=\"middle\" font-size=\"14px\" font-family=\"Arial\">Y^x10</text><rect x=\"850.5026953124999\" y=\"5.0\" width=\"55.49835937500001\" height=\"40\" stroke=\"black\" fill=\"white\" stroke-width=\"1\" /><text x=\"878.2518749999999\" y=\"25.0\" dominant-baseline=\"middle\" text-anchor=\"middle\" font-size=\"14px\" font-family=\"Arial\">Z^x11</text><rect x=\"926.0010546874998\" y=\"55.0\" width=\"55.601171875000006\" height=\"40\" stroke=\"black\" fill=\"white\" stroke-width=\"1\" /><text x=\"953.8016406249999\" y=\"75.0\" dominant-baseline=\"middle\" text-anchor=\"middle\" font-size=\"14px\" font-family=\"Arial\">X^x12</text><rect x=\"1001.6022265624998\" y=\"55.0\" width=\"55.288359375\" height=\"40\" stroke=\"black\" fill=\"white\" stroke-width=\"1\" /><text x=\"1029.2464062499998\" y=\"75.0\" dominant-baseline=\"middle\" text-anchor=\"middle\" font-size=\"14px\" font-family=\"Arial\">Y^x13</text><rect x=\"1076.8905859374997\" y=\"55.0\" width=\"56.005859375\" height=\"40\" stroke=\"black\" fill=\"white\" stroke-width=\"1\" /><text x=\"1104.8935156249997\" y=\"75.0\" dominant-baseline=\"middle\" text-anchor=\"middle\" font-size=\"14px\" font-family=\"Arial\">Z^x14</text><rect x=\"1152.8964453124997\" y=\"105.0\" width=\"47.1664453125\" height=\"40\" stroke=\"black\" fill=\"white\" stroke-width=\"1\" /><text x=\"1176.4796679687497\" y=\"125.0\" dominant-baseline=\"middle\" text-anchor=\"middle\" font-size=\"14px\" font-family=\"Arial\">X^x0</text><rect x=\"1220.0628906249997\" y=\"105.0\" width=\"46.2105078125\" height=\"40\" stroke=\"black\" fill=\"white\" stroke-width=\"1\" /><text x=\"1243.1681445312497\" y=\"125.0\" dominant-baseline=\"middle\" text-anchor=\"middle\" font-size=\"14px\" font-family=\"Arial\">Y^x1</text><rect x=\"1286.2733984374997\" y=\"105.0\" width=\"46.48175781250001\" height=\"40\" stroke=\"black\" fill=\"white\" stroke-width=\"1\" /><text x=\"1309.5142773437497\" y=\"125.0\" dominant-baseline=\"middle\" text-anchor=\"middle\" font-size=\"14px\" font-family=\"Arial\">Z^x2</text><rect x=\"1352.7551562499998\" y=\"155.0\" width=\"46.97394531250001\" height=\"40\" stroke=\"black\" fill=\"white\" stroke-width=\"1\" /><text x=\"1376.2421289062497\" y=\"175.0\" dominant-baseline=\"middle\" text-anchor=\"middle\" font-size=\"14px\" font-family=\"Arial\">X^x3</text><rect x=\"1419.7291015624999\" y=\"155.0\" width=\"46.718007812500005\" height=\"40\" stroke=\"black\" fill=\"white\" stroke-width=\"1\" /><text x=\"1443.08810546875\" y=\"175.0\" dominant-baseline=\"middle\" text-anchor=\"middle\" font-size=\"14px\" font-family=\"Arial\">Y^x4</text><rect x=\"1486.4471093749999\" y=\"155.0\" width=\"46.6611328125\" height=\"40\" stroke=\"black\" fill=\"white\" stroke-width=\"1\" /><text x=\"1509.7776757812499\" y=\"175.0\" dominant-baseline=\"middle\" text-anchor=\"middle\" font-size=\"14px\" font-family=\"Arial\">Z^x5</text><rect x=\"1553.1082421874999\" y=\"105.0\" width=\"56.593203125\" height=\"40\" stroke=\"black\" fill=\"white\" stroke-width=\"1\" /><text x=\"1581.4048437499998\" y=\"125.0\" dominant-baseline=\"middle\" text-anchor=\"middle\" font-size=\"14px\" font-family=\"Arial\">ZZ</text><rect x=\"1553.1082421874999\" y=\"155.0\" width=\"56.593203125\" height=\"40\" stroke=\"black\" fill=\"white\" stroke-width=\"1\" /><text x=\"1581.4048437499998\" y=\"175.0\" dominant-baseline=\"middle\" text-anchor=\"middle\" font-size=\"14px\" font-family=\"Arial\">ZZ^x6</text><rect x=\"1629.7014453124998\" y=\"105.0\" width=\"54.85851562500001\" height=\"40\" stroke=\"black\" fill=\"white\" stroke-width=\"1\" /><text x=\"1657.1307031249999\" y=\"125.0\" dominant-baseline=\"middle\" text-anchor=\"middle\" font-size=\"14px\" font-family=\"Arial\">YY</text><rect x=\"1629.7014453124998\" y=\"155.0\" width=\"54.85851562500001\" height=\"40\" stroke=\"black\" fill=\"white\" stroke-width=\"1\" /><text x=\"1657.1307031249999\" y=\"175.0\" dominant-baseline=\"middle\" text-anchor=\"middle\" font-size=\"14px\" font-family=\"Arial\">YY^x7</text><rect x=\"1704.5599609375\" y=\"105.0\" width=\"56.72882812500001\" height=\"40\" stroke=\"black\" fill=\"white\" stroke-width=\"1\" /><text x=\"1732.9243749999998\" y=\"125.0\" dominant-baseline=\"middle\" text-anchor=\"middle\" font-size=\"14px\" font-family=\"Arial\">XX</text><rect x=\"1704.5599609375\" y=\"155.0\" width=\"56.72882812500001\" height=\"40\" stroke=\"black\" fill=\"white\" stroke-width=\"1\" /><text x=\"1732.9243749999998\" y=\"175.0\" dominant-baseline=\"middle\" text-anchor=\"middle\" font-size=\"14px\" font-family=\"Arial\">XX^x8</text><rect x=\"1781.2887890625\" y=\"105.0\" width=\"47.1117578125\" height=\"40\" stroke=\"black\" fill=\"white\" stroke-width=\"1\" /><text x=\"1804.84466796875\" y=\"125.0\" dominant-baseline=\"middle\" text-anchor=\"middle\" font-size=\"14px\" font-family=\"Arial\">X^x9</text><rect x=\"1848.400546875\" y=\"105.0\" width=\"55.48085937500001\" height=\"40\" stroke=\"black\" fill=\"white\" stroke-width=\"1\" /><text x=\"1876.1409765624999\" y=\"125.0\" dominant-baseline=\"middle\" text-anchor=\"middle\" font-size=\"14px\" font-family=\"Arial\">Y^x10</text><rect x=\"1923.8814062499998\" y=\"105.0\" width=\"55.49835937500001\" height=\"40\" stroke=\"black\" fill=\"white\" stroke-width=\"1\" /><text x=\"1951.6305859374997\" y=\"125.0\" dominant-baseline=\"middle\" text-anchor=\"middle\" font-size=\"14px\" font-family=\"Arial\">Z^x11</text><rect x=\"1999.379765625\" y=\"155.0\" width=\"55.601171875000006\" height=\"40\" stroke=\"black\" fill=\"white\" stroke-width=\"1\" /><text x=\"2027.1803515625\" y=\"175.0\" dominant-baseline=\"middle\" text-anchor=\"middle\" font-size=\"14px\" font-family=\"Arial\">X^x12</text><rect x=\"2074.9809375\" y=\"155.0\" width=\"55.288359375\" height=\"40\" stroke=\"black\" fill=\"white\" stroke-width=\"1\" /><text x=\"2102.6251171875\" y=\"175.0\" dominant-baseline=\"middle\" text-anchor=\"middle\" font-size=\"14px\" font-family=\"Arial\">Y^x13</text><rect x=\"2150.269296875\" y=\"155.0\" width=\"56.005859375\" height=\"40\" stroke=\"black\" fill=\"white\" stroke-width=\"1\" /><text x=\"2178.2722265625\" y=\"175.0\" dominant-baseline=\"middle\" text-anchor=\"middle\" font-size=\"14px\" font-family=\"Arial\">Z^x14</text><rect x=\"2226.27515625\" y=\"205.0\" width=\"47.1664453125\" height=\"40\" stroke=\"black\" fill=\"white\" stroke-width=\"1\" /><text x=\"2249.85837890625\" y=\"225.0\" dominant-baseline=\"middle\" text-anchor=\"middle\" font-size=\"14px\" font-family=\"Arial\">X^x0</text><rect x=\"2293.4416015624997\" y=\"205.0\" width=\"46.2105078125\" height=\"40\" stroke=\"black\" fill=\"white\" stroke-width=\"1\" /><text x=\"2316.5468554687495\" y=\"225.0\" dominant-baseline=\"middle\" text-anchor=\"middle\" font-size=\"14px\" font-family=\"Arial\">Y^x1</text><rect x=\"2359.652109375\" y=\"205.0\" width=\"46.48175781250001\" height=\"40\" stroke=\"black\" fill=\"white\" stroke-width=\"1\" /><text x=\"2382.89298828125\" y=\"225.0\" dominant-baseline=\"middle\" text-anchor=\"middle\" font-size=\"14px\" font-family=\"Arial\">Z^x2</text><rect x=\"2426.1338671874996\" y=\"255.0\" width=\"46.97394531250001\" height=\"40\" stroke=\"black\" fill=\"white\" stroke-width=\"1\" /><text x=\"2449.6208398437498\" y=\"275.0\" dominant-baseline=\"middle\" text-anchor=\"middle\" font-size=\"14px\" font-family=\"Arial\">X^x3</text><rect x=\"2493.1078124999995\" y=\"255.0\" width=\"46.718007812500005\" height=\"40\" stroke=\"black\" fill=\"white\" stroke-width=\"1\" /><text x=\"2516.4668164062496\" y=\"275.0\" dominant-baseline=\"middle\" text-anchor=\"middle\" font-size=\"14px\" font-family=\"Arial\">Y^x4</text><rect x=\"2559.8258203124997\" y=\"255.0\" width=\"46.6611328125\" height=\"40\" stroke=\"black\" fill=\"white\" stroke-width=\"1\" /><text x=\"2583.1563867187497\" y=\"275.0\" dominant-baseline=\"middle\" text-anchor=\"middle\" font-size=\"14px\" font-family=\"Arial\">Z^x5</text><rect x=\"2626.4869531249997\" y=\"205.0\" width=\"56.593203125\" height=\"40\" stroke=\"black\" fill=\"white\" stroke-width=\"1\" /><text x=\"2654.7835546875\" y=\"225.0\" dominant-baseline=\"middle\" text-anchor=\"middle\" font-size=\"14px\" font-family=\"Arial\">ZZ</text><rect x=\"2626.4869531249997\" y=\"255.0\" width=\"56.593203125\" height=\"40\" stroke=\"black\" fill=\"white\" stroke-width=\"1\" /><text x=\"2654.7835546875\" y=\"275.0\" dominant-baseline=\"middle\" text-anchor=\"middle\" font-size=\"14px\" font-family=\"Arial\">ZZ^x6</text><rect x=\"2703.0801562499996\" y=\"205.0\" width=\"54.85851562500001\" height=\"40\" stroke=\"black\" fill=\"white\" stroke-width=\"1\" /><text x=\"2730.5094140624997\" y=\"225.0\" dominant-baseline=\"middle\" text-anchor=\"middle\" font-size=\"14px\" font-family=\"Arial\">YY</text><rect x=\"2703.0801562499996\" y=\"255.0\" width=\"54.85851562500001\" height=\"40\" stroke=\"black\" fill=\"white\" stroke-width=\"1\" /><text x=\"2730.5094140624997\" y=\"275.0\" dominant-baseline=\"middle\" text-anchor=\"middle\" font-size=\"14px\" font-family=\"Arial\">YY^x7</text><rect x=\"2777.9386718749997\" y=\"205.0\" width=\"56.72882812500001\" height=\"40\" stroke=\"black\" fill=\"white\" stroke-width=\"1\" /><text x=\"2806.3030859375\" y=\"225.0\" dominant-baseline=\"middle\" text-anchor=\"middle\" font-size=\"14px\" font-family=\"Arial\">XX</text><rect x=\"2777.9386718749997\" y=\"255.0\" width=\"56.72882812500001\" height=\"40\" stroke=\"black\" fill=\"white\" stroke-width=\"1\" /><text x=\"2806.3030859375\" y=\"275.0\" dominant-baseline=\"middle\" text-anchor=\"middle\" font-size=\"14px\" font-family=\"Arial\">XX^x8</text><rect x=\"2854.6674999999996\" y=\"205.0\" width=\"47.1117578125\" height=\"40\" stroke=\"black\" fill=\"white\" stroke-width=\"1\" /><text x=\"2878.2233789062498\" y=\"225.0\" dominant-baseline=\"middle\" text-anchor=\"middle\" font-size=\"14px\" font-family=\"Arial\">X^x9</text><rect x=\"2921.7792578124995\" y=\"205.0\" width=\"55.48085937500001\" height=\"40\" stroke=\"black\" fill=\"white\" stroke-width=\"1\" /><text x=\"2949.5196874999997\" y=\"225.0\" dominant-baseline=\"middle\" text-anchor=\"middle\" font-size=\"14px\" font-family=\"Arial\">Y^x10</text><rect x=\"2997.2601171874994\" y=\"205.0\" width=\"55.49835937500001\" height=\"40\" stroke=\"black\" fill=\"white\" stroke-width=\"1\" /><text x=\"3025.0092968749996\" y=\"225.0\" dominant-baseline=\"middle\" text-anchor=\"middle\" font-size=\"14px\" font-family=\"Arial\">Z^x11</text><rect x=\"3072.7584765624993\" y=\"255.0\" width=\"55.601171875000006\" height=\"40\" stroke=\"black\" fill=\"white\" stroke-width=\"1\" /><text x=\"3100.559062499999\" y=\"275.0\" dominant-baseline=\"middle\" text-anchor=\"middle\" font-size=\"14px\" font-family=\"Arial\">X^x12</text><rect x=\"3148.3596484374993\" y=\"255.0\" width=\"55.288359375\" height=\"40\" stroke=\"black\" fill=\"white\" stroke-width=\"1\" /><text x=\"3176.0038281249995\" y=\"275.0\" dominant-baseline=\"middle\" text-anchor=\"middle\" font-size=\"14px\" font-family=\"Arial\">Y^x13</text><rect x=\"3223.648007812499\" y=\"255.0\" width=\"56.005859375\" height=\"40\" stroke=\"black\" fill=\"white\" stroke-width=\"1\" /><text x=\"3251.650937499999\" y=\"275.0\" dominant-baseline=\"middle\" text-anchor=\"middle\" font-size=\"14px\" font-family=\"Arial\">Z^x14</text><rect x=\"3299.653867187499\" y=\"305.0\" width=\"47.1664453125\" height=\"40\" stroke=\"black\" fill=\"white\" stroke-width=\"1\" /><text x=\"3323.2370898437493\" y=\"325.0\" dominant-baseline=\"middle\" text-anchor=\"middle\" font-size=\"14px\" font-family=\"Arial\">X^x0</text><rect x=\"3366.820312499999\" y=\"305.0\" width=\"46.2105078125\" height=\"40\" stroke=\"black\" fill=\"white\" stroke-width=\"1\" /><text x=\"3389.925566406249\" y=\"325.0\" dominant-baseline=\"middle\" text-anchor=\"middle\" font-size=\"14px\" font-family=\"Arial\">Y^x1</text><rect x=\"3433.030820312499\" y=\"305.0\" width=\"46.48175781250001\" height=\"40\" stroke=\"black\" fill=\"white\" stroke-width=\"1\" /><text x=\"3456.2716992187493\" y=\"325.0\" dominant-baseline=\"middle\" text-anchor=\"middle\" font-size=\"14px\" font-family=\"Arial\">Z^x2</text><rect x=\"3499.512578124999\" y=\"355.0\" width=\"46.97394531250001\" height=\"40\" stroke=\"black\" fill=\"white\" stroke-width=\"1\" /><text x=\"3522.999550781249\" y=\"375.0\" dominant-baseline=\"middle\" text-anchor=\"middle\" font-size=\"14px\" font-family=\"Arial\">X^x3</text><rect x=\"3566.486523437499\" y=\"355.0\" width=\"46.718007812500005\" height=\"40\" stroke=\"black\" fill=\"white\" stroke-width=\"1\" /><text x=\"3589.845527343749\" y=\"375.0\" dominant-baseline=\"middle\" text-anchor=\"middle\" font-size=\"14px\" font-family=\"Arial\">Y^x4</text><rect x=\"3633.204531249999\" y=\"355.0\" width=\"46.6611328125\" height=\"40\" stroke=\"black\" fill=\"white\" stroke-width=\"1\" /><text x=\"3656.535097656249\" y=\"375.0\" dominant-baseline=\"middle\" text-anchor=\"middle\" font-size=\"14px\" font-family=\"Arial\">Z^x5</text><rect x=\"3699.865664062499\" y=\"305.0\" width=\"56.593203125\" height=\"40\" stroke=\"black\" fill=\"white\" stroke-width=\"1\" /><text x=\"3728.1622656249992\" y=\"325.0\" dominant-baseline=\"middle\" text-anchor=\"middle\" font-size=\"14px\" font-family=\"Arial\">ZZ</text><rect x=\"3699.865664062499\" y=\"355.0\" width=\"56.593203125\" height=\"40\" stroke=\"black\" fill=\"white\" stroke-width=\"1\" /><text x=\"3728.1622656249992\" y=\"375.0\" dominant-baseline=\"middle\" text-anchor=\"middle\" font-size=\"14px\" font-family=\"Arial\">ZZ^x6</text><rect x=\"3776.458867187499\" y=\"305.0\" width=\"54.85851562500001\" height=\"40\" stroke=\"black\" fill=\"white\" stroke-width=\"1\" /><text x=\"3803.888124999999\" y=\"325.0\" dominant-baseline=\"middle\" text-anchor=\"middle\" font-size=\"14px\" font-family=\"Arial\">YY</text><rect x=\"3776.458867187499\" y=\"355.0\" width=\"54.85851562500001\" height=\"40\" stroke=\"black\" fill=\"white\" stroke-width=\"1\" /><text x=\"3803.888124999999\" y=\"375.0\" dominant-baseline=\"middle\" text-anchor=\"middle\" font-size=\"14px\" font-family=\"Arial\">YY^x7</text><rect x=\"3851.317382812499\" y=\"305.0\" width=\"56.72882812500001\" height=\"40\" stroke=\"black\" fill=\"white\" stroke-width=\"1\" /><text x=\"3879.6817968749992\" y=\"325.0\" dominant-baseline=\"middle\" text-anchor=\"middle\" font-size=\"14px\" font-family=\"Arial\">XX</text><rect x=\"3851.317382812499\" y=\"355.0\" width=\"56.72882812500001\" height=\"40\" stroke=\"black\" fill=\"white\" stroke-width=\"1\" /><text x=\"3879.6817968749992\" y=\"375.0\" dominant-baseline=\"middle\" text-anchor=\"middle\" font-size=\"14px\" font-family=\"Arial\">XX^x8</text><rect x=\"3928.046210937499\" y=\"305.0\" width=\"47.1117578125\" height=\"40\" stroke=\"black\" fill=\"white\" stroke-width=\"1\" /><text x=\"3951.602089843749\" y=\"325.0\" dominant-baseline=\"middle\" text-anchor=\"middle\" font-size=\"14px\" font-family=\"Arial\">X^x9</text><rect x=\"3995.157968749999\" y=\"305.0\" width=\"55.48085937500001\" height=\"40\" stroke=\"black\" fill=\"white\" stroke-width=\"1\" /><text x=\"4022.898398437499\" y=\"325.0\" dominant-baseline=\"middle\" text-anchor=\"middle\" font-size=\"14px\" font-family=\"Arial\">Y^x10</text><rect x=\"4070.6388281249983\" y=\"305.0\" width=\"55.49835937500001\" height=\"40\" stroke=\"black\" fill=\"white\" stroke-width=\"1\" /><text x=\"4098.3880078124985\" y=\"325.0\" dominant-baseline=\"middle\" text-anchor=\"middle\" font-size=\"14px\" font-family=\"Arial\">Z^x11</text><rect x=\"4146.137187499999\" y=\"355.0\" width=\"55.601171875000006\" height=\"40\" stroke=\"black\" fill=\"white\" stroke-width=\"1\" /><text x=\"4173.937773437498\" y=\"375.0\" dominant-baseline=\"middle\" text-anchor=\"middle\" font-size=\"14px\" font-family=\"Arial\">X^x12</text><rect x=\"4221.738359374998\" y=\"355.0\" width=\"55.288359375\" height=\"40\" stroke=\"black\" fill=\"white\" stroke-width=\"1\" /><text x=\"4249.382539062498\" y=\"375.0\" dominant-baseline=\"middle\" text-anchor=\"middle\" font-size=\"14px\" font-family=\"Arial\">Y^x13</text><rect x=\"4297.0267187499985\" y=\"355.0\" width=\"56.005859375\" height=\"40\" stroke=\"black\" fill=\"white\" stroke-width=\"1\" /><text x=\"4325.0296484374985\" y=\"375.0\" dominant-baseline=\"middle\" text-anchor=\"middle\" font-size=\"14px\" font-family=\"Arial\">Z^x14</text><rect x=\"4373.0325781249985\" y=\"55.0\" width=\"47.1664453125\" height=\"40\" stroke=\"black\" fill=\"white\" stroke-width=\"1\" /><text x=\"4396.615800781248\" y=\"75.0\" dominant-baseline=\"middle\" text-anchor=\"middle\" font-size=\"14px\" font-family=\"Arial\">X^x0</text><rect x=\"4440.199023437499\" y=\"55.0\" width=\"46.2105078125\" height=\"40\" stroke=\"black\" fill=\"white\" stroke-width=\"1\" /><text x=\"4463.304277343749\" y=\"75.0\" dominant-baseline=\"middle\" text-anchor=\"middle\" font-size=\"14px\" font-family=\"Arial\">Y^x1</text><rect x=\"4506.4095312499985\" y=\"55.0\" width=\"46.48175781250001\" height=\"40\" stroke=\"black\" fill=\"white\" stroke-width=\"1\" /><text x=\"4529.650410156249\" y=\"75.0\" dominant-baseline=\"middle\" text-anchor=\"middle\" font-size=\"14px\" font-family=\"Arial\">Z^x2</text><rect x=\"4572.891289062499\" y=\"105.0\" width=\"46.97394531250001\" height=\"40\" stroke=\"black\" fill=\"white\" stroke-width=\"1\" /><text x=\"4596.378261718749\" y=\"125.0\" dominant-baseline=\"middle\" text-anchor=\"middle\" font-size=\"14px\" font-family=\"Arial\">X^x3</text><rect x=\"4639.865234374999\" y=\"105.0\" width=\"46.718007812500005\" height=\"40\" stroke=\"black\" fill=\"white\" stroke-width=\"1\" /><text x=\"4663.224238281249\" y=\"125.0\" dominant-baseline=\"middle\" text-anchor=\"middle\" font-size=\"14px\" font-family=\"Arial\">Y^x4</text><rect x=\"4706.583242187499\" y=\"105.0\" width=\"46.6611328125\" height=\"40\" stroke=\"black\" fill=\"white\" stroke-width=\"1\" /><text x=\"4729.913808593749\" y=\"125.0\" dominant-baseline=\"middle\" text-anchor=\"middle\" font-size=\"14px\" font-family=\"Arial\">Z^x5</text><rect x=\"4773.244374999999\" y=\"55.0\" width=\"56.593203125\" height=\"40\" stroke=\"black\" fill=\"white\" stroke-width=\"1\" /><text x=\"4801.540976562499\" y=\"75.0\" dominant-baseline=\"middle\" text-anchor=\"middle\" font-size=\"14px\" font-family=\"Arial\">ZZ</text><rect x=\"4773.244374999999\" y=\"105.0\" width=\"56.593203125\" height=\"40\" stroke=\"black\" fill=\"white\" stroke-width=\"1\" /><text x=\"4801.540976562499\" y=\"125.0\" dominant-baseline=\"middle\" text-anchor=\"middle\" font-size=\"14px\" font-family=\"Arial\">ZZ^x6</text><rect x=\"4849.837578125\" y=\"55.0\" width=\"54.85851562500001\" height=\"40\" stroke=\"black\" fill=\"white\" stroke-width=\"1\" /><text x=\"4877.266835937499\" y=\"75.0\" dominant-baseline=\"middle\" text-anchor=\"middle\" font-size=\"14px\" font-family=\"Arial\">YY</text><rect x=\"4849.837578125\" y=\"105.0\" width=\"54.85851562500001\" height=\"40\" stroke=\"black\" fill=\"white\" stroke-width=\"1\" /><text x=\"4877.266835937499\" y=\"125.0\" dominant-baseline=\"middle\" text-anchor=\"middle\" font-size=\"14px\" font-family=\"Arial\">YY^x7</text><rect x=\"4924.69609375\" y=\"55.0\" width=\"56.72882812500001\" height=\"40\" stroke=\"black\" fill=\"white\" stroke-width=\"1\" /><text x=\"4953.0605078125\" y=\"75.0\" dominant-baseline=\"middle\" text-anchor=\"middle\" font-size=\"14px\" font-family=\"Arial\">XX</text><rect x=\"4924.69609375\" y=\"105.0\" width=\"56.72882812500001\" height=\"40\" stroke=\"black\" fill=\"white\" stroke-width=\"1\" /><text x=\"4953.0605078125\" y=\"125.0\" dominant-baseline=\"middle\" text-anchor=\"middle\" font-size=\"14px\" font-family=\"Arial\">XX^x8</text><rect x=\"5001.424921875\" y=\"55.0\" width=\"47.1117578125\" height=\"40\" stroke=\"black\" fill=\"white\" stroke-width=\"1\" /><text x=\"5024.98080078125\" y=\"75.0\" dominant-baseline=\"middle\" text-anchor=\"middle\" font-size=\"14px\" font-family=\"Arial\">X^x9</text><rect x=\"5068.5366796875005\" y=\"55.0\" width=\"55.48085937500001\" height=\"40\" stroke=\"black\" fill=\"white\" stroke-width=\"1\" /><text x=\"5096.277109375001\" y=\"75.0\" dominant-baseline=\"middle\" text-anchor=\"middle\" font-size=\"14px\" font-family=\"Arial\">Y^x10</text><rect x=\"5144.017539062501\" y=\"55.0\" width=\"55.49835937500001\" height=\"40\" stroke=\"black\" fill=\"white\" stroke-width=\"1\" /><text x=\"5171.766718750001\" y=\"75.0\" dominant-baseline=\"middle\" text-anchor=\"middle\" font-size=\"14px\" font-family=\"Arial\">Z^x11</text><rect x=\"5219.515898437501\" y=\"105.0\" width=\"55.601171875000006\" height=\"40\" stroke=\"black\" fill=\"white\" stroke-width=\"1\" /><text x=\"5247.316484375001\" y=\"125.0\" dominant-baseline=\"middle\" text-anchor=\"middle\" font-size=\"14px\" font-family=\"Arial\">X^x12</text><rect x=\"5295.117070312501\" y=\"105.0\" width=\"55.288359375\" height=\"40\" stroke=\"black\" fill=\"white\" stroke-width=\"1\" /><text x=\"5322.7612500000005\" y=\"125.0\" dominant-baseline=\"middle\" text-anchor=\"middle\" font-size=\"14px\" font-family=\"Arial\">Y^x13</text><rect x=\"5370.405429687501\" y=\"105.0\" width=\"56.005859375\" height=\"40\" stroke=\"black\" fill=\"white\" stroke-width=\"1\" /><text x=\"5398.408359375001\" y=\"125.0\" dominant-baseline=\"middle\" text-anchor=\"middle\" font-size=\"14px\" font-family=\"Arial\">Z^x14</text><rect x=\"5446.411289062501\" y=\"155.0\" width=\"47.1664453125\" height=\"40\" stroke=\"black\" fill=\"white\" stroke-width=\"1\" /><text x=\"5469.994511718751\" y=\"175.0\" dominant-baseline=\"middle\" text-anchor=\"middle\" font-size=\"14px\" font-family=\"Arial\">X^x0</text><rect x=\"5513.5777343750015\" y=\"155.0\" width=\"46.2105078125\" height=\"40\" stroke=\"black\" fill=\"white\" stroke-width=\"1\" /><text x=\"5536.682988281252\" y=\"175.0\" dominant-baseline=\"middle\" text-anchor=\"middle\" font-size=\"14px\" font-family=\"Arial\">Y^x1</text><rect x=\"5579.788242187501\" y=\"155.0\" width=\"46.48175781250001\" height=\"40\" stroke=\"black\" fill=\"white\" stroke-width=\"1\" /><text x=\"5603.029121093751\" y=\"175.0\" dominant-baseline=\"middle\" text-anchor=\"middle\" font-size=\"14px\" font-family=\"Arial\">Z^x2</text><rect x=\"5646.270000000001\" y=\"205.0\" width=\"46.97394531250001\" height=\"40\" stroke=\"black\" fill=\"white\" stroke-width=\"1\" /><text x=\"5669.7569726562515\" y=\"225.0\" dominant-baseline=\"middle\" text-anchor=\"middle\" font-size=\"14px\" font-family=\"Arial\">X^x3</text><rect x=\"5713.243945312502\" y=\"205.0\" width=\"46.718007812500005\" height=\"40\" stroke=\"black\" fill=\"white\" stroke-width=\"1\" /><text x=\"5736.602949218752\" y=\"225.0\" dominant-baseline=\"middle\" text-anchor=\"middle\" font-size=\"14px\" font-family=\"Arial\">Y^x4</text><rect x=\"5779.961953125002\" y=\"205.0\" width=\"46.6611328125\" height=\"40\" stroke=\"black\" fill=\"white\" stroke-width=\"1\" /><text x=\"5803.292519531252\" y=\"225.0\" dominant-baseline=\"middle\" text-anchor=\"middle\" font-size=\"14px\" font-family=\"Arial\">Z^x5</text><rect x=\"5846.623085937502\" y=\"155.0\" width=\"56.593203125\" height=\"40\" stroke=\"black\" fill=\"white\" stroke-width=\"1\" /><text x=\"5874.919687500002\" y=\"175.0\" dominant-baseline=\"middle\" text-anchor=\"middle\" font-size=\"14px\" font-family=\"Arial\">ZZ</text><rect x=\"5846.623085937502\" y=\"205.0\" width=\"56.593203125\" height=\"40\" stroke=\"black\" fill=\"white\" stroke-width=\"1\" /><text x=\"5874.919687500002\" y=\"225.0\" dominant-baseline=\"middle\" text-anchor=\"middle\" font-size=\"14px\" font-family=\"Arial\">ZZ^x6</text><rect x=\"5923.216289062502\" y=\"155.0\" width=\"54.85851562500001\" height=\"40\" stroke=\"black\" fill=\"white\" stroke-width=\"1\" /><text x=\"5950.645546875002\" y=\"175.0\" dominant-baseline=\"middle\" text-anchor=\"middle\" font-size=\"14px\" font-family=\"Arial\">YY</text><rect x=\"5923.216289062502\" y=\"205.0\" width=\"54.85851562500001\" height=\"40\" stroke=\"black\" fill=\"white\" stroke-width=\"1\" /><text x=\"5950.645546875002\" y=\"225.0\" dominant-baseline=\"middle\" text-anchor=\"middle\" font-size=\"14px\" font-family=\"Arial\">YY^x7</text><rect x=\"5998.074804687502\" y=\"155.0\" width=\"56.72882812500001\" height=\"40\" stroke=\"black\" fill=\"white\" stroke-width=\"1\" /><text x=\"6026.4392187500025\" y=\"175.0\" dominant-baseline=\"middle\" text-anchor=\"middle\" font-size=\"14px\" font-family=\"Arial\">XX</text><rect x=\"5998.074804687502\" y=\"205.0\" width=\"56.72882812500001\" height=\"40\" stroke=\"black\" fill=\"white\" stroke-width=\"1\" /><text x=\"6026.4392187500025\" y=\"225.0\" dominant-baseline=\"middle\" text-anchor=\"middle\" font-size=\"14px\" font-family=\"Arial\">XX^x8</text><rect x=\"6074.803632812503\" y=\"155.0\" width=\"47.1117578125\" height=\"40\" stroke=\"black\" fill=\"white\" stroke-width=\"1\" /><text x=\"6098.359511718752\" y=\"175.0\" dominant-baseline=\"middle\" text-anchor=\"middle\" font-size=\"14px\" font-family=\"Arial\">X^x9</text><rect x=\"6141.915390625003\" y=\"155.0\" width=\"55.48085937500001\" height=\"40\" stroke=\"black\" fill=\"white\" stroke-width=\"1\" /><text x=\"6169.655820312503\" y=\"175.0\" dominant-baseline=\"middle\" text-anchor=\"middle\" font-size=\"14px\" font-family=\"Arial\">Y^x10</text><rect x=\"6217.396250000003\" y=\"155.0\" width=\"55.49835937500001\" height=\"40\" stroke=\"black\" fill=\"white\" stroke-width=\"1\" /><text x=\"6245.145429687504\" y=\"175.0\" dominant-baseline=\"middle\" text-anchor=\"middle\" font-size=\"14px\" font-family=\"Arial\">Z^x11</text><rect x=\"6292.894609375004\" y=\"205.0\" width=\"55.601171875000006\" height=\"40\" stroke=\"black\" fill=\"white\" stroke-width=\"1\" /><text x=\"6320.6951953125035\" y=\"225.0\" dominant-baseline=\"middle\" text-anchor=\"middle\" font-size=\"14px\" font-family=\"Arial\">X^x12</text><rect x=\"6368.495781250003\" y=\"205.0\" width=\"55.288359375\" height=\"40\" stroke=\"black\" fill=\"white\" stroke-width=\"1\" /><text x=\"6396.139960937503\" y=\"225.0\" dominant-baseline=\"middle\" text-anchor=\"middle\" font-size=\"14px\" font-family=\"Arial\">Y^x13</text><rect x=\"6443.784140625004\" y=\"205.0\" width=\"56.005859375\" height=\"40\" stroke=\"black\" fill=\"white\" stroke-width=\"1\" /><text x=\"6471.787070312504\" y=\"225.0\" dominant-baseline=\"middle\" text-anchor=\"middle\" font-size=\"14px\" font-family=\"Arial\">Z^x14</text><rect x=\"6519.790000000004\" y=\"255.0\" width=\"47.1664453125\" height=\"40\" stroke=\"black\" fill=\"white\" stroke-width=\"1\" /><text x=\"6543.373222656253\" y=\"275.0\" dominant-baseline=\"middle\" text-anchor=\"middle\" font-size=\"14px\" font-family=\"Arial\">X^x0</text><rect x=\"6586.956445312504\" y=\"255.0\" width=\"46.2105078125\" height=\"40\" stroke=\"black\" fill=\"white\" stroke-width=\"1\" /><text x=\"6610.061699218754\" y=\"275.0\" dominant-baseline=\"middle\" text-anchor=\"middle\" font-size=\"14px\" font-family=\"Arial\">Y^x1</text><rect x=\"6653.166953125004\" y=\"255.0\" width=\"46.48175781250001\" height=\"40\" stroke=\"black\" fill=\"white\" stroke-width=\"1\" /><text x=\"6676.407832031254\" y=\"275.0\" dominant-baseline=\"middle\" text-anchor=\"middle\" font-size=\"14px\" font-family=\"Arial\">Z^x2</text><rect x=\"6719.648710937504\" y=\"305.0\" width=\"46.97394531250001\" height=\"40\" stroke=\"black\" fill=\"white\" stroke-width=\"1\" /><text x=\"6743.135683593754\" y=\"325.0\" dominant-baseline=\"middle\" text-anchor=\"middle\" font-size=\"14px\" font-family=\"Arial\">X^x3</text><rect x=\"6786.622656250004\" y=\"305.0\" width=\"46.718007812500005\" height=\"40\" stroke=\"black\" fill=\"white\" stroke-width=\"1\" /><text x=\"6809.981660156254\" y=\"325.0\" dominant-baseline=\"middle\" text-anchor=\"middle\" font-size=\"14px\" font-family=\"Arial\">Y^x4</text><rect x=\"6853.340664062504\" y=\"305.0\" width=\"46.6611328125\" height=\"40\" stroke=\"black\" fill=\"white\" stroke-width=\"1\" /><text x=\"6876.671230468754\" y=\"325.0\" dominant-baseline=\"middle\" text-anchor=\"middle\" font-size=\"14px\" font-family=\"Arial\">Z^x5</text><rect x=\"6920.001796875004\" y=\"255.0\" width=\"56.593203125\" height=\"40\" stroke=\"black\" fill=\"white\" stroke-width=\"1\" /><text x=\"6948.298398437504\" y=\"275.0\" dominant-baseline=\"middle\" text-anchor=\"middle\" font-size=\"14px\" font-family=\"Arial\">ZZ</text><rect x=\"6920.001796875004\" y=\"305.0\" width=\"56.593203125\" height=\"40\" stroke=\"black\" fill=\"white\" stroke-width=\"1\" /><text x=\"6948.298398437504\" y=\"325.0\" dominant-baseline=\"middle\" text-anchor=\"middle\" font-size=\"14px\" font-family=\"Arial\">ZZ^x6</text><rect x=\"6996.595000000005\" y=\"255.0\" width=\"54.85851562500001\" height=\"40\" stroke=\"black\" fill=\"white\" stroke-width=\"1\" /><text x=\"7024.024257812504\" y=\"275.0\" dominant-baseline=\"middle\" text-anchor=\"middle\" font-size=\"14px\" font-family=\"Arial\">YY</text><rect x=\"6996.595000000005\" y=\"305.0\" width=\"54.85851562500001\" height=\"40\" stroke=\"black\" fill=\"white\" stroke-width=\"1\" /><text x=\"7024.024257812504\" y=\"325.0\" dominant-baseline=\"middle\" text-anchor=\"middle\" font-size=\"14px\" font-family=\"Arial\">YY^x7</text><rect x=\"7071.453515625005\" y=\"255.0\" width=\"56.72882812500001\" height=\"40\" stroke=\"black\" fill=\"white\" stroke-width=\"1\" /><text x=\"7099.817929687505\" y=\"275.0\" dominant-baseline=\"middle\" text-anchor=\"middle\" font-size=\"14px\" font-family=\"Arial\">XX</text><rect x=\"7071.453515625005\" y=\"305.0\" width=\"56.72882812500001\" height=\"40\" stroke=\"black\" fill=\"white\" stroke-width=\"1\" /><text x=\"7099.817929687505\" y=\"325.0\" dominant-baseline=\"middle\" text-anchor=\"middle\" font-size=\"14px\" font-family=\"Arial\">XX^x8</text><rect x=\"7148.182343750005\" y=\"255.0\" width=\"47.1117578125\" height=\"40\" stroke=\"black\" fill=\"white\" stroke-width=\"1\" /><text x=\"7171.738222656255\" y=\"275.0\" dominant-baseline=\"middle\" text-anchor=\"middle\" font-size=\"14px\" font-family=\"Arial\">X^x9</text><rect x=\"7215.294101562506\" y=\"255.0\" width=\"55.48085937500001\" height=\"40\" stroke=\"black\" fill=\"white\" stroke-width=\"1\" /><text x=\"7243.034531250006\" y=\"275.0\" dominant-baseline=\"middle\" text-anchor=\"middle\" font-size=\"14px\" font-family=\"Arial\">Y^x10</text><rect x=\"7290.774960937506\" y=\"255.0\" width=\"55.49835937500001\" height=\"40\" stroke=\"black\" fill=\"white\" stroke-width=\"1\" /><text x=\"7318.524140625006\" y=\"275.0\" dominant-baseline=\"middle\" text-anchor=\"middle\" font-size=\"14px\" font-family=\"Arial\">Z^x11</text><rect x=\"7366.273320312506\" y=\"305.0\" width=\"55.601171875000006\" height=\"40\" stroke=\"black\" fill=\"white\" stroke-width=\"1\" /><text x=\"7394.073906250006\" y=\"325.0\" dominant-baseline=\"middle\" text-anchor=\"middle\" font-size=\"14px\" font-family=\"Arial\">X^x12</text><rect x=\"7441.874492187506\" y=\"305.0\" width=\"55.288359375\" height=\"40\" stroke=\"black\" fill=\"white\" stroke-width=\"1\" /><text x=\"7469.518671875006\" y=\"325.0\" dominant-baseline=\"middle\" text-anchor=\"middle\" font-size=\"14px\" font-family=\"Arial\">Y^x13</text><rect x=\"7517.162851562506\" y=\"305.0\" width=\"56.005859375\" height=\"40\" stroke=\"black\" fill=\"white\" stroke-width=\"1\" /><text x=\"7545.165781250006\" y=\"325.0\" dominant-baseline=\"middle\" text-anchor=\"middle\" font-size=\"14px\" font-family=\"Arial\">Z^x14</text><rect x=\"7593.168710937506\" y=\"355.0\" width=\"47.1664453125\" height=\"40\" stroke=\"black\" fill=\"white\" stroke-width=\"1\" /><text x=\"7616.751933593756\" y=\"375.0\" dominant-baseline=\"middle\" text-anchor=\"middle\" font-size=\"14px\" font-family=\"Arial\">X^x0</text><rect x=\"7660.335156250007\" y=\"355.0\" width=\"46.2105078125\" height=\"40\" stroke=\"black\" fill=\"white\" stroke-width=\"1\" /><text x=\"7683.440410156257\" y=\"375.0\" dominant-baseline=\"middle\" text-anchor=\"middle\" font-size=\"14px\" font-family=\"Arial\">Y^x1</text><rect x=\"7726.545664062506\" y=\"355.0\" width=\"46.48175781250001\" height=\"40\" stroke=\"black\" fill=\"white\" stroke-width=\"1\" /><text x=\"7749.786542968756\" y=\"375.0\" dominant-baseline=\"middle\" text-anchor=\"middle\" font-size=\"14px\" font-family=\"Arial\">Z^x2</text><rect x=\"7793.027421875006\" y=\"5.0\" width=\"46.97394531250001\" height=\"40\" stroke=\"black\" fill=\"white\" stroke-width=\"1\" /><text x=\"7816.514394531257\" y=\"25.0\" dominant-baseline=\"middle\" text-anchor=\"middle\" font-size=\"14px\" font-family=\"Arial\">X^x3</text><rect x=\"7860.001367187507\" y=\"5.0\" width=\"46.718007812500005\" height=\"40\" stroke=\"black\" fill=\"white\" stroke-width=\"1\" /><text x=\"7883.360371093757\" y=\"25.0\" dominant-baseline=\"middle\" text-anchor=\"middle\" font-size=\"14px\" font-family=\"Arial\">Y^x4</text><rect x=\"7926.719375000007\" y=\"5.0\" width=\"46.6611328125\" height=\"40\" stroke=\"black\" fill=\"white\" stroke-width=\"1\" /><text x=\"7950.049941406257\" y=\"25.0\" dominant-baseline=\"middle\" text-anchor=\"middle\" font-size=\"14px\" font-family=\"Arial\">Z^x5</text><rect x=\"7993.380507812507\" y=\"355.0\" width=\"56.593203125\" height=\"40\" stroke=\"black\" fill=\"white\" stroke-width=\"1\" /><text x=\"8021.677109375007\" y=\"375.0\" dominant-baseline=\"middle\" text-anchor=\"middle\" font-size=\"14px\" font-family=\"Arial\">ZZ^x6</text><rect x=\"7993.380507812507\" y=\"5.0\" width=\"56.593203125\" height=\"40\" stroke=\"black\" fill=\"white\" stroke-width=\"1\" /><text x=\"8021.677109375007\" y=\"25.0\" dominant-baseline=\"middle\" text-anchor=\"middle\" font-size=\"14px\" font-family=\"Arial\">ZZ</text><rect x=\"8069.973710937507\" y=\"355.0\" width=\"54.85851562500001\" height=\"40\" stroke=\"black\" fill=\"white\" stroke-width=\"1\" /><text x=\"8097.402968750007\" y=\"375.0\" dominant-baseline=\"middle\" text-anchor=\"middle\" font-size=\"14px\" font-family=\"Arial\">YY^x7</text><rect x=\"8069.973710937507\" y=\"5.0\" width=\"54.85851562500001\" height=\"40\" stroke=\"black\" fill=\"white\" stroke-width=\"1\" /><text x=\"8097.402968750007\" y=\"25.0\" dominant-baseline=\"middle\" text-anchor=\"middle\" font-size=\"14px\" font-family=\"Arial\">YY</text><rect x=\"8144.8322265625075\" y=\"355.0\" width=\"56.72882812500001\" height=\"40\" stroke=\"black\" fill=\"white\" stroke-width=\"1\" /><text x=\"8173.196640625008\" y=\"375.0\" dominant-baseline=\"middle\" text-anchor=\"middle\" font-size=\"14px\" font-family=\"Arial\">XX^x8</text><rect x=\"8144.8322265625075\" y=\"5.0\" width=\"56.72882812500001\" height=\"40\" stroke=\"black\" fill=\"white\" stroke-width=\"1\" /><text x=\"8173.196640625008\" y=\"25.0\" dominant-baseline=\"middle\" text-anchor=\"middle\" font-size=\"14px\" font-family=\"Arial\">XX</text><rect x=\"8221.561054687507\" y=\"355.0\" width=\"47.1117578125\" height=\"40\" stroke=\"black\" fill=\"white\" stroke-width=\"1\" /><text x=\"8245.116933593757\" y=\"375.0\" dominant-baseline=\"middle\" text-anchor=\"middle\" font-size=\"14px\" font-family=\"Arial\">X^x9</text><rect x=\"8288.672812500006\" y=\"355.0\" width=\"55.48085937500001\" height=\"40\" stroke=\"black\" fill=\"white\" stroke-width=\"1\" /><text x=\"8316.413242187506\" y=\"375.0\" dominant-baseline=\"middle\" text-anchor=\"middle\" font-size=\"14px\" font-family=\"Arial\">Y^x10</text><rect x=\"8364.153671875007\" y=\"355.0\" width=\"55.49835937500001\" height=\"40\" stroke=\"black\" fill=\"white\" stroke-width=\"1\" /><text x=\"8391.902851562507\" y=\"375.0\" dominant-baseline=\"middle\" text-anchor=\"middle\" font-size=\"14px\" font-family=\"Arial\">Z^x11</text><rect x=\"8439.652031250007\" y=\"5.0\" width=\"55.601171875000006\" height=\"40\" stroke=\"black\" fill=\"white\" stroke-width=\"1\" /><text x=\"8467.452617187508\" y=\"25.0\" dominant-baseline=\"middle\" text-anchor=\"middle\" font-size=\"14px\" font-family=\"Arial\">X^x12</text><rect x=\"8515.253203125007\" y=\"5.0\" width=\"55.288359375\" height=\"40\" stroke=\"black\" fill=\"white\" stroke-width=\"1\" /><text x=\"8542.897382812507\" y=\"25.0\" dominant-baseline=\"middle\" text-anchor=\"middle\" font-size=\"14px\" font-family=\"Arial\">Y^x13</text><rect x=\"8590.541562500006\" y=\"5.0\" width=\"56.005859375\" height=\"40\" stroke=\"black\" fill=\"white\" stroke-width=\"1\" /><text x=\"8618.544492187506\" y=\"25.0\" dominant-baseline=\"middle\" text-anchor=\"middle\" font-size=\"14px\" font-family=\"Arial\">Z^x14</text></svg>"
      ],
      "text/plain": [
       "<cirq.contrib.svg.svg.SVGCircuit at 0x7f4f94ed8c50>"
      ]
     },
     "execution_count": 18,
     "metadata": {},
     "output_type": "execute_result"
    }
   ],
   "source": [
    "SVGCircuit(quantum_conv_circuit(cirq.GridQubit.rect(1, 8), sympy.symbols('x0:15')))"
   ]
  },
  {
   "cell_type": "markdown",
   "id": "32be36e5",
   "metadata": {},
   "source": [
    "We will need a Quantum Pooling circuit to reduce the number of qubits as we progress along the circuit. It takes N qubits to N/2 qubits."
   ]
  },
  {
   "cell_type": "code",
   "execution_count": 19,
   "id": "2fad0f63",
   "metadata": {
    "ExecuteTime": {
     "end_time": "2022-05-13T08:26:44.548375Z",
     "start_time": "2022-05-13T08:26:44.538779Z"
    }
   },
   "outputs": [],
   "source": [
    "def quantum_pool_circuit(source_bits, sink_bits, symbols):\n",
    "    \"\"\"A layer that specifies a quantum pooling operation.\n",
    "    A Quantum pool tries to learn to pool the relevant information from two\n",
    "    qubits onto 1.\n",
    "    \"\"\"\n",
    "    circuit = cirq.Circuit()\n",
    "    for source, sink in zip(source_bits, sink_bits):\n",
    "        circuit += two_qubit_pool(source, sink, symbols)\n",
    "    return circuit"
   ]
  },
  {
   "cell_type": "code",
   "execution_count": 20,
   "id": "ec9e8109",
   "metadata": {
    "ExecuteTime": {
     "end_time": "2022-05-13T08:26:45.505536Z",
     "start_time": "2022-05-13T08:26:44.551810Z"
    }
   },
   "outputs": [
    {
     "data": {
      "image/svg+xml": [
       "<svg xmlns=\"http://www.w3.org/2000/svg\" width=\"2941.5680468749997\" height=\"400.0\"><line x1=\"34.7588671875\" x2=\"2911.5680468749997\" y1=\"25.0\" y2=\"25.0\" stroke=\"#1967d2\" stroke-width=\"1\" /><line x1=\"34.7588671875\" x2=\"2911.5680468749997\" y1=\"75.0\" y2=\"75.0\" stroke=\"#1967d2\" stroke-width=\"1\" /><line x1=\"34.7588671875\" x2=\"2911.5680468749997\" y1=\"125.0\" y2=\"125.0\" stroke=\"#1967d2\" stroke-width=\"1\" /><line x1=\"34.7588671875\" x2=\"2911.5680468749997\" y1=\"175.0\" y2=\"175.0\" stroke=\"#1967d2\" stroke-width=\"1\" /><line x1=\"34.7588671875\" x2=\"2911.5680468749997\" y1=\"225.0\" y2=\"225.0\" stroke=\"#1967d2\" stroke-width=\"1\" /><line x1=\"34.7588671875\" x2=\"2911.5680468749997\" y1=\"275.0\" y2=\"275.0\" stroke=\"#1967d2\" stroke-width=\"1\" /><line x1=\"34.7588671875\" x2=\"2911.5680468749997\" y1=\"325.0\" y2=\"325.0\" stroke=\"#1967d2\" stroke-width=\"1\" /><line x1=\"34.7588671875\" x2=\"2911.5680468749997\" y1=\"375.0\" y2=\"375.0\" stroke=\"#1967d2\" stroke-width=\"1\" /><line x1=\"499.72953125\" x2=\"499.72953125\" y1=\"25.0\" y2=\"225.0\" stroke=\"black\" stroke-width=\"3\" /><line x1=\"1207.7421093750002\" x2=\"1207.7421093750002\" y1=\"75.0\" y2=\"275.0\" stroke=\"black\" stroke-width=\"3\" /><line x1=\"1915.7546875\" x2=\"1915.7546875\" y1=\"125.0\" y2=\"325.0\" stroke=\"black\" stroke-width=\"3\" /><line x1=\"2623.7672656249997\" x2=\"2623.7672656249997\" y1=\"175.0\" y2=\"375.0\" stroke=\"black\" stroke-width=\"3\" /><rect x=\"10.0\" y=\"5.0\" width=\"49.517734375\" height=\"40\" stroke=\"black\" fill=\"white\" stroke-width=\"0\" /><text x=\"34.7588671875\" y=\"25.0\" dominant-baseline=\"middle\" text-anchor=\"middle\" font-size=\"14px\" font-family=\"Arial\">(0, 0): </text><rect x=\"10.0\" y=\"55.0\" width=\"49.517734375\" height=\"40\" stroke=\"black\" fill=\"white\" stroke-width=\"0\" /><text x=\"34.7588671875\" y=\"75.0\" dominant-baseline=\"middle\" text-anchor=\"middle\" font-size=\"14px\" font-family=\"Arial\">(0, 1): </text><rect x=\"10.0\" y=\"105.0\" width=\"49.517734375\" height=\"40\" stroke=\"black\" fill=\"white\" stroke-width=\"0\" /><text x=\"34.7588671875\" y=\"125.0\" dominant-baseline=\"middle\" text-anchor=\"middle\" font-size=\"14px\" font-family=\"Arial\">(0, 2): </text><rect x=\"10.0\" y=\"155.0\" width=\"49.517734375\" height=\"40\" stroke=\"black\" fill=\"white\" stroke-width=\"0\" /><text x=\"34.7588671875\" y=\"175.0\" dominant-baseline=\"middle\" text-anchor=\"middle\" font-size=\"14px\" font-family=\"Arial\">(0, 3): </text><rect x=\"10.0\" y=\"205.0\" width=\"49.517734375\" height=\"40\" stroke=\"black\" fill=\"white\" stroke-width=\"0\" /><text x=\"34.7588671875\" y=\"225.0\" dominant-baseline=\"middle\" text-anchor=\"middle\" font-size=\"14px\" font-family=\"Arial\">(0, 4): </text><rect x=\"10.0\" y=\"255.0\" width=\"49.517734375\" height=\"40\" stroke=\"black\" fill=\"white\" stroke-width=\"0\" /><text x=\"34.7588671875\" y=\"275.0\" dominant-baseline=\"middle\" text-anchor=\"middle\" font-size=\"14px\" font-family=\"Arial\">(0, 5): </text><rect x=\"10.0\" y=\"305.0\" width=\"49.517734375\" height=\"40\" stroke=\"black\" fill=\"white\" stroke-width=\"0\" /><text x=\"34.7588671875\" y=\"325.0\" dominant-baseline=\"middle\" text-anchor=\"middle\" font-size=\"14px\" font-family=\"Arial\">(0, 6): </text><rect x=\"10.0\" y=\"355.0\" width=\"49.517734375\" height=\"40\" stroke=\"black\" fill=\"white\" stroke-width=\"0\" /><text x=\"34.7588671875\" y=\"375.0\" dominant-baseline=\"middle\" text-anchor=\"middle\" font-size=\"14px\" font-family=\"Arial\">(0, 7): </text><rect x=\"79.517734375\" y=\"205.0\" width=\"47.1664453125\" height=\"40\" stroke=\"black\" fill=\"white\" stroke-width=\"1\" /><text x=\"103.10095703125\" y=\"225.0\" dominant-baseline=\"middle\" text-anchor=\"middle\" font-size=\"14px\" font-family=\"Arial\">X^x0</text><rect x=\"146.6841796875\" y=\"205.0\" width=\"46.2105078125\" height=\"40\" stroke=\"black\" fill=\"white\" stroke-width=\"1\" /><text x=\"169.78943359375\" y=\"225.0\" dominant-baseline=\"middle\" text-anchor=\"middle\" font-size=\"14px\" font-family=\"Arial\">Y^x1</text><rect x=\"212.8946875\" y=\"205.0\" width=\"46.48175781250001\" height=\"40\" stroke=\"black\" fill=\"white\" stroke-width=\"1\" /><text x=\"236.13556640625\" y=\"225.0\" dominant-baseline=\"middle\" text-anchor=\"middle\" font-size=\"14px\" font-family=\"Arial\">Z^x2</text><rect x=\"279.3764453125\" y=\"5.0\" width=\"46.97394531250001\" height=\"40\" stroke=\"black\" fill=\"white\" stroke-width=\"1\" /><text x=\"302.86341796875\" y=\"25.0\" dominant-baseline=\"middle\" text-anchor=\"middle\" font-size=\"14px\" font-family=\"Arial\">X^x3</text><rect x=\"346.350390625\" y=\"5.0\" width=\"46.718007812500005\" height=\"40\" stroke=\"black\" fill=\"white\" stroke-width=\"1\" /><text x=\"369.70939453125\" y=\"25.0\" dominant-baseline=\"middle\" text-anchor=\"middle\" font-size=\"14px\" font-family=\"Arial\">Y^x4</text><rect x=\"413.0683984375\" y=\"5.0\" width=\"46.6611328125\" height=\"40\" stroke=\"black\" fill=\"white\" stroke-width=\"1\" /><text x=\"436.39896484375\" y=\"25.0\" dominant-baseline=\"middle\" text-anchor=\"middle\" font-size=\"14px\" font-family=\"Arial\">Z^x5</text><circle cx=\"499.72953125\" cy=\"25.0\" r=\"10.0\" /><rect x=\"479.72953125\" y=\"205.0\" width=\"40\" height=\"40\" stroke=\"black\" fill=\"white\" stroke-width=\"1\" /><text x=\"499.72953125\" y=\"225.0\" dominant-baseline=\"middle\" text-anchor=\"middle\" font-size=\"18px\" font-family=\"Arial\">X</text><rect x=\"539.72953125\" y=\"205.0\" width=\"62.65640625\" height=\"40\" stroke=\"black\" fill=\"white\" stroke-width=\"1\" /><text x=\"571.057734375\" y=\"225.0\" dominant-baseline=\"middle\" text-anchor=\"middle\" font-size=\"14px\" font-family=\"Arial\">Z^(-x2)</text><rect x=\"622.3859375000001\" y=\"205.0\" width=\"62.27578125000001\" height=\"40\" stroke=\"black\" fill=\"white\" stroke-width=\"1\" /><text x=\"653.523828125\" y=\"225.0\" dominant-baseline=\"middle\" text-anchor=\"middle\" font-size=\"14px\" font-family=\"Arial\">Y^(-x1)</text><rect x=\"704.6617187500001\" y=\"205.0\" width=\"62.86859375\" height=\"40\" stroke=\"black\" fill=\"white\" stroke-width=\"1\" /><text x=\"736.0960156250001\" y=\"225.0\" dominant-baseline=\"middle\" text-anchor=\"middle\" font-size=\"14px\" font-family=\"Arial\">X^(-x0)</text><rect x=\"787.5303125\" y=\"255.0\" width=\"47.1664453125\" height=\"40\" stroke=\"black\" fill=\"white\" stroke-width=\"1\" /><text x=\"811.11353515625\" y=\"275.0\" dominant-baseline=\"middle\" text-anchor=\"middle\" font-size=\"14px\" font-family=\"Arial\">X^x0</text><rect x=\"854.6967578125\" y=\"255.0\" width=\"46.2105078125\" height=\"40\" stroke=\"black\" fill=\"white\" stroke-width=\"1\" /><text x=\"877.80201171875\" y=\"275.0\" dominant-baseline=\"middle\" text-anchor=\"middle\" font-size=\"14px\" font-family=\"Arial\">Y^x1</text><rect x=\"920.907265625\" y=\"255.0\" width=\"46.48175781250001\" height=\"40\" stroke=\"black\" fill=\"white\" stroke-width=\"1\" /><text x=\"944.1481445312501\" y=\"275.0\" dominant-baseline=\"middle\" text-anchor=\"middle\" font-size=\"14px\" font-family=\"Arial\">Z^x2</text><rect x=\"987.3890234375001\" y=\"55.0\" width=\"46.97394531250001\" height=\"40\" stroke=\"black\" fill=\"white\" stroke-width=\"1\" /><text x=\"1010.8759960937501\" y=\"75.0\" dominant-baseline=\"middle\" text-anchor=\"middle\" font-size=\"14px\" font-family=\"Arial\">X^x3</text><rect x=\"1054.3629687500002\" y=\"55.0\" width=\"46.718007812500005\" height=\"40\" stroke=\"black\" fill=\"white\" stroke-width=\"1\" /><text x=\"1077.7219726562503\" y=\"75.0\" dominant-baseline=\"middle\" text-anchor=\"middle\" font-size=\"14px\" font-family=\"Arial\">Y^x4</text><rect x=\"1121.0809765625002\" y=\"55.0\" width=\"46.6611328125\" height=\"40\" stroke=\"black\" fill=\"white\" stroke-width=\"1\" /><text x=\"1144.4115429687502\" y=\"75.0\" dominant-baseline=\"middle\" text-anchor=\"middle\" font-size=\"14px\" font-family=\"Arial\">Z^x5</text><circle cx=\"1207.7421093750002\" cy=\"75.0\" r=\"10.0\" /><rect x=\"1187.7421093750002\" y=\"255.0\" width=\"40\" height=\"40\" stroke=\"black\" fill=\"white\" stroke-width=\"1\" /><text x=\"1207.7421093750002\" y=\"275.0\" dominant-baseline=\"middle\" text-anchor=\"middle\" font-size=\"18px\" font-family=\"Arial\">X</text><rect x=\"1247.7421093750002\" y=\"255.0\" width=\"62.65640625\" height=\"40\" stroke=\"black\" fill=\"white\" stroke-width=\"1\" /><text x=\"1279.0703125000002\" y=\"275.0\" dominant-baseline=\"middle\" text-anchor=\"middle\" font-size=\"14px\" font-family=\"Arial\">Z^(-x2)</text><rect x=\"1330.398515625\" y=\"255.0\" width=\"62.27578125000001\" height=\"40\" stroke=\"black\" fill=\"white\" stroke-width=\"1\" /><text x=\"1361.53640625\" y=\"275.0\" dominant-baseline=\"middle\" text-anchor=\"middle\" font-size=\"14px\" font-family=\"Arial\">Y^(-x1)</text><rect x=\"1412.674296875\" y=\"255.0\" width=\"62.86859375\" height=\"40\" stroke=\"black\" fill=\"white\" stroke-width=\"1\" /><text x=\"1444.10859375\" y=\"275.0\" dominant-baseline=\"middle\" text-anchor=\"middle\" font-size=\"14px\" font-family=\"Arial\">X^(-x0)</text><rect x=\"1495.542890625\" y=\"305.0\" width=\"47.1664453125\" height=\"40\" stroke=\"black\" fill=\"white\" stroke-width=\"1\" /><text x=\"1519.12611328125\" y=\"325.0\" dominant-baseline=\"middle\" text-anchor=\"middle\" font-size=\"14px\" font-family=\"Arial\">X^x0</text><rect x=\"1562.7093359374999\" y=\"305.0\" width=\"46.2105078125\" height=\"40\" stroke=\"black\" fill=\"white\" stroke-width=\"1\" /><text x=\"1585.81458984375\" y=\"325.0\" dominant-baseline=\"middle\" text-anchor=\"middle\" font-size=\"14px\" font-family=\"Arial\">Y^x1</text><rect x=\"1628.91984375\" y=\"305.0\" width=\"46.48175781250001\" height=\"40\" stroke=\"black\" fill=\"white\" stroke-width=\"1\" /><text x=\"1652.1607226562498\" y=\"325.0\" dominant-baseline=\"middle\" text-anchor=\"middle\" font-size=\"14px\" font-family=\"Arial\">Z^x2</text><rect x=\"1695.4016015625\" y=\"105.0\" width=\"46.97394531250001\" height=\"40\" stroke=\"black\" fill=\"white\" stroke-width=\"1\" /><text x=\"1718.88857421875\" y=\"125.0\" dominant-baseline=\"middle\" text-anchor=\"middle\" font-size=\"14px\" font-family=\"Arial\">X^x3</text><rect x=\"1762.375546875\" y=\"105.0\" width=\"46.718007812500005\" height=\"40\" stroke=\"black\" fill=\"white\" stroke-width=\"1\" /><text x=\"1785.7345507812502\" y=\"125.0\" dominant-baseline=\"middle\" text-anchor=\"middle\" font-size=\"14px\" font-family=\"Arial\">Y^x4</text><rect x=\"1829.0935546875\" y=\"105.0\" width=\"46.6611328125\" height=\"40\" stroke=\"black\" fill=\"white\" stroke-width=\"1\" /><text x=\"1852.42412109375\" y=\"125.0\" dominant-baseline=\"middle\" text-anchor=\"middle\" font-size=\"14px\" font-family=\"Arial\">Z^x5</text><circle cx=\"1915.7546875\" cy=\"125.0\" r=\"10.0\" /><rect x=\"1895.7546875\" y=\"305.0\" width=\"40\" height=\"40\" stroke=\"black\" fill=\"white\" stroke-width=\"1\" /><text x=\"1915.7546875\" y=\"325.0\" dominant-baseline=\"middle\" text-anchor=\"middle\" font-size=\"18px\" font-family=\"Arial\">X</text><rect x=\"1955.7546875\" y=\"305.0\" width=\"62.65640625\" height=\"40\" stroke=\"black\" fill=\"white\" stroke-width=\"1\" /><text x=\"1987.0828906250001\" y=\"325.0\" dominant-baseline=\"middle\" text-anchor=\"middle\" font-size=\"14px\" font-family=\"Arial\">Z^(-x2)</text><rect x=\"2038.4110937500002\" y=\"305.0\" width=\"62.27578125000001\" height=\"40\" stroke=\"black\" fill=\"white\" stroke-width=\"1\" /><text x=\"2069.548984375\" y=\"325.0\" dominant-baseline=\"middle\" text-anchor=\"middle\" font-size=\"14px\" font-family=\"Arial\">Y^(-x1)</text><rect x=\"2120.686875\" y=\"305.0\" width=\"62.86859375\" height=\"40\" stroke=\"black\" fill=\"white\" stroke-width=\"1\" /><text x=\"2152.121171875\" y=\"325.0\" dominant-baseline=\"middle\" text-anchor=\"middle\" font-size=\"14px\" font-family=\"Arial\">X^(-x0)</text><rect x=\"2203.55546875\" y=\"355.0\" width=\"47.1664453125\" height=\"40\" stroke=\"black\" fill=\"white\" stroke-width=\"1\" /><text x=\"2227.13869140625\" y=\"375.0\" dominant-baseline=\"middle\" text-anchor=\"middle\" font-size=\"14px\" font-family=\"Arial\">X^x0</text><rect x=\"2270.7219140624998\" y=\"355.0\" width=\"46.2105078125\" height=\"40\" stroke=\"black\" fill=\"white\" stroke-width=\"1\" /><text x=\"2293.8271679687496\" y=\"375.0\" dominant-baseline=\"middle\" text-anchor=\"middle\" font-size=\"14px\" font-family=\"Arial\">Y^x1</text><rect x=\"2336.932421875\" y=\"355.0\" width=\"46.48175781250001\" height=\"40\" stroke=\"black\" fill=\"white\" stroke-width=\"1\" /><text x=\"2360.17330078125\" y=\"375.0\" dominant-baseline=\"middle\" text-anchor=\"middle\" font-size=\"14px\" font-family=\"Arial\">Z^x2</text><rect x=\"2403.4141796874997\" y=\"155.0\" width=\"46.97394531250001\" height=\"40\" stroke=\"black\" fill=\"white\" stroke-width=\"1\" /><text x=\"2426.90115234375\" y=\"175.0\" dominant-baseline=\"middle\" text-anchor=\"middle\" font-size=\"14px\" font-family=\"Arial\">X^x3</text><rect x=\"2470.3881249999995\" y=\"155.0\" width=\"46.718007812500005\" height=\"40\" stroke=\"black\" fill=\"white\" stroke-width=\"1\" /><text x=\"2493.7471289062496\" y=\"175.0\" dominant-baseline=\"middle\" text-anchor=\"middle\" font-size=\"14px\" font-family=\"Arial\">Y^x4</text><rect x=\"2537.1061328124997\" y=\"155.0\" width=\"46.6611328125\" height=\"40\" stroke=\"black\" fill=\"white\" stroke-width=\"1\" /><text x=\"2560.4366992187497\" y=\"175.0\" dominant-baseline=\"middle\" text-anchor=\"middle\" font-size=\"14px\" font-family=\"Arial\">Z^x5</text><circle cx=\"2623.7672656249997\" cy=\"175.0\" r=\"10.0\" /><rect x=\"2603.7672656249997\" y=\"355.0\" width=\"40\" height=\"40\" stroke=\"black\" fill=\"white\" stroke-width=\"1\" /><text x=\"2623.7672656249997\" y=\"375.0\" dominant-baseline=\"middle\" text-anchor=\"middle\" font-size=\"18px\" font-family=\"Arial\">X</text><rect x=\"2663.7672656249997\" y=\"355.0\" width=\"62.65640625\" height=\"40\" stroke=\"black\" fill=\"white\" stroke-width=\"1\" /><text x=\"2695.09546875\" y=\"375.0\" dominant-baseline=\"middle\" text-anchor=\"middle\" font-size=\"14px\" font-family=\"Arial\">Z^(-x2)</text><rect x=\"2746.423671875\" y=\"355.0\" width=\"62.27578125000001\" height=\"40\" stroke=\"black\" fill=\"white\" stroke-width=\"1\" /><text x=\"2777.5615625\" y=\"375.0\" dominant-baseline=\"middle\" text-anchor=\"middle\" font-size=\"14px\" font-family=\"Arial\">Y^(-x1)</text><rect x=\"2828.6994531249998\" y=\"355.0\" width=\"62.86859375\" height=\"40\" stroke=\"black\" fill=\"white\" stroke-width=\"1\" /><text x=\"2860.13375\" y=\"375.0\" dominant-baseline=\"middle\" text-anchor=\"middle\" font-size=\"14px\" font-family=\"Arial\">X^(-x0)</text></svg>"
      ],
      "text/plain": [
       "<cirq.contrib.svg.svg.SVGCircuit at 0x7f4f94ed8790>"
      ]
     },
     "execution_count": 20,
     "metadata": {},
     "output_type": "execute_result"
    }
   ],
   "source": [
    "test_bits = cirq.GridQubit.rect(1, 8)\n",
    "\n",
    "SVGCircuit(\n",
    "    quantum_pool_circuit(test_bits[:4], test_bits[4:], sympy.symbols('x0:6')))"
   ]
  },
  {
   "cell_type": "markdown",
   "id": "06107cd8",
   "metadata": {},
   "source": [
    "Next we define the model using 16 initial qubits (same as the size of our reduced dataset). As the model layers progresses we pool down to one qubit and then measure the expectation in Z basis."
   ]
  },
  {
   "cell_type": "code",
   "execution_count": 21,
   "id": "8189cb79",
   "metadata": {
    "ExecuteTime": {
     "end_time": "2022-05-13T08:26:45.515651Z",
     "start_time": "2022-05-13T08:26:45.508480Z"
    }
   },
   "outputs": [],
   "source": [
    "def create_model_circuit(qubits):\n",
    "    \"\"\"Create sequence of alternating convolution and pooling operators \n",
    "    which gradually shrink over time.\"\"\"\n",
    "    model_circuit = cirq.Circuit()\n",
    "    symbols = sympy.symbols('qconv0:63')\n",
    "    # Cirq uses sympy.Symbols to map learnable variables. TensorFlow Quantum\n",
    "    # scans incoming circuits and replaces these with TensorFlow variables.\n",
    "    \n",
    "    # First convolution layer with pooling layer\n",
    "    # Reduces 16 qubits to 8 qubits\n",
    "    model_circuit += quantum_conv_circuit(qubits, symbols[0:15])\n",
    "    model_circuit += quantum_pool_circuit(qubits[:8], qubits[8:],\n",
    "                                          symbols[15:21])\n",
    "    \n",
    "    # Second convolution layer with pooling layer\n",
    "    # Reduces 8 qubits to 4 qubits\n",
    "    model_circuit += quantum_conv_circuit(qubits[8:], symbols[21:36])\n",
    "    model_circuit += quantum_pool_circuit(qubits[8:12], qubits[12:],\n",
    "                                          symbols[36:42])\n",
    "    \n",
    "    # Final convoluation layer with pooling layer\n",
    "    # Reduces 4 qubits to 1\n",
    "    model_circuit += quantum_conv_circuit(qubits[12:], symbols[42:57])\n",
    "    model_circuit += quantum_pool_circuit(qubits[12:15], [qubits[15]], symbols[57:63])\n",
    "    \n",
    "    return model_circuit"
   ]
  },
  {
   "cell_type": "code",
   "execution_count": 22,
   "id": "db90e8fc",
   "metadata": {
    "ExecuteTime": {
     "end_time": "2022-05-13T08:26:47.994539Z",
     "start_time": "2022-05-13T08:26:45.518541Z"
    }
   },
   "outputs": [
    {
     "data": {
      "image/png": "[encoded data removed]",
      "text/plain": [
       "<IPython.core.display.Image object>"
      ]
     },
     "execution_count": 22,
     "metadata": {},
     "output_type": "execute_result"
    }
   ],
   "source": [
    "# Create our qubits and readout operators in Cirq.\n",
    "cluster_state_bits = cirq.GridQubit.rect(1, 16)\n",
    "readout_operators = cirq.Z(cluster_state_bits[-1])\n",
    "\n",
    "# Build a sequential model enacting the logic in 1.3 of this notebook.\n",
    "# Here you are making the static cluster state prep as a part of the AddCircuit and the\n",
    "# \"quantum datapoints\" are coming in the form of excitation\n",
    "inputs = tf.keras.Input(shape=(), dtype=tf.dtypes.string)\n",
    "cluster_state = tfq.layers.AddCircuit()(inputs, prepend=cluster_state_circuit(cluster_state_bits))\n",
    "\n",
    "quantum_model = tfq.layers.PQC(create_model_circuit(cluster_state_bits),\n",
    "                               readout_operators)(cluster_state)\n",
    "\n",
    "qcnn_model = tf.keras.Model(inputs=[inputs], outputs=[quantum_model])\n",
    "\n",
    "# Show the keras plot of the model\n",
    "tf.keras.utils.plot_model(qcnn_model,\n",
    "                          show_shapes=True,\n",
    "                          show_layer_names=False,\n",
    "                          dpi=70)"
   ]
  },
  {
   "cell_type": "code",
   "execution_count": null,
   "id": "4121dcf8",
   "metadata": {
    "ExecuteTime": {
     "end_time": "2022-05-13T08:28:40.267132Z",
     "start_time": "2022-05-13T08:28:40.252797Z"
    }
   },
   "outputs": [],
   "source": [
    "# Custom accuracy metric.\n",
    "@tf.function\n",
    "def custom_accuracy(y_true, y_pred):\n",
    "    y_true = tf.squeeze(y_true)\n",
    "    y_pred = tf.map_fn(lambda x: 1.0 if x >= 0 else -1.0, y_pred)\n",
    "    return tf.keras.backend.mean(tf.keras.backend.equal(y_true, y_pred))"
   ]
  },
  {
   "cell_type": "markdown",
   "id": "0d259cd6",
   "metadata": {},
   "source": [
    "Next we compile and train the model for 20 epochs and learning rate 0.02."
   ]
  },
  {
   "cell_type": "code",
   "execution_count": 35,
   "id": "6fbd518f",
   "metadata": {
    "ExecuteTime": {
     "end_time": "2022-05-13T08:34:45.554683Z",
     "start_time": "2022-05-13T08:34:45.499710Z"
    }
   },
   "outputs": [],
   "source": [
    "qcnn_model.compile(optimizer=tf.keras.optimizers.Adam(learning_rate=0.02),\n",
    "                   loss=tf.losses.mse,\n",
    "                   metrics=[custom_accuracy])"
   ]
  },
  {
   "cell_type": "code",
   "execution_count": 36,
   "id": "d2522dae",
   "metadata": {
    "ExecuteTime": {
     "end_time": "2022-05-13T08:42:38.242301Z",
     "start_time": "2022-05-13T08:34:47.171277Z"
    }
   },
   "outputs": [
    {
     "name": "stdout",
     "output_type": "stream",
     "text": [
      "Epoch 1/20\n",
      "7/7 [==============================] - 24s 3s/step - loss: 0.9897 - custom_accuracy: 0.5536 - val_loss: 1.0033 - val_custom_accuracy: 0.5179\n",
      "Epoch 2/20\n",
      "7/7 [==============================] - 22s 3s/step - loss: 0.9928 - custom_accuracy: 0.5000 - val_loss: 1.0006 - val_custom_accuracy: 0.5179\n",
      "Epoch 3/20\n",
      "7/7 [==============================] - 22s 3s/step - loss: 0.9978 - custom_accuracy: 0.5357 - val_loss: 1.0011 - val_custom_accuracy: 0.5179\n",
      "Epoch 4/20\n",
      "7/7 [==============================] - 22s 3s/step - loss: 0.9917 - custom_accuracy: 0.5446 - val_loss: 0.9998 - val_custom_accuracy: 0.4732\n",
      "Epoch 5/20\n",
      "7/7 [==============================] - 21s 3s/step - loss: 0.9713 - custom_accuracy: 0.6696 - val_loss: 0.9981 - val_custom_accuracy: 0.4821\n",
      "Epoch 6/20\n",
      "7/7 [==============================] - 21s 3s/step - loss: 0.9438 - custom_accuracy: 0.6518 - val_loss: 1.0140 - val_custom_accuracy: 0.4643\n",
      "Epoch 7/20\n",
      "7/7 [==============================] - 21s 3s/step - loss: 0.9195 - custom_accuracy: 0.6964 - val_loss: 1.0284 - val_custom_accuracy: 0.4821\n",
      "Epoch 8/20\n",
      "7/7 [==============================] - 21s 3s/step - loss: 0.9061 - custom_accuracy: 0.5804 - val_loss: 1.0384 - val_custom_accuracy: 0.5268\n",
      "Epoch 9/20\n",
      "7/7 [==============================] - 21s 3s/step - loss: 0.9323 - custom_accuracy: 0.6161 - val_loss: 1.0262 - val_custom_accuracy: 0.4821\n",
      "Epoch 10/20\n",
      "7/7 [==============================] - 21s 3s/step - loss: 0.9108 - custom_accuracy: 0.6250 - val_loss: 1.0177 - val_custom_accuracy: 0.4821\n",
      "Epoch 11/20\n",
      "7/7 [==============================] - 21s 3s/step - loss: 0.9177 - custom_accuracy: 0.6161 - val_loss: 1.0423 - val_custom_accuracy: 0.5357\n",
      "Epoch 12/20\n",
      "7/7 [==============================] - 23s 3s/step - loss: 0.9002 - custom_accuracy: 0.6071 - val_loss: 1.0490 - val_custom_accuracy: 0.5357\n",
      "Epoch 13/20\n",
      "7/7 [==============================] - 27s 4s/step - loss: 0.9204 - custom_accuracy: 0.6250 - val_loss: 1.0247 - val_custom_accuracy: 0.5446\n",
      "Epoch 14/20\n",
      "7/7 [==============================] - 24s 3s/step - loss: 0.9368 - custom_accuracy: 0.5804 - val_loss: 1.0260 - val_custom_accuracy: 0.5357\n",
      "Epoch 15/20\n",
      "7/7 [==============================] - 27s 4s/step - loss: 0.9501 - custom_accuracy: 0.6518 - val_loss: 1.0309 - val_custom_accuracy: 0.5268\n",
      "Epoch 16/20\n",
      "7/7 [==============================] - 25s 4s/step - loss: 0.9144 - custom_accuracy: 0.6786 - val_loss: 1.0350 - val_custom_accuracy: 0.5268\n",
      "Epoch 17/20\n",
      "7/7 [==============================] - 28s 4s/step - loss: 0.9162 - custom_accuracy: 0.5982 - val_loss: 1.0041 - val_custom_accuracy: 0.4911\n",
      "Epoch 18/20\n",
      "7/7 [==============================] - 25s 4s/step - loss: 0.9838 - custom_accuracy: 0.5893 - val_loss: 1.0239 - val_custom_accuracy: 0.4911\n",
      "Epoch 19/20\n",
      "7/7 [==============================] - 25s 3s/step - loss: 0.9356 - custom_accuracy: 0.6607 - val_loss: 1.0212 - val_custom_accuracy: 0.5357\n",
      "Epoch 20/20\n",
      "7/7 [==============================] - 27s 4s/step - loss: 0.9081 - custom_accuracy: 0.6339 - val_loss: 1.0538 - val_custom_accuracy: 0.5357\n"
     ]
    }
   ],
   "source": [
    "history = qcnn_model.fit(x=x_train_encoded,\n",
    "                         y=y_train,\n",
    "                         batch_size=16,\n",
    "                         epochs=20,\n",
    "                         verbose=1,\n",
    "                         validation_data=(x_test_encoded, y_test))"
   ]
  },
  {
   "cell_type": "code",
   "execution_count": 37,
   "id": "67efdbdb",
   "metadata": {
    "ExecuteTime": {
     "end_time": "2022-05-13T08:42:38.256343Z",
     "start_time": "2022-05-13T08:42:38.245899Z"
    }
   },
   "outputs": [
    {
     "data": {
      "text/plain": [
       "{'loss': [0.9897450804710388,\n",
       "  0.9928237199783325,\n",
       "  0.9977503418922424,\n",
       "  0.9916964769363403,\n",
       "  0.9712581038475037,\n",
       "  0.9438056945800781,\n",
       "  0.9195228815078735,\n",
       "  0.9060890674591064,\n",
       "  0.9323283433914185,\n",
       "  0.9108290672302246,\n",
       "  0.9176779389381409,\n",
       "  0.9002267718315125,\n",
       "  0.9203954339027405,\n",
       "  0.9367532134056091,\n",
       "  0.9501376152038574,\n",
       "  0.9144201874732971,\n",
       "  0.9162143468856812,\n",
       "  0.9838104844093323,\n",
       "  0.935580313205719,\n",
       "  0.9080755114555359],\n",
       " 'custom_accuracy': [0.5535714030265808,\n",
       "  0.5,\n",
       "  0.5357142686843872,\n",
       "  0.5446428656578064,\n",
       "  0.6696428656578064,\n",
       "  0.6517857313156128,\n",
       "  0.6964285969734192,\n",
       "  0.5803571343421936,\n",
       "  0.6160714030265808,\n",
       "  0.625,\n",
       "  0.6160714030265808,\n",
       "  0.6071428656578064,\n",
       "  0.625,\n",
       "  0.5803571343421936,\n",
       "  0.6517857313156128,\n",
       "  0.6785714030265808,\n",
       "  0.5982142686843872,\n",
       "  0.5892857313156128,\n",
       "  0.6607142686843872,\n",
       "  0.6339285969734192],\n",
       " 'val_loss': [1.0032646656036377,\n",
       "  1.0006486177444458,\n",
       "  1.0010865926742554,\n",
       "  0.9997511506080627,\n",
       "  0.9981369972229004,\n",
       "  1.013984203338623,\n",
       "  1.0283623933792114,\n",
       "  1.0383597612380981,\n",
       "  1.0262433290481567,\n",
       "  1.017727255821228,\n",
       "  1.0422908067703247,\n",
       "  1.0490031242370605,\n",
       "  1.0247259140014648,\n",
       "  1.0260076522827148,\n",
       "  1.0309131145477295,\n",
       "  1.0349769592285156,\n",
       "  1.0040502548217773,\n",
       "  1.0239351987838745,\n",
       "  1.021203875541687,\n",
       "  1.0537890195846558],\n",
       " 'val_custom_accuracy': [0.5178571343421936,\n",
       "  0.5178571343421936,\n",
       "  0.5178571343421936,\n",
       "  0.4732142984867096,\n",
       "  0.4821428656578064,\n",
       "  0.4642857015132904,\n",
       "  0.4821428656578064,\n",
       "  0.5267857313156128,\n",
       "  0.4821428656578064,\n",
       "  0.4821428656578064,\n",
       "  0.5357142686843872,\n",
       "  0.5357142686843872,\n",
       "  0.5446428656578064,\n",
       "  0.5357142686843872,\n",
       "  0.5267857313156128,\n",
       "  0.5267857313156128,\n",
       "  0.4910714328289032,\n",
       "  0.4910714328289032,\n",
       "  0.5357142686843872,\n",
       "  0.5357142686843872]}"
      ]
     },
     "execution_count": 37,
     "metadata": {},
     "output_type": "execute_result"
    }
   ],
   "source": [
    "history.history"
   ]
  },
  {
   "cell_type": "code",
   "execution_count": 38,
   "id": "3bc3f18e",
   "metadata": {
    "ExecuteTime": {
     "end_time": "2022-05-13T08:42:38.724502Z",
     "start_time": "2022-05-13T08:42:38.260464Z"
    }
   },
   "outputs": [
    {
     "data": {
      "image/png": "[encoded data removed]",
      "text/plain": [
       "<Figure size 432x288 with 1 Axes>"
      ]
     },
     "metadata": {
      "needs_background": "light"
     },
     "output_type": "display_data"
    }
   ],
   "source": [
    "plt.plot(history.history['loss'], label='Training')\n",
    "plt.plot(history.history['val_loss'], label='Validation')\n",
    "plt.title('QCNN LOSS')\n",
    "plt.xlabel('Epoch')\n",
    "plt.ylabel('Loss')\n",
    "plt.legend()\n",
    "plt.show()"
   ]
  },
  {
   "cell_type": "code",
   "execution_count": 39,
   "id": "08c2ac87",
   "metadata": {
    "ExecuteTime": {
     "end_time": "2022-05-13T08:42:38.993901Z",
     "start_time": "2022-05-13T08:42:38.727966Z"
    }
   },
   "outputs": [
    {
     "data": {
      "image/png": "[encoded data removed]",
      "text/plain": [
       "<Figure size 432x288 with 1 Axes>"
      ]
     },
     "metadata": {
      "needs_background": "light"
     },
     "output_type": "display_data"
    }
   ],
   "source": [
    "plt.plot(history.history['custom_accuracy'], label='Training')\n",
    "plt.plot(history.history['val_custom_accuracy'], label='Validation')\n",
    "plt.title('QCNN ACCURACY')\n",
    "plt.xlabel('Epoch')\n",
    "plt.ylabel('Accuracy')\n",
    "plt.legend()\n",
    "plt.show()"
   ]
  },
  {
   "cell_type": "markdown",
   "id": "deddd2a7",
   "metadata": {},
   "source": [
    "It is difficult to comment anything from the aboe plots and looks like decreasing the learning rate might help and the steps of accuracy and loss per epoch are high."
   ]
  },
  {
   "cell_type": "code",
   "execution_count": 42,
   "id": "064ec258",
   "metadata": {
    "ExecuteTime": {
     "end_time": "2022-05-13T08:48:11.612135Z",
     "start_time": "2022-05-13T08:48:11.592207Z"
    }
   },
   "outputs": [],
   "source": [
    "import json\n",
    "with open(\"qcnn_model_history_epoch=20.json\", \"w\") as outfile:\n",
    "    outfile.write(str(history.history))"
   ]
  },
  {
   "cell_type": "markdown",
   "id": "71c54ad5",
   "metadata": {},
   "source": [
    "Now we train for 100 epochs with a learning rate of 0.002."
   ]
  },
  {
   "cell_type": "code",
   "execution_count": 44,
   "id": "71cd8720",
   "metadata": {
    "ExecuteTime": {
     "end_time": "2022-05-13T09:27:44.334528Z",
     "start_time": "2022-05-13T08:50:13.335858Z"
    }
   },
   "outputs": [
    {
     "name": "stdout",
     "output_type": "stream",
     "text": [
      "Epoch 1/100\n",
      "7/7 [==============================] - 24s 3s/step - loss: 0.9066 - custom_accuracy: 0.6339 - val_loss: 1.0367 - val_custom_accuracy: 0.5179\n",
      "Epoch 2/100\n",
      "7/7 [==============================] - 24s 3s/step - loss: 0.8955 - custom_accuracy: 0.6071 - val_loss: 1.0417 - val_custom_accuracy: 0.5179\n",
      "Epoch 3/100\n",
      "7/7 [==============================] - 22s 3s/step - loss: 0.8934 - custom_accuracy: 0.6339 - val_loss: 1.0423 - val_custom_accuracy: 0.5179\n",
      "Epoch 4/100\n",
      "7/7 [==============================] - 24s 3s/step - loss: 0.8930 - custom_accuracy: 0.6607 - val_loss: 1.0439 - val_custom_accuracy: 0.5179\n",
      "Epoch 5/100\n",
      "7/7 [==============================] - 23s 3s/step - loss: 0.8912 - custom_accuracy: 0.6071 - val_loss: 1.0445 - val_custom_accuracy: 0.5179\n",
      "Epoch 6/100\n",
      "7/7 [==============================] - 22s 3s/step - loss: 0.8910 - custom_accuracy: 0.6339 - val_loss: 1.0429 - val_custom_accuracy: 0.5179\n",
      "Epoch 7/100\n",
      "7/7 [==============================] - 22s 3s/step - loss: 0.8906 - custom_accuracy: 0.6875 - val_loss: 1.0438 - val_custom_accuracy: 0.5179\n",
      "Epoch 8/100\n",
      "7/7 [==============================] - 22s 3s/step - loss: 0.8895 - custom_accuracy: 0.6339 - val_loss: 1.0477 - val_custom_accuracy: 0.5179\n",
      "Epoch 9/100\n",
      "7/7 [==============================] - 22s 3s/step - loss: 0.8891 - custom_accuracy: 0.6339 - val_loss: 1.0527 - val_custom_accuracy: 0.5089\n",
      "Epoch 10/100\n",
      "7/7 [==============================] - 22s 3s/step - loss: 0.8879 - custom_accuracy: 0.6964 - val_loss: 1.0519 - val_custom_accuracy: 0.5089\n",
      "Epoch 11/100\n",
      "7/7 [==============================] - 22s 3s/step - loss: 0.8866 - custom_accuracy: 0.6429 - val_loss: 1.0550 - val_custom_accuracy: 0.5089\n",
      "Epoch 12/100\n",
      "7/7 [==============================] - 22s 3s/step - loss: 0.8861 - custom_accuracy: 0.6250 - val_loss: 1.0596 - val_custom_accuracy: 0.5089\n",
      "Epoch 13/100\n",
      "7/7 [==============================] - 24s 3s/step - loss: 0.8859 - custom_accuracy: 0.6786 - val_loss: 1.0575 - val_custom_accuracy: 0.5179\n",
      "Epoch 14/100\n",
      "7/7 [==============================] - 24s 3s/step - loss: 0.8858 - custom_accuracy: 0.5982 - val_loss: 1.0603 - val_custom_accuracy: 0.5089\n",
      "Epoch 15/100\n",
      "7/7 [==============================] - 23s 3s/step - loss: 0.8854 - custom_accuracy: 0.6429 - val_loss: 1.0576 - val_custom_accuracy: 0.5179\n",
      "Epoch 16/100\n",
      "7/7 [==============================] - 23s 3s/step - loss: 0.8847 - custom_accuracy: 0.6696 - val_loss: 1.0595 - val_custom_accuracy: 0.5089\n",
      "Epoch 17/100\n",
      "7/7 [==============================] - 23s 3s/step - loss: 0.8844 - custom_accuracy: 0.6964 - val_loss: 1.0581 - val_custom_accuracy: 0.5179\n",
      "Epoch 18/100\n",
      "7/7 [==============================] - 23s 3s/step - loss: 0.8847 - custom_accuracy: 0.6696 - val_loss: 1.0619 - val_custom_accuracy: 0.5089\n",
      "Epoch 19/100\n",
      "7/7 [==============================] - 23s 3s/step - loss: 0.8823 - custom_accuracy: 0.6696 - val_loss: 1.0580 - val_custom_accuracy: 0.5179\n",
      "Epoch 20/100\n",
      "7/7 [==============================] - 23s 3s/step - loss: 0.8821 - custom_accuracy: 0.6339 - val_loss: 1.0489 - val_custom_accuracy: 0.5268\n",
      "Epoch 21/100\n",
      "7/7 [==============================] - 23s 3s/step - loss: 0.8814 - custom_accuracy: 0.6607 - val_loss: 1.0461 - val_custom_accuracy: 0.5268\n",
      "Epoch 22/100\n",
      "7/7 [==============================] - 23s 3s/step - loss: 0.8822 - custom_accuracy: 0.6875 - val_loss: 1.0439 - val_custom_accuracy: 0.5268\n",
      "Epoch 23/100\n",
      "7/7 [==============================] - 23s 3s/step - loss: 0.8819 - custom_accuracy: 0.6607 - val_loss: 1.0425 - val_custom_accuracy: 0.5268\n",
      "Epoch 24/100\n",
      "7/7 [==============================] - 23s 3s/step - loss: 0.8818 - custom_accuracy: 0.6607 - val_loss: 1.0479 - val_custom_accuracy: 0.5268\n",
      "Epoch 25/100\n",
      "7/7 [==============================] - 23s 3s/step - loss: 0.8800 - custom_accuracy: 0.6696 - val_loss: 1.0509 - val_custom_accuracy: 0.5357\n",
      "Epoch 26/100\n",
      "7/7 [==============================] - 23s 3s/step - loss: 0.8800 - custom_accuracy: 0.6964 - val_loss: 1.0556 - val_custom_accuracy: 0.5357\n",
      "Epoch 27/100\n",
      "7/7 [==============================] - 23s 3s/step - loss: 0.8800 - custom_accuracy: 0.7232 - val_loss: 1.0606 - val_custom_accuracy: 0.5446\n",
      "Epoch 28/100\n",
      "7/7 [==============================] - 23s 3s/step - loss: 0.8803 - custom_accuracy: 0.6518 - val_loss: 1.0657 - val_custom_accuracy: 0.5357\n",
      "Epoch 29/100\n",
      "7/7 [==============================] - 23s 3s/step - loss: 0.8799 - custom_accuracy: 0.7143 - val_loss: 1.0658 - val_custom_accuracy: 0.5446\n",
      "Epoch 30/100\n",
      "7/7 [==============================] - 23s 3s/step - loss: 0.8802 - custom_accuracy: 0.6696 - val_loss: 1.0620 - val_custom_accuracy: 0.5446\n",
      "Epoch 31/100\n",
      "7/7 [==============================] - 23s 3s/step - loss: 0.8810 - custom_accuracy: 0.6875 - val_loss: 1.0532 - val_custom_accuracy: 0.5446\n",
      "Epoch 32/100\n",
      "7/7 [==============================] - 23s 3s/step - loss: 0.8779 - custom_accuracy: 0.6875 - val_loss: 1.0530 - val_custom_accuracy: 0.5446\n",
      "Epoch 33/100\n",
      "7/7 [==============================] - 23s 3s/step - loss: 0.8775 - custom_accuracy: 0.6875 - val_loss: 1.0568 - val_custom_accuracy: 0.5446\n",
      "Epoch 34/100\n",
      "7/7 [==============================] - 23s 3s/step - loss: 0.8806 - custom_accuracy: 0.6964 - val_loss: 1.0625 - val_custom_accuracy: 0.5536\n",
      "Epoch 35/100\n",
      "7/7 [==============================] - 23s 3s/step - loss: 0.8776 - custom_accuracy: 0.6964 - val_loss: 1.0605 - val_custom_accuracy: 0.5536\n",
      "Epoch 36/100\n",
      "7/7 [==============================] - 23s 3s/step - loss: 0.8776 - custom_accuracy: 0.6429 - val_loss: 1.0621 - val_custom_accuracy: 0.5536\n",
      "Epoch 37/100\n",
      "7/7 [==============================] - 23s 3s/step - loss: 0.8785 - custom_accuracy: 0.6696 - val_loss: 1.0539 - val_custom_accuracy: 0.5536\n",
      "Epoch 38/100\n",
      "7/7 [==============================] - 22s 3s/step - loss: 0.8762 - custom_accuracy: 0.7232 - val_loss: 1.0475 - val_custom_accuracy: 0.5536\n",
      "Epoch 39/100\n",
      "7/7 [==============================] - 22s 3s/step - loss: 0.8764 - custom_accuracy: 0.6964 - val_loss: 1.0457 - val_custom_accuracy: 0.5446\n",
      "Epoch 40/100\n",
      "7/7 [==============================] - 22s 3s/step - loss: 0.8773 - custom_accuracy: 0.7143 - val_loss: 1.0482 - val_custom_accuracy: 0.5536\n",
      "Epoch 41/100\n",
      "7/7 [==============================] - 23s 3s/step - loss: 0.8763 - custom_accuracy: 0.6964 - val_loss: 1.0472 - val_custom_accuracy: 0.5446\n",
      "Epoch 42/100\n",
      "7/7 [==============================] - 23s 3s/step - loss: 0.8770 - custom_accuracy: 0.6696 - val_loss: 1.0421 - val_custom_accuracy: 0.5536\n",
      "Epoch 43/100\n",
      "7/7 [==============================] - 22s 3s/step - loss: 0.8767 - custom_accuracy: 0.6964 - val_loss: 1.0431 - val_custom_accuracy: 0.5536\n",
      "Epoch 44/100\n",
      "7/7 [==============================] - 22s 3s/step - loss: 0.8769 - custom_accuracy: 0.6607 - val_loss: 1.0486 - val_custom_accuracy: 0.5446\n",
      "Epoch 45/100\n",
      "7/7 [==============================] - 22s 3s/step - loss: 0.8760 - custom_accuracy: 0.6607 - val_loss: 1.0507 - val_custom_accuracy: 0.5446\n",
      "Epoch 46/100\n",
      "7/7 [==============================] - 22s 3s/step - loss: 0.8755 - custom_accuracy: 0.7143 - val_loss: 1.0496 - val_custom_accuracy: 0.5446\n",
      "Epoch 47/100\n",
      "7/7 [==============================] - 23s 3s/step - loss: 0.8761 - custom_accuracy: 0.6875 - val_loss: 1.0503 - val_custom_accuracy: 0.5536\n",
      "Epoch 48/100\n",
      "7/7 [==============================] - 22s 3s/step - loss: 0.8780 - custom_accuracy: 0.7232 - val_loss: 1.0591 - val_custom_accuracy: 0.5625\n",
      "Epoch 49/100\n",
      "7/7 [==============================] - 22s 3s/step - loss: 0.8779 - custom_accuracy: 0.6696 - val_loss: 1.0613 - val_custom_accuracy: 0.5625\n",
      "Epoch 50/100\n",
      "7/7 [==============================] - 23s 3s/step - loss: 0.8739 - custom_accuracy: 0.6696 - val_loss: 1.0541 - val_custom_accuracy: 0.5536\n",
      "Epoch 51/100\n",
      "7/7 [==============================] - 22s 3s/step - loss: 0.8754 - custom_accuracy: 0.6875 - val_loss: 1.0439 - val_custom_accuracy: 0.5446\n",
      "Epoch 52/100\n",
      "7/7 [==============================] - 22s 3s/step - loss: 0.8758 - custom_accuracy: 0.6786 - val_loss: 1.0436 - val_custom_accuracy: 0.5446\n",
      "Epoch 53/100\n",
      "7/7 [==============================] - 22s 3s/step - loss: 0.8777 - custom_accuracy: 0.6964 - val_loss: 1.0377 - val_custom_accuracy: 0.5357\n",
      "Epoch 54/100\n"
     ]
    },
    {
     "name": "stdout",
     "output_type": "stream",
     "text": [
      "7/7 [==============================] - 22s 3s/step - loss: 0.8774 - custom_accuracy: 0.6964 - val_loss: 1.0389 - val_custom_accuracy: 0.5357\n",
      "Epoch 55/100\n",
      "7/7 [==============================] - 22s 3s/step - loss: 0.8764 - custom_accuracy: 0.7232 - val_loss: 1.0418 - val_custom_accuracy: 0.5446\n",
      "Epoch 56/100\n",
      "7/7 [==============================] - 22s 3s/step - loss: 0.8764 - custom_accuracy: 0.7321 - val_loss: 1.0457 - val_custom_accuracy: 0.5446\n",
      "Epoch 57/100\n",
      "7/7 [==============================] - 22s 3s/step - loss: 0.8749 - custom_accuracy: 0.7054 - val_loss: 1.0520 - val_custom_accuracy: 0.5446\n",
      "Epoch 58/100\n",
      "7/7 [==============================] - 22s 3s/step - loss: 0.8745 - custom_accuracy: 0.7143 - val_loss: 1.0552 - val_custom_accuracy: 0.5446\n",
      "Epoch 59/100\n",
      "7/7 [==============================] - 22s 3s/step - loss: 0.8740 - custom_accuracy: 0.6875 - val_loss: 1.0582 - val_custom_accuracy: 0.5536\n",
      "Epoch 60/100\n",
      "7/7 [==============================] - 22s 3s/step - loss: 0.8745 - custom_accuracy: 0.6964 - val_loss: 1.0605 - val_custom_accuracy: 0.5536\n",
      "Epoch 61/100\n",
      "7/7 [==============================] - 22s 3s/step - loss: 0.8744 - custom_accuracy: 0.6696 - val_loss: 1.0589 - val_custom_accuracy: 0.5536\n",
      "Epoch 62/100\n",
      "7/7 [==============================] - 22s 3s/step - loss: 0.8745 - custom_accuracy: 0.6696 - val_loss: 1.0581 - val_custom_accuracy: 0.5536\n",
      "Epoch 63/100\n",
      "7/7 [==============================] - 23s 3s/step - loss: 0.8741 - custom_accuracy: 0.6964 - val_loss: 1.0572 - val_custom_accuracy: 0.5536\n",
      "Epoch 64/100\n",
      "7/7 [==============================] - 22s 3s/step - loss: 0.8744 - custom_accuracy: 0.6964 - val_loss: 1.0533 - val_custom_accuracy: 0.5446\n",
      "Epoch 65/100\n",
      "7/7 [==============================] - 22s 3s/step - loss: 0.8740 - custom_accuracy: 0.6607 - val_loss: 1.0523 - val_custom_accuracy: 0.5446\n",
      "Epoch 66/100\n",
      "7/7 [==============================] - 22s 3s/step - loss: 0.8744 - custom_accuracy: 0.7232 - val_loss: 1.0472 - val_custom_accuracy: 0.5536\n",
      "Epoch 67/100\n",
      "7/7 [==============================] - 22s 3s/step - loss: 0.8754 - custom_accuracy: 0.6964 - val_loss: 1.0457 - val_custom_accuracy: 0.5536\n",
      "Epoch 68/100\n",
      "7/7 [==============================] - 22s 3s/step - loss: 0.8739 - custom_accuracy: 0.6964 - val_loss: 1.0480 - val_custom_accuracy: 0.5536\n",
      "Epoch 69/100\n",
      "7/7 [==============================] - 22s 3s/step - loss: 0.8743 - custom_accuracy: 0.6964 - val_loss: 1.0484 - val_custom_accuracy: 0.5536\n",
      "Epoch 70/100\n",
      "7/7 [==============================] - 22s 3s/step - loss: 0.8739 - custom_accuracy: 0.7232 - val_loss: 1.0484 - val_custom_accuracy: 0.5536\n",
      "Epoch 71/100\n",
      "7/7 [==============================] - 22s 3s/step - loss: 0.8737 - custom_accuracy: 0.6696 - val_loss: 1.0504 - val_custom_accuracy: 0.5536\n",
      "Epoch 72/100\n",
      "7/7 [==============================] - 22s 3s/step - loss: 0.8734 - custom_accuracy: 0.6696 - val_loss: 1.0514 - val_custom_accuracy: 0.5536\n",
      "Epoch 73/100\n",
      "7/7 [==============================] - 22s 3s/step - loss: 0.8746 - custom_accuracy: 0.6964 - val_loss: 1.0480 - val_custom_accuracy: 0.5536\n",
      "Epoch 74/100\n",
      "7/7 [==============================] - 22s 3s/step - loss: 0.8741 - custom_accuracy: 0.7232 - val_loss: 1.0464 - val_custom_accuracy: 0.5536\n",
      "Epoch 75/100\n",
      "7/7 [==============================] - 22s 3s/step - loss: 0.8734 - custom_accuracy: 0.6964 - val_loss: 1.0505 - val_custom_accuracy: 0.5536\n",
      "Epoch 76/100\n",
      "7/7 [==============================] - 22s 3s/step - loss: 0.8730 - custom_accuracy: 0.6964 - val_loss: 1.0530 - val_custom_accuracy: 0.5536\n",
      "Epoch 77/100\n",
      "7/7 [==============================] - 22s 3s/step - loss: 0.8751 - custom_accuracy: 0.6429 - val_loss: 1.0581 - val_custom_accuracy: 0.5536\n",
      "Epoch 78/100\n",
      "7/7 [==============================] - 22s 3s/step - loss: 0.8737 - custom_accuracy: 0.6429 - val_loss: 1.0541 - val_custom_accuracy: 0.5536\n",
      "Epoch 79/100\n",
      "7/7 [==============================] - 22s 3s/step - loss: 0.8732 - custom_accuracy: 0.6339 - val_loss: 1.0497 - val_custom_accuracy: 0.5536\n",
      "Epoch 80/100\n",
      "7/7 [==============================] - 22s 3s/step - loss: 0.8738 - custom_accuracy: 0.6964 - val_loss: 1.0491 - val_custom_accuracy: 0.5536\n",
      "Epoch 81/100\n",
      "7/7 [==============================] - 22s 3s/step - loss: 0.8738 - custom_accuracy: 0.6607 - val_loss: 1.0533 - val_custom_accuracy: 0.5446\n",
      "Epoch 82/100\n",
      "7/7 [==============================] - 22s 3s/step - loss: 0.8738 - custom_accuracy: 0.6875 - val_loss: 1.0503 - val_custom_accuracy: 0.5536\n",
      "Epoch 83/100\n",
      "7/7 [==============================] - 22s 3s/step - loss: 0.8732 - custom_accuracy: 0.6964 - val_loss: 1.0500 - val_custom_accuracy: 0.5536\n",
      "Epoch 84/100\n",
      "7/7 [==============================] - 22s 3s/step - loss: 0.8734 - custom_accuracy: 0.7054 - val_loss: 1.0512 - val_custom_accuracy: 0.5536\n",
      "Epoch 85/100\n",
      "7/7 [==============================] - 22s 3s/step - loss: 0.8732 - custom_accuracy: 0.6696 - val_loss: 1.0500 - val_custom_accuracy: 0.5536\n",
      "Epoch 86/100\n",
      "7/7 [==============================] - 22s 3s/step - loss: 0.8740 - custom_accuracy: 0.6964 - val_loss: 1.0455 - val_custom_accuracy: 0.5536\n",
      "Epoch 87/100\n",
      "7/7 [==============================] - 22s 3s/step - loss: 0.8741 - custom_accuracy: 0.7054 - val_loss: 1.0429 - val_custom_accuracy: 0.5446\n",
      "Epoch 88/100\n",
      "7/7 [==============================] - 22s 3s/step - loss: 0.8747 - custom_accuracy: 0.7054 - val_loss: 1.0426 - val_custom_accuracy: 0.5446\n",
      "Epoch 89/100\n",
      "7/7 [==============================] - 22s 3s/step - loss: 0.8739 - custom_accuracy: 0.6964 - val_loss: 1.0454 - val_custom_accuracy: 0.5536\n",
      "Epoch 90/100\n",
      "7/7 [==============================] - 22s 3s/step - loss: 0.8732 - custom_accuracy: 0.7232 - val_loss: 1.0498 - val_custom_accuracy: 0.5536\n",
      "Epoch 91/100\n",
      "7/7 [==============================] - 22s 3s/step - loss: 0.8733 - custom_accuracy: 0.6964 - val_loss: 1.0525 - val_custom_accuracy: 0.5625\n",
      "Epoch 92/100\n",
      "7/7 [==============================] - 22s 3s/step - loss: 0.8733 - custom_accuracy: 0.6696 - val_loss: 1.0477 - val_custom_accuracy: 0.5536\n",
      "Epoch 93/100\n",
      "7/7 [==============================] - 22s 3s/step - loss: 0.8743 - custom_accuracy: 0.7232 - val_loss: 1.0448 - val_custom_accuracy: 0.5536\n",
      "Epoch 94/100\n",
      "7/7 [==============================] - 22s 3s/step - loss: 0.8744 - custom_accuracy: 0.6964 - val_loss: 1.0506 - val_custom_accuracy: 0.5625\n",
      "Epoch 95/100\n",
      "7/7 [==============================] - 22s 3s/step - loss: 0.8742 - custom_accuracy: 0.6696 - val_loss: 1.0538 - val_custom_accuracy: 0.5625\n",
      "Epoch 96/100\n",
      "7/7 [==============================] - 22s 3s/step - loss: 0.8737 - custom_accuracy: 0.7054 - val_loss: 1.0498 - val_custom_accuracy: 0.5625\n",
      "Epoch 97/100\n",
      "7/7 [==============================] - 22s 3s/step - loss: 0.8729 - custom_accuracy: 0.7321 - val_loss: 1.0532 - val_custom_accuracy: 0.5625\n",
      "Epoch 98/100\n",
      "7/7 [==============================] - 22s 3s/step - loss: 0.8727 - custom_accuracy: 0.6786 - val_loss: 1.0562 - val_custom_accuracy: 0.5536\n",
      "Epoch 99/100\n",
      "7/7 [==============================] - 22s 3s/step - loss: 0.8723 - custom_accuracy: 0.7232 - val_loss: 1.0574 - val_custom_accuracy: 0.5536\n",
      "Epoch 100/100\n",
      "7/7 [==============================] - 22s 3s/step - loss: 0.8725 - custom_accuracy: 0.6964 - val_loss: 1.0575 - val_custom_accuracy: 0.5536\n"
     ]
    }
   ],
   "source": [
    "qcnn_model.compile(optimizer=tf.keras.optimizers.Adam(learning_rate=0.002),\n",
    "                   loss=tf.losses.mse,\n",
    "                   metrics=[custom_accuracy])\n",
    "history = qcnn_model.fit(x=x_train_encoded,\n",
    "                         y=y_train,\n",
    "                         batch_size=16,\n",
    "                         epochs=100,\n",
    "                         verbose=1,\n",
    "                         validation_data=(x_test_encoded, y_test))"
   ]
  },
  {
   "cell_type": "code",
   "execution_count": 45,
   "id": "61059383",
   "metadata": {
    "ExecuteTime": {
     "end_time": "2022-05-13T09:27:44.619577Z",
     "start_time": "2022-05-13T09:27:44.338251Z"
    }
   },
   "outputs": [
    {
     "data": {
      "image/png": "[encoded data removed]",
      "text/plain": [
       "<Figure size 432x288 with 1 Axes>"
      ]
     },
     "metadata": {
      "needs_background": "light"
     },
     "output_type": "display_data"
    }
   ],
   "source": [
    "plt.plot(history.history['loss'], label='Training')\n",
    "plt.plot(history.history['val_loss'], label='Validation')\n",
    "plt.title('QCNN LOSS')\n",
    "plt.xlabel('Epoch')\n",
    "plt.ylabel('Loss')\n",
    "plt.legend()\n",
    "plt.show()"
   ]
  },
  {
   "cell_type": "code",
   "execution_count": 46,
   "id": "7d7d573f",
   "metadata": {
    "ExecuteTime": {
     "end_time": "2022-05-13T09:27:44.870281Z",
     "start_time": "2022-05-13T09:27:44.624120Z"
    }
   },
   "outputs": [
    {
     "data": {
      "image/png": "[encoded data removed]",
      "text/plain": [
       "<Figure size 432x288 with 1 Axes>"
      ]
     },
     "metadata": {
      "needs_background": "light"
     },
     "output_type": "display_data"
    }
   ],
   "source": [
    "plt.plot(history.history['custom_accuracy'], label='Training')\n",
    "plt.plot(history.history['val_custom_accuracy'], label='Validation')\n",
    "plt.title('QCNN ACCURACY')\n",
    "plt.xlabel('Epoch')\n",
    "plt.ylabel('Accuracy')\n",
    "plt.legend()\n",
    "plt.show()"
   ]
  },
  {
   "cell_type": "code",
   "execution_count": null,
   "id": "53524450",
   "metadata": {
    "ExecuteTime": {
     "end_time": "2022-05-13T09:27:44.879173Z",
     "start_time": "2022-05-13T09:27:44.873873Z"
    }
   },
   "outputs": [],
   "source": [
    "import json\n",
    "with open(\"qcnn_model_history_epoch=100.json\", \"w\") as outfile:\n",
    "    outfile.write(str(history.history))"
   ]
  },
  {
   "cell_type": "markdown",
   "id": "c81be3d9",
   "metadata": {},
   "source": [
    "Conclusion\n",
    "\n",
    "We built a QCNN using Cirq and Tensorflow. We can see that the model fits the data and the training loss is decreases as epochs increases. We can train it for larger number of epochs to see the progress. The validation loss did not descrease which means that the model is overfitting. \n",
    "\n",
    "From the accuracy plot we can see that the training accuracy has an upward trend and may increase as epochs increases. The validation loss saturates near 0.55.\n",
    "\n",
    "The results can be improved using more data. We have used only angle encoding (with Rx gates) here. We can try other types of encodings which might be benificial."
   ]
  }
 ],
 "metadata": {
  "interpreter": {
   "hash": "c8657981c9aceaf5f28df3f8df9370b8d7ecc89169957d8d2d4d1ce8fcf597dc"
  },
  "kernelspec": {
   "display_name": "Python 3 (ipykernel)",
   "language": "python",
   "name": "python3"
  },
  "language_info": {
   "codemirror_mode": {
    "name": "ipython",
    "version": 3
   },
   "file_extension": ".py",
   "mimetype": "text/x-python",
   "name": "python",
   "nbconvert_exporter": "python",
   "pygments_lexer": "ipython3",
   "version": "3.7.13"
  },
  "latex_envs": {
   "LaTeX_envs_menu_present": true,
   "autoclose": false,
   "autocomplete": true,
   "bibliofile": "biblio.bib",
   "cite_by": "apalike",
   "current_citInitial": 1,
   "eqLabelWithNumbers": true,
   "eqNumInitial": 1,
   "hotkeys": {
    "equation": "Ctrl-E",
    "itemize": "Ctrl-I"
   },
   "labels_anchors": false,
   "latex_user_defs": false,
   "report_style_numbering": false,
   "user_envs_cfg": false
  },
  "toc": {
   "base_numbering": 1,
   "nav_menu": {},
   "number_sections": true,
   "sideBar": true,
   "skip_h1_title": false,
   "title_cell": "Table of Contents",
   "title_sidebar": "Contents",
   "toc_cell": false,
   "toc_position": {},
   "toc_section_display": true,
   "toc_window_display": false
  }
 },
 "nbformat": 4,
 "nbformat_minor": 5
}
