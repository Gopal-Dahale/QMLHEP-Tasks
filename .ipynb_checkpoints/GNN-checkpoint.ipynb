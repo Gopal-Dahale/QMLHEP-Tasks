{
 "cells": [
  {
   "cell_type": "code",
   "execution_count": 80,
   "id": "eec8d0a0",
   "metadata": {
    "ExecuteTime": {
     "end_time": "2022-04-17T08:55:18.695599Z",
     "start_time": "2022-04-17T08:55:18.689576Z"
    }
   },
   "outputs": [],
   "source": [
    "from tf_keras_model import get_particle_net_lite,get_particle_net\n",
    "from tensorflow import keras\n",
    "import logging\n",
    "logging.basicConfig(level=logging.INFO, format='[%(asctime)s] %(levelname)s: %(message)s')\n",
    "from sklearn.model_selection import train_test_split\n",
    "from sklearn.utils import shuffle\n",
    "import os\n",
    "import numpy as np\n",
    "import matplotlib.pyplot as plt\n",
    "%matplotlib inline"
   ]
  },
  {
   "cell_type": "code",
   "execution_count": 10,
   "id": "49db31af",
   "metadata": {
    "ExecuteTime": {
     "end_time": "2022-04-17T06:33:25.639086Z",
     "start_time": "2022-04-17T06:33:25.633997Z"
    }
   },
   "outputs": [],
   "source": [
    "dataset = np.load('./data/QG_jets.npz',allow_pickle=True)"
   ]
  },
  {
   "cell_type": "code",
   "execution_count": 11,
   "id": "76487ad1",
   "metadata": {
    "ExecuteTime": {
     "end_time": "2022-04-17T06:33:25.911671Z",
     "start_time": "2022-04-17T06:33:25.892496Z"
    }
   },
   "outputs": [
    {
     "data": {
      "text/plain": [
       "['X', 'y']"
      ]
     },
     "execution_count": 11,
     "metadata": {},
     "output_type": "execute_result"
    }
   ],
   "source": [
    "list(dataset.keys())"
   ]
  },
  {
   "cell_type": "code",
   "execution_count": 84,
   "id": "3017de1f",
   "metadata": {
    "ExecuteTime": {
     "end_time": "2022-04-17T09:03:51.610331Z",
     "start_time": "2022-04-17T09:03:47.679693Z"
    }
   },
   "outputs": [],
   "source": [
    "x = dataset['X']\n",
    "y = dataset['y']"
   ]
  },
  {
   "cell_type": "code",
   "execution_count": 85,
   "id": "f30ccdd7",
   "metadata": {
    "ExecuteTime": {
     "end_time": "2022-04-17T09:03:51.618901Z",
     "start_time": "2022-04-17T09:03:51.612927Z"
    }
   },
   "outputs": [
    {
     "name": "stdout",
     "output_type": "stream",
     "text": [
      "(100000, 139, 4)\n",
      "(100000,)\n"
     ]
    }
   ],
   "source": [
    "print(x.shape)\n",
    "print(y.shape)"
   ]
  },
  {
   "cell_type": "code",
   "execution_count": 86,
   "id": "6f731fbf",
   "metadata": {
    "ExecuteTime": {
     "end_time": "2022-04-17T09:03:51.741348Z",
     "start_time": "2022-04-17T09:03:51.622035Z"
    }
   },
   "outputs": [
    {
     "name": "stdout",
     "output_type": "stream",
     "text": [
      "(100000, 2)\n"
     ]
    }
   ],
   "source": [
    "# one hot encoding labels is needed else the following error \n",
    "# ValueError: Shapes (None, 1) and (None, 2) are incompatible\n",
    "y = tf.keras.utils.to_categorical(y)\n",
    "print(y.shape)"
   ]
  },
  {
   "cell_type": "code",
   "execution_count": 88,
   "id": "277d3fe2",
   "metadata": {
    "ExecuteTime": {
     "end_time": "2022-04-17T09:04:39.643293Z",
     "start_time": "2022-04-17T09:04:39.638958Z"
    }
   },
   "outputs": [],
   "source": [
    "\n",
    "\n",
    "# From paper\n",
    "# The first EdgeConv block uses the spatial coordinates\n",
    "# of the particles in the pseudorapidity-azimuth space to\n",
    "# compute the distances, while the subsequent blocks use\n",
    "# the learned feature vectors as coordinates.\n",
    "\n",
    "# from dataset\n",
    "# features of each particle are its pt, rapidity, azimuthal angle, and pdgid\n",
    "\n",
    "# Shapes of each input (`points`, `features`, `mask`)\n"
   ]
  },
  {
   "cell_type": "code",
   "execution_count": 89,
   "id": "86cd6d38",
   "metadata": {
    "ExecuteTime": {
     "end_time": "2022-04-17T09:04:44.810585Z",
     "start_time": "2022-04-17T09:04:39.918340Z"
    }
   },
   "outputs": [
    {
     "name": "stdout",
     "output_type": "stream",
     "text": [
      "(70000, 139, 4) (70000, 2)\n",
      "(15000, 139, 4) (15000, 2)\n",
      "(15000, 139, 4) (15000, 2)\n"
     ]
    }
   ],
   "source": [
    "x, y = shuffle(x, y, random_state=0)\n",
    "x_train, x_test, y_train, y_test = train_test_split(x, y, test_size=0.30, random_state=42)\n",
    "x_test, x_val, y_test, y_val = train_test_split(x_test, y_test , test_size=0.5, random_state=42)\n",
    "\n",
    "print(x_train.shape, y_train.shape)\n",
    "print(x_test.shape, y_test.shape)\n",
    "print(x_val.shape, y_val.shape)"
   ]
  },
  {
   "cell_type": "code",
   "execution_count": 90,
   "id": "0a211821",
   "metadata": {
    "ExecuteTime": {
     "end_time": "2022-04-17T09:04:47.202385Z",
     "start_time": "2022-04-17T09:04:46.663859Z"
    }
   },
   "outputs": [
    {
     "name": "stdout",
     "output_type": "stream",
     "text": [
      "(70000, 139)\n",
      "[   29.20243269    27.50561143    30.26089051   220.41819997\n",
      "    27.95042087    28.15969933   329.0687446     27.57628735\n",
      "  -206.06003465   218.08468374    26.41602355    27.02195013\n",
      "    31.79622486    26.59246689    26.88924931  -202.09822736\n",
      "    26.71899363    31.23462352  -310.42681747    27.70451205\n",
      "    30.7169403   -198.56554041  2233.77838649    36.42720615\n",
      "    29.23621805  -187.38676832    33.46071738   268.17256202\n",
      "    32.3521241  -2054.01856237   118.7019814     56.63953271\n",
      "   151.53934524    57.07618763     0.             0.\n",
      "     0.             0.             0.             0.\n",
      "     0.             0.             0.             0.\n",
      "     0.             0.             0.             0.\n",
      "     0.             0.             0.             0.\n",
      "     0.             0.             0.             0.\n",
      "     0.             0.             0.             0.\n",
      "     0.             0.             0.             0.\n",
      "     0.             0.             0.             0.\n",
      "     0.             0.             0.             0.\n",
      "     0.             0.             0.             0.\n",
      "     0.             0.             0.             0.\n",
      "     0.             0.             0.             0.\n",
      "     0.             0.             0.             0.\n",
      "     0.             0.             0.             0.\n",
      "     0.             0.             0.             0.\n",
      "     0.             0.             0.             0.\n",
      "     0.             0.             0.             0.\n",
      "     0.             0.             0.             0.\n",
      "     0.             0.             0.             0.\n",
      "     0.             0.             0.             0.\n",
      "     0.             0.             0.             0.\n",
      "     0.             0.             0.             0.\n",
      "     0.             0.             0.             0.\n",
      "     0.             0.             0.             0.\n",
      "     0.             0.             0.             0.\n",
      "     0.             0.             0.        ]\n",
      "[1. 1. 1. 1. 1. 1. 1. 1. 1. 1. 1. 1. 1. 1. 1. 1. 1. 1. 1. 1. 1. 1. 1. 1.\n",
      " 1. 1. 1. 1. 1. 1. 1. 1. 1. 1. 0. 0. 0. 0. 0. 0. 0. 0. 0. 0. 0. 0. 0. 0.\n",
      " 0. 0. 0. 0. 0. 0. 0. 0. 0. 0. 0. 0. 0. 0. 0. 0. 0. 0. 0. 0. 0. 0. 0. 0.\n",
      " 0. 0. 0. 0. 0. 0. 0. 0. 0. 0. 0. 0. 0. 0. 0. 0. 0. 0. 0. 0. 0. 0. 0. 0.\n",
      " 0. 0. 0. 0. 0. 0. 0. 0. 0. 0. 0. 0. 0. 0. 0. 0. 0. 0. 0. 0. 0. 0. 0. 0.\n",
      " 0. 0. 0. 0. 0. 0. 0. 0. 0. 0. 0. 0. 0. 0. 0. 0. 0. 0. 0.]\n",
      "(70000, 139, 1)\n"
     ]
    }
   ],
   "source": [
    "# mask\n",
    "# find the maximum length vector in for each sample in 10000 samples with maximum number of non-zero values\n",
    "mask_train = np.sum(x_train, axis=2) \n",
    "print(mask_train.shape)\n",
    "print(mask_train[0])\n",
    "\n",
    "# make the array binary\n",
    "mask_train = np.array(mask_train !=0 , np.float32)\n",
    "print(mask_train[0])\n",
    "\n",
    "# reshape mask for a third axis\n",
    "mask_train = mask_train.reshape(x_train.shape[0], x_train.shape[1], 1)\n",
    "print(mask_train.shape)"
   ]
  },
  {
   "cell_type": "code",
   "execution_count": 91,
   "id": "8ce94ad8",
   "metadata": {
    "ExecuteTime": {
     "end_time": "2022-04-17T09:04:49.780205Z",
     "start_time": "2022-04-17T09:04:49.681201Z"
    }
   },
   "outputs": [
    {
     "name": "stdout",
     "output_type": "stream",
     "text": [
      "(15000, 139, 1)\n"
     ]
    }
   ],
   "source": [
    "# mask\n",
    "# find the maximum length vector in for each sample in 10000 samples with maximum number of non-zero values\n",
    "mask_val = np.sum(x_val, axis=2) \n",
    "\n",
    "# make the array binary\n",
    "mask_val = np.array(mask_val !=0 , np.float32)\n",
    "\n",
    "# reshape mask for a third axis\n",
    "mask_val = mask_val.reshape(x_val.shape[0], x_val.shape[1], 1)\n",
    "print(mask_val.shape)"
   ]
  },
  {
   "cell_type": "code",
   "execution_count": 92,
   "id": "c5864c3d",
   "metadata": {
    "ExecuteTime": {
     "end_time": "2022-04-17T09:04:51.865273Z",
     "start_time": "2022-04-17T09:04:51.782687Z"
    }
   },
   "outputs": [
    {
     "name": "stdout",
     "output_type": "stream",
     "text": [
      "(15000, 139, 1)\n"
     ]
    }
   ],
   "source": [
    "# mask\n",
    "# find the maximum length vector in for each sample in 10000 samples with maximum number of non-zero values\n",
    "mask_test = np.sum(x_test, axis=2) \n",
    "\n",
    "# make the array binary\n",
    "mask_test = np.array(mask_test !=0 , np.float32)\n",
    "\n",
    "# reshape mask for a third axis\n",
    "mask_test = mask_val.reshape(x_test.shape[0], x_test.shape[1], 1)\n",
    "print(mask_test.shape)"
   ]
  },
  {
   "cell_type": "code",
   "execution_count": 93,
   "id": "2388451a",
   "metadata": {
    "ExecuteTime": {
     "end_time": "2022-04-17T09:04:52.813851Z",
     "start_time": "2022-04-17T09:04:52.804528Z"
    }
   },
   "outputs": [],
   "source": [
    "train_dataset = {\n",
    "    'points': x_train[:,:,1:3],\n",
    "    'features': x_train,\n",
    "    'mask': mask_train\n",
    "}\n",
    "\n",
    "test_dataset = {\n",
    "    'points': x_test[:,:,1:3],\n",
    "    'features': x_test,\n",
    "    'mask': mask_test\n",
    "}\n",
    "\n",
    "val_dataset = {\n",
    "    'points': x_val[:,:,1:3],\n",
    "    'features': x_val,\n",
    "    'mask': mask_val\n",
    "}"
   ]
  },
  {
   "cell_type": "code",
   "execution_count": 94,
   "id": "e4c94f43",
   "metadata": {
    "ExecuteTime": {
     "end_time": "2022-04-17T09:04:54.503072Z",
     "start_time": "2022-04-17T09:04:54.493220Z"
    }
   },
   "outputs": [
    {
     "data": {
      "text/plain": [
       "{'points': (139, 2), 'features': (139, 4), 'mask': (139, 1)}"
      ]
     },
     "execution_count": 94,
     "metadata": {},
     "output_type": "execute_result"
    }
   ],
   "source": [
    "shapes = {\n",
    "    'points': x_train[:,:,1:3].shape[1:],\n",
    "    'features': x_train.shape[1:],\n",
    "    'mask': mask_train.shape[1:]\n",
    "}\n",
    "shapes"
   ]
  },
  {
   "cell_type": "code",
   "execution_count": 95,
   "id": "a834c2ff",
   "metadata": {
    "ExecuteTime": {
     "end_time": "2022-04-17T09:04:57.534724Z",
     "start_time": "2022-04-17T09:04:56.732379Z"
    }
   },
   "outputs": [],
   "source": [
    "# particle net lite\n",
    "num_classes = 2\n",
    "model = get_particle_net_lite(num_classes, shapes)"
   ]
  },
  {
   "cell_type": "code",
   "execution_count": 96,
   "id": "4da8a6da",
   "metadata": {
    "ExecuteTime": {
     "end_time": "2022-04-17T09:04:57.898818Z",
     "start_time": "2022-04-17T09:04:57.894303Z"
    }
   },
   "outputs": [],
   "source": [
    "# Training parameters\n",
    "batch_size = 1024\n",
    "epochs = 3"
   ]
  },
  {
   "cell_type": "code",
   "execution_count": 97,
   "id": "238a7243",
   "metadata": {
    "ExecuteTime": {
     "end_time": "2022-04-17T09:04:58.336746Z",
     "start_time": "2022-04-17T09:04:58.331309Z"
    }
   },
   "outputs": [],
   "source": [
    "def lr_schedule(epoch):\n",
    "    lr = 1e-3\n",
    "    if epoch > 10:\n",
    "        lr *= 0.1\n",
    "    elif epoch > 20:\n",
    "        lr *= 0.01\n",
    "    logging.info('Learning rate: %f'%lr)\n",
    "    return lr"
   ]
  },
  {
   "cell_type": "code",
   "execution_count": 98,
   "id": "a1e5706b",
   "metadata": {
    "ExecuteTime": {
     "end_time": "2022-04-17T09:04:59.580685Z",
     "start_time": "2022-04-17T09:04:59.163442Z"
    },
    "scrolled": true
   },
   "outputs": [
    {
     "name": "stderr",
     "output_type": "stream",
     "text": [
      "[2022-04-17 14:34:59,212] INFO: Learning rate: 0.001000\n"
     ]
    },
    {
     "name": "stdout",
     "output_type": "stream",
     "text": [
      "Model: \"ParticleNet\"\n",
      "__________________________________________________________________________________________________\n",
      " Layer (type)                   Output Shape         Param #     Connected to                     \n",
      "==================================================================================================\n",
      " mask (InputLayer)              [(None, 139, 1)]     0           []                               \n",
      "                                                                                                  \n",
      " tf.math.not_equal_3 (TFOpLambd  (None, 139, 1)      0           ['mask[0][0]']                   \n",
      " a)                                                                                               \n",
      "                                                                                                  \n",
      " tf.cast_6 (TFOpLambda)         (None, 139, 1)       0           ['tf.math.not_equal_3[0][0]']    \n",
      "                                                                                                  \n",
      " tf.math.equal_3 (TFOpLambda)   (None, 139, 1)       0           ['tf.cast_6[0][0]']              \n",
      "                                                                                                  \n",
      " tf.cast_7 (TFOpLambda)         (None, 139, 1)       0           ['tf.math.equal_3[0][0]']        \n",
      "                                                                                                  \n",
      " tf.math.multiply_19 (TFOpLambd  (None, 139, 1)      0           ['tf.cast_7[0][0]']              \n",
      " a)                                                                                               \n",
      "                                                                                                  \n",
      " points (InputLayer)            [(None, 139, 2)]     0           []                               \n",
      "                                                                                                  \n",
      " tf.math.add_5 (TFOpLambda)     (None, 139, 2)       0           ['tf.math.multiply_19[0][0]',    \n",
      "                                                                  'points[0][0]']                 \n",
      "                                                                                                  \n",
      " features (InputLayer)          [(None, 139, 4)]     0           []                               \n",
      "                                                                                                  \n",
      " tf.compat.v1.transpose_9 (TFOp  (None, 2, 139)      0           ['tf.math.add_5[0][0]']          \n",
      " Lambda)                                                                                          \n",
      "                                                                                                  \n",
      " tf.expand_dims_15 (TFOpLambda)  (None, 139, 1, 4)   0           ['features[0][0]']               \n",
      "                                                                                                  \n",
      " tf.math.multiply_20 (TFOpLambd  (None, 139, 2)      0           ['tf.math.add_5[0][0]',          \n",
      " a)                                                               'tf.math.add_5[0][0]']          \n",
      "                                                                                                  \n",
      " tf.linalg.matmul_4 (TFOpLambda  (None, 139, 139)    0           ['tf.math.add_5[0][0]',          \n",
      " )                                                                'tf.compat.v1.transpose_9[0][0]'\n",
      "                                                                 ]                                \n",
      "                                                                                                  \n",
      " tf.math.multiply_21 (TFOpLambd  (None, 139, 2)      0           ['tf.math.add_5[0][0]',          \n",
      " a)                                                               'tf.math.add_5[0][0]']          \n",
      "                                                                                                  \n",
      " ParticleNet_fts_bn (BatchNorma  (None, 139, 1, 4)   16          ['tf.expand_dims_15[0][0]']      \n",
      " lization)                                                                                        \n",
      "                                                                                                  \n",
      " tf.math.reduce_sum_10 (TFOpLam  (None, 139, 1)      0           ['tf.math.multiply_20[0][0]']    \n",
      " bda)                                                                                             \n",
      "                                                                                                  \n",
      " tf.math.multiply_22 (TFOpLambd  (None, 139, 139)    0           ['tf.linalg.matmul_4[0][0]']     \n",
      " a)                                                                                               \n",
      "                                                                                                  \n",
      " tf.math.reduce_sum_11 (TFOpLam  (None, 139, 1)      0           ['tf.math.multiply_21[0][0]']    \n",
      " bda)                                                                                             \n",
      "                                                                                                  \n",
      " tf.compat.v1.squeeze_7 (TFOpLa  (None, 139, 4)      0           ['ParticleNet_fts_bn[0][0]']     \n",
      " mbda)                                                                                            \n",
      "                                                                                                  \n",
      " tf.math.subtract_8 (TFOpLambda  (None, 139, 139)    0           ['tf.math.reduce_sum_10[0][0]',  \n",
      " )                                                                'tf.math.multiply_22[0][0]']    \n",
      "                                                                                                  \n",
      " tf.compat.v1.transpose_10 (TFO  (None, 1, 139)      0           ['tf.math.reduce_sum_11[0][0]']  \n",
      " pLambda)                                                                                         \n",
      "                                                                                                  \n",
      " tf.compat.v1.shape_4 (TFOpLamb  (3,)                0           ['tf.compat.v1.squeeze_7[0][0]'] \n",
      " da)                                                                                              \n",
      "                                                                                                  \n",
      " tf.__operators__.add_8 (TFOpLa  (None, 139, 139)    0           ['tf.math.subtract_8[0][0]',     \n",
      " mbda)                                                            'tf.compat.v1.transpose_10[0][0]\n",
      "                                                                 ']                               \n",
      "                                                                                                  \n",
      " tf.__operators__.getitem_9 (Sl  ()                  0           ['tf.compat.v1.shape_4[0][0]']   \n",
      " icingOpLambda)                                                                                   \n",
      "                                                                                                  \n",
      " tf.math.negative_4 (TFOpLambda  (None, 139, 139)    0           ['tf.__operators__.add_8[0][0]'] \n",
      " )                                                                                                \n",
      "                                                                                                  \n",
      " tf.range_4 (TFOpLambda)        (None,)              0           ['tf.__operators__.getitem_9[0][0\n",
      "                                                                 ]']                              \n",
      "                                                                                                  \n",
      " tf.math.top_k_4 (TFOpLambda)   TopKV2(values=(None  0           ['tf.math.negative_4[0][0]']     \n",
      "                                , 139, 8),                                                        \n",
      "                                 indices=(None, 139                                               \n",
      "                                , 8))                                                             \n",
      "                                                                                                  \n",
      " tf.reshape_4 (TFOpLambda)      (None, 1, 1, 1)      0           ['tf.range_4[0][0]']             \n",
      "                                                                                                  \n"
     ]
    },
    {
     "name": "stdout",
     "output_type": "stream",
     "text": [
      " tf.__operators__.getitem_8 (Sl  (None, 139, 7)      0           ['tf.math.top_k_4[0][1]']        \n",
      " icingOpLambda)                                                                                   \n",
      "                                                                                                  \n",
      " tf.tile_8 (TFOpLambda)         (None, 139, 7, 1)    0           ['tf.reshape_4[0][0]']           \n",
      "                                                                                                  \n",
      " tf.expand_dims_16 (TFOpLambda)  (None, 139, 7, 1)   0           ['tf.__operators__.getitem_8[0][0\n",
      "                                                                 ]']                              \n",
      "                                                                                                  \n",
      " tf.expand_dims_17 (TFOpLambda)  (None, 139, 1, 4)   0           ['tf.compat.v1.squeeze_7[0][0]'] \n",
      "                                                                                                  \n",
      " tf.concat_8 (TFOpLambda)       (None, 139, 7, 2)    0           ['tf.tile_8[0][0]',              \n",
      "                                                                  'tf.expand_dims_16[0][0]']      \n",
      "                                                                                                  \n",
      " tf.tile_9 (TFOpLambda)         (None, 139, 7, 4)    0           ['tf.expand_dims_17[0][0]']      \n",
      "                                                                                                  \n",
      " tf.compat.v1.gather_nd_4 (TFOp  (None, 139, 7, 4)   0           ['tf.compat.v1.squeeze_7[0][0]', \n",
      " Lambda)                                                          'tf.concat_8[0][0]']            \n",
      "                                                                                                  \n",
      " tf.math.subtract_9 (TFOpLambda  (None, 139, 7, 4)   0           ['tf.compat.v1.gather_nd_4[0][0]'\n",
      " )                                                               , 'tf.tile_9[0][0]']             \n",
      "                                                                                                  \n",
      " tf.concat_9 (TFOpLambda)       (None, 139, 7, 8)    0           ['tf.tile_9[0][0]',              \n",
      "                                                                  'tf.math.subtract_9[0][0]']     \n",
      "                                                                                                  \n",
      " ParticleNet_EdgeConv0_conv0 (C  (None, 139, 7, 32)  256         ['tf.concat_9[0][0]']            \n",
      " onv2D)                                                                                           \n",
      "                                                                                                  \n",
      " ParticleNet_EdgeConv0_bn0 (Bat  (None, 139, 7, 32)  128         ['ParticleNet_EdgeConv0_conv0[0][\n",
      " chNormalization)                                                0]']                             \n",
      "                                                                                                  \n",
      " ParticleNet_EdgeConv0_act0 (Ac  (None, 139, 7, 32)  0           ['ParticleNet_EdgeConv0_bn0[0][0]\n",
      " tivation)                                                       ']                               \n",
      "                                                                                                  \n",
      " ParticleNet_EdgeConv0_conv1 (C  (None, 139, 7, 32)  1024        ['ParticleNet_EdgeConv0_act0[0][0\n",
      " onv2D)                                                          ]']                              \n",
      "                                                                                                  \n",
      " ParticleNet_EdgeConv0_bn1 (Bat  (None, 139, 7, 32)  128         ['ParticleNet_EdgeConv0_conv1[0][\n",
      " chNormalization)                                                0]']                             \n",
      "                                                                                                  \n",
      " ParticleNet_EdgeConv0_act1 (Ac  (None, 139, 7, 32)  0           ['ParticleNet_EdgeConv0_bn1[0][0]\n",
      " tivation)                                                       ']                               \n",
      "                                                                                                  \n",
      " tf.expand_dims_18 (TFOpLambda)  (None, 139, 1, 4)   0           ['tf.compat.v1.squeeze_7[0][0]'] \n",
      "                                                                                                  \n",
      " ParticleNet_EdgeConv0_conv2 (C  (None, 139, 7, 32)  1024        ['ParticleNet_EdgeConv0_act1[0][0\n",
      " onv2D)                                                          ]']                              \n",
      "                                                                                                  \n",
      " ParticleNet_EdgeConv0_sc_conv   (None, 139, 1, 32)  128         ['tf.expand_dims_18[0][0]']      \n",
      " (Conv2D)                                                                                         \n",
      "                                                                                                  \n",
      " ParticleNet_EdgeConv0_bn2 (Bat  (None, 139, 7, 32)  128         ['ParticleNet_EdgeConv0_conv2[0][\n",
      " chNormalization)                                                0]']                             \n",
      "                                                                                                  \n",
      " ParticleNet_EdgeConv0_sc_bn (B  (None, 139, 1, 32)  128         ['ParticleNet_EdgeConv0_sc_conv[0\n",
      " atchNormalization)                                              ][0]']                           \n",
      "                                                                                                  \n",
      " ParticleNet_EdgeConv0_act2 (Ac  (None, 139, 7, 32)  0           ['ParticleNet_EdgeConv0_bn2[0][0]\n",
      " tivation)                                                       ']                               \n",
      "                                                                                                  \n",
      " tf.compat.v1.squeeze_8 (TFOpLa  (None, 139, 32)     0           ['ParticleNet_EdgeConv0_sc_bn[0][\n",
      " mbda)                                                           0]']                             \n",
      "                                                                                                  \n",
      " tf.math.reduce_mean_6 (TFOpLam  (None, 139, 32)     0           ['ParticleNet_EdgeConv0_act2[0][0\n",
      " bda)                                                            ]']                              \n",
      "                                                                                                  \n",
      " tf.__operators__.add_9 (TFOpLa  (None, 139, 32)     0           ['tf.compat.v1.squeeze_8[0][0]', \n",
      " mbda)                                                            'tf.math.reduce_mean_6[0][0]']  \n",
      "                                                                                                  \n",
      " ParticleNet_EdgeConv0_sc_act (  (None, 139, 32)     0           ['tf.__operators__.add_9[0][0]'] \n",
      " Activation)                                                                                      \n",
      "                                                                                                  \n",
      " tf.math.add_6 (TFOpLambda)     (None, 139, 32)      0           ['tf.math.multiply_19[0][0]',    \n",
      "                                                                  'ParticleNet_EdgeConv0_sc_act[0]\n",
      "                                                                 [0]']                            \n",
      "                                                                                                  \n",
      " tf.compat.v1.transpose_11 (TFO  (None, 32, 139)     0           ['tf.math.add_6[0][0]']          \n",
      " pLambda)                                                                                         \n",
      "                                                                                                  \n",
      " tf.math.multiply_23 (TFOpLambd  (None, 139, 32)     0           ['tf.math.add_6[0][0]',          \n",
      " a)                                                               'tf.math.add_6[0][0]']          \n",
      "                                                                                                  \n",
      " tf.linalg.matmul_5 (TFOpLambda  (None, 139, 139)    0           ['tf.math.add_6[0][0]',          \n",
      " )                                                                'tf.compat.v1.transpose_11[0][0]\n"
     ]
    },
    {
     "name": "stdout",
     "output_type": "stream",
     "text": [
      "                                                                 ']                               \n",
      "                                                                                                  \n",
      " tf.math.multiply_24 (TFOpLambd  (None, 139, 32)     0           ['tf.math.add_6[0][0]',          \n",
      " a)                                                               'tf.math.add_6[0][0]']          \n",
      "                                                                                                  \n",
      " tf.math.reduce_sum_12 (TFOpLam  (None, 139, 1)      0           ['tf.math.multiply_23[0][0]']    \n",
      " bda)                                                                                             \n",
      "                                                                                                  \n",
      " tf.math.multiply_25 (TFOpLambd  (None, 139, 139)    0           ['tf.linalg.matmul_5[0][0]']     \n",
      " a)                                                                                               \n",
      "                                                                                                  \n",
      " tf.math.reduce_sum_13 (TFOpLam  (None, 139, 1)      0           ['tf.math.multiply_24[0][0]']    \n",
      " bda)                                                                                             \n",
      "                                                                                                  \n",
      " tf.math.subtract_10 (TFOpLambd  (None, 139, 139)    0           ['tf.math.reduce_sum_12[0][0]',  \n",
      " a)                                                               'tf.math.multiply_25[0][0]']    \n",
      "                                                                                                  \n",
      " tf.compat.v1.transpose_12 (TFO  (None, 1, 139)      0           ['tf.math.reduce_sum_13[0][0]']  \n",
      " pLambda)                                                                                         \n",
      "                                                                                                  \n",
      " tf.compat.v1.shape_5 (TFOpLamb  (3,)                0           ['ParticleNet_EdgeConv0_sc_act[0]\n",
      " da)                                                             [0]']                            \n",
      "                                                                                                  \n",
      " tf.__operators__.add_10 (TFOpL  (None, 139, 139)    0           ['tf.math.subtract_10[0][0]',    \n",
      " ambda)                                                           'tf.compat.v1.transpose_12[0][0]\n",
      "                                                                 ']                               \n",
      "                                                                                                  \n",
      " tf.__operators__.getitem_11 (S  ()                  0           ['tf.compat.v1.shape_5[0][0]']   \n",
      " licingOpLambda)                                                                                  \n",
      "                                                                                                  \n",
      " tf.math.negative_5 (TFOpLambda  (None, 139, 139)    0           ['tf.__operators__.add_10[0][0]']\n",
      " )                                                                                                \n",
      "                                                                                                  \n",
      " tf.range_5 (TFOpLambda)        (None,)              0           ['tf.__operators__.getitem_11[0][\n",
      "                                                                 0]']                             \n",
      "                                                                                                  \n",
      " tf.math.top_k_5 (TFOpLambda)   TopKV2(values=(None  0           ['tf.math.negative_5[0][0]']     \n",
      "                                , 139, 8),                                                        \n",
      "                                 indices=(None, 139                                               \n",
      "                                , 8))                                                             \n",
      "                                                                                                  \n",
      " tf.reshape_5 (TFOpLambda)      (None, 1, 1, 1)      0           ['tf.range_5[0][0]']             \n",
      "                                                                                                  \n",
      " tf.__operators__.getitem_10 (S  (None, 139, 7)      0           ['tf.math.top_k_5[0][1]']        \n",
      " licingOpLambda)                                                                                  \n",
      "                                                                                                  \n",
      " tf.tile_10 (TFOpLambda)        (None, 139, 7, 1)    0           ['tf.reshape_5[0][0]']           \n",
      "                                                                                                  \n",
      " tf.expand_dims_19 (TFOpLambda)  (None, 139, 7, 1)   0           ['tf.__operators__.getitem_10[0][\n",
      "                                                                 0]']                             \n",
      "                                                                                                  \n",
      " tf.expand_dims_20 (TFOpLambda)  (None, 139, 1, 32)  0           ['ParticleNet_EdgeConv0_sc_act[0]\n",
      "                                                                 [0]']                            \n",
      "                                                                                                  \n",
      " tf.concat_10 (TFOpLambda)      (None, 139, 7, 2)    0           ['tf.tile_10[0][0]',             \n",
      "                                                                  'tf.expand_dims_19[0][0]']      \n",
      "                                                                                                  \n",
      " tf.tile_11 (TFOpLambda)        (None, 139, 7, 32)   0           ['tf.expand_dims_20[0][0]']      \n",
      "                                                                                                  \n",
      " tf.compat.v1.gather_nd_5 (TFOp  (None, 139, 7, 32)  0           ['ParticleNet_EdgeConv0_sc_act[0]\n",
      " Lambda)                                                         [0]',                            \n",
      "                                                                  'tf.concat_10[0][0]']           \n",
      "                                                                                                  \n",
      " tf.math.subtract_11 (TFOpLambd  (None, 139, 7, 32)  0           ['tf.compat.v1.gather_nd_5[0][0]'\n",
      " a)                                                              , 'tf.tile_11[0][0]']            \n",
      "                                                                                                  \n",
      " tf.concat_11 (TFOpLambda)      (None, 139, 7, 64)   0           ['tf.tile_11[0][0]',             \n",
      "                                                                  'tf.math.subtract_11[0][0]']    \n",
      "                                                                                                  \n",
      " ParticleNet_EdgeConv1_conv0 (C  (None, 139, 7, 64)  4096        ['tf.concat_11[0][0]']           \n",
      " onv2D)                                                                                           \n",
      "                                                                                                  \n",
      " ParticleNet_EdgeConv1_bn0 (Bat  (None, 139, 7, 64)  256         ['ParticleNet_EdgeConv1_conv0[0][\n",
      " chNormalization)                                                0]']                             \n",
      "                                                                                                  \n",
      " ParticleNet_EdgeConv1_act0 (Ac  (None, 139, 7, 64)  0           ['ParticleNet_EdgeConv1_bn0[0][0]\n",
      " tivation)                                                       ']                               \n",
      "                                                                                                  \n",
      " ParticleNet_EdgeConv1_conv1 (C  (None, 139, 7, 64)  4096        ['ParticleNet_EdgeConv1_act0[0][0\n",
      " onv2D)                                                          ]']                              \n",
      "                                                                                                  \n",
      " ParticleNet_EdgeConv1_bn1 (Bat  (None, 139, 7, 64)  256         ['ParticleNet_EdgeConv1_conv1[0][\n",
      " chNormalization)                                                0]']                             \n"
     ]
    },
    {
     "name": "stdout",
     "output_type": "stream",
     "text": [
      "                                                                                                  \n",
      " ParticleNet_EdgeConv1_act1 (Ac  (None, 139, 7, 64)  0           ['ParticleNet_EdgeConv1_bn1[0][0]\n",
      " tivation)                                                       ']                               \n",
      "                                                                                                  \n",
      " tf.expand_dims_21 (TFOpLambda)  (None, 139, 1, 32)  0           ['ParticleNet_EdgeConv0_sc_act[0]\n",
      "                                                                 [0]']                            \n",
      "                                                                                                  \n",
      " ParticleNet_EdgeConv1_conv2 (C  (None, 139, 7, 64)  4096        ['ParticleNet_EdgeConv1_act1[0][0\n",
      " onv2D)                                                          ]']                              \n",
      "                                                                                                  \n",
      " ParticleNet_EdgeConv1_sc_conv   (None, 139, 1, 64)  2048        ['tf.expand_dims_21[0][0]']      \n",
      " (Conv2D)                                                                                         \n",
      "                                                                                                  \n",
      " ParticleNet_EdgeConv1_bn2 (Bat  (None, 139, 7, 64)  256         ['ParticleNet_EdgeConv1_conv2[0][\n",
      " chNormalization)                                                0]']                             \n",
      "                                                                                                  \n",
      " ParticleNet_EdgeConv1_sc_bn (B  (None, 139, 1, 64)  256         ['ParticleNet_EdgeConv1_sc_conv[0\n",
      " atchNormalization)                                              ][0]']                           \n",
      "                                                                                                  \n",
      " ParticleNet_EdgeConv1_act2 (Ac  (None, 139, 7, 64)  0           ['ParticleNet_EdgeConv1_bn2[0][0]\n",
      " tivation)                                                       ']                               \n",
      "                                                                                                  \n",
      " tf.compat.v1.squeeze_9 (TFOpLa  (None, 139, 64)     0           ['ParticleNet_EdgeConv1_sc_bn[0][\n",
      " mbda)                                                           0]']                             \n",
      "                                                                                                  \n",
      " tf.math.reduce_mean_7 (TFOpLam  (None, 139, 64)     0           ['ParticleNet_EdgeConv1_act2[0][0\n",
      " bda)                                                            ]']                              \n",
      "                                                                                                  \n",
      " tf.__operators__.add_11 (TFOpL  (None, 139, 64)     0           ['tf.compat.v1.squeeze_9[0][0]', \n",
      " ambda)                                                           'tf.math.reduce_mean_7[0][0]']  \n",
      "                                                                                                  \n",
      " ParticleNet_EdgeConv1_sc_act (  (None, 139, 64)     0           ['tf.__operators__.add_11[0][0]']\n",
      " Activation)                                                                                      \n",
      "                                                                                                  \n",
      " tf.math.multiply_26 (TFOpLambd  (None, 139, 64)     0           ['ParticleNet_EdgeConv1_sc_act[0]\n",
      " a)                                                              [0]',                            \n",
      "                                                                  'tf.cast_6[0][0]']              \n",
      "                                                                                                  \n",
      " tf.math.reduce_mean_8 (TFOpLam  (None, 64)          0           ['tf.math.multiply_26[0][0]']    \n",
      " bda)                                                                                             \n",
      "                                                                                                  \n",
      " dense_4 (Dense)                (None, 128)          8320        ['tf.math.reduce_mean_8[0][0]']  \n",
      "                                                                                                  \n",
      " dropout_2 (Dropout)            (None, 128)          0           ['dense_4[0][0]']                \n",
      "                                                                                                  \n",
      " dense_5 (Dense)                (None, 2)            258         ['dropout_2[0][0]']              \n",
      "                                                                                                  \n",
      "==================================================================================================\n",
      "Total params: 26,898\n",
      "Trainable params: 26,122\n",
      "Non-trainable params: 776\n",
      "__________________________________________________________________________________________________\n"
     ]
    }
   ],
   "source": [
    "model.compile(loss='categorical_crossentropy',\n",
    "              optimizer=keras.optimizers.Adam(learning_rate=lr_schedule(0)),\n",
    "              metrics=['accuracy'])\n",
    "model.summary()"
   ]
  },
  {
   "cell_type": "code",
   "execution_count": 99,
   "id": "781db52e",
   "metadata": {
    "ExecuteTime": {
     "end_time": "2022-04-17T09:05:01.127726Z",
     "start_time": "2022-04-17T09:05:01.005565Z"
    }
   },
   "outputs": [],
   "source": [
    "# Prepare model model saving directory.\n",
    "\n",
    "save_dir = 'model_checkpoints'\n",
    "model_name = '%s_model.{epoch:03d}.h5' % 'particle_net_lite'\n",
    "if not os.path.isdir(save_dir):\n",
    "    os.makedirs(save_dir)\n",
    "filepath = os.path.join(save_dir, model_name)\n",
    "\n",
    "# Prepare callbacks for model saving and for learning rate adjustment.\n",
    "checkpoint = keras.callbacks.ModelCheckpoint(filepath=filepath,\n",
    "                             monitor='val_acc',\n",
    "                             verbose=1,\n",
    "                             save_best_only=True)\n",
    "\n",
    "lr_scheduler = keras.callbacks.LearningRateScheduler(lr_schedule)\n",
    "progress_bar = keras.callbacks.ProgbarLogger()\n",
    "callbacks = [checkpoint, lr_scheduler, progress_bar]"
   ]
  },
  {
   "cell_type": "code",
   "execution_count": 100,
   "id": "12e72660",
   "metadata": {
    "ExecuteTime": {
     "end_time": "2022-04-17T09:06:10.731151Z",
     "start_time": "2022-04-17T09:05:02.738509Z"
    },
    "scrolled": false
   },
   "outputs": [
    {
     "name": "stderr",
     "output_type": "stream",
     "text": [
      "2022-04-17 14:35:02.841615: W tensorflow/core/framework/cpu_allocator_impl.cc:82] Allocation of 155680000 exceeds 10% of free system memory.\n",
      "[2022-04-17 14:35:03,254] INFO: Learning rate: 0.001000\n"
     ]
    },
    {
     "name": "stdout",
     "output_type": "stream",
     "text": [
      "Epoch 1/3\n"
     ]
    },
    {
     "name": "stderr",
     "output_type": "stream",
     "text": [
      "2022-04-17 14:35:09.874349: W tensorflow/core/framework/cpu_allocator_impl.cc:82] Allocation of 127533056 exceeds 10% of free system memory.\n"
     ]
    },
    {
     "name": "stdout",
     "output_type": "stream",
     "text": [
      "\r",
      "      0/Unknown - 56s 0s/sample - loss: 0.7741 - accuracy: 0.5068"
     ]
    },
    {
     "name": "stderr",
     "output_type": "stream",
     "text": [
      "\n",
      "KeyboardInterrupt\n",
      "\n"
     ]
    }
   ],
   "source": [
    "history = model.fit(train_dataset, y_train,\n",
    "          batch_size=batch_size,\n",
    "          epochs=epochs,\n",
    "          validation_data=(val_dataset, y_val),\n",
    "          shuffle=True,\n",
    "          callbacks=callbacks)"
   ]
  },
  {
   "cell_type": "code",
   "execution_count": null,
   "id": "94a9f4bc",
   "metadata": {},
   "outputs": [],
   "source": []
  }
 ],
 "metadata": {
  "kernelspec": {
   "display_name": "Python 3 (ipykernel)",
   "language": "python",
   "name": "python3"
  },
  "language_info": {
   "codemirror_mode": {
    "name": "ipython",
    "version": 3
   },
   "file_extension": ".py",
   "mimetype": "text/x-python",
   "name": "python",
   "nbconvert_exporter": "python",
   "pygments_lexer": "ipython3",
   "version": "3.9.7"
  },
  "latex_envs": {
   "LaTeX_envs_menu_present": true,
   "autoclose": false,
   "autocomplete": true,
   "bibliofile": "biblio.bib",
   "cite_by": "apalike",
   "current_citInitial": 1,
   "eqLabelWithNumbers": true,
   "eqNumInitial": 1,
   "hotkeys": {
    "equation": "Ctrl-E",
    "itemize": "Ctrl-I"
   },
   "labels_anchors": false,
   "latex_user_defs": false,
   "report_style_numbering": false,
   "user_envs_cfg": false
  },
  "toc": {
   "base_numbering": 1,
   "nav_menu": {},
   "number_sections": true,
   "sideBar": true,
   "skip_h1_title": false,
   "title_cell": "Table of Contents",
   "title_sidebar": "Contents",
   "toc_cell": false,
   "toc_position": {},
   "toc_section_display": true,
   "toc_window_display": false
  }
 },
 "nbformat": 4,
 "nbformat_minor": 5
}
