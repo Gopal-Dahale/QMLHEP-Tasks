{
 "cells": [
  {
   "cell_type": "code",
   "execution_count": 1,
   "id": "e90c5d23",
   "metadata": {
    "ExecuteTime": {
     "end_time": "2022-03-30T12:37:15.748327Z",
     "start_time": "2022-03-30T12:37:14.501007Z"
    }
   },
   "outputs": [],
   "source": [
    "import numpy as np"
   ]
  },
  {
   "cell_type": "code",
   "execution_count": 4,
   "id": "82c703a0",
   "metadata": {
    "ExecuteTime": {
     "end_time": "2022-03-30T12:38:48.192368Z",
     "start_time": "2022-03-30T12:38:48.106825Z"
    }
   },
   "outputs": [],
   "source": [
    "train = np.load('./data/QIS_EXAM_200Events/training_input.npy', allow_pickle=True)\n",
    "test = np.load('./data/QIS_EXAM_200Events/test_input.npy', allow_pickle=True)"
   ]
  },
  {
   "cell_type": "code",
   "execution_count": 52,
   "id": "cb3ad976",
   "metadata": {
    "ExecuteTime": {
     "end_time": "2022-03-30T12:52:16.822041Z",
     "start_time": "2022-03-30T12:52:16.804255Z"
    }
   },
   "outputs": [],
   "source": [
    "# signal = 1\n",
    "# bgnd = 0\n",
    "\n",
    "signal_train = train.item()['1']\n",
    "bgnd_train = train.item()['0']\n",
    "\n",
    "x_train = np.concatenate((signal_train, bgnd_train), axis = 0)\n",
    "y_train = np.concatenate((np.zeros(len(signal_train)), np.zeros(len(bgnd_train)) + 1), axis = 0)\n",
    "\n",
    "signal_test = test.item()['1']\n",
    "bgnd_test = test.item()['0']\n",
    "\n",
    "x_test = np.concatenate((signal_test, bgnd_test), axis =0)\n",
    "y_test = np.concatenate((np.zeros(len(signal_test)), np.zeros(len(bgnd_test)) + 1), axis = 0)"
   ]
  },
  {
   "cell_type": "code",
   "execution_count": 54,
   "id": "a1fd8038",
   "metadata": {
    "ExecuteTime": {
     "end_time": "2022-03-30T12:52:23.986449Z",
     "start_time": "2022-03-30T12:52:23.971770Z"
    }
   },
   "outputs": [
    {
     "data": {
      "text/plain": [
       "(100, 5)"
      ]
     },
     "execution_count": 54,
     "metadata": {},
     "output_type": "execute_result"
    }
   ],
   "source": [
    "x_test.shape"
   ]
  },
  {
   "cell_type": "code",
   "execution_count": 46,
   "id": "f56da4ae",
   "metadata": {
    "ExecuteTime": {
     "end_time": "2022-03-30T12:47:32.258963Z",
     "start_time": "2022-03-30T12:47:32.243015Z"
    }
   },
   "outputs": [
    {
     "data": {
      "text/plain": [
       "50"
      ]
     },
     "execution_count": 46,
     "metadata": {},
     "output_type": "execute_result"
    }
   ],
   "source": []
  },
  {
   "cell_type": "code",
   "execution_count": null,
   "id": "005d527c",
   "metadata": {},
   "outputs": [],
   "source": []
  }
 ],
 "metadata": {
  "kernelspec": {
   "display_name": "Python 3 (ipykernel)",
   "language": "python",
   "name": "python3"
  },
  "language_info": {
   "codemirror_mode": {
    "name": "ipython",
    "version": 3
   },
   "file_extension": ".py",
   "mimetype": "text/x-python",
   "name": "python",
   "nbconvert_exporter": "python",
   "pygments_lexer": "ipython3",
   "version": "3.9.7"
  },
  "latex_envs": {
   "LaTeX_envs_menu_present": true,
   "autoclose": false,
   "autocomplete": true,
   "bibliofile": "biblio.bib",
   "cite_by": "apalike",
   "current_citInitial": 1,
   "eqLabelWithNumbers": true,
   "eqNumInitial": 1,
   "hotkeys": {
    "equation": "Ctrl-E",
    "itemize": "Ctrl-I"
   },
   "labels_anchors": false,
   "latex_user_defs": false,
   "report_style_numbering": false,
   "user_envs_cfg": false
  },
  "toc": {
   "base_numbering": 1,
   "nav_menu": {},
   "number_sections": true,
   "sideBar": true,
   "skip_h1_title": false,
   "title_cell": "Table of Contents",
   "title_sidebar": "Contents",
   "toc_cell": false,
   "toc_position": {},
   "toc_section_display": true,
   "toc_window_display": false
  }
 },
 "nbformat": 4,
 "nbformat_minor": 5
}
