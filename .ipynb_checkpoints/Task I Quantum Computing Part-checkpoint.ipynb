{
 "cells": [
  {
   "cell_type": "code",
   "execution_count": 191,
   "id": "fb195579",
   "metadata": {
    "ExecuteTime": {
     "end_time": "2022-03-26T07:12:35.772067Z",
     "start_time": "2022-03-26T07:12:35.763885Z"
    }
   },
   "outputs": [],
   "source": [
    "import cirq\n",
    "import numpy as np\n",
    "from cirq.contrib.svg import SVGCircuit\n",
    "from cirq import Simulator"
   ]
  },
  {
   "cell_type": "code",
   "execution_count": 192,
   "id": "da7f662d",
   "metadata": {
    "ExecuteTime": {
     "end_time": "2022-03-26T07:12:35.954515Z",
     "start_time": "2022-03-26T07:12:35.928837Z"
    }
   },
   "outputs": [],
   "source": [
    "n = 5\n",
    "qr = cirq.LineQubit.range(n)\n",
    "circuit = cirq.Circuit()\n",
    "circuit.append(cirq.H.on_each(*qr))\n",
    "for i in range(4):\n",
    "    circuit.append(cirq.CNOT(qr[i], qr[i+1]))\n",
    "\n",
    "circuit.append(cirq.SWAP(qr[0], qr[4]))\n",
    "index = np.random.randint(n)\n",
    "circuit.append(cirq.rx(rads= np.pi/2).on(qr[index]))"
   ]
  },
  {
   "cell_type": "code",
   "execution_count": 193,
   "id": "9a1cc13f",
   "metadata": {
    "ExecuteTime": {
     "end_time": "2022-03-26T07:12:36.286260Z",
     "start_time": "2022-03-26T07:12:36.096705Z"
    }
   },
   "outputs": [
    {
     "data": {
      "image/svg+xml": [
       "<svg xmlns=\"http://www.w3.org/2000/svg\" width=\"527.05328125\" height=\"290.0\"><line x1=\"30.0\" x2=\"497.05328125\" y1=\"45.0\" y2=\"45.0\" stroke=\"#1967d2\" stroke-width=\"1\" /><line x1=\"30.0\" x2=\"497.05328125\" y1=\"95.0\" y2=\"95.0\" stroke=\"#1967d2\" stroke-width=\"1\" /><line x1=\"30.0\" x2=\"497.05328125\" y1=\"145.0\" y2=\"145.0\" stroke=\"#1967d2\" stroke-width=\"1\" /><line x1=\"30.0\" x2=\"497.05328125\" y1=\"195.0\" y2=\"195.0\" stroke=\"#1967d2\" stroke-width=\"1\" /><line x1=\"30.0\" x2=\"497.05328125\" y1=\"245.0\" y2=\"245.0\" stroke=\"#1967d2\" stroke-width=\"1\" /><line x1=\"360.0\" x2=\"477.05328125\" y1=\"5.0\" y2=\"5.0\" stroke=\"black\" stroke-width=\"1\" /><line x1=\"360.0\" x2=\"477.05328125\" y1=\"285.0\" y2=\"285.0\" stroke=\"black\" stroke-width=\"1\" /><line x1=\"150.0\" x2=\"150.0\" y1=\"45.0\" y2=\"95.0\" stroke=\"black\" stroke-width=\"3\" /><line x1=\"210.0\" x2=\"210.0\" y1=\"95.0\" y2=\"145.0\" stroke=\"black\" stroke-width=\"3\" /><line x1=\"270.0\" x2=\"270.0\" y1=\"145.0\" y2=\"195.0\" stroke=\"black\" stroke-width=\"3\" /><line x1=\"330.0\" x2=\"330.0\" y1=\"195.0\" y2=\"245.0\" stroke=\"black\" stroke-width=\"3\" /><line x1=\"380.0\" x2=\"380.0\" y1=\"45.0\" y2=\"245.0\" stroke=\"black\" stroke-width=\"3\" /><line x1=\"360.0\" x2=\"360.0\" y1=\"5.0\" y2=\"15.0\" stroke=\"black\" stroke-width=\"3\" /><line x1=\"477.05328125\" x2=\"477.05328125\" y1=\"5.0\" y2=\"15.0\" stroke=\"black\" stroke-width=\"3\" /><line x1=\"360.0\" x2=\"360.0\" y1=\"275.0\" y2=\"285.0\" stroke=\"black\" stroke-width=\"3\" /><line x1=\"477.05328125\" x2=\"477.05328125\" y1=\"275.0\" y2=\"285.0\" stroke=\"black\" stroke-width=\"3\" /><rect x=\"10.0\" y=\"25.0\" width=\"40\" height=\"40\" stroke=\"black\" fill=\"white\" stroke-width=\"0\" /><text x=\"30.0\" y=\"45.0\" dominant-baseline=\"middle\" text-anchor=\"middle\" font-size=\"14px\" font-family=\"Arial\">0: </text><rect x=\"10.0\" y=\"75.0\" width=\"40\" height=\"40\" stroke=\"black\" fill=\"white\" stroke-width=\"0\" /><text x=\"30.0\" y=\"95.0\" dominant-baseline=\"middle\" text-anchor=\"middle\" font-size=\"14px\" font-family=\"Arial\">1: </text><rect x=\"10.0\" y=\"125.0\" width=\"40\" height=\"40\" stroke=\"black\" fill=\"white\" stroke-width=\"0\" /><text x=\"30.0\" y=\"145.0\" dominant-baseline=\"middle\" text-anchor=\"middle\" font-size=\"14px\" font-family=\"Arial\">2: </text><rect x=\"10.0\" y=\"175.0\" width=\"40\" height=\"40\" stroke=\"black\" fill=\"white\" stroke-width=\"0\" /><text x=\"30.0\" y=\"195.0\" dominant-baseline=\"middle\" text-anchor=\"middle\" font-size=\"14px\" font-family=\"Arial\">3: </text><rect x=\"10.0\" y=\"225.0\" width=\"40\" height=\"40\" stroke=\"black\" fill=\"white\" stroke-width=\"0\" /><text x=\"30.0\" y=\"245.0\" dominant-baseline=\"middle\" text-anchor=\"middle\" font-size=\"14px\" font-family=\"Arial\">4: </text><rect x=\"70.0\" y=\"25.0\" width=\"40\" height=\"40\" stroke=\"black\" fill=\"white\" stroke-width=\"1\" /><text x=\"90.0\" y=\"45.0\" dominant-baseline=\"middle\" text-anchor=\"middle\" font-size=\"18px\" font-family=\"Arial\">H</text><rect x=\"70.0\" y=\"75.0\" width=\"40\" height=\"40\" stroke=\"black\" fill=\"white\" stroke-width=\"1\" /><text x=\"90.0\" y=\"95.0\" dominant-baseline=\"middle\" text-anchor=\"middle\" font-size=\"18px\" font-family=\"Arial\">H</text><rect x=\"70.0\" y=\"125.0\" width=\"40\" height=\"40\" stroke=\"black\" fill=\"white\" stroke-width=\"1\" /><text x=\"90.0\" y=\"145.0\" dominant-baseline=\"middle\" text-anchor=\"middle\" font-size=\"18px\" font-family=\"Arial\">H</text><rect x=\"70.0\" y=\"175.0\" width=\"40\" height=\"40\" stroke=\"black\" fill=\"white\" stroke-width=\"1\" /><text x=\"90.0\" y=\"195.0\" dominant-baseline=\"middle\" text-anchor=\"middle\" font-size=\"18px\" font-family=\"Arial\">H</text><rect x=\"70.0\" y=\"225.0\" width=\"40\" height=\"40\" stroke=\"black\" fill=\"white\" stroke-width=\"1\" /><text x=\"90.0\" y=\"245.0\" dominant-baseline=\"middle\" text-anchor=\"middle\" font-size=\"18px\" font-family=\"Arial\">H</text><circle cx=\"150.0\" cy=\"45.0\" r=\"10.0\" /><rect x=\"130.0\" y=\"75.0\" width=\"40\" height=\"40\" stroke=\"black\" fill=\"white\" stroke-width=\"1\" /><text x=\"150.0\" y=\"95.0\" dominant-baseline=\"middle\" text-anchor=\"middle\" font-size=\"18px\" font-family=\"Arial\">X</text><circle cx=\"210.0\" cy=\"95.0\" r=\"10.0\" /><rect x=\"190.0\" y=\"125.0\" width=\"40\" height=\"40\" stroke=\"black\" fill=\"white\" stroke-width=\"1\" /><text x=\"210.0\" y=\"145.0\" dominant-baseline=\"middle\" text-anchor=\"middle\" font-size=\"18px\" font-family=\"Arial\">X</text><circle cx=\"270.0\" cy=\"145.0\" r=\"10.0\" /><rect x=\"250.0\" y=\"175.0\" width=\"40\" height=\"40\" stroke=\"black\" fill=\"white\" stroke-width=\"1\" /><text x=\"270.0\" y=\"195.0\" dominant-baseline=\"middle\" text-anchor=\"middle\" font-size=\"18px\" font-family=\"Arial\">X</text><circle cx=\"330.0\" cy=\"195.0\" r=\"10.0\" /><rect x=\"310.0\" y=\"225.0\" width=\"40\" height=\"40\" stroke=\"black\" fill=\"white\" stroke-width=\"1\" /><text x=\"330.0\" y=\"245.0\" dominant-baseline=\"middle\" text-anchor=\"middle\" font-size=\"18px\" font-family=\"Arial\">X</text><text x=\"380.0\" y=\"48.0\" dominant-baseline=\"middle\" text-anchor=\"middle\" font-size=\"40px\" font-family=\"Arial\">×</text><text x=\"380.0\" y=\"248.0\" dominant-baseline=\"middle\" text-anchor=\"middle\" font-size=\"40px\" font-family=\"Arial\">×</text><rect x=\"400.0\" y=\"175.0\" width=\"67.05328125\" height=\"40\" stroke=\"black\" fill=\"white\" stroke-width=\"1\" /><text x=\"433.526640625\" y=\"195.0\" dominant-baseline=\"middle\" text-anchor=\"middle\" font-size=\"14px\" font-family=\"Arial\">Rx(0.5π)</text></svg>"
      ],
      "text/plain": [
       "<cirq.contrib.svg.svg.SVGCircuit at 0x7fd1e1b930d0>"
      ]
     },
     "execution_count": 193,
     "metadata": {},
     "output_type": "execute_result"
    }
   ],
   "source": [
    "SVGCircuit(circuit)"
   ]
  },
  {
   "cell_type": "code",
   "execution_count": 204,
   "id": "1bf38297",
   "metadata": {
    "ExecuteTime": {
     "end_time": "2022-03-26T07:13:46.212256Z",
     "start_time": "2022-03-26T07:13:46.198775Z"
    }
   },
   "outputs": [],
   "source": [
    "n = 5\n",
    "qr = cirq.LineQubit.range(1)\n",
    "circuit = cirq.Circuit()\n",
    "total_angle = 0\n",
    "for i in range(n):\n",
    "    angle = (np.pi/2)*random.uniform(0, 1)\n",
    "    total_angle += angle\n",
    "    circuit.append(cirq.rx(rads = angle).on(qr[0]))"
   ]
  },
  {
   "cell_type": "code",
   "execution_count": 205,
   "id": "a8653a37",
   "metadata": {
    "ExecuteTime": {
     "end_time": "2022-03-26T07:13:46.673960Z",
     "start_time": "2022-03-26T07:13:46.428139Z"
    }
   },
   "outputs": [
    {
     "data": {
      "image/svg+xml": [
       "<svg xmlns=\"http://www.w3.org/2000/svg\" width=\"615.4314453125\" height=\"50.0\"><line x1=\"30.0\" x2=\"585.4314453125\" y1=\"25.0\" y2=\"25.0\" stroke=\"#1967d2\" stroke-width=\"1\" /><rect x=\"10.0\" y=\"5.0\" width=\"40\" height=\"40\" stroke=\"black\" fill=\"white\" stroke-width=\"0\" /><text x=\"30.0\" y=\"25.0\" dominant-baseline=\"middle\" text-anchor=\"middle\" font-size=\"14px\" font-family=\"Arial\">0: </text><rect x=\"70.0\" y=\"5.0\" width=\"84.86773437500001\" height=\"40\" stroke=\"black\" fill=\"white\" stroke-width=\"1\" /><text x=\"112.4338671875\" y=\"25.0\" dominant-baseline=\"middle\" text-anchor=\"middle\" font-size=\"14px\" font-family=\"Arial\">Rx(0.339π)</text><rect x=\"174.867734375\" y=\"5.0\" width=\"84.86773437500001\" height=\"40\" stroke=\"black\" fill=\"white\" stroke-width=\"1\" /><text x=\"217.3016015625\" y=\"25.0\" dominant-baseline=\"middle\" text-anchor=\"middle\" font-size=\"14px\" font-family=\"Arial\">Rx(0.201π)</text><rect x=\"279.73546875\" y=\"5.0\" width=\"84.86773437500001\" height=\"40\" stroke=\"black\" fill=\"white\" stroke-width=\"1\" /><text x=\"322.1693359375\" y=\"25.0\" dominant-baseline=\"middle\" text-anchor=\"middle\" font-size=\"14px\" font-family=\"Arial\">Rx(0.158π)</text><rect x=\"384.603203125\" y=\"5.0\" width=\"84.86773437500001\" height=\"40\" stroke=\"black\" fill=\"white\" stroke-width=\"1\" /><text x=\"427.0370703125\" y=\"25.0\" dominant-baseline=\"middle\" text-anchor=\"middle\" font-size=\"14px\" font-family=\"Arial\">Rx(0.373π)</text><rect x=\"489.4709375\" y=\"5.0\" width=\"75.96050781250001\" height=\"40\" stroke=\"black\" fill=\"white\" stroke-width=\"1\" /><text x=\"527.45119140625\" y=\"25.0\" dominant-baseline=\"middle\" text-anchor=\"middle\" font-size=\"14px\" font-family=\"Arial\">Rx(0.27π)</text></svg>"
      ],
      "text/plain": [
       "<cirq.contrib.svg.svg.SVGCircuit at 0x7fd1e1d12b20>"
      ]
     },
     "execution_count": 205,
     "metadata": {},
     "output_type": "execute_result"
    }
   ],
   "source": [
    "SVGCircuit(circuit)"
   ]
  },
  {
   "cell_type": "code",
   "execution_count": 206,
   "id": "fea96f51",
   "metadata": {
    "ExecuteTime": {
     "end_time": "2022-03-26T07:13:46.716255Z",
     "start_time": "2022-03-26T07:13:46.707922Z"
    }
   },
   "outputs": [
    {
     "data": {
      "text/plain": [
       "1.340499092317659"
      ]
     },
     "execution_count": 206,
     "metadata": {},
     "output_type": "execute_result"
    }
   ],
   "source": [
    "total_angle/np.pi"
   ]
  },
  {
   "cell_type": "code",
   "execution_count": 207,
   "id": "1dcf6482",
   "metadata": {
    "ExecuteTime": {
     "end_time": "2022-03-26T07:13:47.103406Z",
     "start_time": "2022-03-26T07:13:47.082987Z"
    }
   },
   "outputs": [],
   "source": [
    "sim = Simulator()\n",
    "repetitions = 10\n",
    "circuit.append(cirq.measure(qr[0]))\n",
    "results = sim.run(program=circuit,repetitions=repetitions)"
   ]
  },
  {
   "cell_type": "code",
   "execution_count": 211,
   "id": "e471f380",
   "metadata": {
    "ExecuteTime": {
     "end_time": "2022-03-26T07:15:06.832286Z",
     "start_time": "2022-03-26T07:15:06.618914Z"
    }
   },
   "outputs": [
    {
     "data": {
      "text/plain": [
       "Text(0, 0.5, 'Probabilities')"
      ]
     },
     "execution_count": 211,
     "metadata": {},
     "output_type": "execute_result"
    },
    {
     "data": {
      "image/png": "[encoded data removed]",
      "text/plain": [
       "<Figure size 432x288 with 1 Axes>"
      ]
     },
     "metadata": {
      "needs_background": "light"
     },
     "output_type": "display_data"
    }
   ],
   "source": [
    "ax = (results.data.value_counts()/repetitions).plot(kind='bar');\n",
    "ax.set_xlabel(\"States\")\n",
    "ax.set_ylabel(\"Probabilities\")"
   ]
  },
  {
   "cell_type": "code",
   "execution_count": null,
   "id": "742ea6d8",
   "metadata": {},
   "outputs": [],
   "source": []
  }
 ],
 "metadata": {
  "kernelspec": {
   "display_name": "Python 3 (ipykernel)",
   "language": "python",
   "name": "python3"
  },
  "language_info": {
   "codemirror_mode": {
    "name": "ipython",
    "version": 3
   },
   "file_extension": ".py",
   "mimetype": "text/x-python",
   "name": "python",
   "nbconvert_exporter": "python",
   "pygments_lexer": "ipython3",
   "version": "3.9.7"
  },
  "latex_envs": {
   "LaTeX_envs_menu_present": true,
   "autoclose": false,
   "autocomplete": true,
   "bibliofile": "biblio.bib",
   "cite_by": "apalike",
   "current_citInitial": 1,
   "eqLabelWithNumbers": true,
   "eqNumInitial": 1,
   "hotkeys": {
    "equation": "Ctrl-E",
    "itemize": "Ctrl-I"
   },
   "labels_anchors": false,
   "latex_user_defs": false,
   "report_style_numbering": false,
   "user_envs_cfg": false
  },
  "toc": {
   "base_numbering": 1,
   "nav_menu": {},
   "number_sections": true,
   "sideBar": true,
   "skip_h1_title": false,
   "title_cell": "Table of Contents",
   "title_sidebar": "Contents",
   "toc_cell": false,
   "toc_position": {},
   "toc_section_display": true,
   "toc_window_display": false
  }
 },
 "nbformat": 4,
 "nbformat_minor": 5
}
