{
  "cells": [
    {
      "cell_type": "markdown",
      "metadata": {
        "id": "view-in-github",
        "colab_type": "text"
      },
      "source": [
        "<a href=\"https://colab.research.google.com/github/Gopal-Dahale/QMLHEP-Tasks/blob/main/GNN.ipynb\" target=\"_parent\"><img src=\"https://colab.research.google.com/assets/colab-badge.svg\" alt=\"Open In Colab\"/></a>"
      ]
    },
    {
      "cell_type": "code",
      "source": [
        "from google.colab import drive\n",
        "drive.mount('/content/gdrive')"
      ],
      "metadata": {
        "colab": {
          "base_uri": "https://localhost:8080/"
        },
        "id": "-1Gmn_MKyphi",
        "outputId": "e0492673-e4fd-4474-db1e-c27ee106f093"
      },
      "id": "-1Gmn_MKyphi",
      "execution_count": 1,
      "outputs": [
        {
          "output_type": "stream",
          "name": "stdout",
          "text": [
            "Mounted at /content/gdrive\n"
          ]
        }
      ]
    },
    {
      "cell_type": "code",
      "source": [
        "!wget https://zenodo.org/record/3164691/files/QG_jets.npz -P /content/gdrive/MyDrive/data/"
      ],
      "metadata": {
        "colab": {
          "base_uri": "https://localhost:8080/"
        },
        "id": "kXjRI-cqzD9F",
        "outputId": "33a862fa-9108-41d5-ad49-5e75cd8db6f1"
      },
      "id": "kXjRI-cqzD9F",
      "execution_count": 4,
      "outputs": [
        {
          "output_type": "stream",
          "name": "stdout",
          "text": [
            "--2022-04-17 09:17:00--  https://zenodo.org/record/3164691/files/QG_jets.npz\n",
            "Resolving zenodo.org (zenodo.org)... 137.138.76.77\n",
            "Connecting to zenodo.org (zenodo.org)|137.138.76.77|:443... connected.\n",
            "HTTP request sent, awaiting response... 200 OK\n",
            "Length: 106689379 (102M) [application/octet-stream]\n",
            "Saving to: ‘/content/gdrive/MyDrive/data/QG_jets.npz’\n",
            "\n",
            "QG_jets.npz         100%[===================>] 101.75M  22.2MB/s    in 5.7s    \n",
            "\n",
            "2022-04-17 09:17:08 (17.9 MB/s) - ‘/content/gdrive/MyDrive/data/QG_jets.npz’ saved [106689379/106689379]\n",
            "\n"
          ]
        }
      ]
    },
    {
      "cell_type": "code",
      "execution_count": 5,
      "id": "eec8d0a0",
      "metadata": {
        "ExecuteTime": {
          "end_time": "2022-04-17T08:55:18.695599Z",
          "start_time": "2022-04-17T08:55:18.689576Z"
        },
        "id": "eec8d0a0"
      },
      "outputs": [],
      "source": [
        "from tf_keras_model import get_particle_net_lite,get_particle_net\n",
        "from tensorflow import keras\n",
        "import logging\n",
        "logging.basicConfig(level=logging.INFO, format='[%(asctime)s] %(levelname)s: %(message)s')\n",
        "from sklearn.model_selection import train_test_split\n",
        "from sklearn.utils import shuffle\n",
        "import os\n",
        "import numpy as np\n",
        "import matplotlib.pyplot as plt\n",
        "%matplotlib inline"
      ]
    },
    {
      "cell_type": "code",
      "execution_count": 6,
      "id": "49db31af",
      "metadata": {
        "ExecuteTime": {
          "end_time": "2022-04-17T06:33:25.639086Z",
          "start_time": "2022-04-17T06:33:25.633997Z"
        },
        "id": "49db31af"
      },
      "outputs": [],
      "source": [
        "dataset = np.load('/content/gdrive/MyDrive/data/QG_jets.npz',allow_pickle=True)"
      ]
    },
    {
      "cell_type": "code",
      "execution_count": 7,
      "id": "76487ad1",
      "metadata": {
        "ExecuteTime": {
          "end_time": "2022-04-17T06:33:25.911671Z",
          "start_time": "2022-04-17T06:33:25.892496Z"
        },
        "colab": {
          "base_uri": "https://localhost:8080/"
        },
        "id": "76487ad1",
        "outputId": "ceeee12d-3247-4cb0-8e21-a0a7e3dc6980"
      },
      "outputs": [
        {
          "output_type": "execute_result",
          "data": {
            "text/plain": [
              "['X', 'y']"
            ]
          },
          "metadata": {},
          "execution_count": 7
        }
      ],
      "source": [
        "list(dataset.keys())"
      ]
    },
    {
      "cell_type": "code",
      "execution_count": 8,
      "id": "3017de1f",
      "metadata": {
        "ExecuteTime": {
          "end_time": "2022-04-17T09:03:51.610331Z",
          "start_time": "2022-04-17T09:03:47.679693Z"
        },
        "id": "3017de1f"
      },
      "outputs": [],
      "source": [
        "x = dataset['X']\n",
        "y = dataset['y']"
      ]
    },
    {
      "cell_type": "code",
      "execution_count": 9,
      "id": "f30ccdd7",
      "metadata": {
        "ExecuteTime": {
          "end_time": "2022-04-17T09:03:51.618901Z",
          "start_time": "2022-04-17T09:03:51.612927Z"
        },
        "colab": {
          "base_uri": "https://localhost:8080/"
        },
        "id": "f30ccdd7",
        "outputId": "939a9a89-0a7a-4f84-a65a-b25844389435"
      },
      "outputs": [
        {
          "output_type": "stream",
          "name": "stdout",
          "text": [
            "(100000, 139, 4)\n",
            "(100000,)\n"
          ]
        }
      ],
      "source": [
        "print(x.shape)\n",
        "print(y.shape)"
      ]
    },
    {
      "cell_type": "code",
      "execution_count": 24,
      "id": "3b84f3fa",
      "metadata": {
        "ExecuteTime": {
          "end_time": "2022-04-17T09:03:51.741348Z",
          "start_time": "2022-04-17T09:03:51.622035Z"
        },
        "colab": {
          "base_uri": "https://localhost:8080/"
        },
        "id": "3b84f3fa",
        "outputId": "cd620e7d-0215-463a-885a-aa456aa43694"
      },
      "outputs": [
        {
          "output_type": "stream",
          "name": "stdout",
          "text": [
            "(100000, 2)\n"
          ]
        }
      ],
      "source": [
        "# one hot encoding labels is needed else the following error \n",
        "# ValueError: Shapes (None, 1) and (None, 2) are incompatible\n",
        "y = keras.utils.to_categorical(y)\n",
        "print(y.shape)"
      ]
    },
    {
      "cell_type": "code",
      "execution_count": 25,
      "id": "dfd8d45c",
      "metadata": {
        "ExecuteTime": {
          "end_time": "2022-04-17T09:04:39.643293Z",
          "start_time": "2022-04-17T09:04:39.638958Z"
        },
        "id": "dfd8d45c"
      },
      "outputs": [],
      "source": [
        "\n",
        "\n",
        "# From paper\n",
        "# The first EdgeConv block uses the spatial coordinates\n",
        "# of the particles in the pseudorapidity-azimuth space to\n",
        "# compute the distances, while the subsequent blocks use\n",
        "# the learned feature vectors as coordinates.\n",
        "\n",
        "# from dataset\n",
        "# features of each particle are its pt, rapidity, azimuthal angle, and pdgid\n",
        "\n",
        "# Shapes of each input (`points`, `features`, `mask`)\n"
      ]
    },
    {
      "cell_type": "code",
      "execution_count": 26,
      "id": "35bc21a3",
      "metadata": {
        "ExecuteTime": {
          "end_time": "2022-04-17T09:04:44.810585Z",
          "start_time": "2022-04-17T09:04:39.918340Z"
        },
        "colab": {
          "base_uri": "https://localhost:8080/"
        },
        "id": "35bc21a3",
        "outputId": "c103df99-1364-4958-fb32-20edc365165a"
      },
      "outputs": [
        {
          "output_type": "stream",
          "name": "stdout",
          "text": [
            "(70000, 139, 4) (70000, 2)\n",
            "(15000, 139, 4) (15000, 2)\n",
            "(15000, 139, 4) (15000, 2)\n"
          ]
        }
      ],
      "source": [
        "x, y = shuffle(x, y, random_state=0)\n",
        "x_train, x_test, y_train, y_test = train_test_split(x, y, test_size=0.30, random_state=42)\n",
        "x_test, x_val, y_test, y_val = train_test_split(x_test, y_test , test_size=0.5, random_state=42)\n",
        "\n",
        "print(x_train.shape, y_train.shape)\n",
        "print(x_test.shape, y_test.shape)\n",
        "print(x_val.shape, y_val.shape)"
      ]
    },
    {
      "cell_type": "code",
      "execution_count": 27,
      "id": "b7c810a6",
      "metadata": {
        "ExecuteTime": {
          "end_time": "2022-04-17T09:04:47.202385Z",
          "start_time": "2022-04-17T09:04:46.663859Z"
        },
        "colab": {
          "base_uri": "https://localhost:8080/"
        },
        "id": "b7c810a6",
        "outputId": "25a16854-de91-400c-b0d6-d60bb91ed856"
      },
      "outputs": [
        {
          "output_type": "stream",
          "name": "stdout",
          "text": [
            "(70000, 139)\n",
            "[   28.21241083    28.2451668   -203.77943386  -204.22062197\n",
            "   219.95397046    29.37212051    28.72560918    28.34241578\n",
            "    30.31492072  -204.81407217    28.80688666   329.16866383\n",
            "  -303.73856726    28.36508214  -199.62940715   221.13697619\n",
            "  -313.68877911  -201.7219742   -314.82070691   224.03400137\n",
            "   228.10337039    30.53390014  -202.54415051  2136.67573886\n",
            "  -202.68101175 -2059.76344811   244.21817136   186.35978846\n",
            "  -204.38873999    29.42453009   327.58600635    29.42043319\n",
            "   219.54071861   330.37569035    29.12706946  -203.57318239\n",
            "   226.16555755   155.34007804  -196.94699223   225.31540353\n",
            "    35.78734424    32.10889204  -283.26038176   348.3404927\n",
            "    50.01680383    73.56943074   229.58486108  -201.25236118\n",
            "    33.21071513  -190.43525136   218.72732963  -201.3410175\n",
            "    31.06474332    32.91955989    31.22307026    32.06201168\n",
            "    47.89815141  -274.37819603    57.89807174     0.\n",
            "     0.             0.             0.             0.\n",
            "     0.             0.             0.             0.\n",
            "     0.             0.             0.             0.\n",
            "     0.             0.             0.             0.\n",
            "     0.             0.             0.             0.\n",
            "     0.             0.             0.             0.\n",
            "     0.             0.             0.             0.\n",
            "     0.             0.             0.             0.\n",
            "     0.             0.             0.             0.\n",
            "     0.             0.             0.             0.\n",
            "     0.             0.             0.             0.\n",
            "     0.             0.             0.             0.\n",
            "     0.             0.             0.             0.\n",
            "     0.             0.             0.             0.\n",
            "     0.             0.             0.             0.\n",
            "     0.             0.             0.             0.\n",
            "     0.             0.             0.             0.\n",
            "     0.             0.             0.             0.\n",
            "     0.             0.             0.             0.\n",
            "     0.             0.             0.        ]\n",
            "[1. 1. 1. 1. 1. 1. 1. 1. 1. 1. 1. 1. 1. 1. 1. 1. 1. 1. 1. 1. 1. 1. 1. 1.\n",
            " 1. 1. 1. 1. 1. 1. 1. 1. 1. 1. 1. 1. 1. 1. 1. 1. 1. 1. 1. 1. 1. 1. 1. 1.\n",
            " 1. 1. 1. 1. 1. 1. 1. 1. 1. 1. 1. 0. 0. 0. 0. 0. 0. 0. 0. 0. 0. 0. 0. 0.\n",
            " 0. 0. 0. 0. 0. 0. 0. 0. 0. 0. 0. 0. 0. 0. 0. 0. 0. 0. 0. 0. 0. 0. 0. 0.\n",
            " 0. 0. 0. 0. 0. 0. 0. 0. 0. 0. 0. 0. 0. 0. 0. 0. 0. 0. 0. 0. 0. 0. 0. 0.\n",
            " 0. 0. 0. 0. 0. 0. 0. 0. 0. 0. 0. 0. 0. 0. 0. 0. 0. 0. 0.]\n",
            "(70000, 139, 1)\n"
          ]
        }
      ],
      "source": [
        "# mask\n",
        "# find the maximum length vector in for each sample in 10000 samples with maximum number of non-zero values\n",
        "mask_train = np.sum(x_train, axis=2) \n",
        "print(mask_train.shape)\n",
        "print(mask_train[0])\n",
        "\n",
        "# make the array binary\n",
        "mask_train = np.array(mask_train !=0 , np.float32)\n",
        "print(mask_train[0])\n",
        "\n",
        "# reshape mask for a third axis\n",
        "mask_train = mask_train.reshape(x_train.shape[0], x_train.shape[1], 1)\n",
        "print(mask_train.shape)"
      ]
    },
    {
      "cell_type": "code",
      "execution_count": 28,
      "id": "dc6d1b8f",
      "metadata": {
        "ExecuteTime": {
          "end_time": "2022-04-17T09:04:49.780205Z",
          "start_time": "2022-04-17T09:04:49.681201Z"
        },
        "colab": {
          "base_uri": "https://localhost:8080/"
        },
        "id": "dc6d1b8f",
        "outputId": "4c663f35-6f63-4a7c-e015-116e64d1dc6c"
      },
      "outputs": [
        {
          "output_type": "stream",
          "name": "stdout",
          "text": [
            "(15000, 139, 1)\n"
          ]
        }
      ],
      "source": [
        "# mask\n",
        "# find the maximum length vector in for each sample in 10000 samples with maximum number of non-zero values\n",
        "mask_val = np.sum(x_val, axis=2) \n",
        "\n",
        "# make the array binary\n",
        "mask_val = np.array(mask_val !=0 , np.float32)\n",
        "\n",
        "# reshape mask for a third axis\n",
        "mask_val = mask_val.reshape(x_val.shape[0], x_val.shape[1], 1)\n",
        "print(mask_val.shape)"
      ]
    },
    {
      "cell_type": "code",
      "execution_count": 29,
      "id": "60d64a14",
      "metadata": {
        "ExecuteTime": {
          "end_time": "2022-04-17T09:04:51.865273Z",
          "start_time": "2022-04-17T09:04:51.782687Z"
        },
        "colab": {
          "base_uri": "https://localhost:8080/"
        },
        "id": "60d64a14",
        "outputId": "a7ecdbf8-4041-4cdf-8787-41850edc93a2"
      },
      "outputs": [
        {
          "output_type": "stream",
          "name": "stdout",
          "text": [
            "(15000, 139, 1)\n"
          ]
        }
      ],
      "source": [
        "# mask\n",
        "# find the maximum length vector in for each sample in 10000 samples with maximum number of non-zero values\n",
        "mask_test = np.sum(x_test, axis=2) \n",
        "\n",
        "# make the array binary\n",
        "mask_test = np.array(mask_test !=0 , np.float32)\n",
        "\n",
        "# reshape mask for a third axis\n",
        "mask_test = mask_val.reshape(x_test.shape[0], x_test.shape[1], 1)\n",
        "print(mask_test.shape)"
      ]
    },
    {
      "cell_type": "code",
      "execution_count": 30,
      "id": "525e3628",
      "metadata": {
        "ExecuteTime": {
          "end_time": "2022-04-17T09:04:52.813851Z",
          "start_time": "2022-04-17T09:04:52.804528Z"
        },
        "id": "525e3628"
      },
      "outputs": [],
      "source": [
        "train_dataset = {\n",
        "    'points': x_train[:,:,1:3],\n",
        "    'features': x_train,\n",
        "    'mask': mask_train\n",
        "}\n",
        "\n",
        "test_dataset = {\n",
        "    'points': x_test[:,:,1:3],\n",
        "    'features': x_test,\n",
        "    'mask': mask_test\n",
        "}\n",
        "\n",
        "val_dataset = {\n",
        "    'points': x_val[:,:,1:3],\n",
        "    'features': x_val,\n",
        "    'mask': mask_val\n",
        "}"
      ]
    },
    {
      "cell_type": "code",
      "execution_count": 31,
      "id": "943c84cc",
      "metadata": {
        "ExecuteTime": {
          "end_time": "2022-04-17T09:04:54.503072Z",
          "start_time": "2022-04-17T09:04:54.493220Z"
        },
        "colab": {
          "base_uri": "https://localhost:8080/"
        },
        "id": "943c84cc",
        "outputId": "9483c58c-3b50-41d6-eeaf-f409a00a4d52"
      },
      "outputs": [
        {
          "output_type": "execute_result",
          "data": {
            "text/plain": [
              "{'features': (139, 4), 'mask': (139, 1), 'points': (139, 2)}"
            ]
          },
          "metadata": {},
          "execution_count": 31
        }
      ],
      "source": [
        "shapes = {\n",
        "    'points': x_train[:,:,1:3].shape[1:],\n",
        "    'features': x_train.shape[1:],\n",
        "    'mask': mask_train.shape[1:]\n",
        "}\n",
        "shapes"
      ]
    },
    {
      "cell_type": "code",
      "execution_count": 32,
      "id": "a834c2ff",
      "metadata": {
        "ExecuteTime": {
          "end_time": "2022-04-17T09:04:57.534724Z",
          "start_time": "2022-04-17T09:04:56.732379Z"
        },
        "id": "a834c2ff"
      },
      "outputs": [],
      "source": [
        "# particle net lite\n",
        "num_classes = 2\n",
        "model = get_particle_net_lite(num_classes, shapes)"
      ]
    },
    {
      "cell_type": "code",
      "execution_count": 33,
      "id": "9db79416",
      "metadata": {
        "ExecuteTime": {
          "end_time": "2022-04-17T09:04:57.898818Z",
          "start_time": "2022-04-17T09:04:57.894303Z"
        },
        "id": "9db79416"
      },
      "outputs": [],
      "source": [
        "# Training parameters\n",
        "batch_size = 1024\n",
        "epochs = 3"
      ]
    },
    {
      "cell_type": "code",
      "execution_count": 34,
      "id": "28976a79",
      "metadata": {
        "ExecuteTime": {
          "end_time": "2022-04-17T09:04:58.336746Z",
          "start_time": "2022-04-17T09:04:58.331309Z"
        },
        "id": "28976a79"
      },
      "outputs": [],
      "source": [
        "def lr_schedule(epoch):\n",
        "    lr = 1e-3\n",
        "    if epoch > 10:\n",
        "        lr *= 0.1\n",
        "    elif epoch > 20:\n",
        "        lr *= 0.01\n",
        "    logging.info('Learning rate: %f'%lr)\n",
        "    return lr"
      ]
    },
    {
      "cell_type": "code",
      "execution_count": 35,
      "id": "94606d38",
      "metadata": {
        "ExecuteTime": {
          "end_time": "2022-04-17T09:04:59.580685Z",
          "start_time": "2022-04-17T09:04:59.163442Z"
        },
        "scrolled": true,
        "colab": {
          "base_uri": "https://localhost:8080/"
        },
        "id": "94606d38",
        "outputId": "4dda92fe-3599-489d-d10e-a66051c42fe0"
      },
      "outputs": [
        {
          "output_type": "stream",
          "name": "stderr",
          "text": [
            "[2022-04-17 09:18:24,875] INFO: Learning rate: 0.001000\n"
          ]
        },
        {
          "output_type": "stream",
          "name": "stdout",
          "text": [
            "Model: \"ParticleNet\"\n",
            "__________________________________________________________________________________________________\n",
            " Layer (type)                   Output Shape         Param #     Connected to                     \n",
            "==================================================================================================\n",
            " mask (InputLayer)              [(None, 139, 1)]     0           []                               \n",
            "                                                                                                  \n",
            " tf.math.not_equal_1 (TFOpLambd  (None, 139, 1)      0           ['mask[0][0]']                   \n",
            " a)                                                                                               \n",
            "                                                                                                  \n",
            " tf.cast_2 (TFOpLambda)         (None, 139, 1)       0           ['tf.math.not_equal_1[0][0]']    \n",
            "                                                                                                  \n",
            " tf.math.equal_1 (TFOpLambda)   (None, 139, 1)       0           ['tf.cast_2[0][0]']              \n",
            "                                                                                                  \n",
            " tf.cast_3 (TFOpLambda)         (None, 139, 1)       0           ['tf.math.equal_1[0][0]']        \n",
            "                                                                                                  \n",
            " tf.math.multiply_8 (TFOpLambda  (None, 139, 1)      0           ['tf.cast_3[0][0]']              \n",
            " )                                                                                                \n",
            "                                                                                                  \n",
            " points (InputLayer)            [(None, 139, 2)]     0           []                               \n",
            "                                                                                                  \n",
            " tf.math.add_2 (TFOpLambda)     (None, 139, 2)       0           ['tf.math.multiply_8[0][0]',     \n",
            "                                                                  'points[0][0]']                 \n",
            "                                                                                                  \n",
            " features (InputLayer)          [(None, 139, 4)]     0           []                               \n",
            "                                                                                                  \n",
            " tf.compat.v1.transpose_4 (TFOp  (None, 2, 139)      0           ['tf.math.add_2[0][0]']          \n",
            " Lambda)                                                                                          \n",
            "                                                                                                  \n",
            " tf.expand_dims_7 (TFOpLambda)  (None, 139, 1, 4)    0           ['features[0][0]']               \n",
            "                                                                                                  \n",
            " tf.math.multiply_9 (TFOpLambda  (None, 139, 2)      0           ['tf.math.add_2[0][0]',          \n",
            " )                                                                'tf.math.add_2[0][0]']          \n",
            "                                                                                                  \n",
            " tf.linalg.matmul_2 (TFOpLambda  (None, 139, 139)    0           ['tf.math.add_2[0][0]',          \n",
            " )                                                                'tf.compat.v1.transpose_4[0][0]'\n",
            "                                                                 ]                                \n",
            "                                                                                                  \n",
            " tf.math.multiply_10 (TFOpLambd  (None, 139, 2)      0           ['tf.math.add_2[0][0]',          \n",
            " a)                                                               'tf.math.add_2[0][0]']          \n",
            "                                                                                                  \n",
            " ParticleNet_fts_bn (BatchNorma  (None, 139, 1, 4)   16          ['tf.expand_dims_7[0][0]']       \n",
            " lization)                                                                                        \n",
            "                                                                                                  \n",
            " tf.math.reduce_sum_4 (TFOpLamb  (None, 139, 1)      0           ['tf.math.multiply_9[0][0]']     \n",
            " da)                                                                                              \n",
            "                                                                                                  \n",
            " tf.math.multiply_11 (TFOpLambd  (None, 139, 139)    0           ['tf.linalg.matmul_2[0][0]']     \n",
            " a)                                                                                               \n",
            "                                                                                                  \n",
            " tf.math.reduce_sum_5 (TFOpLamb  (None, 139, 1)      0           ['tf.math.multiply_10[0][0]']    \n",
            " da)                                                                                              \n",
            "                                                                                                  \n",
            " tf.compat.v1.squeeze_3 (TFOpLa  (None, 139, 4)      0           ['ParticleNet_fts_bn[0][0]']     \n",
            " mbda)                                                                                            \n",
            "                                                                                                  \n",
            " tf.math.subtract_4 (TFOpLambda  (None, 139, 139)    0           ['tf.math.reduce_sum_4[0][0]',   \n",
            " )                                                                'tf.math.multiply_11[0][0]']    \n",
            "                                                                                                  \n",
            " tf.compat.v1.transpose_5 (TFOp  (None, 1, 139)      0           ['tf.math.reduce_sum_5[0][0]']   \n",
            " Lambda)                                                                                          \n",
            "                                                                                                  \n",
            " tf.compat.v1.shape_2 (TFOpLamb  (3,)                0           ['tf.compat.v1.squeeze_3[0][0]'] \n",
            " da)                                                                                              \n",
            "                                                                                                  \n",
            " tf.__operators__.add_4 (TFOpLa  (None, 139, 139)    0           ['tf.math.subtract_4[0][0]',     \n",
            " mbda)                                                            'tf.compat.v1.transpose_5[0][0]'\n",
            "                                                                 ]                                \n",
            "                                                                                                  \n",
            " tf.__operators__.getitem_5 (Sl  ()                  0           ['tf.compat.v1.shape_2[0][0]']   \n",
            " icingOpLambda)                                                                                   \n",
            "                                                                                                  \n",
            " tf.math.negative_2 (TFOpLambda  (None, 139, 139)    0           ['tf.__operators__.add_4[0][0]'] \n",
            " )                                                                                                \n",
            "                                                                                                  \n",
            " tf.range_2 (TFOpLambda)        (None,)              0           ['tf.__operators__.getitem_5[0][0\n",
            "                                                                 ]']                              \n",
            "                                                                                                  \n",
            " tf.math.top_k_2 (TFOpLambda)   TopKV2(values=(None  0           ['tf.math.negative_2[0][0]']     \n",
            "                                , 139, 8),                                                        \n",
            "                                 indices=(None, 139                                               \n",
            "                                , 8))                                                             \n",
            "                                                                                                  \n",
            " tf.reshape_2 (TFOpLambda)      (None, 1, 1, 1)      0           ['tf.range_2[0][0]']             \n",
            "                                                                                                  \n",
            " tf.__operators__.getitem_4 (Sl  (None, 139, 7)      0           ['tf.math.top_k_2[0][1]']        \n",
            " icingOpLambda)                                                                                   \n",
            "                                                                                                  \n",
            " tf.tile_4 (TFOpLambda)         (None, 139, 7, 1)    0           ['tf.reshape_2[0][0]']           \n",
            "                                                                                                  \n",
            " tf.expand_dims_8 (TFOpLambda)  (None, 139, 7, 1)    0           ['tf.__operators__.getitem_4[0][0\n",
            "                                                                 ]']                              \n",
            "                                                                                                  \n",
            " tf.expand_dims_9 (TFOpLambda)  (None, 139, 1, 4)    0           ['tf.compat.v1.squeeze_3[0][0]'] \n",
            "                                                                                                  \n",
            " tf.concat_4 (TFOpLambda)       (None, 139, 7, 2)    0           ['tf.tile_4[0][0]',              \n",
            "                                                                  'tf.expand_dims_8[0][0]']       \n",
            "                                                                                                  \n",
            " tf.tile_5 (TFOpLambda)         (None, 139, 7, 4)    0           ['tf.expand_dims_9[0][0]']       \n",
            "                                                                                                  \n",
            " tf.compat.v1.gather_nd_2 (TFOp  (None, 139, 7, 4)   0           ['tf.compat.v1.squeeze_3[0][0]', \n",
            " Lambda)                                                          'tf.concat_4[0][0]']            \n",
            "                                                                                                  \n",
            " tf.math.subtract_5 (TFOpLambda  (None, 139, 7, 4)   0           ['tf.compat.v1.gather_nd_2[0][0]'\n",
            " )                                                               , 'tf.tile_5[0][0]']             \n",
            "                                                                                                  \n",
            " tf.concat_5 (TFOpLambda)       (None, 139, 7, 8)    0           ['tf.tile_5[0][0]',              \n",
            "                                                                  'tf.math.subtract_5[0][0]']     \n",
            "                                                                                                  \n",
            " ParticleNet_EdgeConv0_conv0 (C  (None, 139, 7, 32)  256         ['tf.concat_5[0][0]']            \n",
            " onv2D)                                                                                           \n",
            "                                                                                                  \n",
            " ParticleNet_EdgeConv0_bn0 (Bat  (None, 139, 7, 32)  128         ['ParticleNet_EdgeConv0_conv0[0][\n",
            " chNormalization)                                                0]']                             \n",
            "                                                                                                  \n",
            " ParticleNet_EdgeConv0_act0 (Ac  (None, 139, 7, 32)  0           ['ParticleNet_EdgeConv0_bn0[0][0]\n",
            " tivation)                                                       ']                               \n",
            "                                                                                                  \n",
            " ParticleNet_EdgeConv0_conv1 (C  (None, 139, 7, 32)  1024        ['ParticleNet_EdgeConv0_act0[0][0\n",
            " onv2D)                                                          ]']                              \n",
            "                                                                                                  \n",
            " ParticleNet_EdgeConv0_bn1 (Bat  (None, 139, 7, 32)  128         ['ParticleNet_EdgeConv0_conv1[0][\n",
            " chNormalization)                                                0]']                             \n",
            "                                                                                                  \n",
            " ParticleNet_EdgeConv0_act1 (Ac  (None, 139, 7, 32)  0           ['ParticleNet_EdgeConv0_bn1[0][0]\n",
            " tivation)                                                       ']                               \n",
            "                                                                                                  \n",
            " tf.expand_dims_10 (TFOpLambda)  (None, 139, 1, 4)   0           ['tf.compat.v1.squeeze_3[0][0]'] \n",
            "                                                                                                  \n",
            " ParticleNet_EdgeConv0_conv2 (C  (None, 139, 7, 32)  1024        ['ParticleNet_EdgeConv0_act1[0][0\n",
            " onv2D)                                                          ]']                              \n",
            "                                                                                                  \n",
            " ParticleNet_EdgeConv0_sc_conv   (None, 139, 1, 32)  128         ['tf.expand_dims_10[0][0]']      \n",
            " (Conv2D)                                                                                         \n",
            "                                                                                                  \n",
            " ParticleNet_EdgeConv0_bn2 (Bat  (None, 139, 7, 32)  128         ['ParticleNet_EdgeConv0_conv2[0][\n",
            " chNormalization)                                                0]']                             \n",
            "                                                                                                  \n",
            " ParticleNet_EdgeConv0_sc_bn (B  (None, 139, 1, 32)  128         ['ParticleNet_EdgeConv0_sc_conv[0\n",
            " atchNormalization)                                              ][0]']                           \n",
            "                                                                                                  \n",
            " ParticleNet_EdgeConv0_act2 (Ac  (None, 139, 7, 32)  0           ['ParticleNet_EdgeConv0_bn2[0][0]\n",
            " tivation)                                                       ']                               \n",
            "                                                                                                  \n",
            " tf.compat.v1.squeeze_4 (TFOpLa  (None, 139, 32)     0           ['ParticleNet_EdgeConv0_sc_bn[0][\n",
            " mbda)                                                           0]']                             \n",
            "                                                                                                  \n",
            " tf.math.reduce_mean_3 (TFOpLam  (None, 139, 32)     0           ['ParticleNet_EdgeConv0_act2[0][0\n",
            " bda)                                                            ]']                              \n",
            "                                                                                                  \n",
            " tf.__operators__.add_5 (TFOpLa  (None, 139, 32)     0           ['tf.compat.v1.squeeze_4[0][0]', \n",
            " mbda)                                                            'tf.math.reduce_mean_3[0][0]']  \n",
            "                                                                                                  \n",
            " ParticleNet_EdgeConv0_sc_act (  (None, 139, 32)     0           ['tf.__operators__.add_5[0][0]'] \n",
            " Activation)                                                                                      \n",
            "                                                                                                  \n",
            " tf.math.add_3 (TFOpLambda)     (None, 139, 32)      0           ['tf.math.multiply_8[0][0]',     \n",
            "                                                                  'ParticleNet_EdgeConv0_sc_act[0]\n",
            "                                                                 [0]']                            \n",
            "                                                                                                  \n",
            " tf.compat.v1.transpose_6 (TFOp  (None, 32, 139)     0           ['tf.math.add_3[0][0]']          \n",
            " Lambda)                                                                                          \n",
            "                                                                                                  \n",
            " tf.math.multiply_12 (TFOpLambd  (None, 139, 32)     0           ['tf.math.add_3[0][0]',          \n",
            " a)                                                               'tf.math.add_3[0][0]']          \n",
            "                                                                                                  \n",
            " tf.linalg.matmul_3 (TFOpLambda  (None, 139, 139)    0           ['tf.math.add_3[0][0]',          \n",
            " )                                                                'tf.compat.v1.transpose_6[0][0]'\n",
            "                                                                 ]                                \n",
            "                                                                                                  \n",
            " tf.math.multiply_13 (TFOpLambd  (None, 139, 32)     0           ['tf.math.add_3[0][0]',          \n",
            " a)                                                               'tf.math.add_3[0][0]']          \n",
            "                                                                                                  \n",
            " tf.math.reduce_sum_6 (TFOpLamb  (None, 139, 1)      0           ['tf.math.multiply_12[0][0]']    \n",
            " da)                                                                                              \n",
            "                                                                                                  \n",
            " tf.math.multiply_14 (TFOpLambd  (None, 139, 139)    0           ['tf.linalg.matmul_3[0][0]']     \n",
            " a)                                                                                               \n",
            "                                                                                                  \n",
            " tf.math.reduce_sum_7 (TFOpLamb  (None, 139, 1)      0           ['tf.math.multiply_13[0][0]']    \n",
            " da)                                                                                              \n",
            "                                                                                                  \n",
            " tf.math.subtract_6 (TFOpLambda  (None, 139, 139)    0           ['tf.math.reduce_sum_6[0][0]',   \n",
            " )                                                                'tf.math.multiply_14[0][0]']    \n",
            "                                                                                                  \n",
            " tf.compat.v1.transpose_7 (TFOp  (None, 1, 139)      0           ['tf.math.reduce_sum_7[0][0]']   \n",
            " Lambda)                                                                                          \n",
            "                                                                                                  \n",
            " tf.compat.v1.shape_3 (TFOpLamb  (3,)                0           ['ParticleNet_EdgeConv0_sc_act[0]\n",
            " da)                                                             [0]']                            \n",
            "                                                                                                  \n",
            " tf.__operators__.add_6 (TFOpLa  (None, 139, 139)    0           ['tf.math.subtract_6[0][0]',     \n",
            " mbda)                                                            'tf.compat.v1.transpose_7[0][0]'\n",
            "                                                                 ]                                \n",
            "                                                                                                  \n",
            " tf.__operators__.getitem_7 (Sl  ()                  0           ['tf.compat.v1.shape_3[0][0]']   \n",
            " icingOpLambda)                                                                                   \n",
            "                                                                                                  \n",
            " tf.math.negative_3 (TFOpLambda  (None, 139, 139)    0           ['tf.__operators__.add_6[0][0]'] \n",
            " )                                                                                                \n",
            "                                                                                                  \n",
            " tf.range_3 (TFOpLambda)        (None,)              0           ['tf.__operators__.getitem_7[0][0\n",
            "                                                                 ]']                              \n",
            "                                                                                                  \n",
            " tf.math.top_k_3 (TFOpLambda)   TopKV2(values=(None  0           ['tf.math.negative_3[0][0]']     \n",
            "                                , 139, 8),                                                        \n",
            "                                 indices=(None, 139                                               \n",
            "                                , 8))                                                             \n",
            "                                                                                                  \n",
            " tf.reshape_3 (TFOpLambda)      (None, 1, 1, 1)      0           ['tf.range_3[0][0]']             \n",
            "                                                                                                  \n",
            " tf.__operators__.getitem_6 (Sl  (None, 139, 7)      0           ['tf.math.top_k_3[0][1]']        \n",
            " icingOpLambda)                                                                                   \n",
            "                                                                                                  \n",
            " tf.tile_6 (TFOpLambda)         (None, 139, 7, 1)    0           ['tf.reshape_3[0][0]']           \n",
            "                                                                                                  \n",
            " tf.expand_dims_11 (TFOpLambda)  (None, 139, 7, 1)   0           ['tf.__operators__.getitem_6[0][0\n",
            "                                                                 ]']                              \n",
            "                                                                                                  \n",
            " tf.expand_dims_12 (TFOpLambda)  (None, 139, 1, 32)  0           ['ParticleNet_EdgeConv0_sc_act[0]\n",
            "                                                                 [0]']                            \n",
            "                                                                                                  \n",
            " tf.concat_6 (TFOpLambda)       (None, 139, 7, 2)    0           ['tf.tile_6[0][0]',              \n",
            "                                                                  'tf.expand_dims_11[0][0]']      \n",
            "                                                                                                  \n",
            " tf.tile_7 (TFOpLambda)         (None, 139, 7, 32)   0           ['tf.expand_dims_12[0][0]']      \n",
            "                                                                                                  \n",
            " tf.compat.v1.gather_nd_3 (TFOp  (None, 139, 7, 32)  0           ['ParticleNet_EdgeConv0_sc_act[0]\n",
            " Lambda)                                                         [0]',                            \n",
            "                                                                  'tf.concat_6[0][0]']            \n",
            "                                                                                                  \n",
            " tf.math.subtract_7 (TFOpLambda  (None, 139, 7, 32)  0           ['tf.compat.v1.gather_nd_3[0][0]'\n",
            " )                                                               , 'tf.tile_7[0][0]']             \n",
            "                                                                                                  \n",
            " tf.concat_7 (TFOpLambda)       (None, 139, 7, 64)   0           ['tf.tile_7[0][0]',              \n",
            "                                                                  'tf.math.subtract_7[0][0]']     \n",
            "                                                                                                  \n",
            " ParticleNet_EdgeConv1_conv0 (C  (None, 139, 7, 64)  4096        ['tf.concat_7[0][0]']            \n",
            " onv2D)                                                                                           \n",
            "                                                                                                  \n",
            " ParticleNet_EdgeConv1_bn0 (Bat  (None, 139, 7, 64)  256         ['ParticleNet_EdgeConv1_conv0[0][\n",
            " chNormalization)                                                0]']                             \n",
            "                                                                                                  \n",
            " ParticleNet_EdgeConv1_act0 (Ac  (None, 139, 7, 64)  0           ['ParticleNet_EdgeConv1_bn0[0][0]\n",
            " tivation)                                                       ']                               \n",
            "                                                                                                  \n",
            " ParticleNet_EdgeConv1_conv1 (C  (None, 139, 7, 64)  4096        ['ParticleNet_EdgeConv1_act0[0][0\n",
            " onv2D)                                                          ]']                              \n",
            "                                                                                                  \n",
            " ParticleNet_EdgeConv1_bn1 (Bat  (None, 139, 7, 64)  256         ['ParticleNet_EdgeConv1_conv1[0][\n",
            " chNormalization)                                                0]']                             \n",
            "                                                                                                  \n",
            " ParticleNet_EdgeConv1_act1 (Ac  (None, 139, 7, 64)  0           ['ParticleNet_EdgeConv1_bn1[0][0]\n",
            " tivation)                                                       ']                               \n",
            "                                                                                                  \n",
            " tf.expand_dims_13 (TFOpLambda)  (None, 139, 1, 32)  0           ['ParticleNet_EdgeConv0_sc_act[0]\n",
            "                                                                 [0]']                            \n",
            "                                                                                                  \n",
            " ParticleNet_EdgeConv1_conv2 (C  (None, 139, 7, 64)  4096        ['ParticleNet_EdgeConv1_act1[0][0\n",
            " onv2D)                                                          ]']                              \n",
            "                                                                                                  \n",
            " ParticleNet_EdgeConv1_sc_conv   (None, 139, 1, 64)  2048        ['tf.expand_dims_13[0][0]']      \n",
            " (Conv2D)                                                                                         \n",
            "                                                                                                  \n",
            " ParticleNet_EdgeConv1_bn2 (Bat  (None, 139, 7, 64)  256         ['ParticleNet_EdgeConv1_conv2[0][\n",
            " chNormalization)                                                0]']                             \n",
            "                                                                                                  \n",
            " ParticleNet_EdgeConv1_sc_bn (B  (None, 139, 1, 64)  256         ['ParticleNet_EdgeConv1_sc_conv[0\n",
            " atchNormalization)                                              ][0]']                           \n",
            "                                                                                                  \n",
            " ParticleNet_EdgeConv1_act2 (Ac  (None, 139, 7, 64)  0           ['ParticleNet_EdgeConv1_bn2[0][0]\n",
            " tivation)                                                       ']                               \n",
            "                                                                                                  \n",
            " tf.compat.v1.squeeze_5 (TFOpLa  (None, 139, 64)     0           ['ParticleNet_EdgeConv1_sc_bn[0][\n",
            " mbda)                                                           0]']                             \n",
            "                                                                                                  \n",
            " tf.math.reduce_mean_4 (TFOpLam  (None, 139, 64)     0           ['ParticleNet_EdgeConv1_act2[0][0\n",
            " bda)                                                            ]']                              \n",
            "                                                                                                  \n",
            " tf.__operators__.add_7 (TFOpLa  (None, 139, 64)     0           ['tf.compat.v1.squeeze_5[0][0]', \n",
            " mbda)                                                            'tf.math.reduce_mean_4[0][0]']  \n",
            "                                                                                                  \n",
            " ParticleNet_EdgeConv1_sc_act (  (None, 139, 64)     0           ['tf.__operators__.add_7[0][0]'] \n",
            " Activation)                                                                                      \n",
            "                                                                                                  \n",
            " tf.math.multiply_15 (TFOpLambd  (None, 139, 64)     0           ['ParticleNet_EdgeConv1_sc_act[0]\n",
            " a)                                                              [0]',                            \n",
            "                                                                  'tf.cast_2[0][0]']              \n",
            "                                                                                                  \n",
            " tf.math.reduce_mean_5 (TFOpLam  (None, 64)          0           ['tf.math.multiply_15[0][0]']    \n",
            " bda)                                                                                             \n",
            "                                                                                                  \n",
            " dense_2 (Dense)                (None, 128)          8320        ['tf.math.reduce_mean_5[0][0]']  \n",
            "                                                                                                  \n",
            " dropout_1 (Dropout)            (None, 128)          0           ['dense_2[0][0]']                \n",
            "                                                                                                  \n",
            " dense_3 (Dense)                (None, 2)            258         ['dropout_1[0][0]']              \n",
            "                                                                                                  \n",
            "==================================================================================================\n",
            "Total params: 26,898\n",
            "Trainable params: 26,122\n",
            "Non-trainable params: 776\n",
            "__________________________________________________________________________________________________\n"
          ]
        }
      ],
      "source": [
        "model.compile(loss='categorical_crossentropy',\n",
        "              optimizer=keras.optimizers.Adam(learning_rate=lr_schedule(0)),\n",
        "              metrics=['accuracy'])\n",
        "model.summary()"
      ]
    },
    {
      "cell_type": "code",
      "execution_count": 36,
      "id": "e6d66c00",
      "metadata": {
        "ExecuteTime": {
          "end_time": "2022-04-17T09:05:01.127726Z",
          "start_time": "2022-04-17T09:05:01.005565Z"
        },
        "id": "e6d66c00"
      },
      "outputs": [],
      "source": [
        "# Prepare model model saving directory.\n",
        "\n",
        "save_dir = 'model_checkpoints'\n",
        "model_name = '%s_model.{epoch:03d}.h5' % 'particle_net_lite'\n",
        "if not os.path.isdir(save_dir):\n",
        "    os.makedirs(save_dir)\n",
        "filepath = os.path.join(save_dir, model_name)\n",
        "\n",
        "# Prepare callbacks for model saving and for learning rate adjustment.\n",
        "checkpoint = keras.callbacks.ModelCheckpoint(filepath=filepath,\n",
        "                             monitor='val_acc',\n",
        "                             verbose=1,\n",
        "                             save_best_only=True)\n",
        "\n",
        "lr_scheduler = keras.callbacks.LearningRateScheduler(lr_schedule)\n",
        "progress_bar = keras.callbacks.ProgbarLogger()\n",
        "callbacks = [checkpoint, lr_scheduler, progress_bar]"
      ]
    },
    {
      "cell_type": "code",
      "execution_count": 37,
      "id": "f1f2b991",
      "metadata": {
        "ExecuteTime": {
          "end_time": "2022-04-17T09:06:10.731151Z",
          "start_time": "2022-04-17T09:05:02.738509Z"
        },
        "scrolled": false,
        "colab": {
          "base_uri": "https://localhost:8080/"
        },
        "id": "f1f2b991",
        "outputId": "cb890aeb-2c82-49da-9416-ba0bce7efef3"
      },
      "outputs": [
        {
          "metadata": {
            "tags": null
          },
          "name": "stderr",
          "output_type": "stream",
          "text": [
            "[2022-04-17 09:18:28,833] INFO: Learning rate: 0.001000\n"
          ]
        },
        {
          "output_type": "stream",
          "name": "stdout",
          "text": [
            "Epoch 1/3\n",
            "      0/Unknown - 589s 0s/sample - loss: 0.5238 - accuracy: 0.7472WARNING:tensorflow:Can save best model only with val_acc available, skipping.\n"
          ]
        },
        {
          "output_type": "stream",
          "name": "stderr",
          "text": [
            "[2022-04-17 09:28:38,797] WARNING: Can save best model only with val_acc available, skipping.\n"
          ]
        },
        {
          "output_type": "stream",
          "name": "stdout",
          "text": [
            "\b\b\b\b\b\b\b\b\b\b\b\b\b\b\b\b\b\b\b\b\b\b\b\b\b\b\b\b\b\b\b\b\b\b\b\b\b\b\b\b\b\b\b\b\b\b\b\b\b\b\b\b\b\b\b\b\b\b\b\b\b\b\b\b\b\b\r69/69 [==============================] - 610s 9s/sample - loss: 0.5238 - accuracy: 0.7472 - val_loss: 0.6721 - val_accuracy: 0.5542 - lr: 0.0010\n"
          ]
        },
        {
          "output_type": "stream",
          "name": "stderr",
          "text": [
            "[2022-04-17 09:28:38,811] INFO: Learning rate: 0.001000\n"
          ]
        },
        {
          "output_type": "stream",
          "name": "stdout",
          "text": [
            "Epoch 2/3\n",
            " 0/69 [..............................] - ETA: 0s - loss: 0.4820 - accuracy: 0.7760WARNING:tensorflow:Can save best model only with val_acc available, skipping.\n"
          ]
        },
        {
          "output_type": "stream",
          "name": "stderr",
          "text": [
            "[2022-04-17 09:38:35,029] WARNING: Can save best model only with val_acc available, skipping.\n"
          ]
        },
        {
          "output_type": "stream",
          "name": "stdout",
          "text": [
            "\b\b\b\b\b\b\b\b\b\b\b\b\b\b\b\b\b\b\b\b\b\b\b\b\b\b\b\b\b\b\b\b\b\b\b\b\b\b\b\b\b\b\b\b\b\b\b\b\b\b\b\b\b\b\b\b\b\b\b\b\b\b\b\b\b\b\b\b\b\b\b\b\b\b\b\b\b\b\b\b\b\b\r69/69 [==============================] - 596s 9s/sample - loss: 0.4820 - accuracy: 0.7760 - val_loss: 0.5704 - val_accuracy: 0.7033 - lr: 0.0010\n"
          ]
        },
        {
          "output_type": "stream",
          "name": "stderr",
          "text": [
            "[2022-04-17 09:38:35,048] INFO: Learning rate: 0.001000\n"
          ]
        },
        {
          "output_type": "stream",
          "name": "stdout",
          "text": [
            "Epoch 3/3\n",
            " 0/69 [..............................] - ETA: 0s - loss: 0.4751 - accuracy: 0.7799WARNING:tensorflow:Can save best model only with val_acc available, skipping.\n"
          ]
        },
        {
          "output_type": "stream",
          "name": "stderr",
          "text": [
            "[2022-04-17 09:48:30,564] WARNING: Can save best model only with val_acc available, skipping.\n"
          ]
        },
        {
          "output_type": "stream",
          "name": "stdout",
          "text": [
            "\b\b\b\b\b\b\b\b\b\b\b\b\b\b\b\b\b\b\b\b\b\b\b\b\b\b\b\b\b\b\b\b\b\b\b\b\b\b\b\b\b\b\b\b\b\b\b\b\b\b\b\b\b\b\b\b\b\b\b\b\b\b\b\b\b\b\b\b\b\b\b\b\b\b\b\b\b\b\b\b\b\b\r69/69 [==============================] - 596s 9s/sample - loss: 0.4751 - accuracy: 0.7799 - val_loss: 0.5093 - val_accuracy: 0.7701 - lr: 0.0010\n"
          ]
        }
      ],
      "source": [
        "history = model.fit(train_dataset, y_train,\n",
        "          batch_size=batch_size,\n",
        "          epochs=epochs,\n",
        "          validation_data=(val_dataset, y_val),\n",
        "          shuffle=True,\n",
        "          callbacks=callbacks)"
      ]
    },
    {
      "cell_type": "code",
      "execution_count": 39,
      "id": "e77e643e",
      "metadata": {
        "colab": {
          "base_uri": "https://localhost:8080/"
        },
        "id": "e77e643e",
        "outputId": "ed311c8c-29b2-4b3e-b6ac-e6ff698dfab2"
      },
      "outputs": [
        {
          "output_type": "execute_result",
          "data": {
            "text/plain": [
              "{'accuracy': [0.7472285628318787, 0.776028573513031, 0.7799285650253296],\n",
              " 'loss': [0.5238291621208191, 0.4819912910461426, 0.4750930666923523],\n",
              " 'lr': [0.001, 0.001, 0.001],\n",
              " 'val_accuracy': [0.5541999936103821, 0.70333331823349, 0.7701333165168762],\n",
              " 'val_loss': [0.6721423268318176, 0.570405125617981, 0.5092980861663818]}"
            ]
          },
          "metadata": {},
          "execution_count": 39
        }
      ],
      "source": [
        "history.history"
      ]
    },
    {
      "cell_type": "code",
      "source": [
        "import json\n",
        "with open(\"particle_net_lite_history.json\", \"w\") as outfile:\n",
        "    outfile.write(str(history.history))"
      ],
      "metadata": {
        "id": "5xmdXRQe7hzg"
      },
      "id": "5xmdXRQe7hzg",
      "execution_count": 42,
      "outputs": []
    },
    {
      "cell_type": "code",
      "source": [
        "plt.plot(history.history['accuracy'], label='Training')\n",
        "plt.plot(history.history['val_accuracy'], label='Validation')\n",
        "plt.title('Particle net lite accuracy')\n",
        "plt.xlabel('Epoch')\n",
        "plt.ylabel('accuracy')\n",
        "plt.legend()\n",
        "plt.show()"
      ],
      "metadata": {
        "colab": {
          "base_uri": "https://localhost:8080/",
          "height": 295
        },
        "id": "7uhNQ7KJ78uS",
        "outputId": "e2267e9a-c785-4725-f99a-3dd2a573a50f"
      },
      "id": "7uhNQ7KJ78uS",
      "execution_count": 43,
      "outputs": [
        {
          "output_type": "display_data",
          "data": {
            "text/plain": [
              "<Figure size 432x288 with 1 Axes>"
            ],
            "image/png": "[encoded data removed]"
          },
          "metadata": {
            "needs_background": "light"
          }
        }
      ]
    },
    {
      "cell_type": "code",
      "source": [
        "plt.plot(history.history['loss'], label='Training')\n",
        "plt.plot(history.history['val_loss'], label='Validation')\n",
        "plt.title('Particle net lite loss')\n",
        "plt.xlabel('Epoch')\n",
        "plt.ylabel('loss')\n",
        "plt.legend()\n",
        "plt.show()"
      ],
      "metadata": {
        "colab": {
          "base_uri": "https://localhost:8080/",
          "height": 295
        },
        "id": "wpvBDg228jRC",
        "outputId": "7a137baf-d06a-44d3-ef52-e9c9e81e993b"
      },
      "id": "wpvBDg228jRC",
      "execution_count": 44,
      "outputs": [
        {
          "output_type": "display_data",
          "data": {
            "text/plain": [
              "<Figure size 432x288 with 1 Axes>"
            ],
            "image/png": "[encoded data removed]"
          },
          "metadata": {
            "needs_background": "light"
          }
        }
      ]
    },
    {
      "cell_type": "code",
      "source": [
        "res = model.evaluate(test_dataset, y_test)"
      ],
      "metadata": {
        "colab": {
          "base_uri": "https://localhost:8080/"
        },
        "id": "xvBcjj238sUa",
        "outputId": "5479a4c7-08dd-4aa8-bdaf-2e83e3175375"
      },
      "id": "xvBcjj238sUa",
      "execution_count": 45,
      "outputs": [
        {
          "output_type": "stream",
          "name": "stdout",
          "text": [
            "469/469 [==============================] - 27s 58ms/step - loss: 0.5575 - accuracy: 0.7342\n"
          ]
        }
      ]
    },
    {
      "cell_type": "code",
      "source": [
        "print(\"test loss, test acc:\", res)"
      ],
      "metadata": {
        "colab": {
          "base_uri": "https://localhost:8080/"
        },
        "id": "2B03Jq7985BR",
        "outputId": "8b321820-f54e-4c4c-da8b-e69d9a3dc1ff"
      },
      "id": "2B03Jq7985BR",
      "execution_count": 47,
      "outputs": [
        {
          "output_type": "stream",
          "name": "stdout",
          "text": [
            "test loss, test acc: [0.5574674010276794, 0.7342000007629395]\n"
          ]
        }
      ]
    },
    {
      "cell_type": "code",
      "source": [
        ""
      ],
      "metadata": {
        "id": "u8yNElPe9EIJ"
      },
      "id": "u8yNElPe9EIJ",
      "execution_count": null,
      "outputs": []
    }
  ],
  "metadata": {
    "kernelspec": {
      "display_name": "Python 3 (ipykernel)",
      "language": "python",
      "name": "python3"
    },
    "language_info": {
      "codemirror_mode": {
        "name": "ipython",
        "version": 3
      },
      "file_extension": ".py",
      "mimetype": "text/x-python",
      "name": "python",
      "nbconvert_exporter": "python",
      "pygments_lexer": "ipython3",
      "version": "3.9.7"
    },
    "latex_envs": {
      "LaTeX_envs_menu_present": true,
      "autoclose": false,
      "autocomplete": true,
      "bibliofile": "biblio.bib",
      "cite_by": "apalike",
      "current_citInitial": 1,
      "eqLabelWithNumbers": true,
      "eqNumInitial": 1,
      "hotkeys": {
        "equation": "Ctrl-E",
        "itemize": "Ctrl-I"
      },
      "labels_anchors": false,
      "latex_user_defs": false,
      "report_style_numbering": false,
      "user_envs_cfg": false
    },
    "toc": {
      "base_numbering": 1,
      "nav_menu": {},
      "number_sections": true,
      "sideBar": true,
      "skip_h1_title": false,
      "title_cell": "Table of Contents",
      "title_sidebar": "Contents",
      "toc_cell": false,
      "toc_position": {},
      "toc_section_display": true,
      "toc_window_display": false
    },
    "colab": {
      "name": "GNN.ipynb",
      "provenance": [],
      "collapsed_sections": [],
      "include_colab_link": true
    }
  },
  "nbformat": 4,
  "nbformat_minor": 5
}